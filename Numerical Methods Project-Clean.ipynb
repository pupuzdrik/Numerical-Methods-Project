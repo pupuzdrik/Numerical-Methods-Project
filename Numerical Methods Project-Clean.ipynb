{
 "cells": [
  {
   "cell_type": "markdown",
   "metadata": {},
   "source": [
    "Rusty Bargain used car sales service is developing an app to attract new customers. In that app, you can quickly find out the market value of your car. You have access to historical data: technical specifications, trim versions, and prices. You need to build the model to determine the value. \n",
    "\n",
    "Rusty Bargain is interested in:\n",
    "\n",
    "- the quality of the prediction;\n",
    "- the speed of the prediction;\n",
    "- the time required for training"
   ]
  },
  {
   "cell_type": "markdown",
   "metadata": {},
   "source": [
    "## Data preparation"
   ]
  },
  {
   "cell_type": "markdown",
   "metadata": {},
   "source": [
    "Let's import the libreries."
   ]
  },
  {
   "cell_type": "code",
   "execution_count": 1,
   "metadata": {},
   "outputs": [
    {
     "name": "stdout",
     "output_type": "stream",
     "text": [
      "Collecting sidetable\n",
      "  Downloading sidetable-0.9.0-py3-none-any.whl (17 kB)\n",
      "Requirement already satisfied: pandas>=1.0 in /opt/conda/lib/python3.9/site-packages (from sidetable) (1.2.4)\n",
      "Requirement already satisfied: python-dateutil>=2.7.3 in /opt/conda/lib/python3.9/site-packages (from pandas>=1.0->sidetable) (2.8.1)\n",
      "Requirement already satisfied: pytz>=2017.3 in /opt/conda/lib/python3.9/site-packages (from pandas>=1.0->sidetable) (2021.1)\n",
      "Requirement already satisfied: numpy>=1.16.5 in /opt/conda/lib/python3.9/site-packages (from pandas>=1.0->sidetable) (1.21.1)\n",
      "Requirement already satisfied: six>=1.5 in /opt/conda/lib/python3.9/site-packages (from python-dateutil>=2.7.3->pandas>=1.0->sidetable) (1.16.0)\n",
      "Installing collected packages: sidetable\n",
      "Successfully installed sidetable-0.9.0\n"
     ]
    }
   ],
   "source": [
    "import pandas as pd\n",
    "import numpy as np\n",
    "import math \n",
    "!pip install sidetable\n",
    "import sidetable as stb\n",
    "import re\n",
    "import matplotlib.pyplot as plt\n",
    "import seaborn as sns\n",
    "from sklearn.model_selection import train_test_split\n",
    "from sklearn.metrics import mean_squared_error\n",
    "from sklearn.linear_model import LinearRegression\n",
    "from sklearn.linear_model import Lasso\n",
    "from sklearn.tree import DecisionTreeRegressor\n",
    "from sklearn.ensemble import RandomForestRegressor\n",
    "from sklearn.model_selection import GridSearchCV\n",
    "from sklearn.metrics import make_scorer\n",
    "from sklearn.impute import KNNImputer\n",
    "from sklearn.preprocessing import MinMaxScaler\n",
    "from sklearn.preprocessing import OrdinalEncoder\n",
    "import lightgbm as lgb\n",
    "from catboost import CatBoostRegressor\n",
    "import warnings\n",
    "warnings.filterwarnings('ignore')"
   ]
  },
  {
   "cell_type": "markdown",
   "metadata": {},
   "source": [
    "Let's import the data."
   ]
  },
  {
   "cell_type": "code",
   "execution_count": 2,
   "metadata": {},
   "outputs": [
    {
     "data": {
      "text/html": [
       "<div>\n",
       "<style scoped>\n",
       "    .dataframe tbody tr th:only-of-type {\n",
       "        vertical-align: middle;\n",
       "    }\n",
       "\n",
       "    .dataframe tbody tr th {\n",
       "        vertical-align: top;\n",
       "    }\n",
       "\n",
       "    .dataframe thead th {\n",
       "        text-align: right;\n",
       "    }\n",
       "</style>\n",
       "<table border=\"1\" class=\"dataframe\">\n",
       "  <thead>\n",
       "    <tr style=\"text-align: right;\">\n",
       "      <th></th>\n",
       "      <th>DateCrawled</th>\n",
       "      <th>Price</th>\n",
       "      <th>VehicleType</th>\n",
       "      <th>RegistrationYear</th>\n",
       "      <th>Gearbox</th>\n",
       "      <th>Power</th>\n",
       "      <th>Model</th>\n",
       "      <th>Mileage</th>\n",
       "      <th>RegistrationMonth</th>\n",
       "      <th>FuelType</th>\n",
       "      <th>Brand</th>\n",
       "      <th>NotRepaired</th>\n",
       "      <th>DateCreated</th>\n",
       "      <th>NumberOfPictures</th>\n",
       "      <th>PostalCode</th>\n",
       "      <th>LastSeen</th>\n",
       "    </tr>\n",
       "  </thead>\n",
       "  <tbody>\n",
       "    <tr>\n",
       "      <th>0</th>\n",
       "      <td>24/03/2016 11:52</td>\n",
       "      <td>480</td>\n",
       "      <td>NaN</td>\n",
       "      <td>1993</td>\n",
       "      <td>manual</td>\n",
       "      <td>0</td>\n",
       "      <td>golf</td>\n",
       "      <td>150000</td>\n",
       "      <td>0</td>\n",
       "      <td>petrol</td>\n",
       "      <td>volkswagen</td>\n",
       "      <td>NaN</td>\n",
       "      <td>24/03/2016 00:00</td>\n",
       "      <td>0</td>\n",
       "      <td>70435</td>\n",
       "      <td>07/04/2016 03:16</td>\n",
       "    </tr>\n",
       "    <tr>\n",
       "      <th>1</th>\n",
       "      <td>24/03/2016 10:58</td>\n",
       "      <td>18300</td>\n",
       "      <td>coupe</td>\n",
       "      <td>2011</td>\n",
       "      <td>manual</td>\n",
       "      <td>190</td>\n",
       "      <td>NaN</td>\n",
       "      <td>125000</td>\n",
       "      <td>5</td>\n",
       "      <td>gasoline</td>\n",
       "      <td>audi</td>\n",
       "      <td>yes</td>\n",
       "      <td>24/03/2016 00:00</td>\n",
       "      <td>0</td>\n",
       "      <td>66954</td>\n",
       "      <td>07/04/2016 01:46</td>\n",
       "    </tr>\n",
       "    <tr>\n",
       "      <th>2</th>\n",
       "      <td>14/03/2016 12:52</td>\n",
       "      <td>9800</td>\n",
       "      <td>suv</td>\n",
       "      <td>2004</td>\n",
       "      <td>auto</td>\n",
       "      <td>163</td>\n",
       "      <td>grand</td>\n",
       "      <td>125000</td>\n",
       "      <td>8</td>\n",
       "      <td>gasoline</td>\n",
       "      <td>jeep</td>\n",
       "      <td>NaN</td>\n",
       "      <td>14/03/2016 00:00</td>\n",
       "      <td>0</td>\n",
       "      <td>90480</td>\n",
       "      <td>05/04/2016 12:47</td>\n",
       "    </tr>\n",
       "    <tr>\n",
       "      <th>3</th>\n",
       "      <td>17/03/2016 16:54</td>\n",
       "      <td>1500</td>\n",
       "      <td>small</td>\n",
       "      <td>2001</td>\n",
       "      <td>manual</td>\n",
       "      <td>75</td>\n",
       "      <td>golf</td>\n",
       "      <td>150000</td>\n",
       "      <td>6</td>\n",
       "      <td>petrol</td>\n",
       "      <td>volkswagen</td>\n",
       "      <td>no</td>\n",
       "      <td>17/03/2016 00:00</td>\n",
       "      <td>0</td>\n",
       "      <td>91074</td>\n",
       "      <td>17/03/2016 17:40</td>\n",
       "    </tr>\n",
       "    <tr>\n",
       "      <th>4</th>\n",
       "      <td>31/03/2016 17:25</td>\n",
       "      <td>3600</td>\n",
       "      <td>small</td>\n",
       "      <td>2008</td>\n",
       "      <td>manual</td>\n",
       "      <td>69</td>\n",
       "      <td>fabia</td>\n",
       "      <td>90000</td>\n",
       "      <td>7</td>\n",
       "      <td>gasoline</td>\n",
       "      <td>skoda</td>\n",
       "      <td>no</td>\n",
       "      <td>31/03/2016 00:00</td>\n",
       "      <td>0</td>\n",
       "      <td>60437</td>\n",
       "      <td>06/04/2016 10:17</td>\n",
       "    </tr>\n",
       "  </tbody>\n",
       "</table>\n",
       "</div>"
      ],
      "text/plain": [
       "        DateCrawled  Price VehicleType  RegistrationYear Gearbox  Power  \\\n",
       "0  24/03/2016 11:52    480         NaN              1993  manual      0   \n",
       "1  24/03/2016 10:58  18300       coupe              2011  manual    190   \n",
       "2  14/03/2016 12:52   9800         suv              2004    auto    163   \n",
       "3  17/03/2016 16:54   1500       small              2001  manual     75   \n",
       "4  31/03/2016 17:25   3600       small              2008  manual     69   \n",
       "\n",
       "   Model  Mileage  RegistrationMonth  FuelType       Brand NotRepaired  \\\n",
       "0   golf   150000                  0    petrol  volkswagen         NaN   \n",
       "1    NaN   125000                  5  gasoline        audi         yes   \n",
       "2  grand   125000                  8  gasoline        jeep         NaN   \n",
       "3   golf   150000                  6    petrol  volkswagen          no   \n",
       "4  fabia    90000                  7  gasoline       skoda          no   \n",
       "\n",
       "        DateCreated  NumberOfPictures  PostalCode          LastSeen  \n",
       "0  24/03/2016 00:00                 0       70435  07/04/2016 03:16  \n",
       "1  24/03/2016 00:00                 0       66954  07/04/2016 01:46  \n",
       "2  14/03/2016 00:00                 0       90480  05/04/2016 12:47  \n",
       "3  17/03/2016 00:00                 0       91074  17/03/2016 17:40  \n",
       "4  31/03/2016 00:00                 0       60437  06/04/2016 10:17  "
      ]
     },
     "execution_count": 2,
     "metadata": {},
     "output_type": "execute_result"
    }
   ],
   "source": [
    "df=pd.read_csv('/datasets/car_data.csv')\n",
    "df.head()"
   ]
  },
  {
   "cell_type": "markdown",
   "metadata": {},
   "source": [
    "Let's cahnge the uppercase latters to lowercase to evoid misstakes in the future codes."
   ]
  },
  {
   "cell_type": "code",
   "execution_count": 3,
   "metadata": {},
   "outputs": [],
   "source": [
    "df.columns=df.columns.str.lower()"
   ]
  },
  {
   "cell_type": "code",
   "execution_count": 4,
   "metadata": {},
   "outputs": [
    {
     "data": {
      "text/plain": [
       "Index(['datecrawled', 'price', 'vehicletype', 'registrationyear', 'gearbox',\n",
       "       'power', 'model', 'mileage', 'registrationmonth', 'fueltype', 'brand',\n",
       "       'notrepaired', 'datecreated', 'numberofpictures', 'postalcode',\n",
       "       'lastseen'],\n",
       "      dtype='object')"
      ]
     },
     "execution_count": 4,
     "metadata": {},
     "output_type": "execute_result"
    }
   ],
   "source": [
    "df.columns"
   ]
  },
  {
   "cell_type": "code",
   "execution_count": 5,
   "metadata": {},
   "outputs": [
    {
     "data": {
      "text/html": [
       "<div>\n",
       "<style scoped>\n",
       "    .dataframe tbody tr th:only-of-type {\n",
       "        vertical-align: middle;\n",
       "    }\n",
       "\n",
       "    .dataframe tbody tr th {\n",
       "        vertical-align: top;\n",
       "    }\n",
       "\n",
       "    .dataframe thead th {\n",
       "        text-align: right;\n",
       "    }\n",
       "</style>\n",
       "<table border=\"1\" class=\"dataframe\">\n",
       "  <thead>\n",
       "    <tr style=\"text-align: right;\">\n",
       "      <th></th>\n",
       "      <th>datecrawled</th>\n",
       "      <th>price</th>\n",
       "      <th>vehicletype</th>\n",
       "      <th>registrationyear</th>\n",
       "      <th>gearbox</th>\n",
       "      <th>power</th>\n",
       "      <th>model</th>\n",
       "      <th>mileage</th>\n",
       "      <th>registrationmonth</th>\n",
       "      <th>fueltype</th>\n",
       "      <th>brand</th>\n",
       "      <th>notrepaired</th>\n",
       "      <th>datecreated</th>\n",
       "      <th>numberofpictures</th>\n",
       "      <th>postalcode</th>\n",
       "      <th>lastseen</th>\n",
       "    </tr>\n",
       "  </thead>\n",
       "  <tbody>\n",
       "    <tr>\n",
       "      <th>0</th>\n",
       "      <td>24/03/2016 11:52</td>\n",
       "      <td>480</td>\n",
       "      <td>NaN</td>\n",
       "      <td>1993</td>\n",
       "      <td>manual</td>\n",
       "      <td>0</td>\n",
       "      <td>golf</td>\n",
       "      <td>150000</td>\n",
       "      <td>0</td>\n",
       "      <td>petrol</td>\n",
       "      <td>volkswagen</td>\n",
       "      <td>NaN</td>\n",
       "      <td>24/03/2016 00:00</td>\n",
       "      <td>0</td>\n",
       "      <td>70435</td>\n",
       "      <td>07/04/2016 03:16</td>\n",
       "    </tr>\n",
       "    <tr>\n",
       "      <th>1</th>\n",
       "      <td>24/03/2016 10:58</td>\n",
       "      <td>18300</td>\n",
       "      <td>coupe</td>\n",
       "      <td>2011</td>\n",
       "      <td>manual</td>\n",
       "      <td>190</td>\n",
       "      <td>NaN</td>\n",
       "      <td>125000</td>\n",
       "      <td>5</td>\n",
       "      <td>gasoline</td>\n",
       "      <td>audi</td>\n",
       "      <td>yes</td>\n",
       "      <td>24/03/2016 00:00</td>\n",
       "      <td>0</td>\n",
       "      <td>66954</td>\n",
       "      <td>07/04/2016 01:46</td>\n",
       "    </tr>\n",
       "    <tr>\n",
       "      <th>2</th>\n",
       "      <td>14/03/2016 12:52</td>\n",
       "      <td>9800</td>\n",
       "      <td>suv</td>\n",
       "      <td>2004</td>\n",
       "      <td>auto</td>\n",
       "      <td>163</td>\n",
       "      <td>grand</td>\n",
       "      <td>125000</td>\n",
       "      <td>8</td>\n",
       "      <td>gasoline</td>\n",
       "      <td>jeep</td>\n",
       "      <td>NaN</td>\n",
       "      <td>14/03/2016 00:00</td>\n",
       "      <td>0</td>\n",
       "      <td>90480</td>\n",
       "      <td>05/04/2016 12:47</td>\n",
       "    </tr>\n",
       "    <tr>\n",
       "      <th>3</th>\n",
       "      <td>17/03/2016 16:54</td>\n",
       "      <td>1500</td>\n",
       "      <td>small</td>\n",
       "      <td>2001</td>\n",
       "      <td>manual</td>\n",
       "      <td>75</td>\n",
       "      <td>golf</td>\n",
       "      <td>150000</td>\n",
       "      <td>6</td>\n",
       "      <td>petrol</td>\n",
       "      <td>volkswagen</td>\n",
       "      <td>no</td>\n",
       "      <td>17/03/2016 00:00</td>\n",
       "      <td>0</td>\n",
       "      <td>91074</td>\n",
       "      <td>17/03/2016 17:40</td>\n",
       "    </tr>\n",
       "    <tr>\n",
       "      <th>4</th>\n",
       "      <td>31/03/2016 17:25</td>\n",
       "      <td>3600</td>\n",
       "      <td>small</td>\n",
       "      <td>2008</td>\n",
       "      <td>manual</td>\n",
       "      <td>69</td>\n",
       "      <td>fabia</td>\n",
       "      <td>90000</td>\n",
       "      <td>7</td>\n",
       "      <td>gasoline</td>\n",
       "      <td>skoda</td>\n",
       "      <td>no</td>\n",
       "      <td>31/03/2016 00:00</td>\n",
       "      <td>0</td>\n",
       "      <td>60437</td>\n",
       "      <td>06/04/2016 10:17</td>\n",
       "    </tr>\n",
       "  </tbody>\n",
       "</table>\n",
       "</div>"
      ],
      "text/plain": [
       "        datecrawled  price vehicletype  registrationyear gearbox  power  \\\n",
       "0  24/03/2016 11:52    480         NaN              1993  manual      0   \n",
       "1  24/03/2016 10:58  18300       coupe              2011  manual    190   \n",
       "2  14/03/2016 12:52   9800         suv              2004    auto    163   \n",
       "3  17/03/2016 16:54   1500       small              2001  manual     75   \n",
       "4  31/03/2016 17:25   3600       small              2008  manual     69   \n",
       "\n",
       "   model  mileage  registrationmonth  fueltype       brand notrepaired  \\\n",
       "0   golf   150000                  0    petrol  volkswagen         NaN   \n",
       "1    NaN   125000                  5  gasoline        audi         yes   \n",
       "2  grand   125000                  8  gasoline        jeep         NaN   \n",
       "3   golf   150000                  6    petrol  volkswagen          no   \n",
       "4  fabia    90000                  7  gasoline       skoda          no   \n",
       "\n",
       "        datecreated  numberofpictures  postalcode          lastseen  \n",
       "0  24/03/2016 00:00                 0       70435  07/04/2016 03:16  \n",
       "1  24/03/2016 00:00                 0       66954  07/04/2016 01:46  \n",
       "2  14/03/2016 00:00                 0       90480  05/04/2016 12:47  \n",
       "3  17/03/2016 00:00                 0       91074  17/03/2016 17:40  \n",
       "4  31/03/2016 00:00                 0       60437  06/04/2016 10:17  "
      ]
     },
     "execution_count": 5,
     "metadata": {},
     "output_type": "execute_result"
    }
   ],
   "source": [
    "df.head()"
   ]
  },
  {
   "cell_type": "markdown",
   "metadata": {},
   "source": [
    "Now all columns are lowercase names."
   ]
  },
  {
   "cell_type": "markdown",
   "metadata": {},
   "source": [
    "There are some features that has no indluence on vehicle price such as datecrawled, postalcode and last seen, therefore they will be removed from the dataframe."
   ]
  },
  {
   "cell_type": "code",
   "execution_count": 6,
   "metadata": {},
   "outputs": [],
   "source": [
    "df=df.drop(['datecrawled','postalcode','lastseen'],axis=1)"
   ]
  },
  {
   "cell_type": "code",
   "execution_count": 7,
   "metadata": {},
   "outputs": [
    {
     "data": {
      "text/html": [
       "<div>\n",
       "<style scoped>\n",
       "    .dataframe tbody tr th:only-of-type {\n",
       "        vertical-align: middle;\n",
       "    }\n",
       "\n",
       "    .dataframe tbody tr th {\n",
       "        vertical-align: top;\n",
       "    }\n",
       "\n",
       "    .dataframe thead th {\n",
       "        text-align: right;\n",
       "    }\n",
       "</style>\n",
       "<table border=\"1\" class=\"dataframe\">\n",
       "  <thead>\n",
       "    <tr style=\"text-align: right;\">\n",
       "      <th></th>\n",
       "      <th>price</th>\n",
       "      <th>vehicletype</th>\n",
       "      <th>registrationyear</th>\n",
       "      <th>gearbox</th>\n",
       "      <th>power</th>\n",
       "      <th>model</th>\n",
       "      <th>mileage</th>\n",
       "      <th>registrationmonth</th>\n",
       "      <th>fueltype</th>\n",
       "      <th>brand</th>\n",
       "      <th>notrepaired</th>\n",
       "      <th>datecreated</th>\n",
       "      <th>numberofpictures</th>\n",
       "    </tr>\n",
       "  </thead>\n",
       "  <tbody>\n",
       "    <tr>\n",
       "      <th>0</th>\n",
       "      <td>480</td>\n",
       "      <td>NaN</td>\n",
       "      <td>1993</td>\n",
       "      <td>manual</td>\n",
       "      <td>0</td>\n",
       "      <td>golf</td>\n",
       "      <td>150000</td>\n",
       "      <td>0</td>\n",
       "      <td>petrol</td>\n",
       "      <td>volkswagen</td>\n",
       "      <td>NaN</td>\n",
       "      <td>24/03/2016 00:00</td>\n",
       "      <td>0</td>\n",
       "    </tr>\n",
       "    <tr>\n",
       "      <th>1</th>\n",
       "      <td>18300</td>\n",
       "      <td>coupe</td>\n",
       "      <td>2011</td>\n",
       "      <td>manual</td>\n",
       "      <td>190</td>\n",
       "      <td>NaN</td>\n",
       "      <td>125000</td>\n",
       "      <td>5</td>\n",
       "      <td>gasoline</td>\n",
       "      <td>audi</td>\n",
       "      <td>yes</td>\n",
       "      <td>24/03/2016 00:00</td>\n",
       "      <td>0</td>\n",
       "    </tr>\n",
       "    <tr>\n",
       "      <th>2</th>\n",
       "      <td>9800</td>\n",
       "      <td>suv</td>\n",
       "      <td>2004</td>\n",
       "      <td>auto</td>\n",
       "      <td>163</td>\n",
       "      <td>grand</td>\n",
       "      <td>125000</td>\n",
       "      <td>8</td>\n",
       "      <td>gasoline</td>\n",
       "      <td>jeep</td>\n",
       "      <td>NaN</td>\n",
       "      <td>14/03/2016 00:00</td>\n",
       "      <td>0</td>\n",
       "    </tr>\n",
       "    <tr>\n",
       "      <th>3</th>\n",
       "      <td>1500</td>\n",
       "      <td>small</td>\n",
       "      <td>2001</td>\n",
       "      <td>manual</td>\n",
       "      <td>75</td>\n",
       "      <td>golf</td>\n",
       "      <td>150000</td>\n",
       "      <td>6</td>\n",
       "      <td>petrol</td>\n",
       "      <td>volkswagen</td>\n",
       "      <td>no</td>\n",
       "      <td>17/03/2016 00:00</td>\n",
       "      <td>0</td>\n",
       "    </tr>\n",
       "    <tr>\n",
       "      <th>4</th>\n",
       "      <td>3600</td>\n",
       "      <td>small</td>\n",
       "      <td>2008</td>\n",
       "      <td>manual</td>\n",
       "      <td>69</td>\n",
       "      <td>fabia</td>\n",
       "      <td>90000</td>\n",
       "      <td>7</td>\n",
       "      <td>gasoline</td>\n",
       "      <td>skoda</td>\n",
       "      <td>no</td>\n",
       "      <td>31/03/2016 00:00</td>\n",
       "      <td>0</td>\n",
       "    </tr>\n",
       "  </tbody>\n",
       "</table>\n",
       "</div>"
      ],
      "text/plain": [
       "   price vehicletype  registrationyear gearbox  power  model  mileage  \\\n",
       "0    480         NaN              1993  manual      0   golf   150000   \n",
       "1  18300       coupe              2011  manual    190    NaN   125000   \n",
       "2   9800         suv              2004    auto    163  grand   125000   \n",
       "3   1500       small              2001  manual     75   golf   150000   \n",
       "4   3600       small              2008  manual     69  fabia    90000   \n",
       "\n",
       "   registrationmonth  fueltype       brand notrepaired       datecreated  \\\n",
       "0                  0    petrol  volkswagen         NaN  24/03/2016 00:00   \n",
       "1                  5  gasoline        audi         yes  24/03/2016 00:00   \n",
       "2                  8  gasoline        jeep         NaN  14/03/2016 00:00   \n",
       "3                  6    petrol  volkswagen          no  17/03/2016 00:00   \n",
       "4                  7  gasoline       skoda          no  31/03/2016 00:00   \n",
       "\n",
       "   numberofpictures  \n",
       "0                 0  \n",
       "1                 0  \n",
       "2                 0  \n",
       "3                 0  \n",
       "4                 0  "
      ]
     },
     "execution_count": 7,
     "metadata": {},
     "output_type": "execute_result"
    }
   ],
   "source": [
    "df.head()"
   ]
  },
  {
   "cell_type": "markdown",
   "metadata": {},
   "source": [
    "Let's check the data info."
   ]
  },
  {
   "cell_type": "code",
   "execution_count": 8,
   "metadata": {},
   "outputs": [
    {
     "name": "stdout",
     "output_type": "stream",
     "text": [
      "<class 'pandas.core.frame.DataFrame'>\n",
      "RangeIndex: 354369 entries, 0 to 354368\n",
      "Data columns (total 13 columns):\n",
      " #   Column             Non-Null Count   Dtype \n",
      "---  ------             --------------   ----- \n",
      " 0   price              354369 non-null  int64 \n",
      " 1   vehicletype        316879 non-null  object\n",
      " 2   registrationyear   354369 non-null  int64 \n",
      " 3   gearbox            334536 non-null  object\n",
      " 4   power              354369 non-null  int64 \n",
      " 5   model              334664 non-null  object\n",
      " 6   mileage            354369 non-null  int64 \n",
      " 7   registrationmonth  354369 non-null  int64 \n",
      " 8   fueltype           321474 non-null  object\n",
      " 9   brand              354369 non-null  object\n",
      " 10  notrepaired        283215 non-null  object\n",
      " 11  datecreated        354369 non-null  object\n",
      " 12  numberofpictures   354369 non-null  int64 \n",
      "dtypes: int64(6), object(7)\n",
      "memory usage: 35.1+ MB\n"
     ]
    }
   ],
   "source": [
    "df.info()"
   ]
  },
  {
   "cell_type": "markdown",
   "metadata": {},
   "source": [
    "From the info above datecreated feature needs to be converted to datetime type to calculate age of the vehicle in the next steps."
   ]
  },
  {
   "cell_type": "code",
   "execution_count": 9,
   "metadata": {},
   "outputs": [],
   "source": [
    "df['datecreated'] = pd.to_datetime(df.datecreated)"
   ]
  },
  {
   "cell_type": "code",
   "execution_count": 10,
   "metadata": {},
   "outputs": [
    {
     "name": "stdout",
     "output_type": "stream",
     "text": [
      "<class 'pandas.core.frame.DataFrame'>\n",
      "RangeIndex: 354369 entries, 0 to 354368\n",
      "Data columns (total 13 columns):\n",
      " #   Column             Non-Null Count   Dtype         \n",
      "---  ------             --------------   -----         \n",
      " 0   price              354369 non-null  int64         \n",
      " 1   vehicletype        316879 non-null  object        \n",
      " 2   registrationyear   354369 non-null  int64         \n",
      " 3   gearbox            334536 non-null  object        \n",
      " 4   power              354369 non-null  int64         \n",
      " 5   model              334664 non-null  object        \n",
      " 6   mileage            354369 non-null  int64         \n",
      " 7   registrationmonth  354369 non-null  int64         \n",
      " 8   fueltype           321474 non-null  object        \n",
      " 9   brand              354369 non-null  object        \n",
      " 10  notrepaired        283215 non-null  object        \n",
      " 11  datecreated        354369 non-null  datetime64[ns]\n",
      " 12  numberofpictures   354369 non-null  int64         \n",
      "dtypes: datetime64[ns](1), int64(6), object(6)\n",
      "memory usage: 35.1+ MB\n"
     ]
    }
   ],
   "source": [
    "df.info()"
   ]
  },
  {
   "cell_type": "markdown",
   "metadata": {},
   "source": [
    "Now the datecreated feature is in desired type."
   ]
  },
  {
   "cell_type": "markdown",
   "metadata": {},
   "source": [
    "Now let's separate the datecreated feature to year, month etc..."
   ]
  },
  {
   "cell_type": "code",
   "execution_count": 11,
   "metadata": {},
   "outputs": [],
   "source": [
    "df['created_year'] = df.datecreated.dt.year\n",
    "df['created_month'] = df.datecreated.dt.month\n",
    "df['created_day'] = df.datecreated.dt.day\n",
    "df['created_dayofweek'] = df.datecreated.dt.dayofweek"
   ]
  },
  {
   "cell_type": "code",
   "execution_count": 12,
   "metadata": {},
   "outputs": [
    {
     "data": {
      "text/html": [
       "<div>\n",
       "<style scoped>\n",
       "    .dataframe tbody tr th:only-of-type {\n",
       "        vertical-align: middle;\n",
       "    }\n",
       "\n",
       "    .dataframe tbody tr th {\n",
       "        vertical-align: top;\n",
       "    }\n",
       "\n",
       "    .dataframe thead th {\n",
       "        text-align: right;\n",
       "    }\n",
       "</style>\n",
       "<table border=\"1\" class=\"dataframe\">\n",
       "  <thead>\n",
       "    <tr style=\"text-align: right;\">\n",
       "      <th></th>\n",
       "      <th>price</th>\n",
       "      <th>vehicletype</th>\n",
       "      <th>registrationyear</th>\n",
       "      <th>gearbox</th>\n",
       "      <th>power</th>\n",
       "      <th>model</th>\n",
       "      <th>mileage</th>\n",
       "      <th>registrationmonth</th>\n",
       "      <th>fueltype</th>\n",
       "      <th>brand</th>\n",
       "      <th>notrepaired</th>\n",
       "      <th>datecreated</th>\n",
       "      <th>numberofpictures</th>\n",
       "      <th>created_year</th>\n",
       "      <th>created_month</th>\n",
       "      <th>created_day</th>\n",
       "      <th>created_dayofweek</th>\n",
       "    </tr>\n",
       "  </thead>\n",
       "  <tbody>\n",
       "    <tr>\n",
       "      <th>0</th>\n",
       "      <td>480</td>\n",
       "      <td>NaN</td>\n",
       "      <td>1993</td>\n",
       "      <td>manual</td>\n",
       "      <td>0</td>\n",
       "      <td>golf</td>\n",
       "      <td>150000</td>\n",
       "      <td>0</td>\n",
       "      <td>petrol</td>\n",
       "      <td>volkswagen</td>\n",
       "      <td>NaN</td>\n",
       "      <td>2016-03-24</td>\n",
       "      <td>0</td>\n",
       "      <td>2016</td>\n",
       "      <td>3</td>\n",
       "      <td>24</td>\n",
       "      <td>3</td>\n",
       "    </tr>\n",
       "    <tr>\n",
       "      <th>1</th>\n",
       "      <td>18300</td>\n",
       "      <td>coupe</td>\n",
       "      <td>2011</td>\n",
       "      <td>manual</td>\n",
       "      <td>190</td>\n",
       "      <td>NaN</td>\n",
       "      <td>125000</td>\n",
       "      <td>5</td>\n",
       "      <td>gasoline</td>\n",
       "      <td>audi</td>\n",
       "      <td>yes</td>\n",
       "      <td>2016-03-24</td>\n",
       "      <td>0</td>\n",
       "      <td>2016</td>\n",
       "      <td>3</td>\n",
       "      <td>24</td>\n",
       "      <td>3</td>\n",
       "    </tr>\n",
       "    <tr>\n",
       "      <th>2</th>\n",
       "      <td>9800</td>\n",
       "      <td>suv</td>\n",
       "      <td>2004</td>\n",
       "      <td>auto</td>\n",
       "      <td>163</td>\n",
       "      <td>grand</td>\n",
       "      <td>125000</td>\n",
       "      <td>8</td>\n",
       "      <td>gasoline</td>\n",
       "      <td>jeep</td>\n",
       "      <td>NaN</td>\n",
       "      <td>2016-03-14</td>\n",
       "      <td>0</td>\n",
       "      <td>2016</td>\n",
       "      <td>3</td>\n",
       "      <td>14</td>\n",
       "      <td>0</td>\n",
       "    </tr>\n",
       "    <tr>\n",
       "      <th>3</th>\n",
       "      <td>1500</td>\n",
       "      <td>small</td>\n",
       "      <td>2001</td>\n",
       "      <td>manual</td>\n",
       "      <td>75</td>\n",
       "      <td>golf</td>\n",
       "      <td>150000</td>\n",
       "      <td>6</td>\n",
       "      <td>petrol</td>\n",
       "      <td>volkswagen</td>\n",
       "      <td>no</td>\n",
       "      <td>2016-03-17</td>\n",
       "      <td>0</td>\n",
       "      <td>2016</td>\n",
       "      <td>3</td>\n",
       "      <td>17</td>\n",
       "      <td>3</td>\n",
       "    </tr>\n",
       "    <tr>\n",
       "      <th>4</th>\n",
       "      <td>3600</td>\n",
       "      <td>small</td>\n",
       "      <td>2008</td>\n",
       "      <td>manual</td>\n",
       "      <td>69</td>\n",
       "      <td>fabia</td>\n",
       "      <td>90000</td>\n",
       "      <td>7</td>\n",
       "      <td>gasoline</td>\n",
       "      <td>skoda</td>\n",
       "      <td>no</td>\n",
       "      <td>2016-03-31</td>\n",
       "      <td>0</td>\n",
       "      <td>2016</td>\n",
       "      <td>3</td>\n",
       "      <td>31</td>\n",
       "      <td>3</td>\n",
       "    </tr>\n",
       "  </tbody>\n",
       "</table>\n",
       "</div>"
      ],
      "text/plain": [
       "   price vehicletype  registrationyear gearbox  power  model  mileage  \\\n",
       "0    480         NaN              1993  manual      0   golf   150000   \n",
       "1  18300       coupe              2011  manual    190    NaN   125000   \n",
       "2   9800         suv              2004    auto    163  grand   125000   \n",
       "3   1500       small              2001  manual     75   golf   150000   \n",
       "4   3600       small              2008  manual     69  fabia    90000   \n",
       "\n",
       "   registrationmonth  fueltype       brand notrepaired datecreated  \\\n",
       "0                  0    petrol  volkswagen         NaN  2016-03-24   \n",
       "1                  5  gasoline        audi         yes  2016-03-24   \n",
       "2                  8  gasoline        jeep         NaN  2016-03-14   \n",
       "3                  6    petrol  volkswagen          no  2016-03-17   \n",
       "4                  7  gasoline       skoda          no  2016-03-31   \n",
       "\n",
       "   numberofpictures  created_year  created_month  created_day  \\\n",
       "0                 0          2016              3           24   \n",
       "1                 0          2016              3           24   \n",
       "2                 0          2016              3           14   \n",
       "3                 0          2016              3           17   \n",
       "4                 0          2016              3           31   \n",
       "\n",
       "   created_dayofweek  \n",
       "0                  3  \n",
       "1                  3  \n",
       "2                  0  \n",
       "3                  3  \n",
       "4                  3  "
      ]
     },
     "execution_count": 12,
     "metadata": {},
     "output_type": "execute_result"
    }
   ],
   "source": [
    "df.head()"
   ]
  },
  {
   "cell_type": "markdown",
   "metadata": {},
   "source": [
    "From this point we don't need the datecreated feature since it was separated."
   ]
  },
  {
   "cell_type": "code",
   "execution_count": 13,
   "metadata": {},
   "outputs": [],
   "source": [
    "df.drop('datecreated',axis=1,inplace=True)"
   ]
  },
  {
   "cell_type": "code",
   "execution_count": 14,
   "metadata": {},
   "outputs": [
    {
     "data": {
      "text/html": [
       "<div>\n",
       "<style scoped>\n",
       "    .dataframe tbody tr th:only-of-type {\n",
       "        vertical-align: middle;\n",
       "    }\n",
       "\n",
       "    .dataframe tbody tr th {\n",
       "        vertical-align: top;\n",
       "    }\n",
       "\n",
       "    .dataframe thead th {\n",
       "        text-align: right;\n",
       "    }\n",
       "</style>\n",
       "<table border=\"1\" class=\"dataframe\">\n",
       "  <thead>\n",
       "    <tr style=\"text-align: right;\">\n",
       "      <th></th>\n",
       "      <th>price</th>\n",
       "      <th>vehicletype</th>\n",
       "      <th>registrationyear</th>\n",
       "      <th>gearbox</th>\n",
       "      <th>power</th>\n",
       "      <th>model</th>\n",
       "      <th>mileage</th>\n",
       "      <th>registrationmonth</th>\n",
       "      <th>fueltype</th>\n",
       "      <th>brand</th>\n",
       "      <th>notrepaired</th>\n",
       "      <th>numberofpictures</th>\n",
       "      <th>created_year</th>\n",
       "      <th>created_month</th>\n",
       "      <th>created_day</th>\n",
       "      <th>created_dayofweek</th>\n",
       "    </tr>\n",
       "  </thead>\n",
       "  <tbody>\n",
       "    <tr>\n",
       "      <th>0</th>\n",
       "      <td>480</td>\n",
       "      <td>NaN</td>\n",
       "      <td>1993</td>\n",
       "      <td>manual</td>\n",
       "      <td>0</td>\n",
       "      <td>golf</td>\n",
       "      <td>150000</td>\n",
       "      <td>0</td>\n",
       "      <td>petrol</td>\n",
       "      <td>volkswagen</td>\n",
       "      <td>NaN</td>\n",
       "      <td>0</td>\n",
       "      <td>2016</td>\n",
       "      <td>3</td>\n",
       "      <td>24</td>\n",
       "      <td>3</td>\n",
       "    </tr>\n",
       "    <tr>\n",
       "      <th>1</th>\n",
       "      <td>18300</td>\n",
       "      <td>coupe</td>\n",
       "      <td>2011</td>\n",
       "      <td>manual</td>\n",
       "      <td>190</td>\n",
       "      <td>NaN</td>\n",
       "      <td>125000</td>\n",
       "      <td>5</td>\n",
       "      <td>gasoline</td>\n",
       "      <td>audi</td>\n",
       "      <td>yes</td>\n",
       "      <td>0</td>\n",
       "      <td>2016</td>\n",
       "      <td>3</td>\n",
       "      <td>24</td>\n",
       "      <td>3</td>\n",
       "    </tr>\n",
       "    <tr>\n",
       "      <th>2</th>\n",
       "      <td>9800</td>\n",
       "      <td>suv</td>\n",
       "      <td>2004</td>\n",
       "      <td>auto</td>\n",
       "      <td>163</td>\n",
       "      <td>grand</td>\n",
       "      <td>125000</td>\n",
       "      <td>8</td>\n",
       "      <td>gasoline</td>\n",
       "      <td>jeep</td>\n",
       "      <td>NaN</td>\n",
       "      <td>0</td>\n",
       "      <td>2016</td>\n",
       "      <td>3</td>\n",
       "      <td>14</td>\n",
       "      <td>0</td>\n",
       "    </tr>\n",
       "    <tr>\n",
       "      <th>3</th>\n",
       "      <td>1500</td>\n",
       "      <td>small</td>\n",
       "      <td>2001</td>\n",
       "      <td>manual</td>\n",
       "      <td>75</td>\n",
       "      <td>golf</td>\n",
       "      <td>150000</td>\n",
       "      <td>6</td>\n",
       "      <td>petrol</td>\n",
       "      <td>volkswagen</td>\n",
       "      <td>no</td>\n",
       "      <td>0</td>\n",
       "      <td>2016</td>\n",
       "      <td>3</td>\n",
       "      <td>17</td>\n",
       "      <td>3</td>\n",
       "    </tr>\n",
       "    <tr>\n",
       "      <th>4</th>\n",
       "      <td>3600</td>\n",
       "      <td>small</td>\n",
       "      <td>2008</td>\n",
       "      <td>manual</td>\n",
       "      <td>69</td>\n",
       "      <td>fabia</td>\n",
       "      <td>90000</td>\n",
       "      <td>7</td>\n",
       "      <td>gasoline</td>\n",
       "      <td>skoda</td>\n",
       "      <td>no</td>\n",
       "      <td>0</td>\n",
       "      <td>2016</td>\n",
       "      <td>3</td>\n",
       "      <td>31</td>\n",
       "      <td>3</td>\n",
       "    </tr>\n",
       "  </tbody>\n",
       "</table>\n",
       "</div>"
      ],
      "text/plain": [
       "   price vehicletype  registrationyear gearbox  power  model  mileage  \\\n",
       "0    480         NaN              1993  manual      0   golf   150000   \n",
       "1  18300       coupe              2011  manual    190    NaN   125000   \n",
       "2   9800         suv              2004    auto    163  grand   125000   \n",
       "3   1500       small              2001  manual     75   golf   150000   \n",
       "4   3600       small              2008  manual     69  fabia    90000   \n",
       "\n",
       "   registrationmonth  fueltype       brand notrepaired  numberofpictures  \\\n",
       "0                  0    petrol  volkswagen         NaN                 0   \n",
       "1                  5  gasoline        audi         yes                 0   \n",
       "2                  8  gasoline        jeep         NaN                 0   \n",
       "3                  6    petrol  volkswagen          no                 0   \n",
       "4                  7  gasoline       skoda          no                 0   \n",
       "\n",
       "   created_year  created_month  created_day  created_dayofweek  \n",
       "0          2016              3           24                  3  \n",
       "1          2016              3           24                  3  \n",
       "2          2016              3           14                  0  \n",
       "3          2016              3           17                  3  \n",
       "4          2016              3           31                  3  "
      ]
     },
     "execution_count": 14,
     "metadata": {},
     "output_type": "execute_result"
    }
   ],
   "source": [
    "df.head()"
   ]
  },
  {
   "cell_type": "markdown",
   "metadata": {},
   "source": [
    "Let's see the distribution of numeric data."
   ]
  },
  {
   "cell_type": "code",
   "execution_count": 15,
   "metadata": {
    "scrolled": true
   },
   "outputs": [
    {
     "data": {
      "image/png": "[encoded data removed]",
      "text/plain": [
       "<Figure size 432x288 with 1 Axes>"
      ]
     },
     "metadata": {
      "needs_background": "light"
     },
     "output_type": "display_data"
    }
   ],
   "source": [
    "plt.hist(df['price'], bins = 20)\n",
    "plt.show()"
   ]
  },
  {
   "cell_type": "code",
   "execution_count": 16,
   "metadata": {},
   "outputs": [
    {
     "data": {
      "text/plain": [
       "20000"
      ]
     },
     "execution_count": 16,
     "metadata": {},
     "output_type": "execute_result"
    }
   ],
   "source": [
    "df.price.max()"
   ]
  },
  {
   "cell_type": "code",
   "execution_count": 17,
   "metadata": {
    "scrolled": true
   },
   "outputs": [
    {
     "data": {
      "text/plain": [
       "0"
      ]
     },
     "execution_count": 17,
     "metadata": {},
     "output_type": "execute_result"
    }
   ],
   "source": [
    "df.price.min()"
   ]
  },
  {
   "cell_type": "markdown",
   "metadata": {},
   "source": [
    "The values are in normal range (no outliers)"
   ]
  },
  {
   "cell_type": "code",
   "execution_count": 18,
   "metadata": {},
   "outputs": [
    {
     "data": {
      "image/png": "[encoded data removed]",
      "text/plain": [
       "<Figure size 432x288 with 1 Axes>"
      ]
     },
     "metadata": {
      "needs_background": "light"
     },
     "output_type": "display_data"
    }
   ],
   "source": [
    "plt.hist(df['registrationyear'], bins = 100)\n",
    "plt.show()"
   ]
  },
  {
   "cell_type": "code",
   "execution_count": 19,
   "metadata": {},
   "outputs": [
    {
     "data": {
      "text/plain": [
       "array([1993, 2011, 2004, 2001, 2008, 1995, 1980, 2014, 1998, 2005, 1910,\n",
       "       2016, 2007, 2009, 2002, 2018, 1997, 1990, 2017, 1981, 2003, 1994,\n",
       "       1991, 1984, 2006, 1999, 2012, 2010, 2000, 1992, 2013, 1996, 1985,\n",
       "       1989, 2015, 1982, 1976, 1983, 1973, 1111, 1969, 1971, 1987, 1986,\n",
       "       1988, 1970, 1965, 1945, 1925, 1974, 1979, 1955, 1978, 1972, 1968,\n",
       "       1977, 1961, 1960, 1966, 1975, 1963, 1964, 5000, 1954, 1958, 1967,\n",
       "       1959, 9999, 1956, 3200, 1000, 1941, 8888, 1500, 2200, 4100, 1962,\n",
       "       1929, 1957, 1940, 3000, 2066, 1949, 2019, 1937, 1951, 1800, 1953,\n",
       "       1234, 8000, 5300, 9000, 2900, 6000, 5900, 5911, 1933, 1400, 1950,\n",
       "       4000, 1948, 1952, 1200, 8500, 1932, 1255, 3700, 3800, 4800, 1942,\n",
       "       7000, 1935, 1936, 6500, 1923, 2290, 2500, 1930, 1001, 9450, 1944,\n",
       "       1943, 1934, 1938, 1688, 2800, 1253, 1928, 1919, 5555, 5600, 1600,\n",
       "       2222, 1039, 9996, 1300, 8455, 1931, 1915, 4500, 1920, 1602, 7800,\n",
       "       9229, 1947, 1927, 7100, 8200, 1946, 7500, 3500])"
      ]
     },
     "execution_count": 19,
     "metadata": {},
     "output_type": "execute_result"
    }
   ],
   "source": [
    "df.registrationyear.unique()"
   ]
  },
  {
   "cell_type": "code",
   "execution_count": 20,
   "metadata": {},
   "outputs": [
    {
     "data": {
      "text/plain": [
       "registrationyear\n",
       "1000    37\n",
       "1001     1\n",
       "1039     1\n",
       "1111     3\n",
       "1200     1\n",
       "        ..\n",
       "9000     3\n",
       "9229     1\n",
       "9450     1\n",
       "9996     1\n",
       "9999    26\n",
       "Length: 151, dtype: int64"
      ]
     },
     "execution_count": 20,
     "metadata": {},
     "output_type": "execute_result"
    }
   ],
   "source": [
    "df.groupby('registrationyear').size()"
   ]
  },
  {
   "cell_type": "code",
   "execution_count": 21,
   "metadata": {
    "scrolled": true
   },
   "outputs": [
    {
     "data": {
      "text/html": [
       "<div>\n",
       "<style scoped>\n",
       "    .dataframe tbody tr th:only-of-type {\n",
       "        vertical-align: middle;\n",
       "    }\n",
       "\n",
       "    .dataframe tbody tr th {\n",
       "        vertical-align: top;\n",
       "    }\n",
       "\n",
       "    .dataframe thead th {\n",
       "        text-align: right;\n",
       "    }\n",
       "</style>\n",
       "<table border=\"1\" class=\"dataframe\">\n",
       "  <thead>\n",
       "    <tr style=\"text-align: right;\">\n",
       "      <th></th>\n",
       "      <th>price</th>\n",
       "      <th>vehicletype</th>\n",
       "      <th>registrationyear</th>\n",
       "      <th>gearbox</th>\n",
       "      <th>power</th>\n",
       "      <th>model</th>\n",
       "      <th>mileage</th>\n",
       "      <th>registrationmonth</th>\n",
       "      <th>fueltype</th>\n",
       "      <th>brand</th>\n",
       "      <th>notrepaired</th>\n",
       "      <th>numberofpictures</th>\n",
       "      <th>created_year</th>\n",
       "      <th>created_month</th>\n",
       "      <th>created_day</th>\n",
       "      <th>created_dayofweek</th>\n",
       "    </tr>\n",
       "  </thead>\n",
       "  <tbody>\n",
       "    <tr>\n",
       "      <th>622</th>\n",
       "      <td>0</td>\n",
       "      <td>NaN</td>\n",
       "      <td>1111</td>\n",
       "      <td>NaN</td>\n",
       "      <td>0</td>\n",
       "      <td>NaN</td>\n",
       "      <td>5000</td>\n",
       "      <td>0</td>\n",
       "      <td>NaN</td>\n",
       "      <td>opel</td>\n",
       "      <td>NaN</td>\n",
       "      <td>0</td>\n",
       "      <td>2016</td>\n",
       "      <td>3</td>\n",
       "      <td>16</td>\n",
       "      <td>2</td>\n",
       "    </tr>\n",
       "    <tr>\n",
       "      <th>215678</th>\n",
       "      <td>490</td>\n",
       "      <td>NaN</td>\n",
       "      <td>1111</td>\n",
       "      <td>NaN</td>\n",
       "      <td>0</td>\n",
       "      <td>NaN</td>\n",
       "      <td>5000</td>\n",
       "      <td>0</td>\n",
       "      <td>NaN</td>\n",
       "      <td>trabant</td>\n",
       "      <td>NaN</td>\n",
       "      <td>0</td>\n",
       "      <td>2016</td>\n",
       "      <td>3</td>\n",
       "      <td>17</td>\n",
       "      <td>3</td>\n",
       "    </tr>\n",
       "    <tr>\n",
       "      <th>294028</th>\n",
       "      <td>0</td>\n",
       "      <td>NaN</td>\n",
       "      <td>1111</td>\n",
       "      <td>NaN</td>\n",
       "      <td>0</td>\n",
       "      <td>601</td>\n",
       "      <td>5000</td>\n",
       "      <td>0</td>\n",
       "      <td>NaN</td>\n",
       "      <td>trabant</td>\n",
       "      <td>NaN</td>\n",
       "      <td>0</td>\n",
       "      <td>2016</td>\n",
       "      <td>3</td>\n",
       "      <td>28</td>\n",
       "      <td>0</td>\n",
       "    </tr>\n",
       "  </tbody>\n",
       "</table>\n",
       "</div>"
      ],
      "text/plain": [
       "        price vehicletype  registrationyear gearbox  power model  mileage  \\\n",
       "622         0         NaN              1111     NaN      0   NaN     5000   \n",
       "215678    490         NaN              1111     NaN      0   NaN     5000   \n",
       "294028      0         NaN              1111     NaN      0   601     5000   \n",
       "\n",
       "        registrationmonth fueltype    brand notrepaired  numberofpictures  \\\n",
       "622                     0      NaN     opel         NaN                 0   \n",
       "215678                  0      NaN  trabant         NaN                 0   \n",
       "294028                  0      NaN  trabant         NaN                 0   \n",
       "\n",
       "        created_year  created_month  created_day  created_dayofweek  \n",
       "622             2016              3           16                  2  \n",
       "215678          2016              3           17                  3  \n",
       "294028          2016              3           28                  0  "
      ]
     },
     "execution_count": 21,
     "metadata": {},
     "output_type": "execute_result"
    }
   ],
   "source": [
    "df[df.registrationyear==1111]"
   ]
  },
  {
   "cell_type": "markdown",
   "metadata": {},
   "source": [
    "It seems that some values of registration year make no sense so we have to remove thouse values (rows) from the data set."
   ]
  },
  {
   "cell_type": "code",
   "execution_count": 22,
   "metadata": {},
   "outputs": [],
   "source": [
    "df=df.drop(df[df['registrationyear']< 1925].index)\n"
   ]
  },
  {
   "cell_type": "code",
   "execution_count": 23,
   "metadata": {
    "scrolled": true
   },
   "outputs": [
    {
     "data": {
      "text/plain": [
       "array([1993, 2011, 2004, 2001, 2008, 1995, 1980, 2014, 1998, 2005, 2016,\n",
       "       2007, 2009, 2002, 2018, 1997, 1990, 2017, 1981, 2003, 1994, 1991,\n",
       "       1984, 2006, 1999, 2012, 2010, 2000, 1992, 2013, 1996, 1985, 1989,\n",
       "       2015, 1982, 1976, 1983, 1973, 1969, 1971, 1987, 1986, 1988, 1970,\n",
       "       1965, 1945, 1925, 1974, 1979, 1955, 1978, 1972, 1968, 1977, 1961,\n",
       "       1960, 1966, 1975, 1963, 1964, 5000, 1954, 1958, 1967, 1959, 9999,\n",
       "       1956, 3200, 1941, 8888, 2200, 4100, 1962, 1929, 1957, 1940, 3000,\n",
       "       2066, 1949, 2019, 1937, 1951, 1953, 8000, 5300, 9000, 2900, 6000,\n",
       "       5900, 5911, 1933, 1950, 4000, 1948, 1952, 8500, 1932, 3700, 3800,\n",
       "       4800, 1942, 7000, 1935, 1936, 6500, 2290, 2500, 1930, 9450, 1944,\n",
       "       1943, 1934, 1938, 2800, 1928, 5555, 5600, 2222, 9996, 8455, 1931,\n",
       "       4500, 7800, 9229, 1947, 1927, 7100, 8200, 1946, 7500, 3500])"
      ]
     },
     "execution_count": 23,
     "metadata": {},
     "output_type": "execute_result"
    }
   ],
   "source": [
    "df.registrationyear.unique()"
   ]
  },
  {
   "cell_type": "code",
   "execution_count": 24,
   "metadata": {},
   "outputs": [],
   "source": [
    "df=df.drop(df[df['registrationyear']>= 2022].index)"
   ]
  },
  {
   "cell_type": "code",
   "execution_count": 25,
   "metadata": {},
   "outputs": [
    {
     "data": {
      "text/plain": [
       "array([1993, 2011, 2004, 2001, 2008, 1995, 1980, 2014, 1998, 2005, 2016,\n",
       "       2007, 2009, 2002, 2018, 1997, 1990, 2017, 1981, 2003, 1994, 1991,\n",
       "       1984, 2006, 1999, 2012, 2010, 2000, 1992, 2013, 1996, 1985, 1989,\n",
       "       2015, 1982, 1976, 1983, 1973, 1969, 1971, 1987, 1986, 1988, 1970,\n",
       "       1965, 1945, 1925, 1974, 1979, 1955, 1978, 1972, 1968, 1977, 1961,\n",
       "       1960, 1966, 1975, 1963, 1964, 1954, 1958, 1967, 1959, 1956, 1941,\n",
       "       1962, 1929, 1957, 1940, 1949, 2019, 1937, 1951, 1953, 1933, 1950,\n",
       "       1948, 1952, 1932, 1942, 1935, 1936, 1930, 1944, 1943, 1934, 1938,\n",
       "       1928, 1931, 1947, 1927, 1946])"
      ]
     },
     "execution_count": 25,
     "metadata": {},
     "output_type": "execute_result"
    }
   ],
   "source": [
    "df.registrationyear.unique()"
   ]
  },
  {
   "cell_type": "code",
   "execution_count": 26,
   "metadata": {},
   "outputs": [
    {
     "data": {
      "text/plain": [
       "1925"
      ]
     },
     "execution_count": 26,
     "metadata": {},
     "output_type": "execute_result"
    }
   ],
   "source": [
    "df.registrationyear.min()"
   ]
  },
  {
   "cell_type": "code",
   "execution_count": 27,
   "metadata": {
    "scrolled": true
   },
   "outputs": [
    {
     "data": {
      "text/plain": [
       "2019"
      ]
     },
     "execution_count": 27,
     "metadata": {},
     "output_type": "execute_result"
    }
   ],
   "source": [
    "df.registrationyear.max()"
   ]
  },
  {
   "cell_type": "markdown",
   "metadata": {},
   "source": [
    "No more strange value for years."
   ]
  },
  {
   "cell_type": "code",
   "execution_count": 28,
   "metadata": {
    "scrolled": true
   },
   "outputs": [
    {
     "data": {
      "text/plain": [
       "registrationyear\n",
       "1925        1\n",
       "1927        1\n",
       "1928        2\n",
       "1929        7\n",
       "1930        3\n",
       "        ...  \n",
       "2015     1302\n",
       "2016     9599\n",
       "2017    10441\n",
       "2018     3959\n",
       "2019       25\n",
       "Length: 93, dtype: int64"
      ]
     },
     "execution_count": 28,
     "metadata": {},
     "output_type": "execute_result"
    }
   ],
   "source": [
    "df.groupby('registrationyear').size()"
   ]
  },
  {
   "cell_type": "code",
   "execution_count": 29,
   "metadata": {},
   "outputs": [
    {
     "data": {
      "text/plain": [
       "(354092, 16)"
      ]
     },
     "execution_count": 29,
     "metadata": {},
     "output_type": "execute_result"
    }
   ],
   "source": [
    "df.shape"
   ]
  },
  {
   "cell_type": "code",
   "execution_count": 30,
   "metadata": {},
   "outputs": [
    {
     "data": {
      "image/png": "[encoded data removed]",
      "text/plain": [
       "<Figure size 432x288 with 1 Axes>"
      ]
     },
     "metadata": {
      "needs_background": "light"
     },
     "output_type": "display_data"
    }
   ],
   "source": [
    "plt.hist(df['power'], bins = 10)\n",
    "plt.show()"
   ]
  },
  {
   "cell_type": "code",
   "execution_count": 31,
   "metadata": {},
   "outputs": [
    {
     "data": {
      "text/plain": [
       "array([    0,   190,   163,    75,    69,   102,   109,    50,   125,\n",
       "         101,   105,   140,   115,   131,    60,   136,   160,   231,\n",
       "          90,   118,   193,    99,   113,   218,   122,   129,    70,\n",
       "         306,    95,    61,   177,    80,   170,    55,   143,    64,\n",
       "         286,   232,   150,   156,    82,   155,    54,   185,    87,\n",
       "         180,    86,    84,   224,   235,   200,   178,   265,    77,\n",
       "         110,   144,   120,   116,   184,   126,   204,    88,   194,\n",
       "         305,   197,   179,   250,    45,   313,    41,   165,    98,\n",
       "         130,   114,   211,    56,   201,   213,    58,   107,    83,\n",
       "         174,   100,   220,    85,    73,   192,    68,    66,   299,\n",
       "          74,    52,   147,    65,   310,    71,    97,   239,   203,\n",
       "           5,   300,   103,   258,   320,    63,    81,   148,    44,\n",
       "         145,   230,   280,   260,   104,   188,   333,   186,   117,\n",
       "         141,    59,   132,   234,   158,    39,    92,    51,   135,\n",
       "          53,   209,    43,   146,    67,   106,   166,   276,   344,\n",
       "          72,   249,   237,   245,   111,   326,   279,    23,   138,\n",
       "         175,    96,   226,    26,    37,   301,   334,   128,   133,\n",
       "         124,    33,   219,   241,   167,    94,   182,   196,   238,\n",
       "        1398,   228,   112,    48,   272,   139,  1799,    40,   240,\n",
       "          79,   256,   360,   243,   375,   252,   396,   340,   108,\n",
       "         121,   345,   187,   289,   222,   198,   284,   450,   233,\n",
       "         387,   152,   347,   172,    57,   137,   212,   476,   314,\n",
       "          30,     7,    47,   173,   290,   207,   205,   171,   750,\n",
       "          78,    91,    89,   349,   325,    76,   151,   350,   953,\n",
       "          93,   142,   500,   343,   199,   119,   164,    16,   264,\n",
       "         367,   208,   210,    46,   435,  1001,   225,   127,   176,\n",
       "         161,   603,   307,   354,    35,   206,   771,   355,   273,\n",
       "         223,   255,   123,   154,   149,  7515,  1400,   268,   620,\n",
       "         169,   400,   275,    34,     2,   242,  1779,   285,   162,\n",
       "         328,  1753,   329,   134,   420,   247,   168, 10317,   215,\n",
       "          18,   330,   283,    62,    10,   214,   183,   254,    15,\n",
       "         321,   322,   315,   952,   600,   181,   426,   599,   379,\n",
       "         999,    22,   157,    42,   195,   553,     4,   309,   507,\n",
       "         381,   271,   440,   189,   401,  1111,  2729,    21,   236,\n",
       "        1240,  1704,   521,     1,  1900,   270,    24,   159,   292,\n",
       "         808,   515,  1200,   303,    29,    38,  1993,    14,   216,\n",
       "         610,   504,    49,   267,   331,   363,   261,   385,  1011,\n",
       "         253,   696, 10520,   376,   227,   311,    27,   217,    20,\n",
       "        1999,    11,  1056,    25,   394,    12,   298,   296,  1659,\n",
       "         294,   551,  6920,   246,    17,  1625,   368,   390,   221,\n",
       "        1367,   259,   606,   327,  2017,  1597,   266,   374,   392,\n",
       "           9,   405,    13,   262,   601,   430,   295,     8,   411,\n",
       "         900,   541,  7512,   382, 10218,  7544,  1102,   287,    19,\n",
       "         751,   297,  1090,   457,   282,   602,   388,     6,  1000,\n",
       "        5411,   335,  1360,   202,  3750,   805,  1062,  1024, 11530,\n",
       "         364,  1796,   269,   460,  1002,   288,  1780, 12012, 17932,\n",
       "         316,  2005,  1800,  1399,   191,   278,  1300,   380,   257,\n",
       "         449,  1256,   153,  1653,   520,   560,   281, 12510,     3,\n",
       "        1500,   386,    32,  1202,  2016,  1436,  1405,   671,   274,\n",
       "        1288,  1055, 10912, 15016,  6226,  1115,   277,  1105,   341,\n",
       "        1223,  2340,  8404,  1968,   338,   445,  1920,   370,   517,\n",
       "        4400, 10710, 10522,  9010,   431,  1164, 11509,   371,  1501,\n",
       "         428, 11635,    36,   304,   348,  1703,  1910,  1995,   579,\n",
       "       10000,   580,   408,    31,  1005,   358,  1403,   489,  5575,\n",
       "       19211,   585,   960,   365,   353,   490,   352,  1801,   346,\n",
       "         550,  3199,   800,  7508,  1312,   357,  1937,   950,  4700,\n",
       "        1600,  3454, 19208,   251,   850,   337,   700,  8011,  2331,\n",
       "        2789,   487,   519,  2461,  6006,  3500,  5815,  6018,  1781,\n",
       "        1503,   612,  1596,   229,  1506,  5809, 15020,  5867,  2172,\n",
       "        1598, 17410,  1363,   584,  1054,   851,  1339,   318,   510,\n",
       "         525,  1700,    28,  1151,   685,  6011,   317,   703,  1771,\n",
       "       15001,   514,   362,   332,  5000,   324,  6045,   530,   425,\n",
       "         308,  6010,   475,   903,   640,  2000,   248,   651,  2799,\n",
       "       17011,   505,  1103,  1521,   351, 16051,   398,  9000,  1998,\n",
       "       10311,   409,  1230, 17019, 12684,  8259,  1895,   901,  1317,\n",
       "         871,   909,  2201,  1595,   776, 17700, 11011,  1199,   459,\n",
       "        1162,  1120, 15033,  1896,   339,   361,   574,  6512,   454,\n",
       "         650, 13616,   604,   607, 16312,  1082,   336, 20000,   416,\n",
       "         678,  6012,  1401,  1021,  1870, 13636,  1250,  9710,   323,\n",
       "        1158,  2009,   902,  6062,  1275,   572,   244,   399,  1016,\n",
       "         743,  1221,  2402, 16011,  1362,   544,   645,   907,   702,\n",
       "       12512,  1986,  1003,  1432,  9013,  9011,   442,  1017,  1394,\n",
       "       15017, 10910,  1992,   540,  2018, 11025,  1433,  1701,  2792,\n",
       "        1502,  1239,  1390, 14009,  1160,  1351, 11111,  1783,  9007,\n",
       "         923,  1149,   754,  1988,   402,  2004,  5420,  1793,  1324,\n",
       "         356,  7511,  1299,   293, 19312,  1079,  1689,   998,  1100,\n",
       "        9012,  1933,   508, 16311,   682,  1252,  1922,  7529,   732,\n",
       "        2389,  2200,  1707,  1416,  8500,  1012,   485, 10110,   421,\n",
       "        4507,  1631,  7518,   377,  1004,  2007,  2598,  1548,  1241])"
      ]
     },
     "execution_count": 31,
     "metadata": {},
     "output_type": "execute_result"
    }
   ],
   "source": [
    "df.power.unique()"
   ]
  },
  {
   "cell_type": "markdown",
   "metadata": {},
   "source": [
    "There are power values that make no sense like 15000, even in tuned vehicles there are let's assume 5000 HP but not 15000.\n",
    "\n",
    "The same goes for small values like 8 or so. Let's assume that the minimum HP is 70 HP, so the range that I will use is between 70 and 5000 HP."
   ]
  },
  {
   "cell_type": "code",
   "execution_count": 32,
   "metadata": {},
   "outputs": [],
   "source": [
    "df=df.drop(df[df['power']< 70].index)"
   ]
  },
  {
   "cell_type": "code",
   "execution_count": 33,
   "metadata": {},
   "outputs": [],
   "source": [
    "df=df.drop(df[df['power']> 5000].index)"
   ]
  },
  {
   "cell_type": "code",
   "execution_count": 34,
   "metadata": {},
   "outputs": [
    {
     "data": {
      "text/plain": [
       "array([ 190,  163,   75,  102,  109,  125,  101,  105,  140,  115,  131,\n",
       "        136,  160,  231,   90,  118,  193,   99,  113,  218,  122,  129,\n",
       "         70,  306,   95,  177,   80,  170,  143,  286,  232,  150,  156,\n",
       "         82,  155,  185,   87,  180,   86,   84,  224,  235,  200,  178,\n",
       "        265,   77,  110,  144,  120,  116,  184,  126,  204,   88,  194,\n",
       "        305,  197,  179,  250,  313,  165,   98,  130,  114,  211,  201,\n",
       "        213,  107,   83,  174,  100,  220,   85,   73,  192,  299,   74,\n",
       "        147,  310,   71,   97,  239,  203,  300,  103,  258,  320,   81,\n",
       "        148,  145,  230,  280,  260,  104,  188,  333,  186,  117,  141,\n",
       "        132,  234,  158,   92,  135,  209,  146,  106,  166,  276,  344,\n",
       "         72,  249,  237,  245,  111,  326,  279,  138,  175,   96,  226,\n",
       "        301,  334,  128,  133,  124,  219,  241,  167,   94,  182,  196,\n",
       "        238, 1398,  228,  112,  272,  139, 1799,  240,   79,  256,  360,\n",
       "        243,  375,  252,  396,  340,  108,  121,  345,  187,  289,  222,\n",
       "        198,  284,  450,  233,  387,  152,  347,  172,  137,  212,  476,\n",
       "        314,  173,  290,  207,  205,  171,  750,   78,   91,   89,  349,\n",
       "        325,   76,  151,  350,  953,   93,  142,  500,  343,  199,  119,\n",
       "        164,  264,  367,  208,  210,  435, 1001,  225,  127,  176,  161,\n",
       "        603,  307,  354,  206,  771,  355,  273,  223,  255,  123,  154,\n",
       "        149, 1400,  268,  620,  169,  400,  275,  242, 1779,  285,  162,\n",
       "        328, 1753,  329,  134,  420,  247,  168,  215,  330,  283,  214,\n",
       "        183,  254,  321,  322,  315,  952,  600,  181,  426,  599,  379,\n",
       "        999,  157,  195,  553,  309,  507,  381,  271,  440,  189,  401,\n",
       "       1111, 2729,  236, 1240, 1704,  521, 1900,  270,  159,  292,  808,\n",
       "        515, 1200,  303, 1993,  216,  610,  504,  267,  331,  363,  261,\n",
       "        385, 1011,  253,  696,  376,  227,  311,  217, 1999, 1056,  394,\n",
       "        298,  296, 1659,  294,  551,  246, 1625,  368,  390,  221, 1367,\n",
       "        259,  606,  327, 2017, 1597,  266,  374,  392,  405,  262,  601,\n",
       "        430,  295,  411,  900,  541,  382, 1102,  287,  751,  297, 1090,\n",
       "        457,  282,  602,  388, 1000,  335, 1360,  202, 3750,  805, 1062,\n",
       "       1024,  364, 1796,  269,  460, 1002,  288, 1780,  316, 2005, 1800,\n",
       "       1399,  191,  278, 1300,  380,  257,  449, 1256,  153, 1653,  520,\n",
       "        560,  281, 1500,  386, 1202, 2016, 1436, 1405,  671,  274, 1288,\n",
       "       1055, 1115,  277, 1105,  341, 1223, 2340, 1968,  338,  445, 1920,\n",
       "        370,  517, 4400,  431, 1164,  371, 1501,  428,  304,  348, 1703,\n",
       "       1910, 1995,  579,  580,  408, 1005,  358, 1403,  489,  585,  960,\n",
       "        365,  353,  490,  352, 1801,  346,  550, 3199,  800, 1312,  357,\n",
       "       1937,  950, 4700, 1600, 3454,  251,  850,  337,  700, 2331, 2789,\n",
       "        487,  519, 2461, 3500, 1781, 1503,  612, 1596,  229, 1506, 2172,\n",
       "       1598, 1363,  584, 1054,  851, 1339,  318,  510,  525, 1700, 1151,\n",
       "        685,  317,  703, 1771,  514,  362,  332, 5000,  324,  530,  425,\n",
       "        308,  475,  903,  640, 2000,  248,  651, 2799,  505, 1103, 1521,\n",
       "        351,  398, 1998,  409, 1230, 1895,  901, 1317,  871,  909, 2201,\n",
       "       1595,  776, 1199,  459, 1162, 1120, 1896,  339,  361,  574,  454,\n",
       "        650,  604,  607, 1082,  336,  416,  678, 1401, 1021, 1870, 1250,\n",
       "        323, 1158, 2009,  902, 1275,  572,  244,  399, 1016,  743, 1221,\n",
       "       2402, 1362,  544,  645,  907,  702, 1986, 1003, 1432,  442, 1017,\n",
       "       1394, 1992,  540, 2018, 1433, 1701, 2792, 1502, 1239, 1390, 1160,\n",
       "       1351, 1783,  923, 1149,  754, 1988,  402, 2004, 1793, 1324,  356,\n",
       "       1299,  293, 1079, 1689,  998, 1100, 1933,  508,  682, 1252, 1922,\n",
       "        732, 2389, 2200, 1707, 1416, 1012,  485,  421, 4507, 1631,  377,\n",
       "       1004, 2007, 2598, 1548, 1241])"
      ]
     },
     "execution_count": 34,
     "metadata": {},
     "output_type": "execute_result"
    }
   ],
   "source": [
    "df.power.unique()"
   ]
  },
  {
   "cell_type": "code",
   "execution_count": 35,
   "metadata": {},
   "outputs": [
    {
     "data": {
      "text/plain": [
       "70"
      ]
     },
     "execution_count": 35,
     "metadata": {},
     "output_type": "execute_result"
    }
   ],
   "source": [
    "df.power.min()"
   ]
  },
  {
   "cell_type": "code",
   "execution_count": 36,
   "metadata": {
    "scrolled": true
   },
   "outputs": [
    {
     "data": {
      "text/plain": [
       "5000"
      ]
     },
     "execution_count": 36,
     "metadata": {},
     "output_type": "execute_result"
    }
   ],
   "source": [
    "df.power.max()"
   ]
  },
  {
   "cell_type": "markdown",
   "metadata": {},
   "source": [
    "Now the range of HP is noraml."
   ]
  },
  {
   "cell_type": "code",
   "execution_count": 37,
   "metadata": {},
   "outputs": [
    {
     "data": {
      "image/png": "[encoded data removed]",
      "text/plain": [
       "<Figure size 432x288 with 1 Axes>"
      ]
     },
     "metadata": {
      "needs_background": "light"
     },
     "output_type": "display_data"
    }
   ],
   "source": [
    "plt.hist(df['mileage'], bins = 20)\n",
    "plt.show()"
   ]
  },
  {
   "cell_type": "code",
   "execution_count": 38,
   "metadata": {},
   "outputs": [
    {
     "data": {
      "text/plain": [
       "array([125000, 150000,  30000,  70000, 100000,  60000,  20000,  50000,\n",
       "        40000,   5000,  10000,  90000,  80000])"
      ]
     },
     "execution_count": 38,
     "metadata": {},
     "output_type": "execute_result"
    }
   ],
   "source": [
    "df.mileage.unique()"
   ]
  },
  {
   "cell_type": "markdown",
   "metadata": {},
   "source": [
    "The mileage is normal in my opinion."
   ]
  },
  {
   "cell_type": "code",
   "execution_count": 39,
   "metadata": {},
   "outputs": [
    {
     "data": {
      "image/png": "[encoded data removed]",
      "text/plain": [
       "<Figure size 432x288 with 1 Axes>"
      ]
     },
     "metadata": {
      "needs_background": "light"
     },
     "output_type": "display_data"
    }
   ],
   "source": [
    "plt.hist(df['registrationmonth'], bins = 20)\n",
    "plt.show()"
   ]
  },
  {
   "cell_type": "code",
   "execution_count": 40,
   "metadata": {},
   "outputs": [
    {
     "data": {
      "text/plain": [
       "array([ 5,  8,  6, 10,  0, 12, 11,  2,  3,  1,  4,  7,  9])"
      ]
     },
     "execution_count": 40,
     "metadata": {},
     "output_type": "execute_result"
    }
   ],
   "source": [
    "df.registrationmonth.unique()"
   ]
  },
  {
   "cell_type": "markdown",
   "metadata": {},
   "source": [
    "Registration month 0 makes no sense so it will be removed from dataframe."
   ]
  },
  {
   "cell_type": "code",
   "execution_count": 41,
   "metadata": {},
   "outputs": [],
   "source": [
    "df=df.drop(df[df['registrationmonth']== 0].index)"
   ]
  },
  {
   "cell_type": "code",
   "execution_count": 42,
   "metadata": {
    "scrolled": true
   },
   "outputs": [
    {
     "data": {
      "text/plain": [
       "array([ 5,  8,  6, 10, 12, 11,  2,  3,  1,  4,  7,  9])"
      ]
     },
     "execution_count": 42,
     "metadata": {},
     "output_type": "execute_result"
    }
   ],
   "source": [
    "df.registrationmonth.unique()"
   ]
  },
  {
   "cell_type": "code",
   "execution_count": 43,
   "metadata": {},
   "outputs": [
    {
     "data": {
      "image/png": "[encoded data removed]",
      "text/plain": [
       "<Figure size 432x288 with 1 Axes>"
      ]
     },
     "metadata": {
      "needs_background": "light"
     },
     "output_type": "display_data"
    }
   ],
   "source": [
    "plt.hist(df['numberofpictures'], bins = 20)\n",
    "plt.show()"
   ]
  },
  {
   "cell_type": "code",
   "execution_count": 44,
   "metadata": {},
   "outputs": [
    {
     "data": {
      "text/plain": [
       "array([0])"
      ]
     },
     "execution_count": 44,
     "metadata": {},
     "output_type": "execute_result"
    }
   ],
   "source": [
    "df.numberofpictures.unique()"
   ]
  },
  {
   "cell_type": "markdown",
   "metadata": {},
   "source": [
    "No pictures in this df so it has no influence on the price therefore it will be removed from the dataframe."
   ]
  },
  {
   "cell_type": "code",
   "execution_count": 45,
   "metadata": {},
   "outputs": [],
   "source": [
    "df.drop('numberofpictures',axis=1,inplace=True)"
   ]
  },
  {
   "cell_type": "code",
   "execution_count": 46,
   "metadata": {},
   "outputs": [
    {
     "data": {
      "text/html": [
       "<div>\n",
       "<style scoped>\n",
       "    .dataframe tbody tr th:only-of-type {\n",
       "        vertical-align: middle;\n",
       "    }\n",
       "\n",
       "    .dataframe tbody tr th {\n",
       "        vertical-align: top;\n",
       "    }\n",
       "\n",
       "    .dataframe thead th {\n",
       "        text-align: right;\n",
       "    }\n",
       "</style>\n",
       "<table border=\"1\" class=\"dataframe\">\n",
       "  <thead>\n",
       "    <tr style=\"text-align: right;\">\n",
       "      <th></th>\n",
       "      <th>price</th>\n",
       "      <th>vehicletype</th>\n",
       "      <th>registrationyear</th>\n",
       "      <th>gearbox</th>\n",
       "      <th>power</th>\n",
       "      <th>model</th>\n",
       "      <th>mileage</th>\n",
       "      <th>registrationmonth</th>\n",
       "      <th>fueltype</th>\n",
       "      <th>brand</th>\n",
       "      <th>notrepaired</th>\n",
       "      <th>created_year</th>\n",
       "      <th>created_month</th>\n",
       "      <th>created_day</th>\n",
       "      <th>created_dayofweek</th>\n",
       "    </tr>\n",
       "  </thead>\n",
       "  <tbody>\n",
       "    <tr>\n",
       "      <th>1</th>\n",
       "      <td>18300</td>\n",
       "      <td>coupe</td>\n",
       "      <td>2011</td>\n",
       "      <td>manual</td>\n",
       "      <td>190</td>\n",
       "      <td>NaN</td>\n",
       "      <td>125000</td>\n",
       "      <td>5</td>\n",
       "      <td>gasoline</td>\n",
       "      <td>audi</td>\n",
       "      <td>yes</td>\n",
       "      <td>2016</td>\n",
       "      <td>3</td>\n",
       "      <td>24</td>\n",
       "      <td>3</td>\n",
       "    </tr>\n",
       "    <tr>\n",
       "      <th>2</th>\n",
       "      <td>9800</td>\n",
       "      <td>suv</td>\n",
       "      <td>2004</td>\n",
       "      <td>auto</td>\n",
       "      <td>163</td>\n",
       "      <td>grand</td>\n",
       "      <td>125000</td>\n",
       "      <td>8</td>\n",
       "      <td>gasoline</td>\n",
       "      <td>jeep</td>\n",
       "      <td>NaN</td>\n",
       "      <td>2016</td>\n",
       "      <td>3</td>\n",
       "      <td>14</td>\n",
       "      <td>0</td>\n",
       "    </tr>\n",
       "    <tr>\n",
       "      <th>3</th>\n",
       "      <td>1500</td>\n",
       "      <td>small</td>\n",
       "      <td>2001</td>\n",
       "      <td>manual</td>\n",
       "      <td>75</td>\n",
       "      <td>golf</td>\n",
       "      <td>150000</td>\n",
       "      <td>6</td>\n",
       "      <td>petrol</td>\n",
       "      <td>volkswagen</td>\n",
       "      <td>no</td>\n",
       "      <td>2016</td>\n",
       "      <td>3</td>\n",
       "      <td>17</td>\n",
       "      <td>3</td>\n",
       "    </tr>\n",
       "  </tbody>\n",
       "</table>\n",
       "</div>"
      ],
      "text/plain": [
       "   price vehicletype  registrationyear gearbox  power  model  mileage  \\\n",
       "1  18300       coupe              2011  manual    190    NaN   125000   \n",
       "2   9800         suv              2004    auto    163  grand   125000   \n",
       "3   1500       small              2001  manual     75   golf   150000   \n",
       "\n",
       "   registrationmonth  fueltype       brand notrepaired  created_year  \\\n",
       "1                  5  gasoline        audi         yes          2016   \n",
       "2                  8  gasoline        jeep         NaN          2016   \n",
       "3                  6    petrol  volkswagen          no          2016   \n",
       "\n",
       "   created_month  created_day  created_dayofweek  \n",
       "1              3           24                  3  \n",
       "2              3           14                  0  \n",
       "3              3           17                  3  "
      ]
     },
     "execution_count": 46,
     "metadata": {},
     "output_type": "execute_result"
    }
   ],
   "source": [
    "df.head(3)"
   ]
  },
  {
   "cell_type": "code",
   "execution_count": 47,
   "metadata": {},
   "outputs": [
    {
     "data": {
      "image/png": "[encoded data removed]",
      "text/plain": [
       "<Figure size 432x288 with 1 Axes>"
      ]
     },
     "metadata": {
      "needs_background": "light"
     },
     "output_type": "display_data"
    }
   ],
   "source": [
    "plt.hist(df['created_year'], bins = 20)\n",
    "plt.show()"
   ]
  },
  {
   "cell_type": "code",
   "execution_count": 48,
   "metadata": {},
   "outputs": [
    {
     "data": {
      "text/plain": [
       "array([2016, 2015])"
      ]
     },
     "execution_count": 48,
     "metadata": {},
     "output_type": "execute_result"
    }
   ],
   "source": [
    "df.created_year.unique()"
   ]
  },
  {
   "cell_type": "code",
   "execution_count": 49,
   "metadata": {},
   "outputs": [
    {
     "data": {
      "text/plain": [
       "2016    244967\n",
       "2015        19\n",
       "Name: created_year, dtype: int64"
      ]
     },
     "execution_count": 49,
     "metadata": {},
     "output_type": "execute_result"
    }
   ],
   "source": [
    "df.created_year.value_counts()"
   ]
  },
  {
   "cell_type": "markdown",
   "metadata": {},
   "source": [
    "In 2016 there were large registration of vehicles than it was in 2015. (maybe they became popular)"
   ]
  },
  {
   "cell_type": "code",
   "execution_count": 50,
   "metadata": {},
   "outputs": [
    {
     "data": {
      "image/png": "[encoded data removed]",
      "text/plain": [
       "<Figure size 432x288 with 1 Axes>"
      ]
     },
     "metadata": {
      "needs_background": "light"
     },
     "output_type": "display_data"
    }
   ],
   "source": [
    "plt.hist(df['created_month'], bins = 20)\n",
    "plt.show()"
   ]
  },
  {
   "cell_type": "code",
   "execution_count": 51,
   "metadata": {},
   "outputs": [
    {
     "data": {
      "text/plain": [
       "array([ 3,  4,  1,  7, 10,  8,  9, 11, 12,  2,  5,  6])"
      ]
     },
     "execution_count": 51,
     "metadata": {},
     "output_type": "execute_result"
    }
   ],
   "source": [
    "df.created_month.unique()"
   ]
  },
  {
   "cell_type": "code",
   "execution_count": 52,
   "metadata": {},
   "outputs": [
    {
     "data": {
      "text/plain": [
       "3     154522\n",
       "4       9743\n",
       "12      9036\n",
       "7       8927\n",
       "2       8892\n",
       "5       8547\n",
       "1       8405\n",
       "9       8308\n",
       "8       8110\n",
       "10      7932\n",
       "11      7916\n",
       "6       4648\n",
       "Name: created_month, dtype: int64"
      ]
     },
     "execution_count": 52,
     "metadata": {},
     "output_type": "execute_result"
    }
   ],
   "source": [
    "df.created_month.value_counts()"
   ]
  },
  {
   "cell_type": "markdown",
   "metadata": {},
   "source": [
    "In March there were the most registrations."
   ]
  },
  {
   "cell_type": "code",
   "execution_count": 53,
   "metadata": {},
   "outputs": [
    {
     "data": {
      "image/png": "[encoded data removed]",
      "text/plain": [
       "<Figure size 432x288 with 1 Axes>"
      ]
     },
     "metadata": {
      "needs_background": "light"
     },
     "output_type": "display_data"
    }
   ],
   "source": [
    "plt.hist(df['created_day'], bins = 20)\n",
    "plt.show()"
   ]
  },
  {
   "cell_type": "code",
   "execution_count": 54,
   "metadata": {},
   "outputs": [
    {
     "data": {
      "text/plain": [
       "array([24, 14, 17,  4, 26, 15, 21, 20, 23, 27, 13, 18,  3, 25, 30, 29, 31,\n",
       "       28,  2, 22, 16, 19, 11,  1, 12,  8,  9])"
      ]
     },
     "execution_count": 54,
     "metadata": {},
     "output_type": "execute_result"
    }
   ],
   "source": [
    "df.created_day.unique()"
   ]
  },
  {
   "cell_type": "markdown",
   "metadata": {},
   "source": [
    "No problem with the range wicj is between 1 and 31."
   ]
  },
  {
   "cell_type": "code",
   "execution_count": 55,
   "metadata": {},
   "outputs": [
    {
     "data": {
      "text/plain": [
       "3     60228\n",
       "4     39822\n",
       "20     9015\n",
       "28     8853\n",
       "21     8753\n",
       "14     8662\n",
       "29     8353\n",
       "19     8342\n",
       "30     8091\n",
       "25     8059\n",
       "15     7996\n",
       "26     7974\n",
       "22     7820\n",
       "23     7795\n",
       "31     7691\n",
       "17     7617\n",
       "16     7444\n",
       "27     7351\n",
       "24     7324\n",
       "13     4240\n",
       "18     3481\n",
       "2        53\n",
       "1        12\n",
       "12        4\n",
       "11        3\n",
       "8         2\n",
       "9         1\n",
       "Name: created_day, dtype: int64"
      ]
     },
     "execution_count": 55,
     "metadata": {},
     "output_type": "execute_result"
    }
   ],
   "source": [
    "df.created_day.value_counts()"
   ]
  },
  {
   "cell_type": "markdown",
   "metadata": {},
   "source": [
    "Most popular days are 3rd and 4th of the month."
   ]
  },
  {
   "cell_type": "code",
   "execution_count": 56,
   "metadata": {},
   "outputs": [
    {
     "data": {
      "image/png": "[encoded data removed]",
      "text/plain": [
       "<Figure size 432x288 with 1 Axes>"
      ]
     },
     "metadata": {
      "needs_background": "light"
     },
     "output_type": "display_data"
    }
   ],
   "source": [
    "plt.hist(df['created_dayofweek'], bins = 20)\n",
    "plt.show()"
   ]
  },
  {
   "cell_type": "code",
   "execution_count": 57,
   "metadata": {},
   "outputs": [
    {
     "data": {
      "text/plain": [
       "array([3, 0, 5, 1, 6, 2, 4])"
      ]
     },
     "execution_count": 57,
     "metadata": {},
     "output_type": "execute_result"
    }
   ],
   "source": [
    "df.created_dayofweek.unique()"
   ]
  },
  {
   "cell_type": "code",
   "execution_count": 58,
   "metadata": {},
   "outputs": [
    {
     "data": {
      "text/plain": [
       "0    52172\n",
       "3    39461\n",
       "5    34436\n",
       "2    34269\n",
       "1    29910\n",
       "6    29665\n",
       "4    25073\n",
       "Name: created_dayofweek, dtype: int64"
      ]
     },
     "execution_count": 58,
     "metadata": {},
     "output_type": "execute_result"
    }
   ],
   "source": [
    "df.created_dayofweek.value_counts()"
   ]
  },
  {
   "cell_type": "markdown",
   "metadata": {},
   "source": [
    "Most popular day of the week is monday begining of the week."
   ]
  },
  {
   "cell_type": "markdown",
   "metadata": {},
   "source": [
    "Let's create new feature wich is age of the vehicle."
   ]
  },
  {
   "cell_type": "code",
   "execution_count": 59,
   "metadata": {},
   "outputs": [],
   "source": [
    "df['car_age']=df.created_year - df.registrationyear"
   ]
  },
  {
   "cell_type": "code",
   "execution_count": 60,
   "metadata": {},
   "outputs": [
    {
     "data": {
      "text/html": [
       "<div>\n",
       "<style scoped>\n",
       "    .dataframe tbody tr th:only-of-type {\n",
       "        vertical-align: middle;\n",
       "    }\n",
       "\n",
       "    .dataframe tbody tr th {\n",
       "        vertical-align: top;\n",
       "    }\n",
       "\n",
       "    .dataframe thead th {\n",
       "        text-align: right;\n",
       "    }\n",
       "</style>\n",
       "<table border=\"1\" class=\"dataframe\">\n",
       "  <thead>\n",
       "    <tr style=\"text-align: right;\">\n",
       "      <th></th>\n",
       "      <th>price</th>\n",
       "      <th>vehicletype</th>\n",
       "      <th>registrationyear</th>\n",
       "      <th>gearbox</th>\n",
       "      <th>power</th>\n",
       "      <th>model</th>\n",
       "      <th>mileage</th>\n",
       "      <th>registrationmonth</th>\n",
       "      <th>fueltype</th>\n",
       "      <th>brand</th>\n",
       "      <th>notrepaired</th>\n",
       "      <th>created_year</th>\n",
       "      <th>created_month</th>\n",
       "      <th>created_day</th>\n",
       "      <th>created_dayofweek</th>\n",
       "      <th>car_age</th>\n",
       "    </tr>\n",
       "  </thead>\n",
       "  <tbody>\n",
       "    <tr>\n",
       "      <th>1</th>\n",
       "      <td>18300</td>\n",
       "      <td>coupe</td>\n",
       "      <td>2011</td>\n",
       "      <td>manual</td>\n",
       "      <td>190</td>\n",
       "      <td>NaN</td>\n",
       "      <td>125000</td>\n",
       "      <td>5</td>\n",
       "      <td>gasoline</td>\n",
       "      <td>audi</td>\n",
       "      <td>yes</td>\n",
       "      <td>2016</td>\n",
       "      <td>3</td>\n",
       "      <td>24</td>\n",
       "      <td>3</td>\n",
       "      <td>5</td>\n",
       "    </tr>\n",
       "    <tr>\n",
       "      <th>2</th>\n",
       "      <td>9800</td>\n",
       "      <td>suv</td>\n",
       "      <td>2004</td>\n",
       "      <td>auto</td>\n",
       "      <td>163</td>\n",
       "      <td>grand</td>\n",
       "      <td>125000</td>\n",
       "      <td>8</td>\n",
       "      <td>gasoline</td>\n",
       "      <td>jeep</td>\n",
       "      <td>NaN</td>\n",
       "      <td>2016</td>\n",
       "      <td>3</td>\n",
       "      <td>14</td>\n",
       "      <td>0</td>\n",
       "      <td>12</td>\n",
       "    </tr>\n",
       "    <tr>\n",
       "      <th>3</th>\n",
       "      <td>1500</td>\n",
       "      <td>small</td>\n",
       "      <td>2001</td>\n",
       "      <td>manual</td>\n",
       "      <td>75</td>\n",
       "      <td>golf</td>\n",
       "      <td>150000</td>\n",
       "      <td>6</td>\n",
       "      <td>petrol</td>\n",
       "      <td>volkswagen</td>\n",
       "      <td>no</td>\n",
       "      <td>2016</td>\n",
       "      <td>3</td>\n",
       "      <td>17</td>\n",
       "      <td>3</td>\n",
       "      <td>15</td>\n",
       "    </tr>\n",
       "  </tbody>\n",
       "</table>\n",
       "</div>"
      ],
      "text/plain": [
       "   price vehicletype  registrationyear gearbox  power  model  mileage  \\\n",
       "1  18300       coupe              2011  manual    190    NaN   125000   \n",
       "2   9800         suv              2004    auto    163  grand   125000   \n",
       "3   1500       small              2001  manual     75   golf   150000   \n",
       "\n",
       "   registrationmonth  fueltype       brand notrepaired  created_year  \\\n",
       "1                  5  gasoline        audi         yes          2016   \n",
       "2                  8  gasoline        jeep         NaN          2016   \n",
       "3                  6    petrol  volkswagen          no          2016   \n",
       "\n",
       "   created_month  created_day  created_dayofweek  car_age  \n",
       "1              3           24                  3        5  \n",
       "2              3           14                  0       12  \n",
       "3              3           17                  3       15  "
      ]
     },
     "execution_count": 60,
     "metadata": {},
     "output_type": "execute_result"
    }
   ],
   "source": [
    "df.head(3)"
   ]
  },
  {
   "cell_type": "code",
   "execution_count": 61,
   "metadata": {},
   "outputs": [
    {
     "data": {
      "image/png": "[encoded data removed]",
      "text/plain": [
       "<Figure size 432x288 with 1 Axes>"
      ]
     },
     "metadata": {
      "needs_background": "light"
     },
     "output_type": "display_data"
    }
   ],
   "source": [
    "plt.hist(df['car_age'], bins = 50)\n",
    "plt.show()"
   ]
  },
  {
   "cell_type": "code",
   "execution_count": 62,
   "metadata": {},
   "outputs": [
    {
     "data": {
      "text/plain": [
       "array([ 5, 12, 15, 21,  2, 11,  9,  7, 14, -2, 26, -1,  8,  0, 32, 10, 17,\n",
       "       18,  4, 22, 16, 24, 19,  3, 13, 25, 20,  6,  1, 23, 27, 33, 35, 47,\n",
       "       45, 29, 31, 28, 36, 30, 51, 42, 34, 38, 37, 44, 39, 40, 48, 50, 55,\n",
       "       41, 57, 46, 43, 49, 67, -3, 58, 54, 52, 71, 60, 66, 53, 65, 74, 81,\n",
       "       61, 56, 64, 62, 86, 59, 68, 79, 73, 63, 69])"
      ]
     },
     "execution_count": 62,
     "metadata": {},
     "output_type": "execute_result"
    }
   ],
   "source": [
    "df.car_age.unique()"
   ]
  },
  {
   "cell_type": "markdown",
   "metadata": {},
   "source": [
    "From the age_car feature we see that there are some negative values and the reason is when before I filtered the years of registration the range was 1925 and 2022 however maximum value of year for profile creation is 2016 wich means that dataframe needs to filtered again."
   ]
  },
  {
   "cell_type": "code",
   "execution_count": 63,
   "metadata": {},
   "outputs": [],
   "source": [
    "df=df.drop(df[df['registrationyear']> 2016].index)"
   ]
  },
  {
   "cell_type": "code",
   "execution_count": 64,
   "metadata": {},
   "outputs": [
    {
     "data": {
      "text/plain": [
       "array([ 5, 12, 15, 21,  2, 11,  9,  7, 14, 26,  8,  0, 32, 10, 17, 18,  4,\n",
       "       22, 16, 24, 19,  3, 13, 25, 20,  6,  1, 23, 27, 33, 35, 47, 45, 29,\n",
       "       31, 28, 36, 30, 51, 42, 34, 38, 37, 44, 39, 40, 48, 50, 55, 41, 57,\n",
       "       46, 43, 49, 67, 58, 54, 52, 71, 60, 66, 53, 65, 74, 81, 61, 56, 64,\n",
       "       62, 86, 59, 68, 79, 73, 63, 69])"
      ]
     },
     "execution_count": 64,
     "metadata": {},
     "output_type": "execute_result"
    }
   ],
   "source": [
    "#Let's see the cars age again.\n",
    "df.car_age.unique()"
   ]
  },
  {
   "cell_type": "markdown",
   "metadata": {},
   "source": [
    "Now the values for cars age are normal. Also I will not remove or filter cars age like 86 years of age and the reason maybe someone want to sell old vehicle for collectors of vintage cars or for the museum."
   ]
  },
  {
   "cell_type": "markdown",
   "metadata": {},
   "source": [
    "Now we have the data for the cars age therefore we can remove the data refered information."
   ]
  },
  {
   "cell_type": "code",
   "execution_count": 65,
   "metadata": {},
   "outputs": [],
   "source": [
    "df.drop(['registrationyear','registrationmonth','created_year','created_month','created_day','created_dayofweek'],\n",
    "       axis=1,inplace=True)"
   ]
  },
  {
   "cell_type": "code",
   "execution_count": 66,
   "metadata": {},
   "outputs": [
    {
     "data": {
      "text/html": [
       "<div>\n",
       "<style scoped>\n",
       "    .dataframe tbody tr th:only-of-type {\n",
       "        vertical-align: middle;\n",
       "    }\n",
       "\n",
       "    .dataframe tbody tr th {\n",
       "        vertical-align: top;\n",
       "    }\n",
       "\n",
       "    .dataframe thead th {\n",
       "        text-align: right;\n",
       "    }\n",
       "</style>\n",
       "<table border=\"1\" class=\"dataframe\">\n",
       "  <thead>\n",
       "    <tr style=\"text-align: right;\">\n",
       "      <th></th>\n",
       "      <th>price</th>\n",
       "      <th>vehicletype</th>\n",
       "      <th>gearbox</th>\n",
       "      <th>power</th>\n",
       "      <th>model</th>\n",
       "      <th>mileage</th>\n",
       "      <th>fueltype</th>\n",
       "      <th>brand</th>\n",
       "      <th>notrepaired</th>\n",
       "      <th>car_age</th>\n",
       "    </tr>\n",
       "  </thead>\n",
       "  <tbody>\n",
       "    <tr>\n",
       "      <th>1</th>\n",
       "      <td>18300</td>\n",
       "      <td>coupe</td>\n",
       "      <td>manual</td>\n",
       "      <td>190</td>\n",
       "      <td>NaN</td>\n",
       "      <td>125000</td>\n",
       "      <td>gasoline</td>\n",
       "      <td>audi</td>\n",
       "      <td>yes</td>\n",
       "      <td>5</td>\n",
       "    </tr>\n",
       "    <tr>\n",
       "      <th>2</th>\n",
       "      <td>9800</td>\n",
       "      <td>suv</td>\n",
       "      <td>auto</td>\n",
       "      <td>163</td>\n",
       "      <td>grand</td>\n",
       "      <td>125000</td>\n",
       "      <td>gasoline</td>\n",
       "      <td>jeep</td>\n",
       "      <td>NaN</td>\n",
       "      <td>12</td>\n",
       "    </tr>\n",
       "    <tr>\n",
       "      <th>3</th>\n",
       "      <td>1500</td>\n",
       "      <td>small</td>\n",
       "      <td>manual</td>\n",
       "      <td>75</td>\n",
       "      <td>golf</td>\n",
       "      <td>150000</td>\n",
       "      <td>petrol</td>\n",
       "      <td>volkswagen</td>\n",
       "      <td>no</td>\n",
       "      <td>15</td>\n",
       "    </tr>\n",
       "  </tbody>\n",
       "</table>\n",
       "</div>"
      ],
      "text/plain": [
       "   price vehicletype gearbox  power  model  mileage  fueltype       brand  \\\n",
       "1  18300       coupe  manual    190    NaN   125000  gasoline        audi   \n",
       "2   9800         suv    auto    163  grand   125000  gasoline        jeep   \n",
       "3   1500       small  manual     75   golf   150000    petrol  volkswagen   \n",
       "\n",
       "  notrepaired  car_age  \n",
       "1         yes        5  \n",
       "2         NaN       12  \n",
       "3          no       15  "
      ]
     },
     "execution_count": 66,
     "metadata": {},
     "output_type": "execute_result"
    }
   ],
   "source": [
    "df.head(3)"
   ]
  },
  {
   "cell_type": "markdown",
   "metadata": {},
   "source": [
    "Let's check for the dublicated data."
   ]
  },
  {
   "cell_type": "code",
   "execution_count": 67,
   "metadata": {},
   "outputs": [
    {
     "name": "stdout",
     "output_type": "stream",
     "text": [
      "The number of dublicated data is: 30221\n"
     ]
    }
   ],
   "source": [
    "dubl=df.duplicated().sum()\n",
    "print('The number of dublicated data is:',dubl)"
   ]
  },
  {
   "cell_type": "markdown",
   "metadata": {},
   "source": [
    "Let's calculate the persentage."
   ]
  },
  {
   "cell_type": "code",
   "execution_count": 68,
   "metadata": {},
   "outputs": [
    {
     "name": "stdout",
     "output_type": "stream",
     "text": [
      "The ratio of dublicated data is:  12.70%\n"
     ]
    }
   ],
   "source": [
    "dubl_prsntg=dubl/len(df)\n",
    "print('The ratio of dublicated data is:  {:.2%}'.format(dubl_prsntg))"
   ]
  },
  {
   "cell_type": "markdown",
   "metadata": {},
   "source": [
    "Dropping dublicated data."
   ]
  },
  {
   "cell_type": "code",
   "execution_count": 69,
   "metadata": {},
   "outputs": [
    {
     "name": "stdout",
     "output_type": "stream",
     "text": [
      "The number of dublicates after dropping duplicates is: 0\n"
     ]
    }
   ],
   "source": [
    "df.drop_duplicates(inplace=True)\n",
    "dubl_new=df.duplicated().sum()\n",
    "\n",
    "print('The number of dublicates after dropping duplicates is:',dubl_new)"
   ]
  },
  {
   "cell_type": "markdown",
   "metadata": {},
   "source": [
    "let's see the correlation between the features and target"
   ]
  },
  {
   "cell_type": "code",
   "execution_count": 70,
   "metadata": {},
   "outputs": [
    {
     "data": {
      "image/png": "[encoded data removed]",
      "text/plain": [
       "<Figure size 1080x360 with 2 Axes>"
      ]
     },
     "metadata": {
      "needs_background": "light"
     },
     "output_type": "display_data"
    }
   ],
   "source": [
    "def corr(data):\n",
    "    \n",
    "    plt.figure(figsize=(15,5))\n",
    "    ax = sns.heatmap(df.corr(), annot=True, cmap='cividis')\n",
    "    bottom, top = ax.get_ylim()\n",
    "    ax.set_ylim(bottom + 0.5, top - 0.5);\n",
    "    plt.yticks(rotation=0);\n",
    "corr(df)"
   ]
  },
  {
   "cell_type": "markdown",
   "metadata": {},
   "source": [
    "The strongest correlation is between car_age and price in second place is mileage and price and in the third place is power and price but all the features have influence on the price of the vehicle."
   ]
  },
  {
   "cell_type": "markdown",
   "metadata": {},
   "source": [
    "Let's check for the missing values."
   ]
  },
  {
   "cell_type": "code",
   "execution_count": 71,
   "metadata": {},
   "outputs": [
    {
     "data": {
      "text/html": [
       "<style  type=\"text/css\" >\n",
       "</style><table id=\"T_1640f_\" ><thead>    <tr>        <th class=\"blank level0\" ></th>        <th class=\"col_heading level0 col0\" >missing</th>        <th class=\"col_heading level0 col1\" >total</th>        <th class=\"col_heading level0 col2\" >percent</th>    </tr></thead><tbody>\n",
       "                <tr>\n",
       "                        <th id=\"T_1640f_level0_row0\" class=\"row_heading level0 row0\" >notrepaired</th>\n",
       "                        <td id=\"T_1640f_row0_col0\" class=\"data row0 col0\" >25,998</td>\n",
       "                        <td id=\"T_1640f_row0_col1\" class=\"data row0 col1\" >207,787</td>\n",
       "                        <td id=\"T_1640f_row0_col2\" class=\"data row0 col2\" >12.51%</td>\n",
       "            </tr>\n",
       "            <tr>\n",
       "                        <th id=\"T_1640f_level0_row1\" class=\"row_heading level0 row1\" >fueltype</th>\n",
       "                        <td id=\"T_1640f_row1_col0\" class=\"data row1 col0\" >8,924</td>\n",
       "                        <td id=\"T_1640f_row1_col1\" class=\"data row1 col1\" >207,787</td>\n",
       "                        <td id=\"T_1640f_row1_col2\" class=\"data row1 col2\" >4.29%</td>\n",
       "            </tr>\n",
       "            <tr>\n",
       "                        <th id=\"T_1640f_level0_row2\" class=\"row_heading level0 row2\" >model</th>\n",
       "                        <td id=\"T_1640f_row2_col0\" class=\"data row2 col0\" >7,261</td>\n",
       "                        <td id=\"T_1640f_row2_col1\" class=\"data row2 col1\" >207,787</td>\n",
       "                        <td id=\"T_1640f_row2_col2\" class=\"data row2 col2\" >3.49%</td>\n",
       "            </tr>\n",
       "            <tr>\n",
       "                        <th id=\"T_1640f_level0_row3\" class=\"row_heading level0 row3\" >vehicletype</th>\n",
       "                        <td id=\"T_1640f_row3_col0\" class=\"data row3 col0\" >6,064</td>\n",
       "                        <td id=\"T_1640f_row3_col1\" class=\"data row3 col1\" >207,787</td>\n",
       "                        <td id=\"T_1640f_row3_col2\" class=\"data row3 col2\" >2.92%</td>\n",
       "            </tr>\n",
       "            <tr>\n",
       "                        <th id=\"T_1640f_level0_row4\" class=\"row_heading level0 row4\" >gearbox</th>\n",
       "                        <td id=\"T_1640f_row4_col0\" class=\"data row4 col0\" >2,551</td>\n",
       "                        <td id=\"T_1640f_row4_col1\" class=\"data row4 col1\" >207,787</td>\n",
       "                        <td id=\"T_1640f_row4_col2\" class=\"data row4 col2\" >1.23%</td>\n",
       "            </tr>\n",
       "            <tr>\n",
       "                        <th id=\"T_1640f_level0_row5\" class=\"row_heading level0 row5\" >price</th>\n",
       "                        <td id=\"T_1640f_row5_col0\" class=\"data row5 col0\" >0</td>\n",
       "                        <td id=\"T_1640f_row5_col1\" class=\"data row5 col1\" >207,787</td>\n",
       "                        <td id=\"T_1640f_row5_col2\" class=\"data row5 col2\" >0.00%</td>\n",
       "            </tr>\n",
       "            <tr>\n",
       "                        <th id=\"T_1640f_level0_row6\" class=\"row_heading level0 row6\" >power</th>\n",
       "                        <td id=\"T_1640f_row6_col0\" class=\"data row6 col0\" >0</td>\n",
       "                        <td id=\"T_1640f_row6_col1\" class=\"data row6 col1\" >207,787</td>\n",
       "                        <td id=\"T_1640f_row6_col2\" class=\"data row6 col2\" >0.00%</td>\n",
       "            </tr>\n",
       "            <tr>\n",
       "                        <th id=\"T_1640f_level0_row7\" class=\"row_heading level0 row7\" >mileage</th>\n",
       "                        <td id=\"T_1640f_row7_col0\" class=\"data row7 col0\" >0</td>\n",
       "                        <td id=\"T_1640f_row7_col1\" class=\"data row7 col1\" >207,787</td>\n",
       "                        <td id=\"T_1640f_row7_col2\" class=\"data row7 col2\" >0.00%</td>\n",
       "            </tr>\n",
       "            <tr>\n",
       "                        <th id=\"T_1640f_level0_row8\" class=\"row_heading level0 row8\" >brand</th>\n",
       "                        <td id=\"T_1640f_row8_col0\" class=\"data row8 col0\" >0</td>\n",
       "                        <td id=\"T_1640f_row8_col1\" class=\"data row8 col1\" >207,787</td>\n",
       "                        <td id=\"T_1640f_row8_col2\" class=\"data row8 col2\" >0.00%</td>\n",
       "            </tr>\n",
       "            <tr>\n",
       "                        <th id=\"T_1640f_level0_row9\" class=\"row_heading level0 row9\" >car_age</th>\n",
       "                        <td id=\"T_1640f_row9_col0\" class=\"data row9 col0\" >0</td>\n",
       "                        <td id=\"T_1640f_row9_col1\" class=\"data row9 col1\" >207,787</td>\n",
       "                        <td id=\"T_1640f_row9_col2\" class=\"data row9 col2\" >0.00%</td>\n",
       "            </tr>\n",
       "    </tbody></table>"
      ],
      "text/plain": [
       "<pandas.io.formats.style.Styler at 0x7f2829557eb0>"
      ]
     },
     "execution_count": 71,
     "metadata": {},
     "output_type": "execute_result"
    }
   ],
   "source": [
    "df.stb.missing(style=True) "
   ]
  },
  {
   "cell_type": "markdown",
   "metadata": {},
   "source": [
    "The features: fueltype, model, vehicletype and gearbox are all below 5% of missing values so we can drop those missing values,\n",
    "however notrepaired feature has 12.5% of missing that cannot be neglected therefore KNN is needed here."
   ]
  },
  {
   "cell_type": "code",
   "execution_count": 72,
   "metadata": {},
   "outputs": [],
   "source": [
    "df['gearbox']=df['gearbox'].fillna(0)"
   ]
  },
  {
   "cell_type": "code",
   "execution_count": 73,
   "metadata": {
    "scrolled": true
   },
   "outputs": [
    {
     "data": {
      "text/plain": [
       "array(['manual', 'auto', 0], dtype=object)"
      ]
     },
     "execution_count": 73,
     "metadata": {},
     "output_type": "execute_result"
    }
   ],
   "source": [
    "df.gearbox.unique()"
   ]
  },
  {
   "cell_type": "code",
   "execution_count": 74,
   "metadata": {},
   "outputs": [],
   "source": [
    "df=df.drop(df[df['gearbox']== 0].index)"
   ]
  },
  {
   "cell_type": "code",
   "execution_count": 75,
   "metadata": {
    "scrolled": true
   },
   "outputs": [
    {
     "data": {
      "text/html": [
       "<style  type=\"text/css\" >\n",
       "</style><table id=\"T_3cc0a_\" ><thead>    <tr>        <th class=\"blank level0\" ></th>        <th class=\"col_heading level0 col0\" >missing</th>        <th class=\"col_heading level0 col1\" >total</th>        <th class=\"col_heading level0 col2\" >percent</th>    </tr></thead><tbody>\n",
       "                <tr>\n",
       "                        <th id=\"T_3cc0a_level0_row0\" class=\"row_heading level0 row0\" >notrepaired</th>\n",
       "                        <td id=\"T_3cc0a_row0_col0\" class=\"data row0 col0\" >25,075</td>\n",
       "                        <td id=\"T_3cc0a_row0_col1\" class=\"data row0 col1\" >205,236</td>\n",
       "                        <td id=\"T_3cc0a_row0_col2\" class=\"data row0 col2\" >12.22%</td>\n",
       "            </tr>\n",
       "            <tr>\n",
       "                        <th id=\"T_3cc0a_level0_row1\" class=\"row_heading level0 row1\" >fueltype</th>\n",
       "                        <td id=\"T_3cc0a_row1_col0\" class=\"data row1 col0\" >8,514</td>\n",
       "                        <td id=\"T_3cc0a_row1_col1\" class=\"data row1 col1\" >205,236</td>\n",
       "                        <td id=\"T_3cc0a_row1_col2\" class=\"data row1 col2\" >4.15%</td>\n",
       "            </tr>\n",
       "            <tr>\n",
       "                        <th id=\"T_3cc0a_level0_row2\" class=\"row_heading level0 row2\" >model</th>\n",
       "                        <td id=\"T_3cc0a_row2_col0\" class=\"data row2 col0\" >6,983</td>\n",
       "                        <td id=\"T_3cc0a_row2_col1\" class=\"data row2 col1\" >205,236</td>\n",
       "                        <td id=\"T_3cc0a_row2_col2\" class=\"data row2 col2\" >3.40%</td>\n",
       "            </tr>\n",
       "            <tr>\n",
       "                        <th id=\"T_3cc0a_level0_row3\" class=\"row_heading level0 row3\" >vehicletype</th>\n",
       "                        <td id=\"T_3cc0a_row3_col0\" class=\"data row3 col0\" >5,693</td>\n",
       "                        <td id=\"T_3cc0a_row3_col1\" class=\"data row3 col1\" >205,236</td>\n",
       "                        <td id=\"T_3cc0a_row3_col2\" class=\"data row3 col2\" >2.77%</td>\n",
       "            </tr>\n",
       "            <tr>\n",
       "                        <th id=\"T_3cc0a_level0_row4\" class=\"row_heading level0 row4\" >price</th>\n",
       "                        <td id=\"T_3cc0a_row4_col0\" class=\"data row4 col0\" >0</td>\n",
       "                        <td id=\"T_3cc0a_row4_col1\" class=\"data row4 col1\" >205,236</td>\n",
       "                        <td id=\"T_3cc0a_row4_col2\" class=\"data row4 col2\" >0.00%</td>\n",
       "            </tr>\n",
       "            <tr>\n",
       "                        <th id=\"T_3cc0a_level0_row5\" class=\"row_heading level0 row5\" >gearbox</th>\n",
       "                        <td id=\"T_3cc0a_row5_col0\" class=\"data row5 col0\" >0</td>\n",
       "                        <td id=\"T_3cc0a_row5_col1\" class=\"data row5 col1\" >205,236</td>\n",
       "                        <td id=\"T_3cc0a_row5_col2\" class=\"data row5 col2\" >0.00%</td>\n",
       "            </tr>\n",
       "            <tr>\n",
       "                        <th id=\"T_3cc0a_level0_row6\" class=\"row_heading level0 row6\" >power</th>\n",
       "                        <td id=\"T_3cc0a_row6_col0\" class=\"data row6 col0\" >0</td>\n",
       "                        <td id=\"T_3cc0a_row6_col1\" class=\"data row6 col1\" >205,236</td>\n",
       "                        <td id=\"T_3cc0a_row6_col2\" class=\"data row6 col2\" >0.00%</td>\n",
       "            </tr>\n",
       "            <tr>\n",
       "                        <th id=\"T_3cc0a_level0_row7\" class=\"row_heading level0 row7\" >mileage</th>\n",
       "                        <td id=\"T_3cc0a_row7_col0\" class=\"data row7 col0\" >0</td>\n",
       "                        <td id=\"T_3cc0a_row7_col1\" class=\"data row7 col1\" >205,236</td>\n",
       "                        <td id=\"T_3cc0a_row7_col2\" class=\"data row7 col2\" >0.00%</td>\n",
       "            </tr>\n",
       "            <tr>\n",
       "                        <th id=\"T_3cc0a_level0_row8\" class=\"row_heading level0 row8\" >brand</th>\n",
       "                        <td id=\"T_3cc0a_row8_col0\" class=\"data row8 col0\" >0</td>\n",
       "                        <td id=\"T_3cc0a_row8_col1\" class=\"data row8 col1\" >205,236</td>\n",
       "                        <td id=\"T_3cc0a_row8_col2\" class=\"data row8 col2\" >0.00%</td>\n",
       "            </tr>\n",
       "            <tr>\n",
       "                        <th id=\"T_3cc0a_level0_row9\" class=\"row_heading level0 row9\" >car_age</th>\n",
       "                        <td id=\"T_3cc0a_row9_col0\" class=\"data row9 col0\" >0</td>\n",
       "                        <td id=\"T_3cc0a_row9_col1\" class=\"data row9 col1\" >205,236</td>\n",
       "                        <td id=\"T_3cc0a_row9_col2\" class=\"data row9 col2\" >0.00%</td>\n",
       "            </tr>\n",
       "    </tbody></table>"
      ],
      "text/plain": [
       "<pandas.io.formats.style.Styler at 0x7f28295b0820>"
      ]
     },
     "execution_count": 75,
     "metadata": {},
     "output_type": "execute_result"
    }
   ],
   "source": [
    "df.stb.missing(style=True) "
   ]
  },
  {
   "cell_type": "code",
   "execution_count": 76,
   "metadata": {},
   "outputs": [],
   "source": [
    "df['vehicletype']=df['vehicletype'].fillna(0)"
   ]
  },
  {
   "cell_type": "code",
   "execution_count": 77,
   "metadata": {},
   "outputs": [
    {
     "data": {
      "text/plain": [
       "array(['coupe', 'suv', 'small', 'sedan', 'convertible', 'bus', 'wagon', 0,\n",
       "       'other'], dtype=object)"
      ]
     },
     "execution_count": 77,
     "metadata": {},
     "output_type": "execute_result"
    }
   ],
   "source": [
    "df.vehicletype.unique()"
   ]
  },
  {
   "cell_type": "code",
   "execution_count": 78,
   "metadata": {},
   "outputs": [],
   "source": [
    "df=df.drop(df[df['vehicletype']==0].index)"
   ]
  },
  {
   "cell_type": "code",
   "execution_count": 79,
   "metadata": {},
   "outputs": [
    {
     "data": {
      "text/html": [
       "<style  type=\"text/css\" >\n",
       "</style><table id=\"T_dfe18_\" ><thead>    <tr>        <th class=\"blank level0\" ></th>        <th class=\"col_heading level0 col0\" >missing</th>        <th class=\"col_heading level0 col1\" >total</th>        <th class=\"col_heading level0 col2\" >percent</th>    </tr></thead><tbody>\n",
       "                <tr>\n",
       "                        <th id=\"T_dfe18_level0_row0\" class=\"row_heading level0 row0\" >notrepaired</th>\n",
       "                        <td id=\"T_dfe18_row0_col0\" class=\"data row0 col0\" >22,795</td>\n",
       "                        <td id=\"T_dfe18_row0_col1\" class=\"data row0 col1\" >199,543</td>\n",
       "                        <td id=\"T_dfe18_row0_col2\" class=\"data row0 col2\" >11.42%</td>\n",
       "            </tr>\n",
       "            <tr>\n",
       "                        <th id=\"T_dfe18_level0_row1\" class=\"row_heading level0 row1\" >model</th>\n",
       "                        <td id=\"T_dfe18_row1_col0\" class=\"data row1 col0\" >6,205</td>\n",
       "                        <td id=\"T_dfe18_row1_col1\" class=\"data row1 col1\" >199,543</td>\n",
       "                        <td id=\"T_dfe18_row1_col2\" class=\"data row1 col2\" >3.11%</td>\n",
       "            </tr>\n",
       "            <tr>\n",
       "                        <th id=\"T_dfe18_level0_row2\" class=\"row_heading level0 row2\" >fueltype</th>\n",
       "                        <td id=\"T_dfe18_row2_col0\" class=\"data row2 col0\" >5,978</td>\n",
       "                        <td id=\"T_dfe18_row2_col1\" class=\"data row2 col1\" >199,543</td>\n",
       "                        <td id=\"T_dfe18_row2_col2\" class=\"data row2 col2\" >3.00%</td>\n",
       "            </tr>\n",
       "            <tr>\n",
       "                        <th id=\"T_dfe18_level0_row3\" class=\"row_heading level0 row3\" >price</th>\n",
       "                        <td id=\"T_dfe18_row3_col0\" class=\"data row3 col0\" >0</td>\n",
       "                        <td id=\"T_dfe18_row3_col1\" class=\"data row3 col1\" >199,543</td>\n",
       "                        <td id=\"T_dfe18_row3_col2\" class=\"data row3 col2\" >0.00%</td>\n",
       "            </tr>\n",
       "            <tr>\n",
       "                        <th id=\"T_dfe18_level0_row4\" class=\"row_heading level0 row4\" >vehicletype</th>\n",
       "                        <td id=\"T_dfe18_row4_col0\" class=\"data row4 col0\" >0</td>\n",
       "                        <td id=\"T_dfe18_row4_col1\" class=\"data row4 col1\" >199,543</td>\n",
       "                        <td id=\"T_dfe18_row4_col2\" class=\"data row4 col2\" >0.00%</td>\n",
       "            </tr>\n",
       "            <tr>\n",
       "                        <th id=\"T_dfe18_level0_row5\" class=\"row_heading level0 row5\" >gearbox</th>\n",
       "                        <td id=\"T_dfe18_row5_col0\" class=\"data row5 col0\" >0</td>\n",
       "                        <td id=\"T_dfe18_row5_col1\" class=\"data row5 col1\" >199,543</td>\n",
       "                        <td id=\"T_dfe18_row5_col2\" class=\"data row5 col2\" >0.00%</td>\n",
       "            </tr>\n",
       "            <tr>\n",
       "                        <th id=\"T_dfe18_level0_row6\" class=\"row_heading level0 row6\" >power</th>\n",
       "                        <td id=\"T_dfe18_row6_col0\" class=\"data row6 col0\" >0</td>\n",
       "                        <td id=\"T_dfe18_row6_col1\" class=\"data row6 col1\" >199,543</td>\n",
       "                        <td id=\"T_dfe18_row6_col2\" class=\"data row6 col2\" >0.00%</td>\n",
       "            </tr>\n",
       "            <tr>\n",
       "                        <th id=\"T_dfe18_level0_row7\" class=\"row_heading level0 row7\" >mileage</th>\n",
       "                        <td id=\"T_dfe18_row7_col0\" class=\"data row7 col0\" >0</td>\n",
       "                        <td id=\"T_dfe18_row7_col1\" class=\"data row7 col1\" >199,543</td>\n",
       "                        <td id=\"T_dfe18_row7_col2\" class=\"data row7 col2\" >0.00%</td>\n",
       "            </tr>\n",
       "            <tr>\n",
       "                        <th id=\"T_dfe18_level0_row8\" class=\"row_heading level0 row8\" >brand</th>\n",
       "                        <td id=\"T_dfe18_row8_col0\" class=\"data row8 col0\" >0</td>\n",
       "                        <td id=\"T_dfe18_row8_col1\" class=\"data row8 col1\" >199,543</td>\n",
       "                        <td id=\"T_dfe18_row8_col2\" class=\"data row8 col2\" >0.00%</td>\n",
       "            </tr>\n",
       "            <tr>\n",
       "                        <th id=\"T_dfe18_level0_row9\" class=\"row_heading level0 row9\" >car_age</th>\n",
       "                        <td id=\"T_dfe18_row9_col0\" class=\"data row9 col0\" >0</td>\n",
       "                        <td id=\"T_dfe18_row9_col1\" class=\"data row9 col1\" >199,543</td>\n",
       "                        <td id=\"T_dfe18_row9_col2\" class=\"data row9 col2\" >0.00%</td>\n",
       "            </tr>\n",
       "    </tbody></table>"
      ],
      "text/plain": [
       "<pandas.io.formats.style.Styler at 0x7f28296abd60>"
      ]
     },
     "execution_count": 79,
     "metadata": {},
     "output_type": "execute_result"
    }
   ],
   "source": [
    "df.stb.missing(style=True) "
   ]
  },
  {
   "cell_type": "code",
   "execution_count": 80,
   "metadata": {},
   "outputs": [
    {
     "data": {
      "text/plain": [
       "array(['gasoline', 'petrol', 0, 'lpg', 'other', 'hybrid', 'cng',\n",
       "       'electric'], dtype=object)"
      ]
     },
     "execution_count": 80,
     "metadata": {},
     "output_type": "execute_result"
    }
   ],
   "source": [
    "df['fueltype']=df['fueltype'].fillna(0)\n",
    "df.fueltype.unique()"
   ]
  },
  {
   "cell_type": "code",
   "execution_count": 81,
   "metadata": {},
   "outputs": [
    {
     "data": {
      "text/html": [
       "<style  type=\"text/css\" >\n",
       "</style><table id=\"T_f0826_\" ><thead>    <tr>        <th class=\"blank level0\" ></th>        <th class=\"col_heading level0 col0\" >missing</th>        <th class=\"col_heading level0 col1\" >total</th>        <th class=\"col_heading level0 col2\" >percent</th>    </tr></thead><tbody>\n",
       "                <tr>\n",
       "                        <th id=\"T_f0826_level0_row0\" class=\"row_heading level0 row0\" >notrepaired</th>\n",
       "                        <td id=\"T_f0826_row0_col0\" class=\"data row0 col0\" >21,047</td>\n",
       "                        <td id=\"T_f0826_row0_col1\" class=\"data row0 col1\" >193,565</td>\n",
       "                        <td id=\"T_f0826_row0_col2\" class=\"data row0 col2\" >10.87%</td>\n",
       "            </tr>\n",
       "            <tr>\n",
       "                        <th id=\"T_f0826_level0_row1\" class=\"row_heading level0 row1\" >model</th>\n",
       "                        <td id=\"T_f0826_row1_col0\" class=\"data row1 col0\" >5,254</td>\n",
       "                        <td id=\"T_f0826_row1_col1\" class=\"data row1 col1\" >193,565</td>\n",
       "                        <td id=\"T_f0826_row1_col2\" class=\"data row1 col2\" >2.71%</td>\n",
       "            </tr>\n",
       "            <tr>\n",
       "                        <th id=\"T_f0826_level0_row2\" class=\"row_heading level0 row2\" >price</th>\n",
       "                        <td id=\"T_f0826_row2_col0\" class=\"data row2 col0\" >0</td>\n",
       "                        <td id=\"T_f0826_row2_col1\" class=\"data row2 col1\" >193,565</td>\n",
       "                        <td id=\"T_f0826_row2_col2\" class=\"data row2 col2\" >0.00%</td>\n",
       "            </tr>\n",
       "            <tr>\n",
       "                        <th id=\"T_f0826_level0_row3\" class=\"row_heading level0 row3\" >vehicletype</th>\n",
       "                        <td id=\"T_f0826_row3_col0\" class=\"data row3 col0\" >0</td>\n",
       "                        <td id=\"T_f0826_row3_col1\" class=\"data row3 col1\" >193,565</td>\n",
       "                        <td id=\"T_f0826_row3_col2\" class=\"data row3 col2\" >0.00%</td>\n",
       "            </tr>\n",
       "            <tr>\n",
       "                        <th id=\"T_f0826_level0_row4\" class=\"row_heading level0 row4\" >gearbox</th>\n",
       "                        <td id=\"T_f0826_row4_col0\" class=\"data row4 col0\" >0</td>\n",
       "                        <td id=\"T_f0826_row4_col1\" class=\"data row4 col1\" >193,565</td>\n",
       "                        <td id=\"T_f0826_row4_col2\" class=\"data row4 col2\" >0.00%</td>\n",
       "            </tr>\n",
       "            <tr>\n",
       "                        <th id=\"T_f0826_level0_row5\" class=\"row_heading level0 row5\" >power</th>\n",
       "                        <td id=\"T_f0826_row5_col0\" class=\"data row5 col0\" >0</td>\n",
       "                        <td id=\"T_f0826_row5_col1\" class=\"data row5 col1\" >193,565</td>\n",
       "                        <td id=\"T_f0826_row5_col2\" class=\"data row5 col2\" >0.00%</td>\n",
       "            </tr>\n",
       "            <tr>\n",
       "                        <th id=\"T_f0826_level0_row6\" class=\"row_heading level0 row6\" >mileage</th>\n",
       "                        <td id=\"T_f0826_row6_col0\" class=\"data row6 col0\" >0</td>\n",
       "                        <td id=\"T_f0826_row6_col1\" class=\"data row6 col1\" >193,565</td>\n",
       "                        <td id=\"T_f0826_row6_col2\" class=\"data row6 col2\" >0.00%</td>\n",
       "            </tr>\n",
       "            <tr>\n",
       "                        <th id=\"T_f0826_level0_row7\" class=\"row_heading level0 row7\" >fueltype</th>\n",
       "                        <td id=\"T_f0826_row7_col0\" class=\"data row7 col0\" >0</td>\n",
       "                        <td id=\"T_f0826_row7_col1\" class=\"data row7 col1\" >193,565</td>\n",
       "                        <td id=\"T_f0826_row7_col2\" class=\"data row7 col2\" >0.00%</td>\n",
       "            </tr>\n",
       "            <tr>\n",
       "                        <th id=\"T_f0826_level0_row8\" class=\"row_heading level0 row8\" >brand</th>\n",
       "                        <td id=\"T_f0826_row8_col0\" class=\"data row8 col0\" >0</td>\n",
       "                        <td id=\"T_f0826_row8_col1\" class=\"data row8 col1\" >193,565</td>\n",
       "                        <td id=\"T_f0826_row8_col2\" class=\"data row8 col2\" >0.00%</td>\n",
       "            </tr>\n",
       "            <tr>\n",
       "                        <th id=\"T_f0826_level0_row9\" class=\"row_heading level0 row9\" >car_age</th>\n",
       "                        <td id=\"T_f0826_row9_col0\" class=\"data row9 col0\" >0</td>\n",
       "                        <td id=\"T_f0826_row9_col1\" class=\"data row9 col1\" >193,565</td>\n",
       "                        <td id=\"T_f0826_row9_col2\" class=\"data row9 col2\" >0.00%</td>\n",
       "            </tr>\n",
       "    </tbody></table>"
      ],
      "text/plain": [
       "<pandas.io.formats.style.Styler at 0x7f28296b28b0>"
      ]
     },
     "execution_count": 81,
     "metadata": {},
     "output_type": "execute_result"
    }
   ],
   "source": [
    "df=df.drop(df[df['fueltype']==0].index)\n",
    "df.stb.missing(style=True) "
   ]
  },
  {
   "cell_type": "code",
   "execution_count": 82,
   "metadata": {
    "scrolled": true
   },
   "outputs": [
    {
     "data": {
      "text/plain": [
       "array([0, 'grand', 'golf', '3er', '2_reihe', 'c_max', '3_reihe', 'passat',\n",
       "       'navara', 'twingo', 'a_klasse', 'scirocco', '5er', 'other',\n",
       "       'civic', 'e_klasse', 'one', 'clio', '1er', 'b_klasse', 'a8',\n",
       "       'jetta', 'c_klasse', 'micra', 'vito', 'sprinter', 'escort',\n",
       "       'forester', 'xc_reihe', 'fiesta', 'scenic', 'a1', 'focus', 'a4',\n",
       "       'tt', 'astra', 'a6', 'jazz', 'transporter', 'polo', 'slk', '7er',\n",
       "       'combo', 'fabia', '80', '147', 'meriva', 'z_reihe', 'sorento',\n",
       "       'mustang', 'eos', 'touran', 'getz', 'insignia', 'megane', 'a3',\n",
       "       'r19', 'mondeo', 'colt', 'vectra', 'lupo', 'berlingo', 'tiguan',\n",
       "       '6_reihe', 'c4', 'up', 'i_reihe', 'ceed', 'kangoo', '5_reihe',\n",
       "       'ibiza', 'yeti', 'octavia', 'zafira', 'mii', 'rx_reihe', 'corsa',\n",
       "       '6er', 'beetle', 'fortwo', 'rio', 'touareg', 'caddy', 'omega',\n",
       "       's_max', 'modus', 'a2', 'galaxy', 'c3', 'viano', 's_klasse',\n",
       "       '1_reihe', 'panda', 'sharan', 'avensis', 'sl', 'santa', 'leon',\n",
       "       'cooper', 'a5', 'sportage', 'ptcruiser', 'clk', 'primera',\n",
       "       '4_reihe', 'espace', 'exeo', 'transit', 'juke', 'x_reihe', 'v40',\n",
       "       'carisma', 'accord', 'corolla', 'phaeton', 'cordoba', 'verso',\n",
       "       'rav', 'qashqai', '159', 'swift', 'punto', 'boxster', 'stilo',\n",
       "       'alhambra', 'roadster', 'ypsilon', 'galant', 'justy', '90',\n",
       "       'sirion', 'signum', 'crossfire', 'duster', 'ka', 'v50', 'mx_reihe',\n",
       "       'c_reihe', 'v_klasse', 'm_klasse', 'yaris', 'c5', 'almera', 'cc',\n",
       "       'bora', 'agila', 'm_reihe', 'cl', 'tigra', '156', '300c', '100',\n",
       "       'cr_reihe', 'kuga', 'laguna', 'impreza', 'x_type', 'ducato',\n",
       "       's_type', 'x_trail', 'toledo', 'altea', 'voyager', 'carnival',\n",
       "       'v70', 'bravo', 'kadett', 'jimny', 'cayenne', 'wrangler', 'lybra',\n",
       "       'lancer', 'captiva', 'fusion', 'fox', 'roomster', 'discovery',\n",
       "       'sandero', 'q7', 'note', 'spider', 'antara', 'clubman', 'defender',\n",
       "       'forfour', 'cx_reihe', 'legacy', 'pajero', 'c2', '500', 's60',\n",
       "       '900', 'nubira', 'vivaro', 'tucson', 'g_klasse', 'freelander',\n",
       "       'aygo', 'auris', 'logan', 'cherokee', 'lodgy', 'range_rover',\n",
       "       'lanos', '850', 'superb', 'q3', 'matiz', 'serie_2', 'calibra',\n",
       "       'glk', 'charade', 'croma', '911', 'citigo', 'outlander', 'doblo',\n",
       "       'musa', '9000', 'kalos', 'v60', 'spark', '200', '145', 'picanto',\n",
       "       'niva', 'b_max', 'arosa', 'range_rover_sport', 'aveo', 'cuore',\n",
       "       'rangerover', 'q5', 'range_rover_evoque', 'materia', 'terios',\n",
       "       'gl', 'move', 'kalina', 'c1', 'delta', 'kaefer', 'i3', 'amarok',\n",
       "       'kappa', 'samara', 'seicento'], dtype=object)"
      ]
     },
     "execution_count": 82,
     "metadata": {},
     "output_type": "execute_result"
    }
   ],
   "source": [
    "df['model']=df['model'].fillna(0)\n",
    "df.model.unique()"
   ]
  },
  {
   "cell_type": "code",
   "execution_count": 83,
   "metadata": {},
   "outputs": [
    {
     "data": {
      "text/html": [
       "<style  type=\"text/css\" >\n",
       "</style><table id=\"T_81ec9_\" ><thead>    <tr>        <th class=\"blank level0\" ></th>        <th class=\"col_heading level0 col0\" >missing</th>        <th class=\"col_heading level0 col1\" >total</th>        <th class=\"col_heading level0 col2\" >percent</th>    </tr></thead><tbody>\n",
       "                <tr>\n",
       "                        <th id=\"T_81ec9_level0_row0\" class=\"row_heading level0 row0\" >notrepaired</th>\n",
       "                        <td id=\"T_81ec9_row0_col0\" class=\"data row0 col0\" >19,690</td>\n",
       "                        <td id=\"T_81ec9_row0_col1\" class=\"data row0 col1\" >188,311</td>\n",
       "                        <td id=\"T_81ec9_row0_col2\" class=\"data row0 col2\" >10.46%</td>\n",
       "            </tr>\n",
       "            <tr>\n",
       "                        <th id=\"T_81ec9_level0_row1\" class=\"row_heading level0 row1\" >price</th>\n",
       "                        <td id=\"T_81ec9_row1_col0\" class=\"data row1 col0\" >0</td>\n",
       "                        <td id=\"T_81ec9_row1_col1\" class=\"data row1 col1\" >188,311</td>\n",
       "                        <td id=\"T_81ec9_row1_col2\" class=\"data row1 col2\" >0.00%</td>\n",
       "            </tr>\n",
       "            <tr>\n",
       "                        <th id=\"T_81ec9_level0_row2\" class=\"row_heading level0 row2\" >vehicletype</th>\n",
       "                        <td id=\"T_81ec9_row2_col0\" class=\"data row2 col0\" >0</td>\n",
       "                        <td id=\"T_81ec9_row2_col1\" class=\"data row2 col1\" >188,311</td>\n",
       "                        <td id=\"T_81ec9_row2_col2\" class=\"data row2 col2\" >0.00%</td>\n",
       "            </tr>\n",
       "            <tr>\n",
       "                        <th id=\"T_81ec9_level0_row3\" class=\"row_heading level0 row3\" >gearbox</th>\n",
       "                        <td id=\"T_81ec9_row3_col0\" class=\"data row3 col0\" >0</td>\n",
       "                        <td id=\"T_81ec9_row3_col1\" class=\"data row3 col1\" >188,311</td>\n",
       "                        <td id=\"T_81ec9_row3_col2\" class=\"data row3 col2\" >0.00%</td>\n",
       "            </tr>\n",
       "            <tr>\n",
       "                        <th id=\"T_81ec9_level0_row4\" class=\"row_heading level0 row4\" >power</th>\n",
       "                        <td id=\"T_81ec9_row4_col0\" class=\"data row4 col0\" >0</td>\n",
       "                        <td id=\"T_81ec9_row4_col1\" class=\"data row4 col1\" >188,311</td>\n",
       "                        <td id=\"T_81ec9_row4_col2\" class=\"data row4 col2\" >0.00%</td>\n",
       "            </tr>\n",
       "            <tr>\n",
       "                        <th id=\"T_81ec9_level0_row5\" class=\"row_heading level0 row5\" >model</th>\n",
       "                        <td id=\"T_81ec9_row5_col0\" class=\"data row5 col0\" >0</td>\n",
       "                        <td id=\"T_81ec9_row5_col1\" class=\"data row5 col1\" >188,311</td>\n",
       "                        <td id=\"T_81ec9_row5_col2\" class=\"data row5 col2\" >0.00%</td>\n",
       "            </tr>\n",
       "            <tr>\n",
       "                        <th id=\"T_81ec9_level0_row6\" class=\"row_heading level0 row6\" >mileage</th>\n",
       "                        <td id=\"T_81ec9_row6_col0\" class=\"data row6 col0\" >0</td>\n",
       "                        <td id=\"T_81ec9_row6_col1\" class=\"data row6 col1\" >188,311</td>\n",
       "                        <td id=\"T_81ec9_row6_col2\" class=\"data row6 col2\" >0.00%</td>\n",
       "            </tr>\n",
       "            <tr>\n",
       "                        <th id=\"T_81ec9_level0_row7\" class=\"row_heading level0 row7\" >fueltype</th>\n",
       "                        <td id=\"T_81ec9_row7_col0\" class=\"data row7 col0\" >0</td>\n",
       "                        <td id=\"T_81ec9_row7_col1\" class=\"data row7 col1\" >188,311</td>\n",
       "                        <td id=\"T_81ec9_row7_col2\" class=\"data row7 col2\" >0.00%</td>\n",
       "            </tr>\n",
       "            <tr>\n",
       "                        <th id=\"T_81ec9_level0_row8\" class=\"row_heading level0 row8\" >brand</th>\n",
       "                        <td id=\"T_81ec9_row8_col0\" class=\"data row8 col0\" >0</td>\n",
       "                        <td id=\"T_81ec9_row8_col1\" class=\"data row8 col1\" >188,311</td>\n",
       "                        <td id=\"T_81ec9_row8_col2\" class=\"data row8 col2\" >0.00%</td>\n",
       "            </tr>\n",
       "            <tr>\n",
       "                        <th id=\"T_81ec9_level0_row9\" class=\"row_heading level0 row9\" >car_age</th>\n",
       "                        <td id=\"T_81ec9_row9_col0\" class=\"data row9 col0\" >0</td>\n",
       "                        <td id=\"T_81ec9_row9_col1\" class=\"data row9 col1\" >188,311</td>\n",
       "                        <td id=\"T_81ec9_row9_col2\" class=\"data row9 col2\" >0.00%</td>\n",
       "            </tr>\n",
       "    </tbody></table>"
      ],
      "text/plain": [
       "<pandas.io.formats.style.Styler at 0x7f2829fc7af0>"
      ]
     },
     "execution_count": 83,
     "metadata": {},
     "output_type": "execute_result"
    }
   ],
   "source": [
    "df=df.drop(df[df['model']==0].index)\n",
    "df.stb.missing(style=True) "
   ]
  },
  {
   "cell_type": "markdown",
   "metadata": {},
   "source": [
    "Now it is time to use KNN to fillin missing values in notrepaired feature."
   ]
  },
  {
   "cell_type": "code",
   "execution_count": 84,
   "metadata": {},
   "outputs": [
    {
     "data": {
      "text/html": [
       "<div>\n",
       "<style scoped>\n",
       "    .dataframe tbody tr th:only-of-type {\n",
       "        vertical-align: middle;\n",
       "    }\n",
       "\n",
       "    .dataframe tbody tr th {\n",
       "        vertical-align: top;\n",
       "    }\n",
       "\n",
       "    .dataframe thead th {\n",
       "        text-align: right;\n",
       "    }\n",
       "</style>\n",
       "<table border=\"1\" class=\"dataframe\">\n",
       "  <thead>\n",
       "    <tr style=\"text-align: right;\">\n",
       "      <th></th>\n",
       "      <th>model</th>\n",
       "      <th>brand</th>\n",
       "    </tr>\n",
       "  </thead>\n",
       "  <tbody>\n",
       "    <tr>\n",
       "      <th>2</th>\n",
       "      <td>grand</td>\n",
       "      <td>jeep</td>\n",
       "    </tr>\n",
       "    <tr>\n",
       "      <th>3</th>\n",
       "      <td>golf</td>\n",
       "      <td>volkswagen</td>\n",
       "    </tr>\n",
       "    <tr>\n",
       "      <th>5</th>\n",
       "      <td>3er</td>\n",
       "      <td>bmw</td>\n",
       "    </tr>\n",
       "    <tr>\n",
       "      <th>6</th>\n",
       "      <td>2_reihe</td>\n",
       "      <td>peugeot</td>\n",
       "    </tr>\n",
       "    <tr>\n",
       "      <th>8</th>\n",
       "      <td>c_max</td>\n",
       "      <td>ford</td>\n",
       "    </tr>\n",
       "    <tr>\n",
       "      <th>10</th>\n",
       "      <td>3_reihe</td>\n",
       "      <td>mazda</td>\n",
       "    </tr>\n",
       "    <tr>\n",
       "      <th>11</th>\n",
       "      <td>passat</td>\n",
       "      <td>volkswagen</td>\n",
       "    </tr>\n",
       "    <tr>\n",
       "      <th>12</th>\n",
       "      <td>passat</td>\n",
       "      <td>volkswagen</td>\n",
       "    </tr>\n",
       "    <tr>\n",
       "      <th>14</th>\n",
       "      <td>navara</td>\n",
       "      <td>nissan</td>\n",
       "    </tr>\n",
       "    <tr>\n",
       "      <th>17</th>\n",
       "      <td>twingo</td>\n",
       "      <td>renault</td>\n",
       "    </tr>\n",
       "    <tr>\n",
       "      <th>18</th>\n",
       "      <td>c_max</td>\n",
       "      <td>ford</td>\n",
       "    </tr>\n",
       "    <tr>\n",
       "      <th>19</th>\n",
       "      <td>a_klasse</td>\n",
       "      <td>mercedes_benz</td>\n",
       "    </tr>\n",
       "    <tr>\n",
       "      <th>20</th>\n",
       "      <td>scirocco</td>\n",
       "      <td>volkswagen</td>\n",
       "    </tr>\n",
       "    <tr>\n",
       "      <th>21</th>\n",
       "      <td>5er</td>\n",
       "      <td>bmw</td>\n",
       "    </tr>\n",
       "    <tr>\n",
       "      <th>24</th>\n",
       "      <td>other</td>\n",
       "      <td>mercedes_benz</td>\n",
       "    </tr>\n",
       "    <tr>\n",
       "      <th>25</th>\n",
       "      <td>5er</td>\n",
       "      <td>bmw</td>\n",
       "    </tr>\n",
       "    <tr>\n",
       "      <th>27</th>\n",
       "      <td>civic</td>\n",
       "      <td>honda</td>\n",
       "    </tr>\n",
       "    <tr>\n",
       "      <th>30</th>\n",
       "      <td>e_klasse</td>\n",
       "      <td>mercedes_benz</td>\n",
       "    </tr>\n",
       "    <tr>\n",
       "      <th>33</th>\n",
       "      <td>3er</td>\n",
       "      <td>bmw</td>\n",
       "    </tr>\n",
       "    <tr>\n",
       "      <th>34</th>\n",
       "      <td>e_klasse</td>\n",
       "      <td>mercedes_benz</td>\n",
       "    </tr>\n",
       "  </tbody>\n",
       "</table>\n",
       "</div>"
      ],
      "text/plain": [
       "       model          brand\n",
       "2      grand           jeep\n",
       "3       golf     volkswagen\n",
       "5        3er            bmw\n",
       "6    2_reihe        peugeot\n",
       "8      c_max           ford\n",
       "10   3_reihe          mazda\n",
       "11    passat     volkswagen\n",
       "12    passat     volkswagen\n",
       "14    navara         nissan\n",
       "17    twingo        renault\n",
       "18     c_max           ford\n",
       "19  a_klasse  mercedes_benz\n",
       "20  scirocco     volkswagen\n",
       "21       5er            bmw\n",
       "24     other  mercedes_benz\n",
       "25       5er            bmw\n",
       "27     civic          honda\n",
       "30  e_klasse  mercedes_benz\n",
       "33       3er            bmw\n",
       "34  e_klasse  mercedes_benz"
      ]
     },
     "execution_count": 84,
     "metadata": {},
     "output_type": "execute_result"
    }
   ],
   "source": [
    "df[['model','brand']].head(20)"
   ]
  },
  {
   "cell_type": "code",
   "execution_count": 85,
   "metadata": {},
   "outputs": [
    {
     "data": {
      "text/plain": [
       "brand       model             \n",
       "fiat        seicento               1\n",
       "land_rover  range_rover_evoque     1\n",
       "rover       freelander             1\n",
       "daewoo      matiz                  1\n",
       "rover       defender               1\n",
       "            discovery              2\n",
       "            rangerover             2\n",
       "lada        samara                 2\n",
       "toyota      aygo                   3\n",
       "smart       other                  3\n",
       "land_rover  serie_2                3\n",
       "chevrolet   matiz                  3\n",
       "lada        kalina                 4\n",
       "land_rover  other                  4\n",
       "seat        other                  5\n",
       "daihatsu    cuore                  5\n",
       "bmw         i3                     5\n",
       "daihatsu    move                   6\n",
       "            charade               11\n",
       "audi        q3                    11\n",
       "dtype: int64"
      ]
     },
     "execution_count": 85,
     "metadata": {},
     "output_type": "execute_result"
    }
   ],
   "source": [
    "df.groupby(['brand','model']).size().sort_values(ascending=True).head(20)"
   ]
  },
  {
   "cell_type": "markdown",
   "metadata": {},
   "source": [
    "When we going to split the data to train and test with ration of 1:3 at lest for every brand 5 or more models needed otherwise the prediction will be wrong or will not work at all."
   ]
  },
  {
   "cell_type": "code",
   "execution_count": 86,
   "metadata": {
    "scrolled": true
   },
   "outputs": [
    {
     "data": {
      "text/html": [
       "<div>\n",
       "<style scoped>\n",
       "    .dataframe tbody tr th:only-of-type {\n",
       "        vertical-align: middle;\n",
       "    }\n",
       "\n",
       "    .dataframe tbody tr th {\n",
       "        vertical-align: top;\n",
       "    }\n",
       "\n",
       "    .dataframe thead th {\n",
       "        text-align: right;\n",
       "    }\n",
       "</style>\n",
       "<table border=\"1\" class=\"dataframe\">\n",
       "  <thead>\n",
       "    <tr style=\"text-align: right;\">\n",
       "      <th></th>\n",
       "      <th>model</th>\n",
       "    </tr>\n",
       "  </thead>\n",
       "  <tbody>\n",
       "    <tr>\n",
       "      <th>golf</th>\n",
       "      <td>16052</td>\n",
       "    </tr>\n",
       "    <tr>\n",
       "      <th>other</th>\n",
       "      <td>15382</td>\n",
       "    </tr>\n",
       "    <tr>\n",
       "      <th>3er</th>\n",
       "      <td>13157</td>\n",
       "    </tr>\n",
       "    <tr>\n",
       "      <th>a4</th>\n",
       "      <td>6783</td>\n",
       "    </tr>\n",
       "    <tr>\n",
       "      <th>astra</th>\n",
       "      <td>6526</td>\n",
       "    </tr>\n",
       "    <tr>\n",
       "      <th>passat</th>\n",
       "      <td>6369</td>\n",
       "    </tr>\n",
       "    <tr>\n",
       "      <th>c_klasse</th>\n",
       "      <td>5773</td>\n",
       "    </tr>\n",
       "    <tr>\n",
       "      <th>5er</th>\n",
       "      <td>5604</td>\n",
       "    </tr>\n",
       "    <tr>\n",
       "      <th>e_klasse</th>\n",
       "      <td>4803</td>\n",
       "    </tr>\n",
       "    <tr>\n",
       "      <th>a3</th>\n",
       "      <td>4080</td>\n",
       "    </tr>\n",
       "    <tr>\n",
       "      <th>a6</th>\n",
       "      <td>4018</td>\n",
       "    </tr>\n",
       "    <tr>\n",
       "      <th>focus</th>\n",
       "      <td>3873</td>\n",
       "    </tr>\n",
       "    <tr>\n",
       "      <th>2_reihe</th>\n",
       "      <td>2794</td>\n",
       "    </tr>\n",
       "    <tr>\n",
       "      <th>1er</th>\n",
       "      <td>2745</td>\n",
       "    </tr>\n",
       "    <tr>\n",
       "      <th>transporter</th>\n",
       "      <td>2734</td>\n",
       "    </tr>\n",
       "  </tbody>\n",
       "</table>\n",
       "</div>"
      ],
      "text/plain": [
       "             model\n",
       "golf         16052\n",
       "other        15382\n",
       "3er          13157\n",
       "a4            6783\n",
       "astra         6526\n",
       "passat        6369\n",
       "c_klasse      5773\n",
       "5er           5604\n",
       "e_klasse      4803\n",
       "a3            4080\n",
       "a6            4018\n",
       "focus         3873\n",
       "2_reihe       2794\n",
       "1er           2745\n",
       "transporter   2734"
      ]
     },
     "execution_count": 86,
     "metadata": {},
     "output_type": "execute_result"
    }
   ],
   "source": [
    "model_size=df.model.value_counts().to_frame()\n",
    "model_size.head(15)"
   ]
  },
  {
   "cell_type": "code",
   "execution_count": 87,
   "metadata": {},
   "outputs": [
    {
     "name": "stdout",
     "output_type": "stream",
     "text": [
      "<class 'pandas.core.frame.DataFrame'>\n",
      "Index: 246 entries, golf to range_rover_evoque\n",
      "Data columns (total 1 columns):\n",
      " #   Column  Non-Null Count  Dtype\n",
      "---  ------  --------------  -----\n",
      " 0   model   246 non-null    int64\n",
      "dtypes: int64(1)\n",
      "memory usage: 3.8+ KB\n"
     ]
    }
   ],
   "source": [
    "model_size.info()"
   ]
  },
  {
   "cell_type": "markdown",
   "metadata": {},
   "source": [
    "Now we will create dataframe with only those models that number of models less than 5."
   ]
  },
  {
   "cell_type": "code",
   "execution_count": 88,
   "metadata": {},
   "outputs": [
    {
     "data": {
      "text/html": [
       "<div>\n",
       "<style scoped>\n",
       "    .dataframe tbody tr th:only-of-type {\n",
       "        vertical-align: middle;\n",
       "    }\n",
       "\n",
       "    .dataframe tbody tr th {\n",
       "        vertical-align: top;\n",
       "    }\n",
       "\n",
       "    .dataframe thead th {\n",
       "        text-align: right;\n",
       "    }\n",
       "</style>\n",
       "<table border=\"1\" class=\"dataframe\">\n",
       "  <thead>\n",
       "    <tr style=\"text-align: right;\">\n",
       "      <th></th>\n",
       "      <th>model</th>\n",
       "    </tr>\n",
       "  </thead>\n",
       "  <tbody>\n",
       "    <tr>\n",
       "      <th>golf</th>\n",
       "      <td>16052</td>\n",
       "    </tr>\n",
       "    <tr>\n",
       "      <th>other</th>\n",
       "      <td>15382</td>\n",
       "    </tr>\n",
       "    <tr>\n",
       "      <th>3er</th>\n",
       "      <td>13157</td>\n",
       "    </tr>\n",
       "    <tr>\n",
       "      <th>a4</th>\n",
       "      <td>6783</td>\n",
       "    </tr>\n",
       "    <tr>\n",
       "      <th>astra</th>\n",
       "      <td>6526</td>\n",
       "    </tr>\n",
       "  </tbody>\n",
       "</table>\n",
       "</div>"
      ],
      "text/plain": [
       "       model\n",
       "golf   16052\n",
       "other  15382\n",
       "3er    13157\n",
       "a4      6783\n",
       "astra   6526"
      ]
     },
     "execution_count": 88,
     "metadata": {},
     "output_type": "execute_result"
    }
   ],
   "source": [
    "model_size=model_size.drop(model_size[model_size['model']<5].index)\n",
    "model_size.reset_index()\n",
    "model_size.head()"
   ]
  },
  {
   "cell_type": "code",
   "execution_count": 89,
   "metadata": {},
   "outputs": [
    {
     "name": "stdout",
     "output_type": "stream",
     "text": [
      "<class 'pandas.core.frame.DataFrame'>\n",
      "Index: 238 entries, golf to i3\n",
      "Data columns (total 1 columns):\n",
      " #   Column  Non-Null Count  Dtype\n",
      "---  ------  --------------  -----\n",
      " 0   model   238 non-null    int64\n",
      "dtypes: int64(1)\n",
      "memory usage: 3.7+ KB\n"
     ]
    }
   ],
   "source": [
    "model_size.info()"
   ]
  },
  {
   "cell_type": "code",
   "execution_count": 90,
   "metadata": {},
   "outputs": [],
   "source": [
    "df = df[df.model.isin(model_size.index) == True]"
   ]
  },
  {
   "cell_type": "code",
   "execution_count": 91,
   "metadata": {},
   "outputs": [
    {
     "data": {
      "text/html": [
       "<div>\n",
       "<style scoped>\n",
       "    .dataframe tbody tr th:only-of-type {\n",
       "        vertical-align: middle;\n",
       "    }\n",
       "\n",
       "    .dataframe tbody tr th {\n",
       "        vertical-align: top;\n",
       "    }\n",
       "\n",
       "    .dataframe thead th {\n",
       "        text-align: right;\n",
       "    }\n",
       "</style>\n",
       "<table border=\"1\" class=\"dataframe\">\n",
       "  <thead>\n",
       "    <tr style=\"text-align: right;\">\n",
       "      <th></th>\n",
       "      <th>price</th>\n",
       "      <th>vehicletype</th>\n",
       "      <th>gearbox</th>\n",
       "      <th>power</th>\n",
       "      <th>model</th>\n",
       "      <th>mileage</th>\n",
       "      <th>fueltype</th>\n",
       "      <th>brand</th>\n",
       "      <th>notrepaired</th>\n",
       "      <th>car_age</th>\n",
       "    </tr>\n",
       "  </thead>\n",
       "  <tbody>\n",
       "    <tr>\n",
       "      <th>2</th>\n",
       "      <td>9800</td>\n",
       "      <td>suv</td>\n",
       "      <td>auto</td>\n",
       "      <td>163</td>\n",
       "      <td>grand</td>\n",
       "      <td>125000</td>\n",
       "      <td>gasoline</td>\n",
       "      <td>jeep</td>\n",
       "      <td>NaN</td>\n",
       "      <td>12</td>\n",
       "    </tr>\n",
       "    <tr>\n",
       "      <th>3</th>\n",
       "      <td>1500</td>\n",
       "      <td>small</td>\n",
       "      <td>manual</td>\n",
       "      <td>75</td>\n",
       "      <td>golf</td>\n",
       "      <td>150000</td>\n",
       "      <td>petrol</td>\n",
       "      <td>volkswagen</td>\n",
       "      <td>no</td>\n",
       "      <td>15</td>\n",
       "    </tr>\n",
       "    <tr>\n",
       "      <th>5</th>\n",
       "      <td>650</td>\n",
       "      <td>sedan</td>\n",
       "      <td>manual</td>\n",
       "      <td>102</td>\n",
       "      <td>3er</td>\n",
       "      <td>150000</td>\n",
       "      <td>petrol</td>\n",
       "      <td>bmw</td>\n",
       "      <td>yes</td>\n",
       "      <td>21</td>\n",
       "    </tr>\n",
       "    <tr>\n",
       "      <th>6</th>\n",
       "      <td>2200</td>\n",
       "      <td>convertible</td>\n",
       "      <td>manual</td>\n",
       "      <td>109</td>\n",
       "      <td>2_reihe</td>\n",
       "      <td>150000</td>\n",
       "      <td>petrol</td>\n",
       "      <td>peugeot</td>\n",
       "      <td>no</td>\n",
       "      <td>12</td>\n",
       "    </tr>\n",
       "    <tr>\n",
       "      <th>8</th>\n",
       "      <td>14500</td>\n",
       "      <td>bus</td>\n",
       "      <td>manual</td>\n",
       "      <td>125</td>\n",
       "      <td>c_max</td>\n",
       "      <td>30000</td>\n",
       "      <td>petrol</td>\n",
       "      <td>ford</td>\n",
       "      <td>NaN</td>\n",
       "      <td>2</td>\n",
       "    </tr>\n",
       "  </tbody>\n",
       "</table>\n",
       "</div>"
      ],
      "text/plain": [
       "   price  vehicletype gearbox  power    model  mileage  fueltype       brand  \\\n",
       "2   9800          suv    auto    163    grand   125000  gasoline        jeep   \n",
       "3   1500        small  manual     75     golf   150000    petrol  volkswagen   \n",
       "5    650        sedan  manual    102      3er   150000    petrol         bmw   \n",
       "6   2200  convertible  manual    109  2_reihe   150000    petrol     peugeot   \n",
       "8  14500          bus  manual    125    c_max    30000    petrol        ford   \n",
       "\n",
       "  notrepaired  car_age  \n",
       "2         NaN       12  \n",
       "3          no       15  \n",
       "5         yes       21  \n",
       "6          no       12  \n",
       "8         NaN        2  "
      ]
     },
     "execution_count": 91,
     "metadata": {},
     "output_type": "execute_result"
    }
   ],
   "source": [
    "df.head()"
   ]
  },
  {
   "cell_type": "code",
   "execution_count": 92,
   "metadata": {
    "scrolled": true
   },
   "outputs": [
    {
     "data": {
      "text/plain": [
       "golf       16052\n",
       "other      15382\n",
       "3er        13157\n",
       "a4          6783\n",
       "astra       6526\n",
       "           ...  \n",
       "gl            11\n",
       "charade       11\n",
       "move           6\n",
       "cuore          5\n",
       "i3             5\n",
       "Name: model, Length: 238, dtype: int64"
      ]
     },
     "execution_count": 92,
     "metadata": {},
     "output_type": "execute_result"
    }
   ],
   "source": [
    "df.model.value_counts()"
   ]
  },
  {
   "cell_type": "markdown",
   "metadata": {},
   "source": [
    "Let's split the data to train and test data."
   ]
  },
  {
   "cell_type": "code",
   "execution_count": 93,
   "metadata": {},
   "outputs": [],
   "source": [
    "df_train, df_test = train_test_split(df, test_size = 0.25, random_state = 12345)"
   ]
  },
  {
   "cell_type": "code",
   "execution_count": 94,
   "metadata": {},
   "outputs": [],
   "source": [
    "# Let's create target and features for train and test data. (not scaled yet)\n",
    "\n",
    "target_train=df_train['price'].reset_index(drop=True)\n",
    "target_test=df_test['price'].reset_index(drop=True)\n",
    "\n",
    "features_train=df_train.drop(['price'],axis=1).reset_index(drop=True)\n",
    "features_test=df_test.drop(['price'],axis=1).reset_index(drop=True)"
   ]
  },
  {
   "cell_type": "markdown",
   "metadata": {},
   "source": [
    "Let's scaled the numeric features."
   ]
  },
  {
   "cell_type": "code",
   "execution_count": 95,
   "metadata": {},
   "outputs": [],
   "source": [
    "feature_names = [ 'power', 'mileage', 'car_age']\n",
    "\n",
    "transformer_mas = MinMaxScaler().fit(df_train[feature_names].to_numpy())\n",
    "\n",
    "df_nmrc_scaled_train = df_train.copy()\n",
    "df_nmrc_scaled_train.loc[:, feature_names] = transformer_mas.transform(df_train[feature_names].to_numpy())"
   ]
  },
  {
   "cell_type": "code",
   "execution_count": 96,
   "metadata": {
    "scrolled": true
   },
   "outputs": [
    {
     "data": {
      "text/html": [
       "<div>\n",
       "<style scoped>\n",
       "    .dataframe tbody tr th:only-of-type {\n",
       "        vertical-align: middle;\n",
       "    }\n",
       "\n",
       "    .dataframe tbody tr th {\n",
       "        vertical-align: top;\n",
       "    }\n",
       "\n",
       "    .dataframe thead th {\n",
       "        text-align: right;\n",
       "    }\n",
       "</style>\n",
       "<table border=\"1\" class=\"dataframe\">\n",
       "  <thead>\n",
       "    <tr style=\"text-align: right;\">\n",
       "      <th></th>\n",
       "      <th>price</th>\n",
       "      <th>vehicletype</th>\n",
       "      <th>gearbox</th>\n",
       "      <th>power</th>\n",
       "      <th>model</th>\n",
       "      <th>mileage</th>\n",
       "      <th>fueltype</th>\n",
       "      <th>brand</th>\n",
       "      <th>notrepaired</th>\n",
       "      <th>car_age</th>\n",
       "    </tr>\n",
       "  </thead>\n",
       "  <tbody>\n",
       "    <tr>\n",
       "      <th>0</th>\n",
       "      <td>600</td>\n",
       "      <td>small</td>\n",
       "      <td>manual</td>\n",
       "      <td>0.011231</td>\n",
       "      <td>other</td>\n",
       "      <td>1.0</td>\n",
       "      <td>petrol</td>\n",
       "      <td>ford</td>\n",
       "      <td>NaN</td>\n",
       "      <td>0.197674</td>\n",
       "    </tr>\n",
       "    <tr>\n",
       "      <th>1</th>\n",
       "      <td>300</td>\n",
       "      <td>sedan</td>\n",
       "      <td>manual</td>\n",
       "      <td>0.009719</td>\n",
       "      <td>6_reihe</td>\n",
       "      <td>1.0</td>\n",
       "      <td>petrol</td>\n",
       "      <td>mazda</td>\n",
       "      <td>yes</td>\n",
       "      <td>0.174419</td>\n",
       "    </tr>\n",
       "    <tr>\n",
       "      <th>2</th>\n",
       "      <td>5790</td>\n",
       "      <td>wagon</td>\n",
       "      <td>auto</td>\n",
       "      <td>0.021598</td>\n",
       "      <td>passat</td>\n",
       "      <td>1.0</td>\n",
       "      <td>gasoline</td>\n",
       "      <td>volkswagen</td>\n",
       "      <td>no</td>\n",
       "      <td>0.116279</td>\n",
       "    </tr>\n",
       "    <tr>\n",
       "      <th>3</th>\n",
       "      <td>1990</td>\n",
       "      <td>wagon</td>\n",
       "      <td>manual</td>\n",
       "      <td>0.012743</td>\n",
       "      <td>c_klasse</td>\n",
       "      <td>1.0</td>\n",
       "      <td>petrol</td>\n",
       "      <td>mercedes_benz</td>\n",
       "      <td>no</td>\n",
       "      <td>0.174419</td>\n",
       "    </tr>\n",
       "    <tr>\n",
       "      <th>4</th>\n",
       "      <td>2800</td>\n",
       "      <td>coupe</td>\n",
       "      <td>manual</td>\n",
       "      <td>0.026350</td>\n",
       "      <td>rx_reihe</td>\n",
       "      <td>1.0</td>\n",
       "      <td>petrol</td>\n",
       "      <td>mazda</td>\n",
       "      <td>no</td>\n",
       "      <td>0.139535</td>\n",
       "    </tr>\n",
       "  </tbody>\n",
       "</table>\n",
       "</div>"
      ],
      "text/plain": [
       "   price vehicletype gearbox     power     model  mileage  fueltype  \\\n",
       "0    600       small  manual  0.011231     other      1.0    petrol   \n",
       "1    300       sedan  manual  0.009719   6_reihe      1.0    petrol   \n",
       "2   5790       wagon    auto  0.021598    passat      1.0  gasoline   \n",
       "3   1990       wagon  manual  0.012743  c_klasse      1.0    petrol   \n",
       "4   2800       coupe  manual  0.026350  rx_reihe      1.0    petrol   \n",
       "\n",
       "           brand notrepaired   car_age  \n",
       "0           ford         NaN  0.197674  \n",
       "1          mazda         yes  0.174419  \n",
       "2     volkswagen          no  0.116279  \n",
       "3  mercedes_benz          no  0.174419  \n",
       "4          mazda          no  0.139535  "
      ]
     },
     "execution_count": 96,
     "metadata": {},
     "output_type": "execute_result"
    }
   ],
   "source": [
    "df_nmrc_scaled_train=df_nmrc_scaled_train.reset_index(drop=True)\n",
    "df_nmrc_scaled_train.head()"
   ]
  },
  {
   "cell_type": "code",
   "execution_count": 97,
   "metadata": {},
   "outputs": [],
   "source": [
    "transformer_mas = MinMaxScaler().fit(df_test[feature_names].to_numpy())\n",
    "\n",
    "df_nmrc_scaled_test = df_test.copy()\n",
    "df_nmrc_scaled_test.loc[:, feature_names] = transformer_mas.transform(df_test[feature_names].to_numpy())"
   ]
  },
  {
   "cell_type": "code",
   "execution_count": 98,
   "metadata": {},
   "outputs": [
    {
     "data": {
      "text/html": [
       "<div>\n",
       "<style scoped>\n",
       "    .dataframe tbody tr th:only-of-type {\n",
       "        vertical-align: middle;\n",
       "    }\n",
       "\n",
       "    .dataframe tbody tr th {\n",
       "        vertical-align: top;\n",
       "    }\n",
       "\n",
       "    .dataframe thead th {\n",
       "        text-align: right;\n",
       "    }\n",
       "</style>\n",
       "<table border=\"1\" class=\"dataframe\">\n",
       "  <thead>\n",
       "    <tr style=\"text-align: right;\">\n",
       "      <th></th>\n",
       "      <th>price</th>\n",
       "      <th>vehicletype</th>\n",
       "      <th>gearbox</th>\n",
       "      <th>power</th>\n",
       "      <th>model</th>\n",
       "      <th>mileage</th>\n",
       "      <th>fueltype</th>\n",
       "      <th>brand</th>\n",
       "      <th>notrepaired</th>\n",
       "      <th>car_age</th>\n",
       "    </tr>\n",
       "  </thead>\n",
       "  <tbody>\n",
       "    <tr>\n",
       "      <th>0</th>\n",
       "      <td>4100</td>\n",
       "      <td>sedan</td>\n",
       "      <td>auto</td>\n",
       "      <td>0.023110</td>\n",
       "      <td>5er</td>\n",
       "      <td>1.000000</td>\n",
       "      <td>gasoline</td>\n",
       "      <td>bmw</td>\n",
       "      <td>no</td>\n",
       "      <td>0.135802</td>\n",
       "    </tr>\n",
       "    <tr>\n",
       "      <th>1</th>\n",
       "      <td>1200</td>\n",
       "      <td>wagon</td>\n",
       "      <td>manual</td>\n",
       "      <td>0.012959</td>\n",
       "      <td>megane</td>\n",
       "      <td>0.827586</td>\n",
       "      <td>gasoline</td>\n",
       "      <td>renault</td>\n",
       "      <td>yes</td>\n",
       "      <td>0.123457</td>\n",
       "    </tr>\n",
       "    <tr>\n",
       "      <th>2</th>\n",
       "      <td>4200</td>\n",
       "      <td>wagon</td>\n",
       "      <td>auto</td>\n",
       "      <td>0.017279</td>\n",
       "      <td>vectra</td>\n",
       "      <td>1.000000</td>\n",
       "      <td>gasoline</td>\n",
       "      <td>opel</td>\n",
       "      <td>no</td>\n",
       "      <td>0.123457</td>\n",
       "    </tr>\n",
       "    <tr>\n",
       "      <th>3</th>\n",
       "      <td>2850</td>\n",
       "      <td>suv</td>\n",
       "      <td>manual</td>\n",
       "      <td>0.014255</td>\n",
       "      <td>other</td>\n",
       "      <td>1.000000</td>\n",
       "      <td>petrol</td>\n",
       "      <td>opel</td>\n",
       "      <td>no</td>\n",
       "      <td>0.222222</td>\n",
       "    </tr>\n",
       "    <tr>\n",
       "      <th>4</th>\n",
       "      <td>7900</td>\n",
       "      <td>sedan</td>\n",
       "      <td>manual</td>\n",
       "      <td>0.012743</td>\n",
       "      <td>3er</td>\n",
       "      <td>1.000000</td>\n",
       "      <td>petrol</td>\n",
       "      <td>bmw</td>\n",
       "      <td>no</td>\n",
       "      <td>0.123457</td>\n",
       "    </tr>\n",
       "  </tbody>\n",
       "</table>\n",
       "</div>"
      ],
      "text/plain": [
       "   price vehicletype gearbox     power   model   mileage  fueltype    brand  \\\n",
       "0   4100       sedan    auto  0.023110     5er  1.000000  gasoline      bmw   \n",
       "1   1200       wagon  manual  0.012959  megane  0.827586  gasoline  renault   \n",
       "2   4200       wagon    auto  0.017279  vectra  1.000000  gasoline     opel   \n",
       "3   2850         suv  manual  0.014255   other  1.000000    petrol     opel   \n",
       "4   7900       sedan  manual  0.012743     3er  1.000000    petrol      bmw   \n",
       "\n",
       "  notrepaired   car_age  \n",
       "0          no  0.135802  \n",
       "1         yes  0.123457  \n",
       "2          no  0.123457  \n",
       "3          no  0.222222  \n",
       "4          no  0.123457  "
      ]
     },
     "execution_count": 98,
     "metadata": {},
     "output_type": "execute_result"
    }
   ],
   "source": [
    "df_nmrc_scaled_test=df_nmrc_scaled_test.reset_index(drop=True)\n",
    "df_nmrc_scaled_test.head()"
   ]
  },
  {
   "cell_type": "markdown",
   "metadata": {},
   "source": [
    "All numeric features are scaled."
   ]
  },
  {
   "cell_type": "code",
   "execution_count": 99,
   "metadata": {},
   "outputs": [],
   "source": [
    "#Let's drop the categorial data so we could combine it with encoded categorial data.\n",
    "df_nmrc_scaled_train.drop(['vehicletype','gearbox','model','fueltype','brand','notrepaired'],axis=1,inplace=True)\n",
    "df_nmrc_scaled_test.drop(['vehicletype','gearbox','model','fueltype','brand','notrepaired'],axis=1,inplace=True)"
   ]
  },
  {
   "cell_type": "code",
   "execution_count": 100,
   "metadata": {},
   "outputs": [
    {
     "data": {
      "text/html": [
       "<div>\n",
       "<style scoped>\n",
       "    .dataframe tbody tr th:only-of-type {\n",
       "        vertical-align: middle;\n",
       "    }\n",
       "\n",
       "    .dataframe tbody tr th {\n",
       "        vertical-align: top;\n",
       "    }\n",
       "\n",
       "    .dataframe thead th {\n",
       "        text-align: right;\n",
       "    }\n",
       "</style>\n",
       "<table border=\"1\" class=\"dataframe\">\n",
       "  <thead>\n",
       "    <tr style=\"text-align: right;\">\n",
       "      <th></th>\n",
       "      <th>price</th>\n",
       "      <th>power</th>\n",
       "      <th>mileage</th>\n",
       "      <th>car_age</th>\n",
       "    </tr>\n",
       "  </thead>\n",
       "  <tbody>\n",
       "    <tr>\n",
       "      <th>0</th>\n",
       "      <td>600</td>\n",
       "      <td>0.011231</td>\n",
       "      <td>1.0</td>\n",
       "      <td>0.197674</td>\n",
       "    </tr>\n",
       "    <tr>\n",
       "      <th>1</th>\n",
       "      <td>300</td>\n",
       "      <td>0.009719</td>\n",
       "      <td>1.0</td>\n",
       "      <td>0.174419</td>\n",
       "    </tr>\n",
       "    <tr>\n",
       "      <th>2</th>\n",
       "      <td>5790</td>\n",
       "      <td>0.021598</td>\n",
       "      <td>1.0</td>\n",
       "      <td>0.116279</td>\n",
       "    </tr>\n",
       "  </tbody>\n",
       "</table>\n",
       "</div>"
      ],
      "text/plain": [
       "   price     power  mileage   car_age\n",
       "0    600  0.011231      1.0  0.197674\n",
       "1    300  0.009719      1.0  0.174419\n",
       "2   5790  0.021598      1.0  0.116279"
      ]
     },
     "execution_count": 100,
     "metadata": {},
     "output_type": "execute_result"
    }
   ],
   "source": [
    "df_nmrc_scaled_train.head(3)"
   ]
  },
  {
   "cell_type": "code",
   "execution_count": 101,
   "metadata": {},
   "outputs": [
    {
     "data": {
      "text/html": [
       "<div>\n",
       "<style scoped>\n",
       "    .dataframe tbody tr th:only-of-type {\n",
       "        vertical-align: middle;\n",
       "    }\n",
       "\n",
       "    .dataframe tbody tr th {\n",
       "        vertical-align: top;\n",
       "    }\n",
       "\n",
       "    .dataframe thead th {\n",
       "        text-align: right;\n",
       "    }\n",
       "</style>\n",
       "<table border=\"1\" class=\"dataframe\">\n",
       "  <thead>\n",
       "    <tr style=\"text-align: right;\">\n",
       "      <th></th>\n",
       "      <th>price</th>\n",
       "      <th>power</th>\n",
       "      <th>mileage</th>\n",
       "      <th>car_age</th>\n",
       "    </tr>\n",
       "  </thead>\n",
       "  <tbody>\n",
       "    <tr>\n",
       "      <th>0</th>\n",
       "      <td>4100</td>\n",
       "      <td>0.023110</td>\n",
       "      <td>1.000000</td>\n",
       "      <td>0.135802</td>\n",
       "    </tr>\n",
       "    <tr>\n",
       "      <th>1</th>\n",
       "      <td>1200</td>\n",
       "      <td>0.012959</td>\n",
       "      <td>0.827586</td>\n",
       "      <td>0.123457</td>\n",
       "    </tr>\n",
       "    <tr>\n",
       "      <th>2</th>\n",
       "      <td>4200</td>\n",
       "      <td>0.017279</td>\n",
       "      <td>1.000000</td>\n",
       "      <td>0.123457</td>\n",
       "    </tr>\n",
       "  </tbody>\n",
       "</table>\n",
       "</div>"
      ],
      "text/plain": [
       "   price     power   mileage   car_age\n",
       "0   4100  0.023110  1.000000  0.135802\n",
       "1   1200  0.012959  0.827586  0.123457\n",
       "2   4200  0.017279  1.000000  0.123457"
      ]
     },
     "execution_count": 101,
     "metadata": {},
     "output_type": "execute_result"
    }
   ],
   "source": [
    "df_nmrc_scaled_test.head(3)"
   ]
  },
  {
   "cell_type": "markdown",
   "metadata": {},
   "source": [
    "Now we need to encode categorial features for regression models."
   ]
  },
  {
   "cell_type": "code",
   "execution_count": 102,
   "metadata": {},
   "outputs": [
    {
     "data": {
      "text/html": [
       "<div>\n",
       "<style scoped>\n",
       "    .dataframe tbody tr th:only-of-type {\n",
       "        vertical-align: middle;\n",
       "    }\n",
       "\n",
       "    .dataframe tbody tr th {\n",
       "        vertical-align: top;\n",
       "    }\n",
       "\n",
       "    .dataframe thead th {\n",
       "        text-align: right;\n",
       "    }\n",
       "</style>\n",
       "<table border=\"1\" class=\"dataframe\">\n",
       "  <thead>\n",
       "    <tr style=\"text-align: right;\">\n",
       "      <th></th>\n",
       "      <th>vehicletype</th>\n",
       "      <th>gearbox</th>\n",
       "      <th>model</th>\n",
       "      <th>fueltype</th>\n",
       "      <th>brand</th>\n",
       "      <th>notrepaired</th>\n",
       "    </tr>\n",
       "  </thead>\n",
       "  <tbody>\n",
       "    <tr>\n",
       "      <th>0</th>\n",
       "      <td>5.0</td>\n",
       "      <td>1.0</td>\n",
       "      <td>161.0</td>\n",
       "      <td>6.0</td>\n",
       "      <td>10.0</td>\n",
       "      <td>NaN</td>\n",
       "    </tr>\n",
       "    <tr>\n",
       "      <th>1</th>\n",
       "      <td>4.0</td>\n",
       "      <td>1.0</td>\n",
       "      <td>16.0</td>\n",
       "      <td>6.0</td>\n",
       "      <td>19.0</td>\n",
       "      <td>1.0</td>\n",
       "    </tr>\n",
       "    <tr>\n",
       "      <th>2</th>\n",
       "      <td>7.0</td>\n",
       "      <td>0.0</td>\n",
       "      <td>165.0</td>\n",
       "      <td>2.0</td>\n",
       "      <td>36.0</td>\n",
       "      <td>0.0</td>\n",
       "    </tr>\n",
       "  </tbody>\n",
       "</table>\n",
       "</div>"
      ],
      "text/plain": [
       "   vehicletype  gearbox  model  fueltype  brand notrepaired\n",
       "0          5.0      1.0  161.0       6.0   10.0         NaN\n",
       "1          4.0      1.0   16.0       6.0   19.0         1.0\n",
       "2          7.0      0.0  165.0       2.0   36.0         0.0"
      ]
     },
     "execution_count": 102,
     "metadata": {},
     "output_type": "execute_result"
    }
   ],
   "source": [
    "encoder = OrdinalEncoder()\n",
    "# function for encoding.\n",
    "\n",
    "def encode(data_train, data_test):\n",
    " \n",
    " # Remaing only nonnull values\n",
    "    nonulls_train = np.array(data_train.dropna())\n",
    "    nonulls_test = np.array(data_test.dropna())\n",
    " \n",
    " # Reshaping the data for encoding\n",
    "    impute_reshape_train = nonulls_train.reshape(-1,1)\n",
    "    impute_reshape_test = nonulls_test.reshape(-1,1)\n",
    " \n",
    " # Encoding the data\n",
    "    impute_ordinal_train = encoder.fit_transform(impute_reshape_train)\n",
    "    impute_ordinal_test = encoder.transform(impute_reshape_test)\n",
    " \n",
    " #Assigning back encoded values to non-null values\n",
    "    data_train.loc[data_train.notnull()] =np.squeeze(impute_ordinal_train)\n",
    "    data_test.loc[data_test.notnull()] =np.squeeze(impute_ordinal_test)\n",
    "    return data_train, data_test\n",
    "\n",
    "cat_columns=['vehicletype', 'gearbox', 'model', 'fueltype', 'brand', 'notrepaired']\n",
    "# Loop for iterating over the categorical columns for encoding\n",
    "for i in cat_columns:\n",
    "    encode(df_train[i], df_test[i])\n",
    "\n",
    "df_train_encoded = df_train[cat_columns].reset_index(drop = True)\n",
    "df_test_encoded = df_test[cat_columns].reset_index(drop = True)\n",
    "df_train_encoded.head(3)\n",
    "\n"
   ]
  },
  {
   "cell_type": "markdown",
   "metadata": {},
   "source": [
    "Now we need to combine the scaled and encoded data."
   ]
  },
  {
   "cell_type": "code",
   "execution_count": 103,
   "metadata": {},
   "outputs": [
    {
     "data": {
      "text/html": [
       "<div>\n",
       "<style scoped>\n",
       "    .dataframe tbody tr th:only-of-type {\n",
       "        vertical-align: middle;\n",
       "    }\n",
       "\n",
       "    .dataframe tbody tr th {\n",
       "        vertical-align: top;\n",
       "    }\n",
       "\n",
       "    .dataframe thead th {\n",
       "        text-align: right;\n",
       "    }\n",
       "</style>\n",
       "<table border=\"1\" class=\"dataframe\">\n",
       "  <thead>\n",
       "    <tr style=\"text-align: right;\">\n",
       "      <th></th>\n",
       "      <th>price</th>\n",
       "      <th>power</th>\n",
       "      <th>mileage</th>\n",
       "      <th>car_age</th>\n",
       "      <th>vehicletype</th>\n",
       "      <th>gearbox</th>\n",
       "      <th>model</th>\n",
       "      <th>fueltype</th>\n",
       "      <th>brand</th>\n",
       "      <th>notrepaired</th>\n",
       "    </tr>\n",
       "  </thead>\n",
       "  <tbody>\n",
       "    <tr>\n",
       "      <th>0</th>\n",
       "      <td>600</td>\n",
       "      <td>0.011231</td>\n",
       "      <td>1.0</td>\n",
       "      <td>0.197674</td>\n",
       "      <td>5.0</td>\n",
       "      <td>1.0</td>\n",
       "      <td>161.0</td>\n",
       "      <td>6.0</td>\n",
       "      <td>10.0</td>\n",
       "      <td>NaN</td>\n",
       "    </tr>\n",
       "    <tr>\n",
       "      <th>1</th>\n",
       "      <td>300</td>\n",
       "      <td>0.009719</td>\n",
       "      <td>1.0</td>\n",
       "      <td>0.174419</td>\n",
       "      <td>4.0</td>\n",
       "      <td>1.0</td>\n",
       "      <td>16.0</td>\n",
       "      <td>6.0</td>\n",
       "      <td>19.0</td>\n",
       "      <td>1.0</td>\n",
       "    </tr>\n",
       "    <tr>\n",
       "      <th>2</th>\n",
       "      <td>5790</td>\n",
       "      <td>0.021598</td>\n",
       "      <td>1.0</td>\n",
       "      <td>0.116279</td>\n",
       "      <td>7.0</td>\n",
       "      <td>0.0</td>\n",
       "      <td>165.0</td>\n",
       "      <td>2.0</td>\n",
       "      <td>36.0</td>\n",
       "      <td>0.0</td>\n",
       "    </tr>\n",
       "    <tr>\n",
       "      <th>3</th>\n",
       "      <td>1990</td>\n",
       "      <td>0.012743</td>\n",
       "      <td>1.0</td>\n",
       "      <td>0.174419</td>\n",
       "      <td>7.0</td>\n",
       "      <td>1.0</td>\n",
       "      <td>57.0</td>\n",
       "      <td>6.0</td>\n",
       "      <td>20.0</td>\n",
       "      <td>0.0</td>\n",
       "    </tr>\n",
       "    <tr>\n",
       "      <th>4</th>\n",
       "      <td>2800</td>\n",
       "      <td>0.026350</td>\n",
       "      <td>1.0</td>\n",
       "      <td>0.139535</td>\n",
       "      <td>2.0</td>\n",
       "      <td>1.0</td>\n",
       "      <td>183.0</td>\n",
       "      <td>6.0</td>\n",
       "      <td>19.0</td>\n",
       "      <td>0.0</td>\n",
       "    </tr>\n",
       "  </tbody>\n",
       "</table>\n",
       "</div>"
      ],
      "text/plain": [
       "   price     power  mileage   car_age  vehicletype  gearbox  model  fueltype  \\\n",
       "0    600  0.011231      1.0  0.197674          5.0      1.0  161.0       6.0   \n",
       "1    300  0.009719      1.0  0.174419          4.0      1.0   16.0       6.0   \n",
       "2   5790  0.021598      1.0  0.116279          7.0      0.0  165.0       2.0   \n",
       "3   1990  0.012743      1.0  0.174419          7.0      1.0   57.0       6.0   \n",
       "4   2800  0.026350      1.0  0.139535          2.0      1.0  183.0       6.0   \n",
       "\n",
       "   brand notrepaired  \n",
       "0   10.0         NaN  \n",
       "1   19.0         1.0  \n",
       "2   36.0         0.0  \n",
       "3   20.0         0.0  \n",
       "4   19.0         0.0  "
      ]
     },
     "execution_count": 103,
     "metadata": {},
     "output_type": "execute_result"
    }
   ],
   "source": [
    "df_train_com = pd.concat([df_nmrc_scaled_train, df_train_encoded], axis = 1).reset_index(drop = True)\n",
    "df_train_com.head()"
   ]
  },
  {
   "cell_type": "markdown",
   "metadata": {},
   "source": [
    "Now we need to fillin missing data to notrepaired feature with KNN."
   ]
  },
  {
   "cell_type": "code",
   "execution_count": 104,
   "metadata": {},
   "outputs": [],
   "source": [
    "imputer=KNNImputer()\n",
    "df_train_imp=pd.DataFrame(imputer.fit_transform(df_train_com),columns=df_train_com.columns)"
   ]
  },
  {
   "cell_type": "code",
   "execution_count": 105,
   "metadata": {
    "scrolled": true
   },
   "outputs": [
    {
     "data": {
      "text/html": [
       "<style  type=\"text/css\" >\n",
       "</style><table id=\"T_cf550_\" ><thead>    <tr>        <th class=\"blank level0\" ></th>        <th class=\"col_heading level0 col0\" >missing</th>        <th class=\"col_heading level0 col1\" >total</th>        <th class=\"col_heading level0 col2\" >percent</th>    </tr></thead><tbody>\n",
       "                <tr>\n",
       "                        <th id=\"T_cf550_level0_row0\" class=\"row_heading level0 row0\" >price</th>\n",
       "                        <td id=\"T_cf550_row0_col0\" class=\"data row0 col0\" >0</td>\n",
       "                        <td id=\"T_cf550_row0_col1\" class=\"data row0 col1\" >141,218</td>\n",
       "                        <td id=\"T_cf550_row0_col2\" class=\"data row0 col2\" >0.00%</td>\n",
       "            </tr>\n",
       "            <tr>\n",
       "                        <th id=\"T_cf550_level0_row1\" class=\"row_heading level0 row1\" >power</th>\n",
       "                        <td id=\"T_cf550_row1_col0\" class=\"data row1 col0\" >0</td>\n",
       "                        <td id=\"T_cf550_row1_col1\" class=\"data row1 col1\" >141,218</td>\n",
       "                        <td id=\"T_cf550_row1_col2\" class=\"data row1 col2\" >0.00%</td>\n",
       "            </tr>\n",
       "            <tr>\n",
       "                        <th id=\"T_cf550_level0_row2\" class=\"row_heading level0 row2\" >mileage</th>\n",
       "                        <td id=\"T_cf550_row2_col0\" class=\"data row2 col0\" >0</td>\n",
       "                        <td id=\"T_cf550_row2_col1\" class=\"data row2 col1\" >141,218</td>\n",
       "                        <td id=\"T_cf550_row2_col2\" class=\"data row2 col2\" >0.00%</td>\n",
       "            </tr>\n",
       "            <tr>\n",
       "                        <th id=\"T_cf550_level0_row3\" class=\"row_heading level0 row3\" >car_age</th>\n",
       "                        <td id=\"T_cf550_row3_col0\" class=\"data row3 col0\" >0</td>\n",
       "                        <td id=\"T_cf550_row3_col1\" class=\"data row3 col1\" >141,218</td>\n",
       "                        <td id=\"T_cf550_row3_col2\" class=\"data row3 col2\" >0.00%</td>\n",
       "            </tr>\n",
       "            <tr>\n",
       "                        <th id=\"T_cf550_level0_row4\" class=\"row_heading level0 row4\" >vehicletype</th>\n",
       "                        <td id=\"T_cf550_row4_col0\" class=\"data row4 col0\" >0</td>\n",
       "                        <td id=\"T_cf550_row4_col1\" class=\"data row4 col1\" >141,218</td>\n",
       "                        <td id=\"T_cf550_row4_col2\" class=\"data row4 col2\" >0.00%</td>\n",
       "            </tr>\n",
       "            <tr>\n",
       "                        <th id=\"T_cf550_level0_row5\" class=\"row_heading level0 row5\" >gearbox</th>\n",
       "                        <td id=\"T_cf550_row5_col0\" class=\"data row5 col0\" >0</td>\n",
       "                        <td id=\"T_cf550_row5_col1\" class=\"data row5 col1\" >141,218</td>\n",
       "                        <td id=\"T_cf550_row5_col2\" class=\"data row5 col2\" >0.00%</td>\n",
       "            </tr>\n",
       "            <tr>\n",
       "                        <th id=\"T_cf550_level0_row6\" class=\"row_heading level0 row6\" >model</th>\n",
       "                        <td id=\"T_cf550_row6_col0\" class=\"data row6 col0\" >0</td>\n",
       "                        <td id=\"T_cf550_row6_col1\" class=\"data row6 col1\" >141,218</td>\n",
       "                        <td id=\"T_cf550_row6_col2\" class=\"data row6 col2\" >0.00%</td>\n",
       "            </tr>\n",
       "            <tr>\n",
       "                        <th id=\"T_cf550_level0_row7\" class=\"row_heading level0 row7\" >fueltype</th>\n",
       "                        <td id=\"T_cf550_row7_col0\" class=\"data row7 col0\" >0</td>\n",
       "                        <td id=\"T_cf550_row7_col1\" class=\"data row7 col1\" >141,218</td>\n",
       "                        <td id=\"T_cf550_row7_col2\" class=\"data row7 col2\" >0.00%</td>\n",
       "            </tr>\n",
       "            <tr>\n",
       "                        <th id=\"T_cf550_level0_row8\" class=\"row_heading level0 row8\" >brand</th>\n",
       "                        <td id=\"T_cf550_row8_col0\" class=\"data row8 col0\" >0</td>\n",
       "                        <td id=\"T_cf550_row8_col1\" class=\"data row8 col1\" >141,218</td>\n",
       "                        <td id=\"T_cf550_row8_col2\" class=\"data row8 col2\" >0.00%</td>\n",
       "            </tr>\n",
       "            <tr>\n",
       "                        <th id=\"T_cf550_level0_row9\" class=\"row_heading level0 row9\" >notrepaired</th>\n",
       "                        <td id=\"T_cf550_row9_col0\" class=\"data row9 col0\" >0</td>\n",
       "                        <td id=\"T_cf550_row9_col1\" class=\"data row9 col1\" >141,218</td>\n",
       "                        <td id=\"T_cf550_row9_col2\" class=\"data row9 col2\" >0.00%</td>\n",
       "            </tr>\n",
       "    </tbody></table>"
      ],
      "text/plain": [
       "<pandas.io.formats.style.Styler at 0x7f2829954b50>"
      ]
     },
     "execution_count": 105,
     "metadata": {},
     "output_type": "execute_result"
    }
   ],
   "source": [
    "df_train_imp.stb.missing(style = True)"
   ]
  },
  {
   "cell_type": "markdown",
   "metadata": {},
   "source": [
    "Great! No missing values :)"
   ]
  },
  {
   "cell_type": "code",
   "execution_count": 106,
   "metadata": {},
   "outputs": [
    {
     "data": {
      "text/html": [
       "<div>\n",
       "<style scoped>\n",
       "    .dataframe tbody tr th:only-of-type {\n",
       "        vertical-align: middle;\n",
       "    }\n",
       "\n",
       "    .dataframe tbody tr th {\n",
       "        vertical-align: top;\n",
       "    }\n",
       "\n",
       "    .dataframe thead th {\n",
       "        text-align: right;\n",
       "    }\n",
       "</style>\n",
       "<table border=\"1\" class=\"dataframe\">\n",
       "  <thead>\n",
       "    <tr style=\"text-align: right;\">\n",
       "      <th></th>\n",
       "      <th>price</th>\n",
       "      <th>power</th>\n",
       "      <th>mileage</th>\n",
       "      <th>car_age</th>\n",
       "      <th>vehicletype</th>\n",
       "      <th>gearbox</th>\n",
       "      <th>model</th>\n",
       "      <th>fueltype</th>\n",
       "      <th>brand</th>\n",
       "      <th>notrepaired</th>\n",
       "    </tr>\n",
       "  </thead>\n",
       "  <tbody>\n",
       "    <tr>\n",
       "      <th>0</th>\n",
       "      <td>600.0</td>\n",
       "      <td>0.011231</td>\n",
       "      <td>1.0</td>\n",
       "      <td>0.197674</td>\n",
       "      <td>5.0</td>\n",
       "      <td>1.0</td>\n",
       "      <td>161.0</td>\n",
       "      <td>6.0</td>\n",
       "      <td>10.0</td>\n",
       "      <td>0.0</td>\n",
       "    </tr>\n",
       "    <tr>\n",
       "      <th>1</th>\n",
       "      <td>300.0</td>\n",
       "      <td>0.009719</td>\n",
       "      <td>1.0</td>\n",
       "      <td>0.174419</td>\n",
       "      <td>4.0</td>\n",
       "      <td>1.0</td>\n",
       "      <td>16.0</td>\n",
       "      <td>6.0</td>\n",
       "      <td>19.0</td>\n",
       "      <td>1.0</td>\n",
       "    </tr>\n",
       "    <tr>\n",
       "      <th>2</th>\n",
       "      <td>5790.0</td>\n",
       "      <td>0.021598</td>\n",
       "      <td>1.0</td>\n",
       "      <td>0.116279</td>\n",
       "      <td>7.0</td>\n",
       "      <td>0.0</td>\n",
       "      <td>165.0</td>\n",
       "      <td>2.0</td>\n",
       "      <td>36.0</td>\n",
       "      <td>0.0</td>\n",
       "    </tr>\n",
       "    <tr>\n",
       "      <th>3</th>\n",
       "      <td>1990.0</td>\n",
       "      <td>0.012743</td>\n",
       "      <td>1.0</td>\n",
       "      <td>0.174419</td>\n",
       "      <td>7.0</td>\n",
       "      <td>1.0</td>\n",
       "      <td>57.0</td>\n",
       "      <td>6.0</td>\n",
       "      <td>20.0</td>\n",
       "      <td>0.0</td>\n",
       "    </tr>\n",
       "    <tr>\n",
       "      <th>4</th>\n",
       "      <td>2800.0</td>\n",
       "      <td>0.026350</td>\n",
       "      <td>1.0</td>\n",
       "      <td>0.139535</td>\n",
       "      <td>2.0</td>\n",
       "      <td>1.0</td>\n",
       "      <td>183.0</td>\n",
       "      <td>6.0</td>\n",
       "      <td>19.0</td>\n",
       "      <td>0.0</td>\n",
       "    </tr>\n",
       "  </tbody>\n",
       "</table>\n",
       "</div>"
      ],
      "text/plain": [
       "    price     power  mileage   car_age  vehicletype  gearbox  model  fueltype  \\\n",
       "0   600.0  0.011231      1.0  0.197674          5.0      1.0  161.0       6.0   \n",
       "1   300.0  0.009719      1.0  0.174419          4.0      1.0   16.0       6.0   \n",
       "2  5790.0  0.021598      1.0  0.116279          7.0      0.0  165.0       2.0   \n",
       "3  1990.0  0.012743      1.0  0.174419          7.0      1.0   57.0       6.0   \n",
       "4  2800.0  0.026350      1.0  0.139535          2.0      1.0  183.0       6.0   \n",
       "\n",
       "   brand  notrepaired  \n",
       "0   10.0          0.0  \n",
       "1   19.0          1.0  \n",
       "2   36.0          0.0  \n",
       "3   20.0          0.0  \n",
       "4   19.0          0.0  "
      ]
     },
     "execution_count": 106,
     "metadata": {},
     "output_type": "execute_result"
    }
   ],
   "source": [
    "df_train_imp.head()"
   ]
  },
  {
   "cell_type": "markdown",
   "metadata": {},
   "source": [
    "Now let's combine the test data set and fillin missing values with KNN."
   ]
  },
  {
   "cell_type": "code",
   "execution_count": 107,
   "metadata": {},
   "outputs": [
    {
     "data": {
      "text/html": [
       "<div>\n",
       "<style scoped>\n",
       "    .dataframe tbody tr th:only-of-type {\n",
       "        vertical-align: middle;\n",
       "    }\n",
       "\n",
       "    .dataframe tbody tr th {\n",
       "        vertical-align: top;\n",
       "    }\n",
       "\n",
       "    .dataframe thead th {\n",
       "        text-align: right;\n",
       "    }\n",
       "</style>\n",
       "<table border=\"1\" class=\"dataframe\">\n",
       "  <thead>\n",
       "    <tr style=\"text-align: right;\">\n",
       "      <th></th>\n",
       "      <th>price</th>\n",
       "      <th>power</th>\n",
       "      <th>mileage</th>\n",
       "      <th>car_age</th>\n",
       "      <th>vehicletype</th>\n",
       "      <th>gearbox</th>\n",
       "      <th>model</th>\n",
       "      <th>fueltype</th>\n",
       "      <th>brand</th>\n",
       "      <th>notrepaired</th>\n",
       "    </tr>\n",
       "  </thead>\n",
       "  <tbody>\n",
       "    <tr>\n",
       "      <th>0</th>\n",
       "      <td>4100</td>\n",
       "      <td>0.023110</td>\n",
       "      <td>1.000000</td>\n",
       "      <td>0.135802</td>\n",
       "      <td>4.0</td>\n",
       "      <td>0.0</td>\n",
       "      <td>15.0</td>\n",
       "      <td>2.0</td>\n",
       "      <td>2.0</td>\n",
       "      <td>0.0</td>\n",
       "    </tr>\n",
       "    <tr>\n",
       "      <th>1</th>\n",
       "      <td>1200</td>\n",
       "      <td>0.012959</td>\n",
       "      <td>0.827586</td>\n",
       "      <td>0.123457</td>\n",
       "      <td>7.0</td>\n",
       "      <td>1.0</td>\n",
       "      <td>144.0</td>\n",
       "      <td>2.0</td>\n",
       "      <td>27.0</td>\n",
       "      <td>1.0</td>\n",
       "    </tr>\n",
       "    <tr>\n",
       "      <th>2</th>\n",
       "      <td>4200</td>\n",
       "      <td>0.017279</td>\n",
       "      <td>1.000000</td>\n",
       "      <td>0.123457</td>\n",
       "      <td>7.0</td>\n",
       "      <td>0.0</td>\n",
       "      <td>222.0</td>\n",
       "      <td>2.0</td>\n",
       "      <td>24.0</td>\n",
       "      <td>0.0</td>\n",
       "    </tr>\n",
       "    <tr>\n",
       "      <th>3</th>\n",
       "      <td>2850</td>\n",
       "      <td>0.014255</td>\n",
       "      <td>1.000000</td>\n",
       "      <td>0.222222</td>\n",
       "      <td>6.0</td>\n",
       "      <td>1.0</td>\n",
       "      <td>161.0</td>\n",
       "      <td>6.0</td>\n",
       "      <td>24.0</td>\n",
       "      <td>0.0</td>\n",
       "    </tr>\n",
       "    <tr>\n",
       "      <th>4</th>\n",
       "      <td>7900</td>\n",
       "      <td>0.012743</td>\n",
       "      <td>1.000000</td>\n",
       "      <td>0.123457</td>\n",
       "      <td>4.0</td>\n",
       "      <td>1.0</td>\n",
       "      <td>11.0</td>\n",
       "      <td>6.0</td>\n",
       "      <td>2.0</td>\n",
       "      <td>0.0</td>\n",
       "    </tr>\n",
       "  </tbody>\n",
       "</table>\n",
       "</div>"
      ],
      "text/plain": [
       "   price     power   mileage   car_age  vehicletype  gearbox  model  fueltype  \\\n",
       "0   4100  0.023110  1.000000  0.135802          4.0      0.0   15.0       2.0   \n",
       "1   1200  0.012959  0.827586  0.123457          7.0      1.0  144.0       2.0   \n",
       "2   4200  0.017279  1.000000  0.123457          7.0      0.0  222.0       2.0   \n",
       "3   2850  0.014255  1.000000  0.222222          6.0      1.0  161.0       6.0   \n",
       "4   7900  0.012743  1.000000  0.123457          4.0      1.0   11.0       6.0   \n",
       "\n",
       "   brand notrepaired  \n",
       "0    2.0         0.0  \n",
       "1   27.0         1.0  \n",
       "2   24.0         0.0  \n",
       "3   24.0         0.0  \n",
       "4    2.0         0.0  "
      ]
     },
     "execution_count": 107,
     "metadata": {},
     "output_type": "execute_result"
    }
   ],
   "source": [
    "df_test_com = pd.concat([df_nmrc_scaled_test, df_test_encoded], axis = 1).reset_index(drop = True)\n",
    "df_test_com.head()"
   ]
  },
  {
   "cell_type": "code",
   "execution_count": 108,
   "metadata": {},
   "outputs": [],
   "source": [
    "imputer=KNNImputer()\n",
    "df_test_imp=pd.DataFrame(imputer.fit_transform(df_test_com),columns=df_test_com.columns)"
   ]
  },
  {
   "cell_type": "code",
   "execution_count": 109,
   "metadata": {
    "scrolled": true
   },
   "outputs": [
    {
     "data": {
      "text/html": [
       "<style  type=\"text/css\" >\n",
       "</style><table id=\"T_96490_\" ><thead>    <tr>        <th class=\"blank level0\" ></th>        <th class=\"col_heading level0 col0\" >missing</th>        <th class=\"col_heading level0 col1\" >total</th>        <th class=\"col_heading level0 col2\" >percent</th>    </tr></thead><tbody>\n",
       "                <tr>\n",
       "                        <th id=\"T_96490_level0_row0\" class=\"row_heading level0 row0\" >price</th>\n",
       "                        <td id=\"T_96490_row0_col0\" class=\"data row0 col0\" >0</td>\n",
       "                        <td id=\"T_96490_row0_col1\" class=\"data row0 col1\" >47,073</td>\n",
       "                        <td id=\"T_96490_row0_col2\" class=\"data row0 col2\" >0.00%</td>\n",
       "            </tr>\n",
       "            <tr>\n",
       "                        <th id=\"T_96490_level0_row1\" class=\"row_heading level0 row1\" >power</th>\n",
       "                        <td id=\"T_96490_row1_col0\" class=\"data row1 col0\" >0</td>\n",
       "                        <td id=\"T_96490_row1_col1\" class=\"data row1 col1\" >47,073</td>\n",
       "                        <td id=\"T_96490_row1_col2\" class=\"data row1 col2\" >0.00%</td>\n",
       "            </tr>\n",
       "            <tr>\n",
       "                        <th id=\"T_96490_level0_row2\" class=\"row_heading level0 row2\" >mileage</th>\n",
       "                        <td id=\"T_96490_row2_col0\" class=\"data row2 col0\" >0</td>\n",
       "                        <td id=\"T_96490_row2_col1\" class=\"data row2 col1\" >47,073</td>\n",
       "                        <td id=\"T_96490_row2_col2\" class=\"data row2 col2\" >0.00%</td>\n",
       "            </tr>\n",
       "            <tr>\n",
       "                        <th id=\"T_96490_level0_row3\" class=\"row_heading level0 row3\" >car_age</th>\n",
       "                        <td id=\"T_96490_row3_col0\" class=\"data row3 col0\" >0</td>\n",
       "                        <td id=\"T_96490_row3_col1\" class=\"data row3 col1\" >47,073</td>\n",
       "                        <td id=\"T_96490_row3_col2\" class=\"data row3 col2\" >0.00%</td>\n",
       "            </tr>\n",
       "            <tr>\n",
       "                        <th id=\"T_96490_level0_row4\" class=\"row_heading level0 row4\" >vehicletype</th>\n",
       "                        <td id=\"T_96490_row4_col0\" class=\"data row4 col0\" >0</td>\n",
       "                        <td id=\"T_96490_row4_col1\" class=\"data row4 col1\" >47,073</td>\n",
       "                        <td id=\"T_96490_row4_col2\" class=\"data row4 col2\" >0.00%</td>\n",
       "            </tr>\n",
       "            <tr>\n",
       "                        <th id=\"T_96490_level0_row5\" class=\"row_heading level0 row5\" >gearbox</th>\n",
       "                        <td id=\"T_96490_row5_col0\" class=\"data row5 col0\" >0</td>\n",
       "                        <td id=\"T_96490_row5_col1\" class=\"data row5 col1\" >47,073</td>\n",
       "                        <td id=\"T_96490_row5_col2\" class=\"data row5 col2\" >0.00%</td>\n",
       "            </tr>\n",
       "            <tr>\n",
       "                        <th id=\"T_96490_level0_row6\" class=\"row_heading level0 row6\" >model</th>\n",
       "                        <td id=\"T_96490_row6_col0\" class=\"data row6 col0\" >0</td>\n",
       "                        <td id=\"T_96490_row6_col1\" class=\"data row6 col1\" >47,073</td>\n",
       "                        <td id=\"T_96490_row6_col2\" class=\"data row6 col2\" >0.00%</td>\n",
       "            </tr>\n",
       "            <tr>\n",
       "                        <th id=\"T_96490_level0_row7\" class=\"row_heading level0 row7\" >fueltype</th>\n",
       "                        <td id=\"T_96490_row7_col0\" class=\"data row7 col0\" >0</td>\n",
       "                        <td id=\"T_96490_row7_col1\" class=\"data row7 col1\" >47,073</td>\n",
       "                        <td id=\"T_96490_row7_col2\" class=\"data row7 col2\" >0.00%</td>\n",
       "            </tr>\n",
       "            <tr>\n",
       "                        <th id=\"T_96490_level0_row8\" class=\"row_heading level0 row8\" >brand</th>\n",
       "                        <td id=\"T_96490_row8_col0\" class=\"data row8 col0\" >0</td>\n",
       "                        <td id=\"T_96490_row8_col1\" class=\"data row8 col1\" >47,073</td>\n",
       "                        <td id=\"T_96490_row8_col2\" class=\"data row8 col2\" >0.00%</td>\n",
       "            </tr>\n",
       "            <tr>\n",
       "                        <th id=\"T_96490_level0_row9\" class=\"row_heading level0 row9\" >notrepaired</th>\n",
       "                        <td id=\"T_96490_row9_col0\" class=\"data row9 col0\" >0</td>\n",
       "                        <td id=\"T_96490_row9_col1\" class=\"data row9 col1\" >47,073</td>\n",
       "                        <td id=\"T_96490_row9_col2\" class=\"data row9 col2\" >0.00%</td>\n",
       "            </tr>\n",
       "    </tbody></table>"
      ],
      "text/plain": [
       "<pandas.io.formats.style.Styler at 0x7f2829946460>"
      ]
     },
     "execution_count": 109,
     "metadata": {},
     "output_type": "execute_result"
    }
   ],
   "source": [
    "df_test_imp.stb.missing(style = True)"
   ]
  },
  {
   "cell_type": "code",
   "execution_count": 110,
   "metadata": {},
   "outputs": [
    {
     "data": {
      "text/html": [
       "<div>\n",
       "<style scoped>\n",
       "    .dataframe tbody tr th:only-of-type {\n",
       "        vertical-align: middle;\n",
       "    }\n",
       "\n",
       "    .dataframe tbody tr th {\n",
       "        vertical-align: top;\n",
       "    }\n",
       "\n",
       "    .dataframe thead th {\n",
       "        text-align: right;\n",
       "    }\n",
       "</style>\n",
       "<table border=\"1\" class=\"dataframe\">\n",
       "  <thead>\n",
       "    <tr style=\"text-align: right;\">\n",
       "      <th></th>\n",
       "      <th>price</th>\n",
       "      <th>power</th>\n",
       "      <th>mileage</th>\n",
       "      <th>car_age</th>\n",
       "      <th>vehicletype</th>\n",
       "      <th>gearbox</th>\n",
       "      <th>model</th>\n",
       "      <th>fueltype</th>\n",
       "      <th>brand</th>\n",
       "      <th>notrepaired</th>\n",
       "    </tr>\n",
       "  </thead>\n",
       "  <tbody>\n",
       "    <tr>\n",
       "      <th>0</th>\n",
       "      <td>4100.0</td>\n",
       "      <td>0.023110</td>\n",
       "      <td>1.000000</td>\n",
       "      <td>0.135802</td>\n",
       "      <td>4.0</td>\n",
       "      <td>0.0</td>\n",
       "      <td>15.0</td>\n",
       "      <td>2.0</td>\n",
       "      <td>2.0</td>\n",
       "      <td>0.0</td>\n",
       "    </tr>\n",
       "    <tr>\n",
       "      <th>1</th>\n",
       "      <td>1200.0</td>\n",
       "      <td>0.012959</td>\n",
       "      <td>0.827586</td>\n",
       "      <td>0.123457</td>\n",
       "      <td>7.0</td>\n",
       "      <td>1.0</td>\n",
       "      <td>144.0</td>\n",
       "      <td>2.0</td>\n",
       "      <td>27.0</td>\n",
       "      <td>1.0</td>\n",
       "    </tr>\n",
       "    <tr>\n",
       "      <th>2</th>\n",
       "      <td>4200.0</td>\n",
       "      <td>0.017279</td>\n",
       "      <td>1.000000</td>\n",
       "      <td>0.123457</td>\n",
       "      <td>7.0</td>\n",
       "      <td>0.0</td>\n",
       "      <td>222.0</td>\n",
       "      <td>2.0</td>\n",
       "      <td>24.0</td>\n",
       "      <td>0.0</td>\n",
       "    </tr>\n",
       "    <tr>\n",
       "      <th>3</th>\n",
       "      <td>2850.0</td>\n",
       "      <td>0.014255</td>\n",
       "      <td>1.000000</td>\n",
       "      <td>0.222222</td>\n",
       "      <td>6.0</td>\n",
       "      <td>1.0</td>\n",
       "      <td>161.0</td>\n",
       "      <td>6.0</td>\n",
       "      <td>24.0</td>\n",
       "      <td>0.0</td>\n",
       "    </tr>\n",
       "    <tr>\n",
       "      <th>4</th>\n",
       "      <td>7900.0</td>\n",
       "      <td>0.012743</td>\n",
       "      <td>1.000000</td>\n",
       "      <td>0.123457</td>\n",
       "      <td>4.0</td>\n",
       "      <td>1.0</td>\n",
       "      <td>11.0</td>\n",
       "      <td>6.0</td>\n",
       "      <td>2.0</td>\n",
       "      <td>0.0</td>\n",
       "    </tr>\n",
       "  </tbody>\n",
       "</table>\n",
       "</div>"
      ],
      "text/plain": [
       "    price     power   mileage   car_age  vehicletype  gearbox  model  \\\n",
       "0  4100.0  0.023110  1.000000  0.135802          4.0      0.0   15.0   \n",
       "1  1200.0  0.012959  0.827586  0.123457          7.0      1.0  144.0   \n",
       "2  4200.0  0.017279  1.000000  0.123457          7.0      0.0  222.0   \n",
       "3  2850.0  0.014255  1.000000  0.222222          6.0      1.0  161.0   \n",
       "4  7900.0  0.012743  1.000000  0.123457          4.0      1.0   11.0   \n",
       "\n",
       "   fueltype  brand  notrepaired  \n",
       "0       2.0    2.0          0.0  \n",
       "1       2.0   27.0          1.0  \n",
       "2       2.0   24.0          0.0  \n",
       "3       6.0   24.0          0.0  \n",
       "4       6.0    2.0          0.0  "
      ]
     },
     "execution_count": 110,
     "metadata": {},
     "output_type": "execute_result"
    }
   ],
   "source": [
    "df_test_imp.head()"
   ]
  },
  {
   "cell_type": "markdown",
   "metadata": {},
   "source": [
    "Now all clear :)"
   ]
  },
  {
   "cell_type": "markdown",
   "metadata": {},
   "source": [
    "## Model training"
   ]
  },
  {
   "cell_type": "markdown",
   "metadata": {},
   "source": [
    "Let's create a list of categorical features for gradient boosting models."
   ]
  },
  {
   "cell_type": "code",
   "execution_count": 111,
   "metadata": {},
   "outputs": [],
   "source": [
    "cat_list=df_test_encoded.columns.to_list()"
   ]
  },
  {
   "cell_type": "markdown",
   "metadata": {},
   "source": [
    "One of the gradient boosting model is datatype sensitive the other is not so we will convert calegorial encoded features to integers."
   ]
  },
  {
   "cell_type": "code",
   "execution_count": 112,
   "metadata": {},
   "outputs": [],
   "source": [
    "for i in range(len(cat_list)):\n",
    "    df_train_imp[cat_list[i]] = df_train_imp[cat_list[i]].astype('int')\n",
    "    df_test_imp[cat_list[i]] = df_test_imp[cat_list[i]].astype('int')\n"
   ]
  },
  {
   "cell_type": "markdown",
   "metadata": {},
   "source": [
    "Let's create features and targets for train and test dataset."
   ]
  },
  {
   "cell_type": "code",
   "execution_count": 113,
   "metadata": {},
   "outputs": [],
   "source": [
    "#Train\n",
    "features_train = df_train_imp.drop('price', axis = 1)\n",
    "target_train = df_train_imp.price\n",
    "\n",
    "#Test\n",
    "features_test = df_test_imp.drop('price', axis = 1)\n",
    "target_test = df_test_imp.price\n"
   ]
  },
  {
   "cell_type": "markdown",
   "metadata": {},
   "source": [
    "Let's create RMSE function for training set."
   ]
  },
  {
   "cell_type": "code",
   "execution_count": 114,
   "metadata": {},
   "outputs": [],
   "source": [
    "def rmse(true_answers, predictions):\n",
    "    return math.sqrt(mean_squared_error(true_answers, predictions))"
   ]
  },
  {
   "cell_type": "markdown",
   "metadata": {},
   "source": [
    "Let's create scorer for GridSearchCV."
   ]
  },
  {
   "cell_type": "code",
   "execution_count": 115,
   "metadata": {},
   "outputs": [],
   "source": [
    "rmse = make_scorer(rmse, greater_is_better = False)"
   ]
  },
  {
   "cell_type": "markdown",
   "metadata": {},
   "source": [
    "Let's create a function to train non gradient models with GridSearchCV. (Cross Validation with tuning the models)"
   ]
  },
  {
   "cell_type": "code",
   "execution_count": 116,
   "metadata": {},
   "outputs": [],
   "source": [
    "def train_fit_nongrad(model, param, name ):\n",
    "    model = GridSearchCV(model, param_grid = param, scoring = rmse, verbose = 0, refit = True)\n",
    "    model.fit(features_train, target_train)\n",
    "    return pd.DataFrame([[name, abs(model.best_score_), model.best_params_]], columns = ['model', 'best_score','best_params'])\n"
   ]
  },
  {
   "cell_type": "markdown",
   "metadata": {},
   "source": [
    "The same (almost) for the gradient models."
   ]
  },
  {
   "cell_type": "code",
   "execution_count": 117,
   "metadata": {},
   "outputs": [],
   "source": [
    "def train_fit_grad(model, param, name, grad_method, categories_list):\n",
    "    model = GridSearchCV(model, param_grid = param, scoring = rmse, verbose = 0, refit = True)\n",
    "    if grad_method == 'lgbm':\n",
    "        model.fit(features_train, target_train, categorical_feature =categories_list)\n",
    "    else:\n",
    "        model.fit(features_train, target_train, silent = True, cat_features = categories_list)\n",
    "    return pd.DataFrame([[name, abs(model.best_score_), model.best_params_]], columns = ['model', 'best_score','best_params'])"
   ]
  },
  {
   "cell_type": "markdown",
   "metadata": {},
   "source": [
    "Let's create Random Forest Regressor."
   ]
  },
  {
   "cell_type": "code",
   "execution_count": 118,
   "metadata": {},
   "outputs": [
    {
     "name": "stdout",
     "output_type": "stream",
     "text": [
      "CPU times: user 15min 59s, sys: 17.1 s, total: 16min 16s\n",
      "Wall time: 16min 17s\n"
     ]
    }
   ],
   "source": [
    "%%time\n",
    "\n",
    "RandomForest =train_fit_nongrad(RandomForestRegressor(random_state=12345), {'n_estimators' : range(10, 85, 25),\n",
    " 'max_depth' : range(5, 45, 10),'min_impurity_decrease' : np.arange(.05, .25,.1)}, 'Random_Forest')\n"
   ]
  },
  {
   "cell_type": "markdown",
   "metadata": {},
   "source": [
    "Let's create Decision Tree Regressor."
   ]
  },
  {
   "cell_type": "code",
   "execution_count": 119,
   "metadata": {},
   "outputs": [
    {
     "name": "stdout",
     "output_type": "stream",
     "text": [
      "CPU times: user 24.1 s, sys: 63.1 ms, total: 24.1 s\n",
      "Wall time: 24.5 s\n"
     ]
    }
   ],
   "source": [
    "%%time\n",
    "\n",
    "DecisionTree =train_fit_nongrad(DecisionTreeRegressor(random_state=12345), {'max_depth': range(5, 10, 5), \n",
    "          'min_impurity_decrease' : np.arange(.01, .20,.02), 'min_samples_split' : range(2, 10, 2)}, 'Decision_Tree')\n"
   ]
  },
  {
   "cell_type": "markdown",
   "metadata": {},
   "source": [
    "Let's create CatBoost Regressor."
   ]
  },
  {
   "cell_type": "code",
   "execution_count": 120,
   "metadata": {},
   "outputs": [
    {
     "name": "stdout",
     "output_type": "stream",
     "text": [
      "CPU times: user 3min 32s, sys: 48.5 s, total: 4min 21s\n",
      "Wall time: 4min 33s\n"
     ]
    }
   ],
   "source": [
    "%%time\n",
    "\n",
    "CatBoost_regressor =train_fit_grad(CatBoostRegressor(random_state = 12345), {'verbose':[0],\n",
    "                    'n_estimators' : range(0, 75, 25),'max_depth' : range(5, 45, 10)}, 'CatBoost', 'catboost', cat_list)"
   ]
  },
  {
   "cell_type": "markdown",
   "metadata": {},
   "source": [
    "Let's create Light GBM Regressor."
   ]
  },
  {
   "cell_type": "code",
   "execution_count": null,
   "metadata": {},
   "outputs": [],
   "source": [
    "%%time\n",
    "\n",
    "LightGBM_regressor =train_fit_grad(lgb.LGBMRegressor(random_state = 12345), {'learning_rate': np.arange(0.01, 1, 0.1),\n",
    " 'n_estimators' : range(0, 75, 25),'max_depth' : range(5, 45, 10)}, 'LightGBM', 'lgbm', cat_list)\n"
   ]
  },
  {
   "cell_type": "markdown",
   "metadata": {},
   "source": [
    "Let's create Lasso Regressor as sanity check."
   ]
  },
  {
   "cell_type": "code",
   "execution_count": null,
   "metadata": {},
   "outputs": [],
   "source": [
    "%%time\n",
    "\n",
    "Lasso_regressor = train_fit_nongrad(Lasso(random_state=12345), {'alpha' : np.arange(.01, 1, .05)}, 'Lasso_Regressor')\n"
   ]
  },
  {
   "cell_type": "markdown",
   "metadata": {},
   "source": [
    "Let's show the results."
   ]
  },
  {
   "cell_type": "code",
   "execution_count": null,
   "metadata": {},
   "outputs": [],
   "source": [
    "scores = pd.concat([DecisionTree, RandomForest, LightGBM_regressor, CatBoost_regressor, Lasso_regressor]).set_index('model')\n",
    "scores['best_score'] = scores['best_score'].round(1)\n",
    "display(scores.drop('best_params', axis=1).sort_values(by='best_score'))"
   ]
  },
  {
   "cell_type": "markdown",
   "metadata": {},
   "source": [
    "Time also needs to be added.\n",
    "\n",
    "Let's create list of time results."
   ]
  },
  {
   "cell_type": "code",
   "execution_count": null,
   "metadata": {},
   "outputs": [],
   "source": [
    "wall_time=['21.4S','11Min 57S','8Min 42S','3Min 48S','29.5S']"
   ]
  },
  {
   "cell_type": "code",
   "execution_count": null,
   "metadata": {
    "scrolled": true
   },
   "outputs": [],
   "source": [
    "scores['trained_time'] = wall_time\n",
    "display(scores.drop('best_params', axis=1).sort_values(by='best_score'))"
   ]
  },
  {
   "cell_type": "markdown",
   "metadata": {},
   "source": [
    "Let's test the models."
   ]
  },
  {
   "cell_type": "markdown",
   "metadata": {},
   "source": [
    "Let's create RMSE function."
   ]
  },
  {
   "cell_type": "code",
   "execution_count": null,
   "metadata": {},
   "outputs": [],
   "source": [
    "def rmse_test(true_answers, predictions):\n",
    "    return math.sqrt(mean_squared_error(true_answers, predictions))"
   ]
  },
  {
   "cell_type": "markdown",
   "metadata": {},
   "source": [
    "Let's create a function for predictions and RMSE values."
   ]
  },
  {
   "cell_type": "code",
   "execution_count": null,
   "metadata": {},
   "outputs": [],
   "source": [
    "# Setting a dictionary for models' RMSE scores\n",
    "rmse_dic = {}\n",
    "def model_pred_rmse (model ,x_test, y_test, model_name):\n",
    "    prediction = model.predict(x_test)\n",
    "    model_rmse = rmse_test(y_test, prediction)\n",
    "    rmse_dic[model_name] = model_rmse"
   ]
  },
  {
   "cell_type": "markdown",
   "metadata": {},
   "source": [
    "Let's create function to train a models with best parametors."
   ]
  },
  {
   "cell_type": "code",
   "execution_count": null,
   "metadata": {},
   "outputs": [],
   "source": [
    "def train_model_best_params(model, x_train, y_train, model_parameters):\n",
    "    model = model(**scores['best_params'][model_parameters])\n",
    "    model.fit(x_train, y_train)\n",
    "    return model"
   ]
  },
  {
   "cell_type": "markdown",
   "metadata": {},
   "source": [
    "Training and testing Random Forest Regressor."
   ]
  },
  {
   "cell_type": "code",
   "execution_count": null,
   "metadata": {},
   "outputs": [],
   "source": [
    "%%time \n",
    "\n",
    "Random_Forest = train_model_best_params(RandomForestRegressor, features_train, target_train, 'Random_Forest')"
   ]
  },
  {
   "cell_type": "code",
   "execution_count": null,
   "metadata": {},
   "outputs": [],
   "source": [
    "%%time\n",
    "\n",
    "model_pred_rmse (Random_Forest ,features_test, target_test, 'Random_Forest')"
   ]
  },
  {
   "cell_type": "markdown",
   "metadata": {},
   "source": [
    "Training and testing Decision Tree Regressor."
   ]
  },
  {
   "cell_type": "code",
   "execution_count": null,
   "metadata": {},
   "outputs": [],
   "source": [
    "%%time \n",
    "\n",
    "Decision_Tree = train_model_best_params(DecisionTreeRegressor, features_train, target_train, 'Decision_Tree')"
   ]
  },
  {
   "cell_type": "code",
   "execution_count": null,
   "metadata": {},
   "outputs": [],
   "source": [
    "%%time \n",
    "\n",
    "model_pred_rmse (Decision_Tree ,features_test, target_test, 'Decision_Tree')"
   ]
  },
  {
   "cell_type": "markdown",
   "metadata": {},
   "source": [
    "Training and testing CatBoost Regressor."
   ]
  },
  {
   "cell_type": "code",
   "execution_count": null,
   "metadata": {},
   "outputs": [],
   "source": [
    "%%time\n",
    "\n",
    "CatBoost = train_model_best_params(CatBoostRegressor, features_train, target_train, 'CatBoost')"
   ]
  },
  {
   "cell_type": "code",
   "execution_count": null,
   "metadata": {},
   "outputs": [],
   "source": [
    "%%time\n",
    "\n",
    "model_pred_rmse (CatBoost ,features_test, target_test, 'CatBoost')"
   ]
  },
  {
   "cell_type": "markdown",
   "metadata": {},
   "source": [
    "Training and testing  Light GBM Regressor."
   ]
  },
  {
   "cell_type": "code",
   "execution_count": null,
   "metadata": {},
   "outputs": [],
   "source": [
    "%%time\n",
    "\n",
    "LightGBM = train_model_best_params(lgb.LGBMRegressor, features_train, target_train, 'LightGBM')"
   ]
  },
  {
   "cell_type": "code",
   "execution_count": null,
   "metadata": {},
   "outputs": [],
   "source": [
    "%%time\n",
    "\n",
    "model_pred_rmse (LightGBM ,features_test, target_test, 'LightGBM')"
   ]
  },
  {
   "cell_type": "markdown",
   "metadata": {},
   "source": [
    "Training and testing Lasso Regressor."
   ]
  },
  {
   "cell_type": "code",
   "execution_count": null,
   "metadata": {},
   "outputs": [],
   "source": [
    "%%time \n",
    "\n",
    "Lasso_Regressor = train_model_best_params(Lasso, features_train, target_train, 'Lasso_Regressor')"
   ]
  },
  {
   "cell_type": "code",
   "execution_count": null,
   "metadata": {},
   "outputs": [],
   "source": [
    "%%time\n",
    "\n",
    "model_pred_rmse (Lasso_Regressor ,features_test, target_test, 'Lasso_Regressor')\n"
   ]
  },
  {
   "cell_type": "code",
   "execution_count": null,
   "metadata": {},
   "outputs": [],
   "source": [
    "#Time lists.\n",
    "train_time=['12S','137mS','23.3S','101mS','1.63S']\n",
    "predict_time=['463mS','5.56mS','22mS','4.44mS','110mS']\n"
   ]
  },
  {
   "cell_type": "code",
   "execution_count": null,
   "metadata": {},
   "outputs": [],
   "source": [
    "models_best_parms_rmse = pd.DataFrame(rmse_dic.values(), index =rmse_dic.keys())\n",
    "models_best_parms_rmse.columns = ['rmse']\n",
    "models_best_parms_rmse['train_time'] = train_time\n",
    "models_best_parms_rmse['predict_time'] = predict_time\n",
    "models_best_parms_rmse = models_best_parms_rmse.sort_values(by ='rmse')\n",
    "models_best_parms_rmse\n"
   ]
  },
  {
   "cell_type": "markdown",
   "metadata": {},
   "source": [
    "# Model analysis."
   ]
  },
  {
   "cell_type": "markdown",
   "metadata": {},
   "source": [
    "From the results above the conclusion is that Gradient Boosting methods performed better than other regression models. The RMSE score is better and the time is small value."
   ]
  },
  {
   "cell_type": "markdown",
   "metadata": {},
   "source": [
    "# Checklist"
   ]
  },
  {
   "cell_type": "markdown",
   "metadata": {},
   "source": [
    "Type 'x' to check. Then press Shift+Enter."
   ]
  },
  {
   "cell_type": "markdown",
   "metadata": {},
   "source": [
    "- [x]  Jupyter Notebook is open\n",
    "- [ ]  Code is error free\n",
    "- [ ]  The cells with the code have been arranged in order of execution\n",
    "- [ ]  The data has been downloaded and prepared\n",
    "- [ ]  The models have been trained\n",
    "- [ ]  The analysis of speed and quality of the models has been performed"
   ]
  },
  {
   "cell_type": "code",
   "execution_count": null,
   "metadata": {},
   "outputs": [],
   "source": []
  }
 ],
 "metadata": {
  "ExecuteTimeLog": [
   {
    "duration": 47,
    "start_time": "2022-06-14T11:52:30.039Z"
   },
   {
    "duration": 0,
    "start_time": "2022-06-14T11:55:22.828Z"
   },
   {
    "duration": 26,
    "start_time": "2022-06-14T11:55:33.572Z"
   },
   {
    "duration": 6622,
    "start_time": "2022-06-14T11:55:39.425Z"
   },
   {
    "duration": 1116,
    "start_time": "2022-06-14T11:58:23.380Z"
   },
   {
    "duration": 111,
    "start_time": "2022-06-14T12:03:43.116Z"
   },
   {
    "duration": 10,
    "start_time": "2022-06-14T12:04:06.904Z"
   },
   {
    "duration": 653,
    "start_time": "2022-06-14T12:07:49.300Z"
   },
   {
    "duration": 4,
    "start_time": "2022-06-14T12:08:05.681Z"
   },
   {
    "duration": 9,
    "start_time": "2022-06-14T12:08:22.066Z"
   },
   {
    "duration": 4,
    "start_time": "2022-06-14T12:08:35.283Z"
   },
   {
    "duration": 5,
    "start_time": "2022-06-14T12:08:45.526Z"
   },
   {
    "duration": 13,
    "start_time": "2022-06-14T12:09:08.677Z"
   },
   {
    "duration": 13,
    "start_time": "2022-06-14T12:14:38.015Z"
   },
   {
    "duration": 25,
    "start_time": "2022-06-14T12:14:51.211Z"
   },
   {
    "duration": 11,
    "start_time": "2022-06-14T12:14:58.276Z"
   },
   {
    "duration": 96,
    "start_time": "2022-06-14T12:16:49.875Z"
   },
   {
    "duration": 96,
    "start_time": "2022-06-14T12:20:37.664Z"
   },
   {
    "duration": 146,
    "start_time": "2022-06-14T12:20:44.687Z"
   },
   {
    "duration": 132,
    "start_time": "2022-06-14T12:24:50.004Z"
   },
   {
    "duration": 15,
    "start_time": "2022-06-14T12:24:59.136Z"
   },
   {
    "duration": 65,
    "start_time": "2022-06-14T12:27:18.734Z"
   },
   {
    "duration": 14,
    "start_time": "2022-06-14T12:27:23.921Z"
   },
   {
    "duration": 176,
    "start_time": "2022-06-14T12:51:55.549Z"
   },
   {
    "duration": 153,
    "start_time": "2022-06-14T12:52:02.758Z"
   },
   {
    "duration": 5,
    "start_time": "2022-06-14T12:52:28.800Z"
   },
   {
    "duration": 5,
    "start_time": "2022-06-14T12:52:45.705Z"
   },
   {
    "duration": 205,
    "start_time": "2022-06-14T12:54:05.184Z"
   },
   {
    "duration": 217,
    "start_time": "2022-06-14T12:54:26.074Z"
   },
   {
    "duration": 378,
    "start_time": "2022-06-14T12:54:31.662Z"
   },
   {
    "duration": 233,
    "start_time": "2022-06-14T12:54:40.558Z"
   },
   {
    "duration": 238,
    "start_time": "2022-06-14T12:54:52.602Z"
   },
   {
    "duration": 8,
    "start_time": "2022-06-14T12:55:36.211Z"
   },
   {
    "duration": 6,
    "start_time": "2022-06-14T12:56:11.714Z"
   },
   {
    "duration": 9,
    "start_time": "2022-06-14T12:56:54.176Z"
   },
   {
    "duration": 10,
    "start_time": "2022-06-14T12:57:29.290Z"
   },
   {
    "duration": 35,
    "start_time": "2022-06-14T13:00:12.484Z"
   },
   {
    "duration": 6,
    "start_time": "2022-06-14T13:00:24.885Z"
   },
   {
    "duration": 14,
    "start_time": "2022-06-14T13:00:57.609Z"
   },
   {
    "duration": 12,
    "start_time": "2022-06-14T13:01:09.832Z"
   },
   {
    "duration": 19,
    "start_time": "2022-06-14T13:09:43.423Z"
   },
   {
    "duration": 29,
    "start_time": "2022-06-14T13:09:53.591Z"
   },
   {
    "duration": 11,
    "start_time": "2022-06-14T13:10:00.828Z"
   },
   {
    "duration": 9,
    "start_time": "2022-06-14T13:10:24.211Z"
   },
   {
    "duration": 14,
    "start_time": "2022-06-14T13:12:06.838Z"
   },
   {
    "duration": 79,
    "start_time": "2022-06-14T13:14:14.577Z"
   },
   {
    "duration": 67,
    "start_time": "2022-06-14T13:15:28.704Z"
   },
   {
    "duration": 14,
    "start_time": "2022-06-14T13:15:51.404Z"
   },
   {
    "duration": 5,
    "start_time": "2022-06-14T13:16:20.949Z"
   },
   {
    "duration": 6,
    "start_time": "2022-06-14T13:16:39.630Z"
   },
   {
    "duration": 42,
    "start_time": "2022-06-14T13:17:18.180Z"
   },
   {
    "duration": 20,
    "start_time": "2022-06-14T13:17:19.893Z"
   },
   {
    "duration": 6,
    "start_time": "2022-06-14T13:17:49.011Z"
   },
   {
    "duration": 87,
    "start_time": "2022-06-14T13:18:26.405Z"
   },
   {
    "duration": 6,
    "start_time": "2022-06-14T13:18:27.108Z"
   },
   {
    "duration": 12,
    "start_time": "2022-06-14T13:20:08.934Z"
   },
   {
    "duration": 69,
    "start_time": "2022-06-14T13:20:17.734Z"
   },
   {
    "duration": 121,
    "start_time": "2022-06-14T13:21:38.391Z"
   },
   {
    "duration": 5,
    "start_time": "2022-06-14T13:21:40.092Z"
   },
   {
    "duration": 72,
    "start_time": "2022-06-14T13:21:48.794Z"
   },
   {
    "duration": 8,
    "start_time": "2022-06-14T13:21:49.416Z"
   },
   {
    "duration": 47,
    "start_time": "2022-06-14T13:22:50.643Z"
   },
   {
    "duration": 7,
    "start_time": "2022-06-14T13:22:52.377Z"
   },
   {
    "duration": 37,
    "start_time": "2022-06-14T13:23:43.613Z"
   },
   {
    "duration": 7,
    "start_time": "2022-06-14T13:23:54.956Z"
   },
   {
    "duration": 35,
    "start_time": "2022-06-14T13:24:08.081Z"
   },
   {
    "duration": 53,
    "start_time": "2022-06-14T13:24:19.760Z"
   },
   {
    "duration": 7,
    "start_time": "2022-06-14T13:24:22.011Z"
   },
   {
    "duration": 61,
    "start_time": "2022-06-14T13:24:31.338Z"
   },
   {
    "duration": 6,
    "start_time": "2022-06-14T13:24:32.051Z"
   },
   {
    "duration": 44,
    "start_time": "2022-06-14T13:24:33.308Z"
   },
   {
    "duration": 10,
    "start_time": "2022-06-14T13:24:33.956Z"
   },
   {
    "duration": 5,
    "start_time": "2022-06-14T13:25:32.477Z"
   },
   {
    "duration": 36,
    "start_time": "2022-06-14T13:26:13.942Z"
   },
   {
    "duration": 7,
    "start_time": "2022-06-14T13:26:14.683Z"
   },
   {
    "duration": 57,
    "start_time": "2022-06-14T13:26:18.610Z"
   },
   {
    "duration": 13,
    "start_time": "2022-06-14T13:26:19.457Z"
   },
   {
    "duration": 5,
    "start_time": "2022-06-14T13:26:20.609Z"
   },
   {
    "duration": 6,
    "start_time": "2022-06-14T13:26:49.901Z"
   },
   {
    "duration": 71,
    "start_time": "2022-06-14T13:27:19.346Z"
   },
   {
    "duration": 10,
    "start_time": "2022-06-14T13:27:20.435Z"
   },
   {
    "duration": 5,
    "start_time": "2022-06-14T13:27:22.544Z"
   },
   {
    "duration": 5,
    "start_time": "2022-06-14T13:27:25.276Z"
   },
   {
    "duration": 10,
    "start_time": "2022-06-14T13:27:49.595Z"
   },
   {
    "duration": 10,
    "start_time": "2022-06-14T13:27:57.693Z"
   },
   {
    "duration": 40,
    "start_time": "2022-06-14T13:28:26.286Z"
   },
   {
    "duration": 9,
    "start_time": "2022-06-14T13:28:32.926Z"
   },
   {
    "duration": 60,
    "start_time": "2022-06-14T13:28:52.984Z"
   },
   {
    "duration": 9,
    "start_time": "2022-06-14T13:28:58.827Z"
   },
   {
    "duration": 5,
    "start_time": "2022-06-14T13:29:01.687Z"
   },
   {
    "duration": 6,
    "start_time": "2022-06-14T13:29:02.500Z"
   },
   {
    "duration": 10,
    "start_time": "2022-06-14T13:29:03.395Z"
   },
   {
    "duration": 15,
    "start_time": "2022-06-14T13:29:09.975Z"
   },
   {
    "duration": 11,
    "start_time": "2022-06-14T13:29:31.481Z"
   },
   {
    "duration": 5,
    "start_time": "2022-06-14T13:29:37.832Z"
   },
   {
    "duration": 18,
    "start_time": "2022-06-14T13:31:28.449Z"
   },
   {
    "duration": 359,
    "start_time": "2022-06-14T13:32:17.589Z"
   },
   {
    "duration": 164,
    "start_time": "2022-06-14T13:32:26.745Z"
   },
   {
    "duration": 154,
    "start_time": "2022-06-14T13:32:33.426Z"
   },
   {
    "duration": 201,
    "start_time": "2022-06-14T13:32:44.624Z"
   },
   {
    "duration": 163,
    "start_time": "2022-06-14T13:32:55.413Z"
   },
   {
    "duration": 150,
    "start_time": "2022-06-14T13:39:12.585Z"
   },
   {
    "duration": 8,
    "start_time": "2022-06-14T13:39:30.990Z"
   },
   {
    "duration": 4823,
    "start_time": "2022-06-15T10:04:48.857Z"
   },
   {
    "duration": 1099,
    "start_time": "2022-06-15T10:04:53.683Z"
   },
   {
    "duration": 4,
    "start_time": "2022-06-15T10:04:54.784Z"
   },
   {
    "duration": 8,
    "start_time": "2022-06-15T10:04:54.791Z"
   },
   {
    "duration": 17,
    "start_time": "2022-06-15T10:04:54.801Z"
   },
   {
    "duration": 29,
    "start_time": "2022-06-15T10:04:54.820Z"
   },
   {
    "duration": 18,
    "start_time": "2022-06-15T10:04:54.865Z"
   },
   {
    "duration": 119,
    "start_time": "2022-06-15T10:04:54.885Z"
   },
   {
    "duration": 96,
    "start_time": "2022-06-15T10:04:55.006Z"
   },
   {
    "duration": 106,
    "start_time": "2022-06-15T10:04:55.106Z"
   },
   {
    "duration": 168,
    "start_time": "2022-06-15T10:04:55.214Z"
   },
   {
    "duration": 15,
    "start_time": "2022-06-15T10:04:55.384Z"
   },
   {
    "duration": 65,
    "start_time": "2022-06-15T10:04:55.401Z"
   },
   {
    "duration": 12,
    "start_time": "2022-06-15T10:04:55.478Z"
   },
   {
    "duration": 192,
    "start_time": "2022-06-15T10:04:55.492Z"
   },
   {
    "duration": 5,
    "start_time": "2022-06-15T10:04:55.686Z"
   },
   {
    "duration": 8,
    "start_time": "2022-06-15T10:04:55.693Z"
   },
   {
    "duration": 342,
    "start_time": "2022-06-15T10:04:55.702Z"
   },
   {
    "duration": 8,
    "start_time": "2022-06-15T10:04:56.046Z"
   },
   {
    "duration": 18,
    "start_time": "2022-06-15T10:04:56.065Z"
   },
   {
    "duration": 18,
    "start_time": "2022-06-15T10:04:56.085Z"
   },
   {
    "duration": 62,
    "start_time": "2022-06-15T10:04:56.105Z"
   },
   {
    "duration": 9,
    "start_time": "2022-06-15T10:04:56.179Z"
   },
   {
    "duration": 60,
    "start_time": "2022-06-15T10:04:56.190Z"
   },
   {
    "duration": 6,
    "start_time": "2022-06-15T10:04:56.252Z"
   },
   {
    "duration": 132,
    "start_time": "2022-06-15T10:04:56.265Z"
   },
   {
    "duration": 0,
    "start_time": "2022-06-15T10:04:56.400Z"
   },
   {
    "duration": 0,
    "start_time": "2022-06-15T10:04:56.401Z"
   },
   {
    "duration": 0,
    "start_time": "2022-06-15T10:04:56.402Z"
   },
   {
    "duration": 0,
    "start_time": "2022-06-15T10:04:56.404Z"
   },
   {
    "duration": 0,
    "start_time": "2022-06-15T10:04:56.405Z"
   },
   {
    "duration": 5,
    "start_time": "2022-06-15T10:06:38.345Z"
   },
   {
    "duration": 11,
    "start_time": "2022-06-15T10:06:42.556Z"
   },
   {
    "duration": 5,
    "start_time": "2022-06-15T10:06:47.787Z"
   },
   {
    "duration": 11,
    "start_time": "2022-06-15T10:06:54.509Z"
   },
   {
    "duration": 5,
    "start_time": "2022-06-15T10:06:57.874Z"
   },
   {
    "duration": 151,
    "start_time": "2022-06-15T10:06:59.939Z"
   },
   {
    "duration": 9,
    "start_time": "2022-06-15T10:07:07.136Z"
   },
   {
    "duration": 109,
    "start_time": "2022-06-15T10:08:23.804Z"
   },
   {
    "duration": 37,
    "start_time": "2022-06-15T10:08:49.192Z"
   },
   {
    "duration": 6,
    "start_time": "2022-06-15T10:09:05.649Z"
   },
   {
    "duration": 5,
    "start_time": "2022-06-15T10:09:31.023Z"
   },
   {
    "duration": 4,
    "start_time": "2022-06-15T10:09:43.453Z"
   },
   {
    "duration": 89,
    "start_time": "2022-06-15T10:10:40.335Z"
   },
   {
    "duration": 2450,
    "start_time": "2022-06-15T10:10:56.761Z"
   },
   {
    "duration": 831,
    "start_time": "2022-06-15T10:10:59.214Z"
   },
   {
    "duration": 3,
    "start_time": "2022-06-15T10:11:00.047Z"
   },
   {
    "duration": 18,
    "start_time": "2022-06-15T10:11:00.053Z"
   },
   {
    "duration": 42,
    "start_time": "2022-06-15T10:11:00.077Z"
   },
   {
    "duration": 32,
    "start_time": "2022-06-15T10:11:00.121Z"
   },
   {
    "duration": 25,
    "start_time": "2022-06-15T10:11:00.155Z"
   },
   {
    "duration": 134,
    "start_time": "2022-06-15T10:11:00.183Z"
   },
   {
    "duration": 90,
    "start_time": "2022-06-15T10:11:00.320Z"
   },
   {
    "duration": 112,
    "start_time": "2022-06-15T10:11:00.412Z"
   },
   {
    "duration": 169,
    "start_time": "2022-06-15T10:11:00.527Z"
   },
   {
    "duration": 16,
    "start_time": "2022-06-15T10:11:00.698Z"
   },
   {
    "duration": 85,
    "start_time": "2022-06-15T10:11:00.716Z"
   },
   {
    "duration": 18,
    "start_time": "2022-06-15T10:11:00.803Z"
   },
   {
    "duration": 252,
    "start_time": "2022-06-15T10:11:00.824Z"
   },
   {
    "duration": 6,
    "start_time": "2022-06-15T10:11:01.081Z"
   },
   {
    "duration": 17,
    "start_time": "2022-06-15T10:11:01.089Z"
   },
   {
    "duration": 303,
    "start_time": "2022-06-15T10:11:01.108Z"
   },
   {
    "duration": 6,
    "start_time": "2022-06-15T10:11:01.413Z"
   },
   {
    "duration": 38,
    "start_time": "2022-06-15T10:11:01.421Z"
   },
   {
    "duration": 25,
    "start_time": "2022-06-15T10:11:01.461Z"
   },
   {
    "duration": 62,
    "start_time": "2022-06-15T10:11:01.488Z"
   },
   {
    "duration": 7,
    "start_time": "2022-06-15T10:11:01.551Z"
   },
   {
    "duration": 107,
    "start_time": "2022-06-15T10:11:01.560Z"
   },
   {
    "duration": 36,
    "start_time": "2022-06-15T10:11:01.682Z"
   },
   {
    "duration": 119,
    "start_time": "2022-06-15T10:11:01.720Z"
   },
   {
    "duration": 108,
    "start_time": "2022-06-15T10:11:01.842Z"
   },
   {
    "duration": 56,
    "start_time": "2022-06-15T10:11:01.955Z"
   },
   {
    "duration": 4,
    "start_time": "2022-06-15T10:11:02.014Z"
   },
   {
    "duration": 221,
    "start_time": "2022-06-15T10:11:02.020Z"
   },
   {
    "duration": 9,
    "start_time": "2022-06-15T10:11:02.243Z"
   },
   {
    "duration": 124,
    "start_time": "2022-06-15T10:11:02.265Z"
   },
   {
    "duration": 48,
    "start_time": "2022-06-15T10:11:02.391Z"
   },
   {
    "duration": 7,
    "start_time": "2022-06-15T10:11:02.441Z"
   },
   {
    "duration": 35,
    "start_time": "2022-06-15T10:11:02.450Z"
   },
   {
    "duration": 5,
    "start_time": "2022-06-15T10:11:27.461Z"
   },
   {
    "duration": 3,
    "start_time": "2022-06-15T10:11:27.884Z"
   },
   {
    "duration": 6,
    "start_time": "2022-06-15T10:11:28.272Z"
   },
   {
    "duration": 16,
    "start_time": "2022-06-15T10:11:29.189Z"
   },
   {
    "duration": 2586,
    "start_time": "2022-06-15T10:11:47.419Z"
   },
   {
    "duration": 868,
    "start_time": "2022-06-15T10:11:50.008Z"
   },
   {
    "duration": 5,
    "start_time": "2022-06-15T10:11:50.884Z"
   },
   {
    "duration": 16,
    "start_time": "2022-06-15T10:11:50.891Z"
   },
   {
    "duration": 23,
    "start_time": "2022-06-15T10:11:50.909Z"
   },
   {
    "duration": 40,
    "start_time": "2022-06-15T10:11:50.935Z"
   },
   {
    "duration": 16,
    "start_time": "2022-06-15T10:11:50.976Z"
   },
   {
    "duration": 141,
    "start_time": "2022-06-15T10:11:50.994Z"
   },
   {
    "duration": 90,
    "start_time": "2022-06-15T10:11:51.138Z"
   },
   {
    "duration": 108,
    "start_time": "2022-06-15T10:11:51.232Z"
   },
   {
    "duration": 160,
    "start_time": "2022-06-15T10:11:51.342Z"
   },
   {
    "duration": 22,
    "start_time": "2022-06-15T10:11:51.504Z"
   },
   {
    "duration": 76,
    "start_time": "2022-06-15T10:11:51.529Z"
   },
   {
    "duration": 14,
    "start_time": "2022-06-15T10:11:51.607Z"
   },
   {
    "duration": 193,
    "start_time": "2022-06-15T10:11:51.623Z"
   },
   {
    "duration": 5,
    "start_time": "2022-06-15T10:11:51.818Z"
   },
   {
    "duration": 11,
    "start_time": "2022-06-15T10:11:51.824Z"
   },
   {
    "duration": 278,
    "start_time": "2022-06-15T10:11:51.836Z"
   },
   {
    "duration": 7,
    "start_time": "2022-06-15T10:11:52.116Z"
   },
   {
    "duration": 10,
    "start_time": "2022-06-15T10:11:52.125Z"
   },
   {
    "duration": 26,
    "start_time": "2022-06-15T10:11:52.168Z"
   },
   {
    "duration": 47,
    "start_time": "2022-06-15T10:11:52.196Z"
   },
   {
    "duration": 6,
    "start_time": "2022-06-15T10:11:52.246Z"
   },
   {
    "duration": 67,
    "start_time": "2022-06-15T10:11:52.254Z"
   },
   {
    "duration": 7,
    "start_time": "2022-06-15T10:11:52.323Z"
   },
   {
    "duration": 8,
    "start_time": "2022-06-15T10:11:52.332Z"
   },
   {
    "duration": 7,
    "start_time": "2022-06-15T10:11:52.342Z"
   },
   {
    "duration": 15,
    "start_time": "2022-06-15T10:11:52.373Z"
   },
   {
    "duration": 9,
    "start_time": "2022-06-15T10:11:52.390Z"
   },
   {
    "duration": 177,
    "start_time": "2022-06-15T10:11:52.401Z"
   },
   {
    "duration": 11,
    "start_time": "2022-06-15T10:11:52.585Z"
   },
   {
    "duration": 6,
    "start_time": "2022-06-15T10:11:52.598Z"
   },
   {
    "duration": 11,
    "start_time": "2022-06-15T10:11:52.605Z"
   },
   {
    "duration": 11,
    "start_time": "2022-06-15T10:11:52.619Z"
   },
   {
    "duration": 212,
    "start_time": "2022-06-15T10:11:52.632Z"
   },
   {
    "duration": 111,
    "start_time": "2022-06-15T10:12:18.564Z"
   },
   {
    "duration": 67,
    "start_time": "2022-06-15T10:12:25.046Z"
   },
   {
    "duration": 49,
    "start_time": "2022-06-15T10:12:39.215Z"
   },
   {
    "duration": 14,
    "start_time": "2022-06-15T10:12:42.083Z"
   },
   {
    "duration": 6,
    "start_time": "2022-06-15T10:13:00.046Z"
   },
   {
    "duration": 12,
    "start_time": "2022-06-15T10:13:04.663Z"
   },
   {
    "duration": 3,
    "start_time": "2022-06-15T10:13:06.183Z"
   },
   {
    "duration": 150,
    "start_time": "2022-06-15T10:13:06.938Z"
   },
   {
    "duration": 6,
    "start_time": "2022-06-15T10:13:15.861Z"
   },
   {
    "duration": 2461,
    "start_time": "2022-06-15T10:13:32.660Z"
   },
   {
    "duration": 757,
    "start_time": "2022-06-15T10:13:35.124Z"
   },
   {
    "duration": 4,
    "start_time": "2022-06-15T10:13:35.882Z"
   },
   {
    "duration": 13,
    "start_time": "2022-06-15T10:13:35.889Z"
   },
   {
    "duration": 17,
    "start_time": "2022-06-15T10:13:35.904Z"
   },
   {
    "duration": 23,
    "start_time": "2022-06-15T10:13:35.923Z"
   },
   {
    "duration": 34,
    "start_time": "2022-06-15T10:13:35.948Z"
   },
   {
    "duration": 124,
    "start_time": "2022-06-15T10:13:35.984Z"
   },
   {
    "duration": 88,
    "start_time": "2022-06-15T10:13:36.110Z"
   },
   {
    "duration": 120,
    "start_time": "2022-06-15T10:13:36.202Z"
   },
   {
    "duration": 148,
    "start_time": "2022-06-15T10:13:36.324Z"
   },
   {
    "duration": 18,
    "start_time": "2022-06-15T10:13:36.473Z"
   },
   {
    "duration": 53,
    "start_time": "2022-06-15T10:13:36.492Z"
   },
   {
    "duration": 34,
    "start_time": "2022-06-15T10:13:36.547Z"
   },
   {
    "duration": 208,
    "start_time": "2022-06-15T10:13:36.583Z"
   },
   {
    "duration": 5,
    "start_time": "2022-06-15T10:13:36.793Z"
   },
   {
    "duration": 11,
    "start_time": "2022-06-15T10:13:36.800Z"
   },
   {
    "duration": 295,
    "start_time": "2022-06-15T10:13:36.813Z"
   },
   {
    "duration": 6,
    "start_time": "2022-06-15T10:13:37.110Z"
   },
   {
    "duration": 13,
    "start_time": "2022-06-15T10:13:37.118Z"
   },
   {
    "duration": 48,
    "start_time": "2022-06-15T10:13:37.133Z"
   },
   {
    "duration": 48,
    "start_time": "2022-06-15T10:13:37.184Z"
   },
   {
    "duration": 8,
    "start_time": "2022-06-15T10:13:37.234Z"
   },
   {
    "duration": 70,
    "start_time": "2022-06-15T10:13:37.244Z"
   },
   {
    "duration": 7,
    "start_time": "2022-06-15T10:13:37.316Z"
   },
   {
    "duration": 10,
    "start_time": "2022-06-15T10:13:37.325Z"
   },
   {
    "duration": 26,
    "start_time": "2022-06-15T10:13:37.337Z"
   },
   {
    "duration": 24,
    "start_time": "2022-06-15T10:13:37.371Z"
   },
   {
    "duration": 4,
    "start_time": "2022-06-15T10:13:37.398Z"
   },
   {
    "duration": 186,
    "start_time": "2022-06-15T10:13:37.404Z"
   },
   {
    "duration": 9,
    "start_time": "2022-06-15T10:13:37.592Z"
   },
   {
    "duration": 92,
    "start_time": "2022-06-15T10:13:37.603Z"
   },
   {
    "duration": 35,
    "start_time": "2022-06-15T10:13:37.697Z"
   },
   {
    "duration": 7,
    "start_time": "2022-06-15T10:13:37.734Z"
   },
   {
    "duration": 171,
    "start_time": "2022-06-15T10:13:37.742Z"
   },
   {
    "duration": 5,
    "start_time": "2022-06-15T10:14:21.695Z"
   },
   {
    "duration": 76,
    "start_time": "2022-06-15T10:14:30.205Z"
   },
   {
    "duration": 84,
    "start_time": "2022-06-15T10:14:35.563Z"
   },
   {
    "duration": 7,
    "start_time": "2022-06-15T10:14:37.947Z"
   },
   {
    "duration": 5,
    "start_time": "2022-06-15T10:14:41.857Z"
   },
   {
    "duration": 5,
    "start_time": "2022-06-15T10:14:55.856Z"
   },
   {
    "duration": 178,
    "start_time": "2022-06-15T10:16:38.659Z"
   },
   {
    "duration": 271,
    "start_time": "2022-06-15T10:16:50.836Z"
   },
   {
    "duration": 231,
    "start_time": "2022-06-15T10:16:59.990Z"
   },
   {
    "duration": 6,
    "start_time": "2022-06-15T10:17:22.556Z"
   },
   {
    "duration": 189,
    "start_time": "2022-06-15T10:19:33.538Z"
   },
   {
    "duration": 6,
    "start_time": "2022-06-15T10:19:55.684Z"
   },
   {
    "duration": 37,
    "start_time": "2022-06-15T10:22:21.983Z"
   },
   {
    "duration": 6,
    "start_time": "2022-06-15T10:22:34.207Z"
   },
   {
    "duration": 148,
    "start_time": "2022-06-15T10:24:01.335Z"
   },
   {
    "duration": 7,
    "start_time": "2022-06-15T10:24:23.684Z"
   },
   {
    "duration": 104,
    "start_time": "2022-06-15T10:26:38.521Z"
   },
   {
    "duration": 14,
    "start_time": "2022-06-15T10:27:24.437Z"
   },
   {
    "duration": 11,
    "start_time": "2022-06-15T10:27:36.352Z"
   },
   {
    "duration": 16,
    "start_time": "2022-06-15T10:27:40.595Z"
   },
   {
    "duration": 163,
    "start_time": "2022-06-15T10:28:33.684Z"
   },
   {
    "duration": 8,
    "start_time": "2022-06-15T10:29:03.510Z"
   },
   {
    "duration": 7,
    "start_time": "2022-06-15T10:29:37.295Z"
   },
   {
    "duration": 157,
    "start_time": "2022-06-15T10:32:14.563Z"
   },
   {
    "duration": 19,
    "start_time": "2022-06-15T10:32:37.160Z"
   },
   {
    "duration": 9,
    "start_time": "2022-06-15T10:32:59.642Z"
   },
   {
    "duration": 334,
    "start_time": "2022-06-15T10:48:10.057Z"
   },
   {
    "duration": 12,
    "start_time": "2022-06-15T10:48:26.659Z"
   },
   {
    "duration": 13,
    "start_time": "2022-06-15T10:49:29.343Z"
   },
   {
    "duration": 207,
    "start_time": "2022-06-15T10:51:14.815Z"
   },
   {
    "duration": 14,
    "start_time": "2022-06-15T10:51:49.584Z"
   },
   {
    "duration": 8,
    "start_time": "2022-06-15T10:51:53.647Z"
   },
   {
    "duration": 13,
    "start_time": "2022-06-15T10:52:20.166Z"
   },
   {
    "duration": 6,
    "start_time": "2022-06-15T10:56:20.380Z"
   },
   {
    "duration": 20,
    "start_time": "2022-06-15T10:56:30.394Z"
   },
   {
    "duration": 9,
    "start_time": "2022-06-15T10:57:03.276Z"
   },
   {
    "duration": 19,
    "start_time": "2022-06-15T10:57:03.999Z"
   },
   {
    "duration": 7,
    "start_time": "2022-06-15T10:57:43.596Z"
   },
   {
    "duration": 17,
    "start_time": "2022-06-15T10:57:44.914Z"
   },
   {
    "duration": 139,
    "start_time": "2022-06-15T10:58:25.805Z"
   },
   {
    "duration": 211,
    "start_time": "2022-06-15T10:58:32.658Z"
   },
   {
    "duration": 15,
    "start_time": "2022-06-15T10:58:54.270Z"
   },
   {
    "duration": 5,
    "start_time": "2022-06-15T10:59:00.995Z"
   },
   {
    "duration": 62,
    "start_time": "2022-06-15T11:04:30.325Z"
   },
   {
    "duration": 7,
    "start_time": "2022-06-15T11:05:04.123Z"
   },
   {
    "duration": 21,
    "start_time": "2022-06-15T11:15:57.696Z"
   },
   {
    "duration": 11,
    "start_time": "2022-06-15T11:16:06.504Z"
   },
   {
    "duration": 158,
    "start_time": "2022-06-15T11:17:41.039Z"
   },
   {
    "duration": 177,
    "start_time": "2022-06-15T11:18:53.935Z"
   },
   {
    "duration": 4,
    "start_time": "2022-06-15T11:20:48.415Z"
   },
   {
    "duration": 16,
    "start_time": "2022-06-15T11:21:31.992Z"
   },
   {
    "duration": 4,
    "start_time": "2022-06-15T11:21:47.986Z"
   },
   {
    "duration": 4,
    "start_time": "2022-06-15T11:22:20.202Z"
   },
   {
    "duration": 207,
    "start_time": "2022-06-15T11:23:33.586Z"
   },
   {
    "duration": 11,
    "start_time": "2022-06-15T11:23:55.949Z"
   },
   {
    "duration": 208,
    "start_time": "2022-06-15T11:24:17.279Z"
   },
   {
    "duration": 12,
    "start_time": "2022-06-15T11:24:17.935Z"
   },
   {
    "duration": 19,
    "start_time": "2022-06-15T11:24:28.879Z"
   },
   {
    "duration": 130,
    "start_time": "2022-06-15T11:24:30.654Z"
   },
   {
    "duration": 2422,
    "start_time": "2022-06-15T11:24:39.112Z"
   },
   {
    "duration": 849,
    "start_time": "2022-06-15T11:24:41.537Z"
   },
   {
    "duration": 4,
    "start_time": "2022-06-15T11:24:42.388Z"
   },
   {
    "duration": 9,
    "start_time": "2022-06-15T11:24:42.396Z"
   },
   {
    "duration": 17,
    "start_time": "2022-06-15T11:24:42.406Z"
   },
   {
    "duration": 24,
    "start_time": "2022-06-15T11:24:42.425Z"
   },
   {
    "duration": 33,
    "start_time": "2022-06-15T11:24:42.451Z"
   },
   {
    "duration": 127,
    "start_time": "2022-06-15T11:24:42.486Z"
   },
   {
    "duration": 117,
    "start_time": "2022-06-15T11:24:42.615Z"
   },
   {
    "duration": 104,
    "start_time": "2022-06-15T11:24:42.735Z"
   },
   {
    "duration": 143,
    "start_time": "2022-06-15T11:24:42.841Z"
   },
   {
    "duration": 15,
    "start_time": "2022-06-15T11:24:42.986Z"
   },
   {
    "duration": 77,
    "start_time": "2022-06-15T11:24:43.003Z"
   },
   {
    "duration": 12,
    "start_time": "2022-06-15T11:24:43.084Z"
   },
   {
    "duration": 203,
    "start_time": "2022-06-15T11:24:43.098Z"
   },
   {
    "duration": 6,
    "start_time": "2022-06-15T11:24:43.303Z"
   },
   {
    "duration": 7,
    "start_time": "2022-06-15T11:24:43.311Z"
   },
   {
    "duration": 299,
    "start_time": "2022-06-15T11:24:43.319Z"
   },
   {
    "duration": 6,
    "start_time": "2022-06-15T11:24:43.620Z"
   },
   {
    "duration": 31,
    "start_time": "2022-06-15T11:24:43.628Z"
   },
   {
    "duration": 25,
    "start_time": "2022-06-15T11:24:43.661Z"
   },
   {
    "duration": 56,
    "start_time": "2022-06-15T11:24:43.688Z"
   },
   {
    "duration": 6,
    "start_time": "2022-06-15T11:24:43.746Z"
   },
   {
    "duration": 62,
    "start_time": "2022-06-15T11:24:43.754Z"
   },
   {
    "duration": 7,
    "start_time": "2022-06-15T11:24:43.818Z"
   },
   {
    "duration": 8,
    "start_time": "2022-06-15T11:24:43.827Z"
   },
   {
    "duration": 9,
    "start_time": "2022-06-15T11:24:43.837Z"
   },
   {
    "duration": 16,
    "start_time": "2022-06-15T11:24:43.868Z"
   },
   {
    "duration": 6,
    "start_time": "2022-06-15T11:24:43.888Z"
   },
   {
    "duration": 172,
    "start_time": "2022-06-15T11:24:43.896Z"
   },
   {
    "duration": 10,
    "start_time": "2022-06-15T11:24:44.075Z"
   },
   {
    "duration": 66,
    "start_time": "2022-06-15T11:24:44.088Z"
   },
   {
    "duration": 48,
    "start_time": "2022-06-15T11:24:44.156Z"
   },
   {
    "duration": 7,
    "start_time": "2022-06-15T11:24:44.206Z"
   },
   {
    "duration": 5,
    "start_time": "2022-06-15T11:24:44.215Z"
   },
   {
    "duration": 4,
    "start_time": "2022-06-15T11:24:44.223Z"
   },
   {
    "duration": 214,
    "start_time": "2022-06-15T11:24:44.229Z"
   },
   {
    "duration": 6,
    "start_time": "2022-06-15T11:24:44.446Z"
   },
   {
    "duration": 181,
    "start_time": "2022-06-15T11:24:44.453Z"
   },
   {
    "duration": 8,
    "start_time": "2022-06-15T11:24:44.636Z"
   },
   {
    "duration": 62,
    "start_time": "2022-06-15T11:24:44.646Z"
   },
   {
    "duration": 8,
    "start_time": "2022-06-15T11:24:44.710Z"
   },
   {
    "duration": 204,
    "start_time": "2022-06-15T11:24:44.721Z"
   },
   {
    "duration": 6,
    "start_time": "2022-06-15T11:24:44.927Z"
   },
   {
    "duration": 35,
    "start_time": "2022-06-15T11:24:44.935Z"
   },
   {
    "duration": 18,
    "start_time": "2022-06-15T11:24:44.977Z"
   },
   {
    "duration": 348,
    "start_time": "2022-06-15T11:24:44.998Z"
   },
   {
    "duration": 5,
    "start_time": "2022-06-15T11:24:45.348Z"
   },
   {
    "duration": 23,
    "start_time": "2022-06-15T11:24:45.355Z"
   },
   {
    "duration": 165,
    "start_time": "2022-06-15T11:24:45.385Z"
   },
   {
    "duration": 22,
    "start_time": "2022-06-15T11:24:45.552Z"
   },
   {
    "duration": 10,
    "start_time": "2022-06-15T11:24:45.576Z"
   },
   {
    "duration": 166,
    "start_time": "2022-06-15T11:24:45.588Z"
   },
   {
    "duration": 17,
    "start_time": "2022-06-15T11:24:45.756Z"
   },
   {
    "duration": 22,
    "start_time": "2022-06-15T11:24:45.775Z"
   },
   {
    "duration": 201,
    "start_time": "2022-06-15T11:24:45.799Z"
   },
   {
    "duration": 7,
    "start_time": "2022-06-15T11:24:46.003Z"
   },
   {
    "duration": 16,
    "start_time": "2022-06-15T11:24:46.013Z"
   },
   {
    "duration": 9,
    "start_time": "2022-06-15T11:24:46.031Z"
   },
   {
    "duration": 39,
    "start_time": "2022-06-15T11:24:46.042Z"
   },
   {
    "duration": 216,
    "start_time": "2022-06-15T11:24:46.086Z"
   },
   {
    "duration": 7,
    "start_time": "2022-06-15T11:24:46.304Z"
   },
   {
    "duration": 68,
    "start_time": "2022-06-15T11:24:46.313Z"
   },
   {
    "duration": 6,
    "start_time": "2022-06-15T11:24:46.383Z"
   },
   {
    "duration": 15,
    "start_time": "2022-06-15T11:24:46.391Z"
   },
   {
    "duration": 11,
    "start_time": "2022-06-15T11:24:46.408Z"
   },
   {
    "duration": 190,
    "start_time": "2022-06-15T11:24:46.421Z"
   },
   {
    "duration": 4,
    "start_time": "2022-06-15T11:24:46.614Z"
   },
   {
    "duration": 154,
    "start_time": "2022-06-15T11:24:46.620Z"
   },
   {
    "duration": 16,
    "start_time": "2022-06-15T11:24:46.776Z"
   },
   {
    "duration": 0,
    "start_time": "2022-06-15T11:24:46.796Z"
   },
   {
    "duration": 15,
    "start_time": "2022-06-15T11:26:09.892Z"
   },
   {
    "duration": 2422,
    "start_time": "2022-06-15T11:26:14.102Z"
   },
   {
    "duration": 766,
    "start_time": "2022-06-15T11:26:16.528Z"
   },
   {
    "duration": 3,
    "start_time": "2022-06-15T11:26:17.296Z"
   },
   {
    "duration": 18,
    "start_time": "2022-06-15T11:26:17.302Z"
   },
   {
    "duration": 20,
    "start_time": "2022-06-15T11:26:17.322Z"
   },
   {
    "duration": 61,
    "start_time": "2022-06-15T11:26:17.344Z"
   },
   {
    "duration": 14,
    "start_time": "2022-06-15T11:26:17.406Z"
   },
   {
    "duration": 184,
    "start_time": "2022-06-15T11:26:17.422Z"
   },
   {
    "duration": 101,
    "start_time": "2022-06-15T11:26:17.608Z"
   },
   {
    "duration": 110,
    "start_time": "2022-06-15T11:26:17.713Z"
   },
   {
    "duration": 159,
    "start_time": "2022-06-15T11:26:17.825Z"
   },
   {
    "duration": 14,
    "start_time": "2022-06-15T11:26:17.986Z"
   },
   {
    "duration": 67,
    "start_time": "2022-06-15T11:26:18.002Z"
   },
   {
    "duration": 20,
    "start_time": "2022-06-15T11:26:18.070Z"
   },
   {
    "duration": 263,
    "start_time": "2022-06-15T11:26:18.092Z"
   },
   {
    "duration": 16,
    "start_time": "2022-06-15T11:26:18.357Z"
   },
   {
    "duration": 29,
    "start_time": "2022-06-15T11:26:18.376Z"
   },
   {
    "duration": 341,
    "start_time": "2022-06-15T11:26:18.407Z"
   },
   {
    "duration": 17,
    "start_time": "2022-06-15T11:26:18.750Z"
   },
   {
    "duration": 16,
    "start_time": "2022-06-15T11:26:18.774Z"
   },
   {
    "duration": 14,
    "start_time": "2022-06-15T11:26:18.792Z"
   },
   {
    "duration": 57,
    "start_time": "2022-06-15T11:26:18.808Z"
   },
   {
    "duration": 11,
    "start_time": "2022-06-15T11:26:18.866Z"
   },
   {
    "duration": 97,
    "start_time": "2022-06-15T11:26:18.881Z"
   },
   {
    "duration": 10,
    "start_time": "2022-06-15T11:26:18.980Z"
   },
   {
    "duration": 16,
    "start_time": "2022-06-15T11:26:18.992Z"
   },
   {
    "duration": 6,
    "start_time": "2022-06-15T11:26:19.011Z"
   },
   {
    "duration": 13,
    "start_time": "2022-06-15T11:26:19.023Z"
   },
   {
    "duration": 12,
    "start_time": "2022-06-15T11:26:19.038Z"
   },
   {
    "duration": 263,
    "start_time": "2022-06-15T11:26:19.066Z"
   },
   {
    "duration": 12,
    "start_time": "2022-06-15T11:26:19.332Z"
   },
   {
    "duration": 95,
    "start_time": "2022-06-15T11:26:19.346Z"
   },
   {
    "duration": 51,
    "start_time": "2022-06-15T11:26:19.444Z"
   },
   {
    "duration": 7,
    "start_time": "2022-06-15T11:26:19.497Z"
   },
   {
    "duration": 6,
    "start_time": "2022-06-15T11:26:19.506Z"
   },
   {
    "duration": 8,
    "start_time": "2022-06-15T11:26:19.514Z"
   },
   {
    "duration": 203,
    "start_time": "2022-06-15T11:26:19.523Z"
   },
   {
    "duration": 6,
    "start_time": "2022-06-15T11:26:19.728Z"
   },
   {
    "duration": 197,
    "start_time": "2022-06-15T11:26:19.736Z"
   },
   {
    "duration": 7,
    "start_time": "2022-06-15T11:26:19.935Z"
   },
   {
    "duration": 71,
    "start_time": "2022-06-15T11:26:19.944Z"
   },
   {
    "duration": 6,
    "start_time": "2022-06-15T11:26:20.018Z"
   },
   {
    "duration": 306,
    "start_time": "2022-06-15T11:26:20.027Z"
   },
   {
    "duration": 6,
    "start_time": "2022-06-15T11:26:20.335Z"
   },
   {
    "duration": 32,
    "start_time": "2022-06-15T11:26:20.343Z"
   },
   {
    "duration": 25,
    "start_time": "2022-06-15T11:26:20.377Z"
   },
   {
    "duration": 154,
    "start_time": "2022-06-15T11:26:20.404Z"
   },
   {
    "duration": 24,
    "start_time": "2022-06-15T11:26:20.560Z"
   },
   {
    "duration": 41,
    "start_time": "2022-06-15T11:26:20.587Z"
   },
   {
    "duration": 177,
    "start_time": "2022-06-15T11:26:20.630Z"
   },
   {
    "duration": 6,
    "start_time": "2022-06-15T11:26:20.809Z"
   },
   {
    "duration": 47,
    "start_time": "2022-06-15T11:26:20.816Z"
   },
   {
    "duration": 173,
    "start_time": "2022-06-15T11:26:20.874Z"
   },
   {
    "duration": 6,
    "start_time": "2022-06-15T11:26:21.049Z"
   },
   {
    "duration": 30,
    "start_time": "2022-06-15T11:26:21.057Z"
   },
   {
    "duration": 198,
    "start_time": "2022-06-15T11:26:21.089Z"
   },
   {
    "duration": 8,
    "start_time": "2022-06-15T11:26:21.289Z"
   },
   {
    "duration": 9,
    "start_time": "2022-06-15T11:26:21.298Z"
   },
   {
    "duration": 12,
    "start_time": "2022-06-15T11:26:21.309Z"
   },
   {
    "duration": 18,
    "start_time": "2022-06-15T11:26:21.322Z"
   },
   {
    "duration": 274,
    "start_time": "2022-06-15T11:26:21.342Z"
   },
   {
    "duration": 6,
    "start_time": "2022-06-15T11:26:21.618Z"
   },
   {
    "duration": 75,
    "start_time": "2022-06-15T11:26:21.626Z"
   },
   {
    "duration": 8,
    "start_time": "2022-06-15T11:26:21.703Z"
   },
   {
    "duration": 15,
    "start_time": "2022-06-15T11:26:21.712Z"
   },
   {
    "duration": 13,
    "start_time": "2022-06-15T11:26:21.728Z"
   },
   {
    "duration": 173,
    "start_time": "2022-06-15T11:26:21.765Z"
   },
   {
    "duration": 5,
    "start_time": "2022-06-15T11:26:21.940Z"
   },
   {
    "duration": 167,
    "start_time": "2022-06-15T11:26:21.947Z"
   },
   {
    "duration": 16,
    "start_time": "2022-06-15T11:26:22.117Z"
   },
   {
    "duration": 0,
    "start_time": "2022-06-15T11:26:22.135Z"
   },
   {
    "duration": 165,
    "start_time": "2022-06-15T11:27:59.035Z"
   },
   {
    "duration": 2381,
    "start_time": "2022-06-15T11:28:10.948Z"
   },
   {
    "duration": 753,
    "start_time": "2022-06-15T11:28:13.332Z"
   },
   {
    "duration": 7,
    "start_time": "2022-06-15T11:28:14.087Z"
   },
   {
    "duration": 8,
    "start_time": "2022-06-15T11:28:14.097Z"
   },
   {
    "duration": 20,
    "start_time": "2022-06-15T11:28:14.107Z"
   },
   {
    "duration": 54,
    "start_time": "2022-06-15T11:28:14.128Z"
   },
   {
    "duration": 17,
    "start_time": "2022-06-15T11:28:14.185Z"
   },
   {
    "duration": 181,
    "start_time": "2022-06-15T11:28:14.204Z"
   },
   {
    "duration": 105,
    "start_time": "2022-06-15T11:28:14.388Z"
   },
   {
    "duration": 116,
    "start_time": "2022-06-15T11:28:14.497Z"
   },
   {
    "duration": 154,
    "start_time": "2022-06-15T11:28:14.615Z"
   },
   {
    "duration": 20,
    "start_time": "2022-06-15T11:28:14.771Z"
   },
   {
    "duration": 53,
    "start_time": "2022-06-15T11:28:14.793Z"
   },
   {
    "duration": 31,
    "start_time": "2022-06-15T11:28:14.848Z"
   },
   {
    "duration": 200,
    "start_time": "2022-06-15T11:28:14.880Z"
   },
   {
    "duration": 4,
    "start_time": "2022-06-15T11:28:15.082Z"
   },
   {
    "duration": 7,
    "start_time": "2022-06-15T11:28:15.088Z"
   },
   {
    "duration": 307,
    "start_time": "2022-06-15T11:28:15.098Z"
   },
   {
    "duration": 7,
    "start_time": "2022-06-15T11:28:15.407Z"
   },
   {
    "duration": 11,
    "start_time": "2022-06-15T11:28:15.416Z"
   },
   {
    "duration": 51,
    "start_time": "2022-06-15T11:28:15.430Z"
   },
   {
    "duration": 49,
    "start_time": "2022-06-15T11:28:15.484Z"
   },
   {
    "duration": 9,
    "start_time": "2022-06-15T11:28:15.536Z"
   },
   {
    "duration": 71,
    "start_time": "2022-06-15T11:28:15.549Z"
   },
   {
    "duration": 7,
    "start_time": "2022-06-15T11:28:15.622Z"
   },
   {
    "duration": 13,
    "start_time": "2022-06-15T11:28:15.631Z"
   },
   {
    "duration": 21,
    "start_time": "2022-06-15T11:28:15.646Z"
   },
   {
    "duration": 15,
    "start_time": "2022-06-15T11:28:15.672Z"
   },
   {
    "duration": 10,
    "start_time": "2022-06-15T11:28:15.689Z"
   },
   {
    "duration": 195,
    "start_time": "2022-06-15T11:28:15.701Z"
   },
   {
    "duration": 9,
    "start_time": "2022-06-15T11:28:15.897Z"
   },
   {
    "duration": 84,
    "start_time": "2022-06-15T11:28:15.909Z"
   },
   {
    "duration": 34,
    "start_time": "2022-06-15T11:28:15.995Z"
   },
   {
    "duration": 11,
    "start_time": "2022-06-15T11:28:16.031Z"
   },
   {
    "duration": 29,
    "start_time": "2022-06-15T11:28:16.044Z"
   },
   {
    "duration": 17,
    "start_time": "2022-06-15T11:28:16.074Z"
   },
   {
    "duration": 185,
    "start_time": "2022-06-15T11:28:16.094Z"
   },
   {
    "duration": 6,
    "start_time": "2022-06-15T11:28:16.283Z"
   },
   {
    "duration": 295,
    "start_time": "2022-06-15T11:28:16.291Z"
   },
   {
    "duration": 10,
    "start_time": "2022-06-15T11:28:16.588Z"
   },
   {
    "duration": 52,
    "start_time": "2022-06-15T11:28:16.601Z"
   },
   {
    "duration": 15,
    "start_time": "2022-06-15T11:28:16.655Z"
   },
   {
    "duration": 156,
    "start_time": "2022-06-15T11:28:16.671Z"
   },
   {
    "duration": 5,
    "start_time": "2022-06-15T11:28:16.829Z"
   },
   {
    "duration": 20,
    "start_time": "2022-06-15T11:28:16.836Z"
   },
   {
    "duration": 27,
    "start_time": "2022-06-15T11:28:16.874Z"
   },
   {
    "duration": 155,
    "start_time": "2022-06-15T11:28:16.903Z"
   },
   {
    "duration": 8,
    "start_time": "2022-06-15T11:28:17.065Z"
   },
   {
    "duration": 33,
    "start_time": "2022-06-15T11:28:17.075Z"
   },
   {
    "duration": 164,
    "start_time": "2022-06-15T11:28:17.110Z"
   },
   {
    "duration": 6,
    "start_time": "2022-06-15T11:28:17.283Z"
   },
   {
    "duration": 22,
    "start_time": "2022-06-15T11:28:17.290Z"
   },
   {
    "duration": 179,
    "start_time": "2022-06-15T11:28:17.314Z"
   },
   {
    "duration": 7,
    "start_time": "2022-06-15T11:28:17.495Z"
   },
   {
    "duration": 12,
    "start_time": "2022-06-15T11:28:17.504Z"
   },
   {
    "duration": 172,
    "start_time": "2022-06-15T11:28:17.518Z"
   },
   {
    "duration": 5,
    "start_time": "2022-06-15T11:28:17.692Z"
   },
   {
    "duration": 12,
    "start_time": "2022-06-15T11:28:17.698Z"
   },
   {
    "duration": 5,
    "start_time": "2022-06-15T11:28:17.711Z"
   },
   {
    "duration": 13,
    "start_time": "2022-06-15T11:28:17.718Z"
   },
   {
    "duration": 209,
    "start_time": "2022-06-15T11:28:17.733Z"
   },
   {
    "duration": 6,
    "start_time": "2022-06-15T11:28:17.944Z"
   },
   {
    "duration": 74,
    "start_time": "2022-06-15T11:28:17.952Z"
   },
   {
    "duration": 6,
    "start_time": "2022-06-15T11:28:18.028Z"
   },
   {
    "duration": 26,
    "start_time": "2022-06-15T11:28:18.036Z"
   },
   {
    "duration": 30,
    "start_time": "2022-06-15T11:28:18.064Z"
   },
   {
    "duration": 146,
    "start_time": "2022-06-15T11:28:18.096Z"
   },
   {
    "duration": 4,
    "start_time": "2022-06-15T11:28:18.244Z"
   },
   {
    "duration": 185,
    "start_time": "2022-06-15T11:28:18.250Z"
   },
   {
    "duration": 0,
    "start_time": "2022-06-15T11:28:18.437Z"
   },
   {
    "duration": 253,
    "start_time": "2022-06-15T11:28:52.268Z"
   },
   {
    "duration": 371,
    "start_time": "2022-06-15T11:33:11.290Z"
   },
   {
    "duration": 6,
    "start_time": "2022-06-15T11:52:55.344Z"
   },
   {
    "duration": 10,
    "start_time": "2022-06-15T11:53:49.253Z"
   },
   {
    "duration": 114,
    "start_time": "2022-06-15T11:55:21.982Z"
   },
   {
    "duration": 3,
    "start_time": "2022-06-15T12:12:15.345Z"
   },
   {
    "duration": 13,
    "start_time": "2022-06-15T12:12:27.927Z"
   },
   {
    "duration": 18,
    "start_time": "2022-06-15T12:13:13.271Z"
   },
   {
    "duration": 14,
    "start_time": "2022-06-15T12:13:32.364Z"
   },
   {
    "duration": 4,
    "start_time": "2022-06-15T12:14:02.222Z"
   },
   {
    "duration": 699,
    "start_time": "2022-06-15T12:14:17.455Z"
   },
   {
    "duration": 5,
    "start_time": "2022-06-15T12:14:18.538Z"
   },
   {
    "duration": 3,
    "start_time": "2022-06-15T12:14:34.421Z"
   },
   {
    "duration": 12,
    "start_time": "2022-06-15T12:14:35.186Z"
   },
   {
    "duration": 17,
    "start_time": "2022-06-15T12:14:35.918Z"
   },
   {
    "duration": 5,
    "start_time": "2022-06-15T12:14:42.943Z"
   },
   {
    "duration": 162,
    "start_time": "2022-06-15T12:15:04.828Z"
   },
   {
    "duration": 26,
    "start_time": "2022-06-15T12:15:57.426Z"
   },
   {
    "duration": 27,
    "start_time": "2022-06-15T12:16:14.357Z"
   },
   {
    "duration": 34,
    "start_time": "2022-06-15T12:16:34.165Z"
   },
   {
    "duration": 32,
    "start_time": "2022-06-15T12:18:21.262Z"
   },
   {
    "duration": 11,
    "start_time": "2022-06-15T12:18:29.526Z"
   },
   {
    "duration": 13,
    "start_time": "2022-06-15T12:19:29.718Z"
   },
   {
    "duration": 18,
    "start_time": "2022-06-15T12:19:45.962Z"
   },
   {
    "duration": 50,
    "start_time": "2022-06-15T12:20:47.477Z"
   },
   {
    "duration": 118,
    "start_time": "2022-06-15T12:21:11.008Z"
   },
   {
    "duration": 31,
    "start_time": "2022-06-15T12:22:28.963Z"
   },
   {
    "duration": 13,
    "start_time": "2022-06-15T12:22:50.415Z"
   },
   {
    "duration": 69,
    "start_time": "2022-06-15T12:24:17.177Z"
   },
   {
    "duration": 171,
    "start_time": "2022-06-15T12:24:29.141Z"
   },
   {
    "duration": 23,
    "start_time": "2022-06-15T12:25:36.419Z"
   },
   {
    "duration": 242,
    "start_time": "2022-06-15T12:26:39.483Z"
   },
   {
    "duration": 32,
    "start_time": "2022-06-15T12:27:29.117Z"
   },
   {
    "duration": 158,
    "start_time": "2022-06-15T12:28:38.352Z"
   },
   {
    "duration": 19,
    "start_time": "2022-06-15T12:30:16.229Z"
   },
   {
    "duration": 11,
    "start_time": "2022-06-15T12:52:22.851Z"
   },
   {
    "duration": 15,
    "start_time": "2022-06-15T12:53:16.025Z"
   },
   {
    "duration": 14,
    "start_time": "2022-06-15T12:54:08.856Z"
   },
   {
    "duration": 42,
    "start_time": "2022-06-15T12:58:56.617Z"
   },
   {
    "duration": 47,
    "start_time": "2022-06-15T13:02:39.864Z"
   },
   {
    "duration": 51,
    "start_time": "2022-06-15T13:02:50.224Z"
   },
   {
    "duration": 35,
    "start_time": "2022-06-15T13:07:04.426Z"
   },
   {
    "duration": 43,
    "start_time": "2022-06-15T13:07:13.834Z"
   },
   {
    "duration": 46,
    "start_time": "2022-06-15T13:24:18.132Z"
   },
   {
    "duration": 38,
    "start_time": "2022-06-15T13:25:30.162Z"
   },
   {
    "duration": 40,
    "start_time": "2022-06-15T13:26:54.104Z"
   },
   {
    "duration": 48,
    "start_time": "2022-06-15T13:26:57.435Z"
   },
   {
    "duration": 12,
    "start_time": "2022-06-15T13:30:43.895Z"
   },
   {
    "duration": 11,
    "start_time": "2022-06-15T13:31:28.523Z"
   },
   {
    "duration": 46,
    "start_time": "2022-06-15T13:32:20.439Z"
   },
   {
    "duration": 11,
    "start_time": "2022-06-15T13:32:25.768Z"
   },
   {
    "duration": 2471,
    "start_time": "2022-06-15T13:32:40.515Z"
   },
   {
    "duration": 1026,
    "start_time": "2022-06-15T13:32:42.988Z"
   },
   {
    "duration": 3,
    "start_time": "2022-06-15T13:32:44.016Z"
   },
   {
    "duration": 19,
    "start_time": "2022-06-15T13:32:44.022Z"
   },
   {
    "duration": 28,
    "start_time": "2022-06-15T13:32:44.043Z"
   },
   {
    "duration": 34,
    "start_time": "2022-06-15T13:32:44.072Z"
   },
   {
    "duration": 16,
    "start_time": "2022-06-15T13:32:44.108Z"
   },
   {
    "duration": 113,
    "start_time": "2022-06-15T13:32:44.126Z"
   },
   {
    "duration": 77,
    "start_time": "2022-06-15T13:32:44.241Z"
   },
   {
    "duration": 111,
    "start_time": "2022-06-15T13:32:44.322Z"
   },
   {
    "duration": 144,
    "start_time": "2022-06-15T13:32:44.435Z"
   },
   {
    "duration": 15,
    "start_time": "2022-06-15T13:32:44.581Z"
   },
   {
    "duration": 66,
    "start_time": "2022-06-15T13:32:44.598Z"
   },
   {
    "duration": 12,
    "start_time": "2022-06-15T13:32:44.666Z"
   },
   {
    "duration": 177,
    "start_time": "2022-06-15T13:32:44.679Z"
   },
   {
    "duration": 4,
    "start_time": "2022-06-15T13:32:44.864Z"
   },
   {
    "duration": 7,
    "start_time": "2022-06-15T13:32:44.870Z"
   },
   {
    "duration": 393,
    "start_time": "2022-06-15T13:32:44.879Z"
   },
   {
    "duration": 6,
    "start_time": "2022-06-15T13:32:45.274Z"
   },
   {
    "duration": 14,
    "start_time": "2022-06-15T13:32:45.282Z"
   },
   {
    "duration": 13,
    "start_time": "2022-06-15T13:32:45.297Z"
   },
   {
    "duration": 62,
    "start_time": "2022-06-15T13:32:45.312Z"
   },
   {
    "duration": 5,
    "start_time": "2022-06-15T13:32:45.376Z"
   },
   {
    "duration": 53,
    "start_time": "2022-06-15T13:32:45.383Z"
   },
   {
    "duration": 7,
    "start_time": "2022-06-15T13:32:45.438Z"
   },
   {
    "duration": 4,
    "start_time": "2022-06-15T13:32:45.464Z"
   },
   {
    "duration": 7,
    "start_time": "2022-06-15T13:32:45.470Z"
   },
   {
    "duration": 12,
    "start_time": "2022-06-15T13:32:45.481Z"
   },
   {
    "duration": 3,
    "start_time": "2022-06-15T13:32:45.495Z"
   },
   {
    "duration": 169,
    "start_time": "2022-06-15T13:32:45.500Z"
   },
   {
    "duration": 7,
    "start_time": "2022-06-15T13:32:45.671Z"
   },
   {
    "duration": 62,
    "start_time": "2022-06-15T13:32:45.679Z"
   },
   {
    "duration": 53,
    "start_time": "2022-06-15T13:32:45.743Z"
   },
   {
    "duration": 7,
    "start_time": "2022-06-15T13:32:45.798Z"
   },
   {
    "duration": 10,
    "start_time": "2022-06-15T13:32:45.807Z"
   },
   {
    "duration": 8,
    "start_time": "2022-06-15T13:32:45.818Z"
   },
   {
    "duration": 177,
    "start_time": "2022-06-15T13:32:45.828Z"
   },
   {
    "duration": 6,
    "start_time": "2022-06-15T13:32:46.007Z"
   },
   {
    "duration": 160,
    "start_time": "2022-06-15T13:32:46.015Z"
   },
   {
    "duration": 7,
    "start_time": "2022-06-15T13:32:46.177Z"
   },
   {
    "duration": 42,
    "start_time": "2022-06-15T13:32:46.185Z"
   },
   {
    "duration": 5,
    "start_time": "2022-06-15T13:32:46.229Z"
   },
   {
    "duration": 167,
    "start_time": "2022-06-15T13:32:46.236Z"
   },
   {
    "duration": 5,
    "start_time": "2022-06-15T13:32:46.405Z"
   },
   {
    "duration": 18,
    "start_time": "2022-06-15T13:32:46.412Z"
   },
   {
    "duration": 12,
    "start_time": "2022-06-15T13:32:46.432Z"
   },
   {
    "duration": 167,
    "start_time": "2022-06-15T13:32:46.445Z"
   },
   {
    "duration": 5,
    "start_time": "2022-06-15T13:32:46.613Z"
   },
   {
    "duration": 10,
    "start_time": "2022-06-15T13:32:46.620Z"
   },
   {
    "duration": 170,
    "start_time": "2022-06-15T13:32:46.632Z"
   },
   {
    "duration": 6,
    "start_time": "2022-06-15T13:32:46.805Z"
   },
   {
    "duration": 7,
    "start_time": "2022-06-15T13:32:46.812Z"
   },
   {
    "duration": 184,
    "start_time": "2022-06-15T13:32:46.821Z"
   },
   {
    "duration": 5,
    "start_time": "2022-06-15T13:32:47.007Z"
   },
   {
    "duration": 9,
    "start_time": "2022-06-15T13:32:47.014Z"
   },
   {
    "duration": 167,
    "start_time": "2022-06-15T13:32:47.025Z"
   },
   {
    "duration": 5,
    "start_time": "2022-06-15T13:32:47.194Z"
   },
   {
    "duration": 11,
    "start_time": "2022-06-15T13:32:47.200Z"
   },
   {
    "duration": 5,
    "start_time": "2022-06-15T13:32:47.212Z"
   },
   {
    "duration": 16,
    "start_time": "2022-06-15T13:32:47.219Z"
   },
   {
    "duration": 211,
    "start_time": "2022-06-15T13:32:47.237Z"
   },
   {
    "duration": 4,
    "start_time": "2022-06-15T13:32:47.450Z"
   },
   {
    "duration": 59,
    "start_time": "2022-06-15T13:32:47.464Z"
   },
   {
    "duration": 7,
    "start_time": "2022-06-15T13:32:47.525Z"
   },
   {
    "duration": 19,
    "start_time": "2022-06-15T13:32:47.534Z"
   },
   {
    "duration": 18,
    "start_time": "2022-06-15T13:32:47.555Z"
   },
   {
    "duration": 142,
    "start_time": "2022-06-15T13:32:47.574Z"
   },
   {
    "duration": 3,
    "start_time": "2022-06-15T13:32:47.718Z"
   },
   {
    "duration": 250,
    "start_time": "2022-06-15T13:32:47.722Z"
   },
   {
    "duration": 378,
    "start_time": "2022-06-15T13:32:47.974Z"
   },
   {
    "duration": 116,
    "start_time": "2022-06-15T13:32:48.354Z"
   },
   {
    "duration": 13,
    "start_time": "2022-06-15T13:32:48.472Z"
   },
   {
    "duration": 16,
    "start_time": "2022-06-15T13:32:48.487Z"
   },
   {
    "duration": 43,
    "start_time": "2022-06-15T13:32:48.504Z"
   },
   {
    "duration": 123,
    "start_time": "2022-06-15T13:32:48.549Z"
   },
   {
    "duration": 13,
    "start_time": "2022-06-15T13:32:48.674Z"
   },
   {
    "duration": 13,
    "start_time": "2022-06-15T13:32:48.688Z"
   },
   {
    "duration": 44,
    "start_time": "2022-06-15T13:32:48.702Z"
   },
   {
    "duration": 243,
    "start_time": "2022-06-15T13:32:48.764Z"
   },
   {
    "duration": 25,
    "start_time": "2022-06-15T13:32:49.010Z"
   },
   {
    "duration": 161,
    "start_time": "2022-06-15T13:32:49.038Z"
   },
   {
    "duration": 23,
    "start_time": "2022-06-15T13:32:49.204Z"
   },
   {
    "duration": 147,
    "start_time": "2022-06-15T13:32:49.228Z"
   },
   {
    "duration": 12,
    "start_time": "2022-06-15T13:32:49.377Z"
   },
   {
    "duration": 43,
    "start_time": "2022-06-15T13:32:49.390Z"
   },
   {
    "duration": 52,
    "start_time": "2022-06-15T13:32:49.435Z"
   },
   {
    "duration": 10,
    "start_time": "2022-06-15T13:32:49.489Z"
   },
   {
    "duration": 0,
    "start_time": "2022-06-15T13:32:49.501Z"
   },
   {
    "duration": 47,
    "start_time": "2022-06-15T13:33:31.941Z"
   },
   {
    "duration": 11,
    "start_time": "2022-06-15T13:33:33.729Z"
   },
   {
    "duration": 12,
    "start_time": "2022-06-15T13:33:58.472Z"
   },
   {
    "duration": 139,
    "start_time": "2022-06-15T13:35:17.160Z"
   },
   {
    "duration": 4,
    "start_time": "2022-06-15T13:35:33.401Z"
   },
   {
    "duration": 8,
    "start_time": "2022-06-15T13:35:45.121Z"
   },
   {
    "duration": 15,
    "start_time": "2022-06-15T13:35:53.855Z"
   },
   {
    "duration": 2358,
    "start_time": "2022-06-15T13:36:12.750Z"
   },
   {
    "duration": 744,
    "start_time": "2022-06-15T13:36:15.110Z"
   },
   {
    "duration": 8,
    "start_time": "2022-06-15T13:36:15.856Z"
   },
   {
    "duration": 5,
    "start_time": "2022-06-15T13:36:15.867Z"
   },
   {
    "duration": 19,
    "start_time": "2022-06-15T13:36:15.875Z"
   },
   {
    "duration": 26,
    "start_time": "2022-06-15T13:36:15.896Z"
   },
   {
    "duration": 12,
    "start_time": "2022-06-15T13:36:15.924Z"
   },
   {
    "duration": 139,
    "start_time": "2022-06-15T13:36:15.937Z"
   },
   {
    "duration": 94,
    "start_time": "2022-06-15T13:36:16.079Z"
   },
   {
    "duration": 97,
    "start_time": "2022-06-15T13:36:16.176Z"
   },
   {
    "duration": 147,
    "start_time": "2022-06-15T13:36:16.275Z"
   },
   {
    "duration": 15,
    "start_time": "2022-06-15T13:36:16.424Z"
   },
   {
    "duration": 66,
    "start_time": "2022-06-15T13:36:16.441Z"
   },
   {
    "duration": 14,
    "start_time": "2022-06-15T13:36:16.509Z"
   },
   {
    "duration": 185,
    "start_time": "2022-06-15T13:36:16.525Z"
   },
   {
    "duration": 6,
    "start_time": "2022-06-15T13:36:16.712Z"
   },
   {
    "duration": 6,
    "start_time": "2022-06-15T13:36:16.720Z"
   },
   {
    "duration": 269,
    "start_time": "2022-06-15T13:36:16.728Z"
   },
   {
    "duration": 7,
    "start_time": "2022-06-15T13:36:16.999Z"
   },
   {
    "duration": 13,
    "start_time": "2022-06-15T13:36:17.008Z"
   },
   {
    "duration": 13,
    "start_time": "2022-06-15T13:36:17.023Z"
   },
   {
    "duration": 39,
    "start_time": "2022-06-15T13:36:17.065Z"
   },
   {
    "duration": 7,
    "start_time": "2022-06-15T13:36:17.106Z"
   },
   {
    "duration": 78,
    "start_time": "2022-06-15T13:36:17.114Z"
   },
   {
    "duration": 6,
    "start_time": "2022-06-15T13:36:17.194Z"
   },
   {
    "duration": 5,
    "start_time": "2022-06-15T13:36:17.202Z"
   },
   {
    "duration": 7,
    "start_time": "2022-06-15T13:36:17.209Z"
   },
   {
    "duration": 11,
    "start_time": "2022-06-15T13:36:17.220Z"
   },
   {
    "duration": 4,
    "start_time": "2022-06-15T13:36:17.233Z"
   },
   {
    "duration": 169,
    "start_time": "2022-06-15T13:36:17.265Z"
   },
   {
    "duration": 8,
    "start_time": "2022-06-15T13:36:17.436Z"
   },
   {
    "duration": 98,
    "start_time": "2022-06-15T13:36:17.447Z"
   },
   {
    "duration": 39,
    "start_time": "2022-06-15T13:36:17.546Z"
   },
   {
    "duration": 8,
    "start_time": "2022-06-15T13:36:17.587Z"
   },
   {
    "duration": 13,
    "start_time": "2022-06-15T13:36:17.597Z"
   },
   {
    "duration": 4,
    "start_time": "2022-06-15T13:36:17.613Z"
   },
   {
    "duration": 181,
    "start_time": "2022-06-15T13:36:17.620Z"
   },
   {
    "duration": 6,
    "start_time": "2022-06-15T13:36:17.803Z"
   },
   {
    "duration": 167,
    "start_time": "2022-06-15T13:36:17.811Z"
   },
   {
    "duration": 5,
    "start_time": "2022-06-15T13:36:17.980Z"
   },
   {
    "duration": 43,
    "start_time": "2022-06-15T13:36:17.987Z"
   },
   {
    "duration": 6,
    "start_time": "2022-06-15T13:36:18.032Z"
   },
   {
    "duration": 161,
    "start_time": "2022-06-15T13:36:18.040Z"
   },
   {
    "duration": 5,
    "start_time": "2022-06-15T13:36:18.203Z"
   },
   {
    "duration": 20,
    "start_time": "2022-06-15T13:36:18.210Z"
   },
   {
    "duration": 12,
    "start_time": "2022-06-15T13:36:18.232Z"
   },
   {
    "duration": 145,
    "start_time": "2022-06-15T13:36:18.264Z"
   },
   {
    "duration": 5,
    "start_time": "2022-06-15T13:36:18.411Z"
   },
   {
    "duration": 7,
    "start_time": "2022-06-15T13:36:18.418Z"
   },
   {
    "duration": 184,
    "start_time": "2022-06-15T13:36:18.427Z"
   },
   {
    "duration": 6,
    "start_time": "2022-06-15T13:36:18.613Z"
   },
   {
    "duration": 10,
    "start_time": "2022-06-15T13:36:18.620Z"
   },
   {
    "duration": 175,
    "start_time": "2022-06-15T13:36:18.632Z"
   },
   {
    "duration": 6,
    "start_time": "2022-06-15T13:36:18.808Z"
   },
   {
    "duration": 13,
    "start_time": "2022-06-15T13:36:18.815Z"
   },
   {
    "duration": 215,
    "start_time": "2022-06-15T13:36:18.830Z"
   },
   {
    "duration": 7,
    "start_time": "2022-06-15T13:36:19.047Z"
   },
   {
    "duration": 21,
    "start_time": "2022-06-15T13:36:19.065Z"
   },
   {
    "duration": 12,
    "start_time": "2022-06-15T13:36:19.088Z"
   },
   {
    "duration": 34,
    "start_time": "2022-06-15T13:36:19.103Z"
   },
   {
    "duration": 352,
    "start_time": "2022-06-15T13:36:19.139Z"
   },
   {
    "duration": 6,
    "start_time": "2022-06-15T13:36:19.493Z"
   },
   {
    "duration": 49,
    "start_time": "2022-06-15T13:36:19.501Z"
   },
   {
    "duration": 5,
    "start_time": "2022-06-15T13:36:19.565Z"
   },
   {
    "duration": 14,
    "start_time": "2022-06-15T13:36:19.572Z"
   },
   {
    "duration": 11,
    "start_time": "2022-06-15T13:36:19.588Z"
   },
   {
    "duration": 157,
    "start_time": "2022-06-15T13:36:19.601Z"
   },
   {
    "duration": 6,
    "start_time": "2022-06-15T13:36:19.761Z"
   },
   {
    "duration": 255,
    "start_time": "2022-06-15T13:36:19.768Z"
   },
   {
    "duration": 416,
    "start_time": "2022-06-15T13:36:20.026Z"
   },
   {
    "duration": 145,
    "start_time": "2022-06-15T13:36:20.444Z"
   },
   {
    "duration": 14,
    "start_time": "2022-06-15T13:36:20.591Z"
   },
   {
    "duration": 20,
    "start_time": "2022-06-15T13:36:20.607Z"
   },
   {
    "duration": 61,
    "start_time": "2022-06-15T13:36:20.629Z"
   },
   {
    "duration": 114,
    "start_time": "2022-06-15T13:36:20.692Z"
   },
   {
    "duration": 15,
    "start_time": "2022-06-15T13:36:20.807Z"
   },
   {
    "duration": 22,
    "start_time": "2022-06-15T13:36:20.823Z"
   },
   {
    "duration": 71,
    "start_time": "2022-06-15T13:36:20.847Z"
   },
   {
    "duration": 115,
    "start_time": "2022-06-15T13:36:20.920Z"
   },
   {
    "duration": 35,
    "start_time": "2022-06-15T13:36:21.037Z"
   },
   {
    "duration": 170,
    "start_time": "2022-06-15T13:36:21.074Z"
   },
   {
    "duration": 31,
    "start_time": "2022-06-15T13:36:21.251Z"
   },
   {
    "duration": 151,
    "start_time": "2022-06-15T13:36:21.284Z"
   },
   {
    "duration": 12,
    "start_time": "2022-06-15T13:36:21.437Z"
   },
   {
    "duration": 58,
    "start_time": "2022-06-15T13:36:21.451Z"
   },
   {
    "duration": 38,
    "start_time": "2022-06-15T13:36:21.510Z"
   },
   {
    "duration": 18,
    "start_time": "2022-06-15T13:36:21.550Z"
   },
   {
    "duration": 27,
    "start_time": "2022-06-15T13:36:21.570Z"
   },
   {
    "duration": 11,
    "start_time": "2022-06-15T13:36:49.459Z"
   },
   {
    "duration": 21,
    "start_time": "2022-06-15T13:37:43.738Z"
   },
   {
    "duration": 39,
    "start_time": "2022-06-15T13:38:05.571Z"
   },
   {
    "duration": 11,
    "start_time": "2022-06-15T13:38:30.959Z"
   },
   {
    "duration": 9,
    "start_time": "2022-06-15T13:38:32.455Z"
   },
   {
    "duration": 5,
    "start_time": "2022-06-15T13:38:40.688Z"
   },
   {
    "duration": 8,
    "start_time": "2022-06-15T13:38:41.131Z"
   },
   {
    "duration": 2435,
    "start_time": "2022-06-15T13:38:45.620Z"
   },
   {
    "duration": 763,
    "start_time": "2022-06-15T13:38:48.058Z"
   },
   {
    "duration": 4,
    "start_time": "2022-06-15T13:38:48.822Z"
   },
   {
    "duration": 7,
    "start_time": "2022-06-15T13:38:48.828Z"
   },
   {
    "duration": 29,
    "start_time": "2022-06-15T13:38:48.837Z"
   },
   {
    "duration": 37,
    "start_time": "2022-06-15T13:38:48.868Z"
   },
   {
    "duration": 12,
    "start_time": "2022-06-15T13:38:48.906Z"
   },
   {
    "duration": 128,
    "start_time": "2022-06-15T13:38:48.920Z"
   },
   {
    "duration": 108,
    "start_time": "2022-06-15T13:38:49.049Z"
   },
   {
    "duration": 154,
    "start_time": "2022-06-15T13:38:49.167Z"
   },
   {
    "duration": 177,
    "start_time": "2022-06-15T13:38:49.324Z"
   },
   {
    "duration": 13,
    "start_time": "2022-06-15T13:38:49.503Z"
   },
   {
    "duration": 71,
    "start_time": "2022-06-15T13:38:49.518Z"
   },
   {
    "duration": 13,
    "start_time": "2022-06-15T13:38:49.591Z"
   },
   {
    "duration": 187,
    "start_time": "2022-06-15T13:38:49.605Z"
   },
   {
    "duration": 4,
    "start_time": "2022-06-15T13:38:49.794Z"
   },
   {
    "duration": 6,
    "start_time": "2022-06-15T13:38:49.800Z"
   },
   {
    "duration": 294,
    "start_time": "2022-06-15T13:38:49.808Z"
   },
   {
    "duration": 6,
    "start_time": "2022-06-15T13:38:50.104Z"
   },
   {
    "duration": 11,
    "start_time": "2022-06-15T13:38:50.112Z"
   },
   {
    "duration": 13,
    "start_time": "2022-06-15T13:38:50.125Z"
   },
   {
    "duration": 44,
    "start_time": "2022-06-15T13:38:50.166Z"
   },
   {
    "duration": 6,
    "start_time": "2022-06-15T13:38:50.212Z"
   },
   {
    "duration": 81,
    "start_time": "2022-06-15T13:38:50.220Z"
   },
   {
    "duration": 6,
    "start_time": "2022-06-15T13:38:50.303Z"
   },
   {
    "duration": 14,
    "start_time": "2022-06-15T13:38:50.311Z"
   },
   {
    "duration": 6,
    "start_time": "2022-06-15T13:38:50.326Z"
   },
   {
    "duration": 38,
    "start_time": "2022-06-15T13:38:50.337Z"
   },
   {
    "duration": 6,
    "start_time": "2022-06-15T13:38:50.376Z"
   },
   {
    "duration": 162,
    "start_time": "2022-06-15T13:38:50.384Z"
   },
   {
    "duration": 18,
    "start_time": "2022-06-15T13:38:50.548Z"
   },
   {
    "duration": 75,
    "start_time": "2022-06-15T13:38:50.568Z"
   },
   {
    "duration": 50,
    "start_time": "2022-06-15T13:38:50.645Z"
   },
   {
    "duration": 7,
    "start_time": "2022-06-15T13:38:50.697Z"
   },
   {
    "duration": 5,
    "start_time": "2022-06-15T13:38:50.705Z"
   },
   {
    "duration": 6,
    "start_time": "2022-06-15T13:38:50.712Z"
   },
   {
    "duration": 201,
    "start_time": "2022-06-15T13:38:50.720Z"
   },
   {
    "duration": 6,
    "start_time": "2022-06-15T13:38:50.922Z"
   },
   {
    "duration": 174,
    "start_time": "2022-06-15T13:38:50.929Z"
   },
   {
    "duration": 7,
    "start_time": "2022-06-15T13:38:51.105Z"
   },
   {
    "duration": 67,
    "start_time": "2022-06-15T13:38:51.114Z"
   },
   {
    "duration": 6,
    "start_time": "2022-06-15T13:38:51.183Z"
   },
   {
    "duration": 152,
    "start_time": "2022-06-15T13:38:51.191Z"
   },
   {
    "duration": 4,
    "start_time": "2022-06-15T13:38:51.345Z"
   },
   {
    "duration": 22,
    "start_time": "2022-06-15T13:38:51.366Z"
   },
   {
    "duration": 13,
    "start_time": "2022-06-15T13:38:51.390Z"
   },
   {
    "duration": 163,
    "start_time": "2022-06-15T13:38:51.405Z"
   },
   {
    "duration": 7,
    "start_time": "2022-06-15T13:38:51.570Z"
   },
   {
    "duration": 10,
    "start_time": "2022-06-15T13:38:51.580Z"
   },
   {
    "duration": 178,
    "start_time": "2022-06-15T13:38:51.591Z"
   },
   {
    "duration": 8,
    "start_time": "2022-06-15T13:38:51.771Z"
   },
   {
    "duration": 20,
    "start_time": "2022-06-15T13:38:51.781Z"
   },
   {
    "duration": 304,
    "start_time": "2022-06-15T13:38:51.804Z"
   },
   {
    "duration": 6,
    "start_time": "2022-06-15T13:38:52.110Z"
   },
   {
    "duration": 7,
    "start_time": "2022-06-15T13:38:52.118Z"
   },
   {
    "duration": 181,
    "start_time": "2022-06-15T13:38:52.127Z"
   },
   {
    "duration": 6,
    "start_time": "2022-06-15T13:38:52.310Z"
   },
   {
    "duration": 8,
    "start_time": "2022-06-15T13:38:52.317Z"
   },
   {
    "duration": 5,
    "start_time": "2022-06-15T13:38:52.326Z"
   },
   {
    "duration": 48,
    "start_time": "2022-06-15T13:38:52.332Z"
   },
   {
    "duration": 196,
    "start_time": "2022-06-15T13:38:52.382Z"
   },
   {
    "duration": 8,
    "start_time": "2022-06-15T13:38:52.580Z"
   },
   {
    "duration": 50,
    "start_time": "2022-06-15T13:38:52.591Z"
   },
   {
    "duration": 6,
    "start_time": "2022-06-15T13:38:52.643Z"
   },
   {
    "duration": 29,
    "start_time": "2022-06-15T13:38:52.665Z"
   },
   {
    "duration": 15,
    "start_time": "2022-06-15T13:38:52.696Z"
   },
   {
    "duration": 169,
    "start_time": "2022-06-15T13:38:52.713Z"
   },
   {
    "duration": 3,
    "start_time": "2022-06-15T13:38:52.885Z"
   },
   {
    "duration": 281,
    "start_time": "2022-06-15T13:38:52.890Z"
   },
   {
    "duration": 393,
    "start_time": "2022-06-15T13:38:53.173Z"
   },
   {
    "duration": 146,
    "start_time": "2022-06-15T13:38:53.568Z"
   },
   {
    "duration": 14,
    "start_time": "2022-06-15T13:38:53.716Z"
   },
   {
    "duration": 10,
    "start_time": "2022-06-15T13:38:53.732Z"
   },
   {
    "duration": 63,
    "start_time": "2022-06-15T13:38:53.744Z"
   },
   {
    "duration": 118,
    "start_time": "2022-06-15T13:38:53.809Z"
   },
   {
    "duration": 14,
    "start_time": "2022-06-15T13:38:53.929Z"
   },
   {
    "duration": 29,
    "start_time": "2022-06-15T13:38:53.945Z"
   },
   {
    "duration": 63,
    "start_time": "2022-06-15T13:38:53.977Z"
   },
   {
    "duration": 115,
    "start_time": "2022-06-15T13:38:54.042Z"
   },
   {
    "duration": 30,
    "start_time": "2022-06-15T13:38:54.165Z"
   },
   {
    "duration": 167,
    "start_time": "2022-06-15T13:38:54.197Z"
   },
   {
    "duration": 28,
    "start_time": "2022-06-15T13:38:54.372Z"
   },
   {
    "duration": 158,
    "start_time": "2022-06-15T13:38:54.401Z"
   },
   {
    "duration": 23,
    "start_time": "2022-06-15T13:38:54.561Z"
   },
   {
    "duration": 53,
    "start_time": "2022-06-15T13:38:54.586Z"
   },
   {
    "duration": 58,
    "start_time": "2022-06-15T13:38:54.641Z"
   },
   {
    "duration": 7,
    "start_time": "2022-06-15T13:38:54.700Z"
   },
   {
    "duration": 12,
    "start_time": "2022-06-15T13:38:54.709Z"
   },
   {
    "duration": 43,
    "start_time": "2022-06-15T13:38:54.722Z"
   },
   {
    "duration": 49,
    "start_time": "2022-06-15T13:38:54.766Z"
   },
   {
    "duration": 25,
    "start_time": "2022-06-15T13:41:13.722Z"
   },
   {
    "duration": 11,
    "start_time": "2022-06-15T13:41:29.917Z"
   },
   {
    "duration": 13,
    "start_time": "2022-06-15T13:41:37.236Z"
   },
   {
    "duration": 11,
    "start_time": "2022-06-15T13:43:10.594Z"
   },
   {
    "duration": 11,
    "start_time": "2022-06-15T13:43:32.093Z"
   },
   {
    "duration": 8,
    "start_time": "2022-06-15T13:43:44.583Z"
   },
   {
    "duration": 23,
    "start_time": "2022-06-15T13:44:21.403Z"
   },
   {
    "duration": 41,
    "start_time": "2022-06-15T13:44:22.216Z"
   },
   {
    "duration": 2511,
    "start_time": "2022-06-15T13:44:55.299Z"
   },
   {
    "duration": 738,
    "start_time": "2022-06-15T13:44:57.813Z"
   },
   {
    "duration": 4,
    "start_time": "2022-06-15T13:44:58.553Z"
   },
   {
    "duration": 5,
    "start_time": "2022-06-15T13:44:58.566Z"
   },
   {
    "duration": 32,
    "start_time": "2022-06-15T13:44:58.573Z"
   },
   {
    "duration": 35,
    "start_time": "2022-06-15T13:44:58.607Z"
   },
   {
    "duration": 19,
    "start_time": "2022-06-15T13:44:58.645Z"
   },
   {
    "duration": 119,
    "start_time": "2022-06-15T13:44:58.667Z"
   },
   {
    "duration": 80,
    "start_time": "2022-06-15T13:44:58.788Z"
   },
   {
    "duration": 114,
    "start_time": "2022-06-15T13:44:58.871Z"
   },
   {
    "duration": 167,
    "start_time": "2022-06-15T13:44:58.987Z"
   },
   {
    "duration": 16,
    "start_time": "2022-06-15T13:44:59.156Z"
   },
   {
    "duration": 55,
    "start_time": "2022-06-15T13:44:59.174Z"
   },
   {
    "duration": 33,
    "start_time": "2022-06-15T13:44:59.231Z"
   },
   {
    "duration": 178,
    "start_time": "2022-06-15T13:44:59.266Z"
   },
   {
    "duration": 19,
    "start_time": "2022-06-15T13:44:59.446Z"
   },
   {
    "duration": 5,
    "start_time": "2022-06-15T13:44:59.466Z"
   },
   {
    "duration": 258,
    "start_time": "2022-06-15T13:44:59.473Z"
   },
   {
    "duration": 7,
    "start_time": "2022-06-15T13:44:59.732Z"
   },
   {
    "duration": 32,
    "start_time": "2022-06-15T13:44:59.741Z"
   },
   {
    "duration": 17,
    "start_time": "2022-06-15T13:44:59.775Z"
   },
   {
    "duration": 37,
    "start_time": "2022-06-15T13:44:59.794Z"
   },
   {
    "duration": 35,
    "start_time": "2022-06-15T13:44:59.833Z"
   },
   {
    "duration": 56,
    "start_time": "2022-06-15T13:44:59.870Z"
   },
   {
    "duration": 8,
    "start_time": "2022-06-15T13:44:59.928Z"
   },
   {
    "duration": 28,
    "start_time": "2022-06-15T13:44:59.938Z"
   },
   {
    "duration": 4,
    "start_time": "2022-06-15T13:44:59.968Z"
   },
   {
    "duration": 9,
    "start_time": "2022-06-15T13:44:59.978Z"
   },
   {
    "duration": 4,
    "start_time": "2022-06-15T13:44:59.989Z"
   },
   {
    "duration": 195,
    "start_time": "2022-06-15T13:44:59.995Z"
   },
   {
    "duration": 10,
    "start_time": "2022-06-15T13:45:00.192Z"
   },
   {
    "duration": 92,
    "start_time": "2022-06-15T13:45:00.204Z"
   },
   {
    "duration": 36,
    "start_time": "2022-06-15T13:45:00.298Z"
   },
   {
    "duration": 21,
    "start_time": "2022-06-15T13:45:00.337Z"
   },
   {
    "duration": 10,
    "start_time": "2022-06-15T13:45:00.365Z"
   },
   {
    "duration": 24,
    "start_time": "2022-06-15T13:45:00.378Z"
   },
   {
    "duration": 198,
    "start_time": "2022-06-15T13:45:00.404Z"
   },
   {
    "duration": 9,
    "start_time": "2022-06-15T13:45:00.604Z"
   },
   {
    "duration": 191,
    "start_time": "2022-06-15T13:45:00.615Z"
   },
   {
    "duration": 7,
    "start_time": "2022-06-15T13:45:00.808Z"
   },
   {
    "duration": 63,
    "start_time": "2022-06-15T13:45:00.817Z"
   },
   {
    "duration": 6,
    "start_time": "2022-06-15T13:45:00.882Z"
   },
   {
    "duration": 167,
    "start_time": "2022-06-15T13:45:00.889Z"
   },
   {
    "duration": 9,
    "start_time": "2022-06-15T13:45:01.058Z"
   },
   {
    "duration": 35,
    "start_time": "2022-06-15T13:45:01.068Z"
   },
   {
    "duration": 21,
    "start_time": "2022-06-15T13:45:01.105Z"
   },
   {
    "duration": 323,
    "start_time": "2022-06-15T13:45:01.128Z"
   },
   {
    "duration": 12,
    "start_time": "2022-06-15T13:45:01.453Z"
   },
   {
    "duration": 12,
    "start_time": "2022-06-15T13:45:01.467Z"
   },
   {
    "duration": 168,
    "start_time": "2022-06-15T13:45:01.481Z"
   },
   {
    "duration": 17,
    "start_time": "2022-06-15T13:45:01.650Z"
   },
   {
    "duration": 10,
    "start_time": "2022-06-15T13:45:01.669Z"
   },
   {
    "duration": 172,
    "start_time": "2022-06-15T13:45:01.681Z"
   },
   {
    "duration": 13,
    "start_time": "2022-06-15T13:45:01.855Z"
   },
   {
    "duration": 22,
    "start_time": "2022-06-15T13:45:01.871Z"
   },
   {
    "duration": 176,
    "start_time": "2022-06-15T13:45:01.895Z"
   },
   {
    "duration": 9,
    "start_time": "2022-06-15T13:45:02.074Z"
   },
   {
    "duration": 54,
    "start_time": "2022-06-15T13:45:02.086Z"
   },
   {
    "duration": 26,
    "start_time": "2022-06-15T13:45:02.142Z"
   },
   {
    "duration": 46,
    "start_time": "2022-06-15T13:45:02.170Z"
   },
   {
    "duration": 264,
    "start_time": "2022-06-15T13:45:02.219Z"
   },
   {
    "duration": 7,
    "start_time": "2022-06-15T13:45:02.485Z"
   },
   {
    "duration": 71,
    "start_time": "2022-06-15T13:45:02.494Z"
   },
   {
    "duration": 8,
    "start_time": "2022-06-15T13:45:02.568Z"
   },
   {
    "duration": 20,
    "start_time": "2022-06-15T13:45:02.578Z"
   },
   {
    "duration": 17,
    "start_time": "2022-06-15T13:45:02.601Z"
   },
   {
    "duration": 174,
    "start_time": "2022-06-15T13:45:02.620Z"
   },
   {
    "duration": 4,
    "start_time": "2022-06-15T13:45:02.796Z"
   },
   {
    "duration": 249,
    "start_time": "2022-06-15T13:45:02.802Z"
   },
   {
    "duration": 398,
    "start_time": "2022-06-15T13:45:03.053Z"
   },
   {
    "duration": 118,
    "start_time": "2022-06-15T13:45:03.454Z"
   },
   {
    "duration": 15,
    "start_time": "2022-06-15T13:45:03.574Z"
   },
   {
    "duration": 17,
    "start_time": "2022-06-15T13:45:03.591Z"
   },
   {
    "duration": 86,
    "start_time": "2022-06-15T13:45:03.610Z"
   },
   {
    "duration": 116,
    "start_time": "2022-06-15T13:45:03.698Z"
   },
   {
    "duration": 14,
    "start_time": "2022-06-15T13:45:03.815Z"
   },
   {
    "duration": 15,
    "start_time": "2022-06-15T13:45:03.831Z"
   },
   {
    "duration": 53,
    "start_time": "2022-06-15T13:45:03.864Z"
   },
   {
    "duration": 114,
    "start_time": "2022-06-15T13:45:03.919Z"
   },
   {
    "duration": 41,
    "start_time": "2022-06-15T13:45:04.034Z"
   },
   {
    "duration": 148,
    "start_time": "2022-06-15T13:45:04.077Z"
   },
   {
    "duration": 33,
    "start_time": "2022-06-15T13:45:04.231Z"
   },
   {
    "duration": 155,
    "start_time": "2022-06-15T13:45:04.266Z"
   },
   {
    "duration": 13,
    "start_time": "2022-06-15T13:45:04.423Z"
   },
   {
    "duration": 59,
    "start_time": "2022-06-15T13:45:04.438Z"
   },
   {
    "duration": 26,
    "start_time": "2022-06-15T13:45:04.499Z"
   },
   {
    "duration": 13,
    "start_time": "2022-06-15T13:45:04.526Z"
   },
   {
    "duration": 33,
    "start_time": "2022-06-15T13:45:04.541Z"
   },
   {
    "duration": 34,
    "start_time": "2022-06-15T13:45:04.576Z"
   },
   {
    "duration": 52,
    "start_time": "2022-06-15T13:45:04.613Z"
   },
   {
    "duration": 24,
    "start_time": "2022-06-15T13:45:57.290Z"
   },
   {
    "duration": 10,
    "start_time": "2022-06-15T13:47:06.966Z"
   },
   {
    "duration": 7,
    "start_time": "2022-06-15T13:47:08.920Z"
   },
   {
    "duration": 9,
    "start_time": "2022-06-15T13:48:18.323Z"
   },
   {
    "duration": 4,
    "start_time": "2022-06-15T13:48:22.257Z"
   },
   {
    "duration": 8,
    "start_time": "2022-06-15T13:48:24.024Z"
   },
   {
    "duration": 2496,
    "start_time": "2022-06-15T13:48:37.048Z"
   },
   {
    "duration": 766,
    "start_time": "2022-06-15T13:48:39.547Z"
   },
   {
    "duration": 3,
    "start_time": "2022-06-15T13:48:40.315Z"
   },
   {
    "duration": 8,
    "start_time": "2022-06-15T13:48:40.320Z"
   },
   {
    "duration": 15,
    "start_time": "2022-06-15T13:48:40.330Z"
   },
   {
    "duration": 44,
    "start_time": "2022-06-15T13:48:40.347Z"
   },
   {
    "duration": 14,
    "start_time": "2022-06-15T13:48:40.393Z"
   },
   {
    "duration": 135,
    "start_time": "2022-06-15T13:48:40.408Z"
   },
   {
    "duration": 99,
    "start_time": "2022-06-15T13:48:40.545Z"
   },
   {
    "duration": 106,
    "start_time": "2022-06-15T13:48:40.647Z"
   },
   {
    "duration": 149,
    "start_time": "2022-06-15T13:48:40.765Z"
   },
   {
    "duration": 13,
    "start_time": "2022-06-15T13:48:40.916Z"
   },
   {
    "duration": 63,
    "start_time": "2022-06-15T13:48:40.931Z"
   },
   {
    "duration": 13,
    "start_time": "2022-06-15T13:48:40.996Z"
   },
   {
    "duration": 202,
    "start_time": "2022-06-15T13:48:41.011Z"
   },
   {
    "duration": 5,
    "start_time": "2022-06-15T13:48:41.215Z"
   },
   {
    "duration": 8,
    "start_time": "2022-06-15T13:48:41.221Z"
   },
   {
    "duration": 273,
    "start_time": "2022-06-15T13:48:41.231Z"
   },
   {
    "duration": 6,
    "start_time": "2022-06-15T13:48:41.506Z"
   },
   {
    "duration": 13,
    "start_time": "2022-06-15T13:48:41.514Z"
   },
   {
    "duration": 13,
    "start_time": "2022-06-15T13:48:41.529Z"
   },
   {
    "duration": 47,
    "start_time": "2022-06-15T13:48:41.564Z"
   },
   {
    "duration": 6,
    "start_time": "2022-06-15T13:48:41.613Z"
   },
   {
    "duration": 77,
    "start_time": "2022-06-15T13:48:41.621Z"
   },
   {
    "duration": 6,
    "start_time": "2022-06-15T13:48:41.700Z"
   },
   {
    "duration": 7,
    "start_time": "2022-06-15T13:48:41.708Z"
   },
   {
    "duration": 8,
    "start_time": "2022-06-15T13:48:41.717Z"
   },
   {
    "duration": 13,
    "start_time": "2022-06-15T13:48:41.729Z"
   },
   {
    "duration": 37,
    "start_time": "2022-06-15T13:48:41.744Z"
   },
   {
    "duration": 159,
    "start_time": "2022-06-15T13:48:41.783Z"
   },
   {
    "duration": 9,
    "start_time": "2022-06-15T13:48:41.944Z"
   },
   {
    "duration": 88,
    "start_time": "2022-06-15T13:48:41.955Z"
   },
   {
    "duration": 52,
    "start_time": "2022-06-15T13:48:42.044Z"
   },
   {
    "duration": 7,
    "start_time": "2022-06-15T13:48:42.098Z"
   },
   {
    "duration": 6,
    "start_time": "2022-06-15T13:48:42.107Z"
   },
   {
    "duration": 6,
    "start_time": "2022-06-15T13:48:42.115Z"
   },
   {
    "duration": 186,
    "start_time": "2022-06-15T13:48:42.123Z"
   },
   {
    "duration": 6,
    "start_time": "2022-06-15T13:48:42.311Z"
   },
   {
    "duration": 325,
    "start_time": "2022-06-15T13:48:42.319Z"
   },
   {
    "duration": 6,
    "start_time": "2022-06-15T13:48:42.647Z"
   },
   {
    "duration": 60,
    "start_time": "2022-06-15T13:48:42.654Z"
   },
   {
    "duration": 6,
    "start_time": "2022-06-15T13:48:42.716Z"
   },
   {
    "duration": 167,
    "start_time": "2022-06-15T13:48:42.723Z"
   },
   {
    "duration": 6,
    "start_time": "2022-06-15T13:48:42.892Z"
   },
   {
    "duration": 19,
    "start_time": "2022-06-15T13:48:42.899Z"
   },
   {
    "duration": 12,
    "start_time": "2022-06-15T13:48:42.920Z"
   },
   {
    "duration": 168,
    "start_time": "2022-06-15T13:48:42.934Z"
   },
   {
    "duration": 6,
    "start_time": "2022-06-15T13:48:43.103Z"
   },
   {
    "duration": 7,
    "start_time": "2022-06-15T13:48:43.111Z"
   },
   {
    "duration": 210,
    "start_time": "2022-06-15T13:48:43.120Z"
   },
   {
    "duration": 7,
    "start_time": "2022-06-15T13:48:43.332Z"
   },
   {
    "duration": 24,
    "start_time": "2022-06-15T13:48:43.341Z"
   },
   {
    "duration": 184,
    "start_time": "2022-06-15T13:48:43.367Z"
   },
   {
    "duration": 11,
    "start_time": "2022-06-15T13:48:43.553Z"
   },
   {
    "duration": 10,
    "start_time": "2022-06-15T13:48:43.567Z"
   },
   {
    "duration": 178,
    "start_time": "2022-06-15T13:48:43.579Z"
   },
   {
    "duration": 9,
    "start_time": "2022-06-15T13:48:43.758Z"
   },
   {
    "duration": 20,
    "start_time": "2022-06-15T13:48:43.769Z"
   },
   {
    "duration": 6,
    "start_time": "2022-06-15T13:48:43.791Z"
   },
   {
    "duration": 20,
    "start_time": "2022-06-15T13:48:43.799Z"
   },
   {
    "duration": 204,
    "start_time": "2022-06-15T13:48:43.821Z"
   },
   {
    "duration": 5,
    "start_time": "2022-06-15T13:48:44.027Z"
   },
   {
    "duration": 63,
    "start_time": "2022-06-15T13:48:44.034Z"
   },
   {
    "duration": 6,
    "start_time": "2022-06-15T13:48:44.099Z"
   },
   {
    "duration": 21,
    "start_time": "2022-06-15T13:48:44.107Z"
   },
   {
    "duration": 12,
    "start_time": "2022-06-15T13:48:44.130Z"
   },
   {
    "duration": 152,
    "start_time": "2022-06-15T13:48:44.144Z"
   },
   {
    "duration": 3,
    "start_time": "2022-06-15T13:48:44.298Z"
   },
   {
    "duration": 281,
    "start_time": "2022-06-15T13:48:44.303Z"
   },
   {
    "duration": 398,
    "start_time": "2022-06-15T13:48:44.586Z"
   },
   {
    "duration": 127,
    "start_time": "2022-06-15T13:48:44.987Z"
   },
   {
    "duration": 15,
    "start_time": "2022-06-15T13:48:45.116Z"
   },
   {
    "duration": 12,
    "start_time": "2022-06-15T13:48:45.132Z"
   },
   {
    "duration": 73,
    "start_time": "2022-06-15T13:48:45.146Z"
   },
   {
    "duration": 114,
    "start_time": "2022-06-15T13:48:45.221Z"
   },
   {
    "duration": 13,
    "start_time": "2022-06-15T13:48:45.337Z"
   },
   {
    "duration": 11,
    "start_time": "2022-06-15T13:48:45.364Z"
   },
   {
    "duration": 63,
    "start_time": "2022-06-15T13:48:45.378Z"
   },
   {
    "duration": 124,
    "start_time": "2022-06-15T13:48:45.442Z"
   },
   {
    "duration": 33,
    "start_time": "2022-06-15T13:48:45.568Z"
   },
   {
    "duration": 175,
    "start_time": "2022-06-15T13:48:45.603Z"
   },
   {
    "duration": 22,
    "start_time": "2022-06-15T13:48:45.785Z"
   },
   {
    "duration": 155,
    "start_time": "2022-06-15T13:48:45.809Z"
   },
   {
    "duration": 18,
    "start_time": "2022-06-15T13:48:45.967Z"
   },
   {
    "duration": 43,
    "start_time": "2022-06-15T13:48:45.987Z"
   },
   {
    "duration": 52,
    "start_time": "2022-06-15T13:48:46.032Z"
   },
   {
    "duration": 11,
    "start_time": "2022-06-15T13:48:46.086Z"
   },
   {
    "duration": 14,
    "start_time": "2022-06-15T13:48:46.099Z"
   },
   {
    "duration": 28,
    "start_time": "2022-06-15T13:48:46.115Z"
   },
   {
    "duration": 48,
    "start_time": "2022-06-15T13:48:46.145Z"
   },
   {
    "duration": 37,
    "start_time": "2022-06-15T13:50:23.328Z"
   },
   {
    "duration": 28,
    "start_time": "2022-06-15T13:50:24.182Z"
   },
   {
    "duration": 15,
    "start_time": "2022-06-15T13:50:49.057Z"
   },
   {
    "duration": 7,
    "start_time": "2022-06-15T13:50:49.603Z"
   },
   {
    "duration": 7,
    "start_time": "2022-06-15T13:51:12.948Z"
   },
   {
    "duration": 4,
    "start_time": "2022-06-15T13:51:25.054Z"
   },
   {
    "duration": 7,
    "start_time": "2022-06-15T13:51:25.816Z"
   },
   {
    "duration": 4,
    "start_time": "2022-06-15T13:52:16.993Z"
   },
   {
    "duration": 8,
    "start_time": "2022-06-15T13:52:17.783Z"
   },
   {
    "duration": 5,
    "start_time": "2022-06-15T13:52:35.731Z"
   },
   {
    "duration": 8,
    "start_time": "2022-06-15T13:52:36.258Z"
   },
   {
    "duration": 4,
    "start_time": "2022-06-15T13:52:48.525Z"
   },
   {
    "duration": 9,
    "start_time": "2022-06-15T13:52:48.996Z"
   },
   {
    "duration": 4,
    "start_time": "2022-06-15T13:56:17.834Z"
   },
   {
    "duration": 8,
    "start_time": "2022-06-15T13:56:18.496Z"
   },
   {
    "duration": 16,
    "start_time": "2022-06-15T13:56:57.519Z"
   },
   {
    "duration": 4,
    "start_time": "2022-06-15T13:57:10.392Z"
   },
   {
    "duration": 4,
    "start_time": "2022-06-15T13:57:27.267Z"
   },
   {
    "duration": 19,
    "start_time": "2022-06-15T13:58:28.243Z"
   },
   {
    "duration": 15,
    "start_time": "2022-06-15T13:58:37.006Z"
   },
   {
    "duration": 11,
    "start_time": "2022-06-15T13:58:42.132Z"
   },
   {
    "duration": 11,
    "start_time": "2022-06-15T13:58:51.924Z"
   },
   {
    "duration": 11,
    "start_time": "2022-06-15T13:59:53.295Z"
   },
   {
    "duration": 12,
    "start_time": "2022-06-15T14:00:08.927Z"
   },
   {
    "duration": 5,
    "start_time": "2022-06-15T14:00:26.258Z"
   },
   {
    "duration": 13,
    "start_time": "2022-06-15T14:01:33.261Z"
   },
   {
    "duration": 15,
    "start_time": "2022-06-15T14:01:49.749Z"
   },
   {
    "duration": 2676,
    "start_time": "2022-06-15T14:02:30.336Z"
   },
   {
    "duration": 766,
    "start_time": "2022-06-15T14:02:33.017Z"
   },
   {
    "duration": 4,
    "start_time": "2022-06-15T14:02:33.785Z"
   },
   {
    "duration": 8,
    "start_time": "2022-06-15T14:02:33.792Z"
   },
   {
    "duration": 35,
    "start_time": "2022-06-15T14:02:33.802Z"
   },
   {
    "duration": 39,
    "start_time": "2022-06-15T14:02:33.839Z"
   },
   {
    "duration": 13,
    "start_time": "2022-06-15T14:02:33.879Z"
   },
   {
    "duration": 119,
    "start_time": "2022-06-15T14:02:33.894Z"
   },
   {
    "duration": 91,
    "start_time": "2022-06-15T14:02:34.014Z"
   },
   {
    "duration": 103,
    "start_time": "2022-06-15T14:02:34.108Z"
   },
   {
    "duration": 162,
    "start_time": "2022-06-15T14:02:34.214Z"
   },
   {
    "duration": 13,
    "start_time": "2022-06-15T14:02:34.380Z"
   },
   {
    "duration": 53,
    "start_time": "2022-06-15T14:02:34.394Z"
   },
   {
    "duration": 23,
    "start_time": "2022-06-15T14:02:34.449Z"
   },
   {
    "duration": 220,
    "start_time": "2022-06-15T14:02:34.474Z"
   },
   {
    "duration": 6,
    "start_time": "2022-06-15T14:02:34.697Z"
   },
   {
    "duration": 15,
    "start_time": "2022-06-15T14:02:34.705Z"
   },
   {
    "duration": 260,
    "start_time": "2022-06-15T14:02:34.723Z"
   },
   {
    "duration": 7,
    "start_time": "2022-06-15T14:02:34.986Z"
   },
   {
    "duration": 14,
    "start_time": "2022-06-15T14:02:34.995Z"
   },
   {
    "duration": 19,
    "start_time": "2022-06-15T14:02:35.011Z"
   },
   {
    "duration": 72,
    "start_time": "2022-06-15T14:02:35.032Z"
   },
   {
    "duration": 9,
    "start_time": "2022-06-15T14:02:35.106Z"
   },
   {
    "duration": 82,
    "start_time": "2022-06-15T14:02:35.117Z"
   },
   {
    "duration": 7,
    "start_time": "2022-06-15T14:02:35.201Z"
   },
   {
    "duration": 9,
    "start_time": "2022-06-15T14:02:35.210Z"
   },
   {
    "duration": 19,
    "start_time": "2022-06-15T14:02:35.221Z"
   },
   {
    "duration": 154,
    "start_time": "2022-06-15T14:02:35.245Z"
   },
   {
    "duration": 4,
    "start_time": "2022-06-15T14:02:35.400Z"
   },
   {
    "duration": 162,
    "start_time": "2022-06-15T14:02:35.406Z"
   },
   {
    "duration": 7,
    "start_time": "2022-06-15T14:02:35.570Z"
   },
   {
    "duration": 64,
    "start_time": "2022-06-15T14:02:35.579Z"
   },
   {
    "duration": 49,
    "start_time": "2022-06-15T14:02:35.644Z"
   },
   {
    "duration": 8,
    "start_time": "2022-06-15T14:02:35.695Z"
   },
   {
    "duration": 17,
    "start_time": "2022-06-15T14:02:35.705Z"
   },
   {
    "duration": 10,
    "start_time": "2022-06-15T14:02:35.723Z"
   },
   {
    "duration": 180,
    "start_time": "2022-06-15T14:02:35.736Z"
   },
   {
    "duration": 5,
    "start_time": "2022-06-15T14:02:35.918Z"
   },
   {
    "duration": 156,
    "start_time": "2022-06-15T14:02:35.925Z"
   },
   {
    "duration": 6,
    "start_time": "2022-06-15T14:02:36.082Z"
   },
   {
    "duration": 42,
    "start_time": "2022-06-15T14:02:36.090Z"
   },
   {
    "duration": 5,
    "start_time": "2022-06-15T14:02:36.134Z"
   },
   {
    "duration": 168,
    "start_time": "2022-06-15T14:02:36.140Z"
   },
   {
    "duration": 5,
    "start_time": "2022-06-15T14:02:36.310Z"
   },
   {
    "duration": 18,
    "start_time": "2022-06-15T14:02:36.317Z"
   },
   {
    "duration": 38,
    "start_time": "2022-06-15T14:02:36.337Z"
   },
   {
    "duration": 154,
    "start_time": "2022-06-15T14:02:36.377Z"
   },
   {
    "duration": 6,
    "start_time": "2022-06-15T14:02:36.532Z"
   },
   {
    "duration": 27,
    "start_time": "2022-06-15T14:02:36.539Z"
   },
   {
    "duration": 167,
    "start_time": "2022-06-15T14:02:36.567Z"
   },
   {
    "duration": 5,
    "start_time": "2022-06-15T14:02:36.736Z"
   },
   {
    "duration": 23,
    "start_time": "2022-06-15T14:02:36.743Z"
   },
   {
    "duration": 157,
    "start_time": "2022-06-15T14:02:36.768Z"
   },
   {
    "duration": 7,
    "start_time": "2022-06-15T14:02:36.927Z"
   },
   {
    "duration": 12,
    "start_time": "2022-06-15T14:02:36.936Z"
   },
   {
    "duration": 171,
    "start_time": "2022-06-15T14:02:36.966Z"
   },
   {
    "duration": 8,
    "start_time": "2022-06-15T14:02:37.139Z"
   },
   {
    "duration": 24,
    "start_time": "2022-06-15T14:02:37.149Z"
   },
   {
    "duration": 6,
    "start_time": "2022-06-15T14:02:37.176Z"
   },
   {
    "duration": 19,
    "start_time": "2022-06-15T14:02:37.184Z"
   },
   {
    "duration": 206,
    "start_time": "2022-06-15T14:02:37.204Z"
   },
   {
    "duration": 7,
    "start_time": "2022-06-15T14:02:37.412Z"
   },
   {
    "duration": 77,
    "start_time": "2022-06-15T14:02:37.424Z"
   },
   {
    "duration": 7,
    "start_time": "2022-06-15T14:02:37.504Z"
   },
   {
    "duration": 22,
    "start_time": "2022-06-15T14:02:37.513Z"
   },
   {
    "duration": 29,
    "start_time": "2022-06-15T14:02:37.537Z"
   },
   {
    "duration": 170,
    "start_time": "2022-06-15T14:02:37.569Z"
   },
   {
    "duration": 4,
    "start_time": "2022-06-15T14:02:37.742Z"
   },
   {
    "duration": 264,
    "start_time": "2022-06-15T14:02:37.748Z"
   },
   {
    "duration": 414,
    "start_time": "2022-06-15T14:02:38.014Z"
   },
   {
    "duration": 111,
    "start_time": "2022-06-15T14:02:38.429Z"
   },
   {
    "duration": 27,
    "start_time": "2022-06-15T14:02:38.541Z"
   },
   {
    "duration": 12,
    "start_time": "2022-06-15T14:02:38.570Z"
   },
   {
    "duration": 57,
    "start_time": "2022-06-15T14:02:38.584Z"
   },
   {
    "duration": 103,
    "start_time": "2022-06-15T14:02:38.644Z"
   },
   {
    "duration": 36,
    "start_time": "2022-06-15T14:02:38.749Z"
   },
   {
    "duration": 16,
    "start_time": "2022-06-15T14:02:38.787Z"
   },
   {
    "duration": 58,
    "start_time": "2022-06-15T14:02:38.804Z"
   },
   {
    "duration": 160,
    "start_time": "2022-06-15T14:02:38.864Z"
   },
   {
    "duration": 27,
    "start_time": "2022-06-15T14:02:39.026Z"
   },
   {
    "duration": 179,
    "start_time": "2022-06-15T14:02:39.067Z"
   },
   {
    "duration": 26,
    "start_time": "2022-06-15T14:02:39.254Z"
   },
   {
    "duration": 152,
    "start_time": "2022-06-15T14:02:39.283Z"
   },
   {
    "duration": 12,
    "start_time": "2022-06-15T14:02:39.436Z"
   },
   {
    "duration": 46,
    "start_time": "2022-06-15T14:02:39.464Z"
   },
   {
    "duration": 54,
    "start_time": "2022-06-15T14:02:39.512Z"
   },
   {
    "duration": 15,
    "start_time": "2022-06-15T14:02:39.568Z"
   },
   {
    "duration": 16,
    "start_time": "2022-06-15T14:02:39.585Z"
   },
   {
    "duration": 17,
    "start_time": "2022-06-15T14:02:39.603Z"
   },
   {
    "duration": 43,
    "start_time": "2022-06-15T14:02:39.622Z"
   },
   {
    "duration": 12,
    "start_time": "2022-06-15T14:02:39.667Z"
   },
   {
    "duration": 26,
    "start_time": "2022-06-15T14:03:44.400Z"
   },
   {
    "duration": 46,
    "start_time": "2022-06-15T14:14:24.121Z"
   },
   {
    "duration": 3,
    "start_time": "2022-06-15T14:16:31.253Z"
   },
   {
    "duration": 18,
    "start_time": "2022-06-15T14:19:43.277Z"
   },
   {
    "duration": 5,
    "start_time": "2022-06-15T14:20:03.186Z"
   },
   {
    "duration": 20,
    "start_time": "2022-06-15T14:20:26.267Z"
   },
   {
    "duration": 9,
    "start_time": "2022-06-15T14:20:27.483Z"
   },
   {
    "duration": 14,
    "start_time": "2022-06-15T14:20:56.943Z"
   },
   {
    "duration": 7,
    "start_time": "2022-06-15T14:20:57.852Z"
   },
   {
    "duration": 15,
    "start_time": "2022-06-15T14:21:42.840Z"
   },
   {
    "duration": 4,
    "start_time": "2022-06-15T14:21:45.320Z"
   },
   {
    "duration": 15,
    "start_time": "2022-06-15T14:22:24.338Z"
   },
   {
    "duration": 6,
    "start_time": "2022-06-15T14:22:24.748Z"
   },
   {
    "duration": 28,
    "start_time": "2022-06-15T14:23:31.259Z"
   },
   {
    "duration": 11,
    "start_time": "2022-06-15T14:23:32.706Z"
   },
   {
    "duration": 44,
    "start_time": "2022-06-15T14:24:19.449Z"
   },
   {
    "duration": 34,
    "start_time": "2022-06-15T14:24:26.443Z"
   },
   {
    "duration": 13,
    "start_time": "2022-06-15T14:24:28.644Z"
   },
   {
    "duration": 31,
    "start_time": "2022-06-15T14:24:54.344Z"
   },
   {
    "duration": 40,
    "start_time": "2022-06-15T14:45:10.990Z"
   },
   {
    "duration": 7,
    "start_time": "2022-06-15T14:45:18.111Z"
   },
   {
    "duration": 7,
    "start_time": "2022-06-15T14:47:32.432Z"
   },
   {
    "duration": 6,
    "start_time": "2022-06-15T14:48:06.432Z"
   },
   {
    "duration": 3696,
    "start_time": "2022-06-15T14:48:15.566Z"
   },
   {
    "duration": 2336,
    "start_time": "2022-06-15T14:48:19.264Z"
   },
   {
    "duration": 3,
    "start_time": "2022-06-15T14:48:21.602Z"
   },
   {
    "duration": 9,
    "start_time": "2022-06-15T14:48:21.606Z"
   },
   {
    "duration": 12,
    "start_time": "2022-06-15T14:48:21.616Z"
   },
   {
    "duration": 28,
    "start_time": "2022-06-15T14:48:21.630Z"
   },
   {
    "duration": 16,
    "start_time": "2022-06-15T14:48:21.660Z"
   },
   {
    "duration": 80,
    "start_time": "2022-06-15T14:48:21.677Z"
   },
   {
    "duration": 74,
    "start_time": "2022-06-15T14:48:21.759Z"
   },
   {
    "duration": 68,
    "start_time": "2022-06-15T14:48:21.835Z"
   },
   {
    "duration": 120,
    "start_time": "2022-06-15T14:48:21.904Z"
   },
   {
    "duration": 11,
    "start_time": "2022-06-15T14:48:22.026Z"
   },
   {
    "duration": 58,
    "start_time": "2022-06-15T14:48:22.038Z"
   },
   {
    "duration": 10,
    "start_time": "2022-06-15T14:48:22.098Z"
   },
   {
    "duration": 152,
    "start_time": "2022-06-15T14:48:22.109Z"
   },
   {
    "duration": 4,
    "start_time": "2022-06-15T14:48:22.262Z"
   },
   {
    "duration": 6,
    "start_time": "2022-06-15T14:48:22.267Z"
   },
   {
    "duration": 266,
    "start_time": "2022-06-15T14:48:22.275Z"
   },
   {
    "duration": 5,
    "start_time": "2022-06-15T14:48:22.543Z"
   },
   {
    "duration": 10,
    "start_time": "2022-06-15T14:48:22.549Z"
   },
   {
    "duration": 11,
    "start_time": "2022-06-15T14:48:22.561Z"
   },
   {
    "duration": 52,
    "start_time": "2022-06-15T14:48:22.574Z"
   },
   {
    "duration": 5,
    "start_time": "2022-06-15T14:48:22.627Z"
   },
   {
    "duration": 64,
    "start_time": "2022-06-15T14:48:22.634Z"
   },
   {
    "duration": 7,
    "start_time": "2022-06-15T14:48:22.700Z"
   },
   {
    "duration": 6,
    "start_time": "2022-06-15T14:48:22.708Z"
   },
   {
    "duration": 6,
    "start_time": "2022-06-15T14:48:22.715Z"
   },
   {
    "duration": 9,
    "start_time": "2022-06-15T14:48:22.725Z"
   },
   {
    "duration": 4,
    "start_time": "2022-06-15T14:48:22.735Z"
   },
   {
    "duration": 180,
    "start_time": "2022-06-15T14:48:22.740Z"
   },
   {
    "duration": 7,
    "start_time": "2022-06-15T14:48:22.922Z"
   },
   {
    "duration": 78,
    "start_time": "2022-06-15T14:48:22.930Z"
   },
   {
    "duration": 42,
    "start_time": "2022-06-15T14:48:23.010Z"
   },
   {
    "duration": 6,
    "start_time": "2022-06-15T14:48:23.054Z"
   },
   {
    "duration": 4,
    "start_time": "2022-06-15T14:48:23.062Z"
   },
   {
    "duration": 27,
    "start_time": "2022-06-15T14:48:23.067Z"
   },
   {
    "duration": 150,
    "start_time": "2022-06-15T14:48:23.095Z"
   },
   {
    "duration": 4,
    "start_time": "2022-06-15T14:48:23.247Z"
   },
   {
    "duration": 142,
    "start_time": "2022-06-15T14:48:23.253Z"
   },
   {
    "duration": 5,
    "start_time": "2022-06-15T14:48:23.396Z"
   },
   {
    "duration": 46,
    "start_time": "2022-06-15T14:48:23.402Z"
   },
   {
    "duration": 5,
    "start_time": "2022-06-15T14:48:23.449Z"
   },
   {
    "duration": 125,
    "start_time": "2022-06-15T14:48:23.456Z"
   },
   {
    "duration": 9,
    "start_time": "2022-06-15T14:48:23.583Z"
   },
   {
    "duration": 14,
    "start_time": "2022-06-15T14:48:23.593Z"
   },
   {
    "duration": 10,
    "start_time": "2022-06-15T14:48:23.609Z"
   },
   {
    "duration": 143,
    "start_time": "2022-06-15T14:48:23.620Z"
   },
   {
    "duration": 4,
    "start_time": "2022-06-15T14:48:23.764Z"
   },
   {
    "duration": 8,
    "start_time": "2022-06-15T14:48:23.769Z"
   },
   {
    "duration": 131,
    "start_time": "2022-06-15T14:48:23.778Z"
   },
   {
    "duration": 4,
    "start_time": "2022-06-15T14:48:23.910Z"
   },
   {
    "duration": 8,
    "start_time": "2022-06-15T14:48:23.915Z"
   },
   {
    "duration": 130,
    "start_time": "2022-06-15T14:48:23.924Z"
   },
   {
    "duration": 4,
    "start_time": "2022-06-15T14:48:24.056Z"
   },
   {
    "duration": 10,
    "start_time": "2022-06-15T14:48:24.061Z"
   },
   {
    "duration": 123,
    "start_time": "2022-06-15T14:48:24.072Z"
   },
   {
    "duration": 5,
    "start_time": "2022-06-15T14:48:24.196Z"
   },
   {
    "duration": 7,
    "start_time": "2022-06-15T14:48:24.202Z"
   },
   {
    "duration": 6,
    "start_time": "2022-06-15T14:48:24.211Z"
   },
   {
    "duration": 11,
    "start_time": "2022-06-15T14:48:24.219Z"
   },
   {
    "duration": 161,
    "start_time": "2022-06-15T14:48:24.232Z"
   },
   {
    "duration": 4,
    "start_time": "2022-06-15T14:48:24.395Z"
   },
   {
    "duration": 51,
    "start_time": "2022-06-15T14:48:24.400Z"
   },
   {
    "duration": 5,
    "start_time": "2022-06-15T14:48:24.453Z"
   },
   {
    "duration": 16,
    "start_time": "2022-06-15T14:48:24.459Z"
   },
   {
    "duration": 20,
    "start_time": "2022-06-15T14:48:24.476Z"
   },
   {
    "duration": 101,
    "start_time": "2022-06-15T14:48:24.498Z"
   },
   {
    "duration": 2,
    "start_time": "2022-06-15T14:48:24.601Z"
   },
   {
    "duration": 216,
    "start_time": "2022-06-15T14:48:24.604Z"
   },
   {
    "duration": 388,
    "start_time": "2022-06-15T14:48:24.821Z"
   },
   {
    "duration": 192,
    "start_time": "2022-06-15T14:48:25.210Z"
   },
   {
    "duration": 10,
    "start_time": "2022-06-15T14:48:25.403Z"
   },
   {
    "duration": 9,
    "start_time": "2022-06-15T14:48:25.414Z"
   },
   {
    "duration": 36,
    "start_time": "2022-06-15T14:48:25.425Z"
   },
   {
    "duration": 90,
    "start_time": "2022-06-15T14:48:25.463Z"
   },
   {
    "duration": 9,
    "start_time": "2022-06-15T14:48:25.555Z"
   },
   {
    "duration": 25,
    "start_time": "2022-06-15T14:48:25.566Z"
   },
   {
    "duration": 41,
    "start_time": "2022-06-15T14:48:25.593Z"
   },
   {
    "duration": 83,
    "start_time": "2022-06-15T14:48:25.635Z"
   },
   {
    "duration": 17,
    "start_time": "2022-06-15T14:48:25.719Z"
   },
   {
    "duration": 116,
    "start_time": "2022-06-15T14:48:25.738Z"
   },
   {
    "duration": 16,
    "start_time": "2022-06-15T14:48:25.859Z"
   },
   {
    "duration": 103,
    "start_time": "2022-06-15T14:48:25.876Z"
   },
   {
    "duration": 18,
    "start_time": "2022-06-15T14:48:25.981Z"
   },
   {
    "duration": 34,
    "start_time": "2022-06-15T14:48:26.000Z"
   },
   {
    "duration": 17,
    "start_time": "2022-06-15T14:48:26.036Z"
   },
   {
    "duration": 13,
    "start_time": "2022-06-15T14:48:26.054Z"
   },
   {
    "duration": 24,
    "start_time": "2022-06-15T14:48:26.068Z"
   },
   {
    "duration": 8,
    "start_time": "2022-06-15T14:48:26.093Z"
   },
   {
    "duration": 20,
    "start_time": "2022-06-15T14:48:26.103Z"
   },
   {
    "duration": 10,
    "start_time": "2022-06-15T14:48:26.125Z"
   },
   {
    "duration": 17,
    "start_time": "2022-06-15T14:48:26.137Z"
   },
   {
    "duration": 59,
    "start_time": "2022-06-15T14:48:26.156Z"
   },
   {
    "duration": 29,
    "start_time": "2022-06-15T14:48:26.216Z"
   },
   {
    "duration": 79,
    "start_time": "2022-06-15T14:48:26.247Z"
   },
   {
    "duration": 0,
    "start_time": "2022-06-15T14:48:26.328Z"
   },
   {
    "duration": 9,
    "start_time": "2022-06-15T14:51:36.402Z"
   },
   {
    "duration": 1707,
    "start_time": "2022-06-15T14:51:42.918Z"
   },
   {
    "duration": 564,
    "start_time": "2022-06-15T14:51:44.627Z"
   },
   {
    "duration": 3,
    "start_time": "2022-06-15T14:51:45.193Z"
   },
   {
    "duration": 7,
    "start_time": "2022-06-15T14:51:45.198Z"
   },
   {
    "duration": 14,
    "start_time": "2022-06-15T14:51:45.206Z"
   },
   {
    "duration": 21,
    "start_time": "2022-06-15T14:51:45.221Z"
   },
   {
    "duration": 10,
    "start_time": "2022-06-15T14:51:45.244Z"
   },
   {
    "duration": 94,
    "start_time": "2022-06-15T14:51:45.255Z"
   },
   {
    "duration": 64,
    "start_time": "2022-06-15T14:51:45.350Z"
   },
   {
    "duration": 86,
    "start_time": "2022-06-15T14:51:45.416Z"
   },
   {
    "duration": 124,
    "start_time": "2022-06-15T14:51:45.504Z"
   },
   {
    "duration": 12,
    "start_time": "2022-06-15T14:51:45.629Z"
   },
   {
    "duration": 56,
    "start_time": "2022-06-15T14:51:45.642Z"
   },
   {
    "duration": 11,
    "start_time": "2022-06-15T14:51:45.700Z"
   },
   {
    "duration": 145,
    "start_time": "2022-06-15T14:51:45.712Z"
   },
   {
    "duration": 4,
    "start_time": "2022-06-15T14:51:45.858Z"
   },
   {
    "duration": 6,
    "start_time": "2022-06-15T14:51:45.864Z"
   },
   {
    "duration": 202,
    "start_time": "2022-06-15T14:51:45.872Z"
   },
   {
    "duration": 5,
    "start_time": "2022-06-15T14:51:46.075Z"
   },
   {
    "duration": 17,
    "start_time": "2022-06-15T14:51:46.081Z"
   },
   {
    "duration": 10,
    "start_time": "2022-06-15T14:51:46.100Z"
   },
   {
    "duration": 32,
    "start_time": "2022-06-15T14:51:46.111Z"
   },
   {
    "duration": 6,
    "start_time": "2022-06-15T14:51:46.145Z"
   },
   {
    "duration": 74,
    "start_time": "2022-06-15T14:51:46.152Z"
   },
   {
    "duration": 6,
    "start_time": "2022-06-15T14:51:46.228Z"
   },
   {
    "duration": 7,
    "start_time": "2022-06-15T14:51:46.235Z"
   },
   {
    "duration": 7,
    "start_time": "2022-06-15T14:51:46.244Z"
   },
   {
    "duration": 9,
    "start_time": "2022-06-15T14:51:46.254Z"
   },
   {
    "duration": 3,
    "start_time": "2022-06-15T14:51:46.264Z"
   },
   {
    "duration": 121,
    "start_time": "2022-06-15T14:51:46.291Z"
   },
   {
    "duration": 6,
    "start_time": "2022-06-15T14:51:46.413Z"
   },
   {
    "duration": 75,
    "start_time": "2022-06-15T14:51:46.421Z"
   },
   {
    "duration": 28,
    "start_time": "2022-06-15T14:51:46.498Z"
   },
   {
    "duration": 7,
    "start_time": "2022-06-15T14:51:46.528Z"
   },
   {
    "duration": 4,
    "start_time": "2022-06-15T14:51:46.536Z"
   },
   {
    "duration": 5,
    "start_time": "2022-06-15T14:51:46.541Z"
   },
   {
    "duration": 163,
    "start_time": "2022-06-15T14:51:46.547Z"
   },
   {
    "duration": 5,
    "start_time": "2022-06-15T14:51:46.711Z"
   },
   {
    "duration": 133,
    "start_time": "2022-06-15T14:51:46.717Z"
   },
   {
    "duration": 4,
    "start_time": "2022-06-15T14:51:46.852Z"
   },
   {
    "duration": 49,
    "start_time": "2022-06-15T14:51:46.858Z"
   },
   {
    "duration": 6,
    "start_time": "2022-06-15T14:51:46.910Z"
   },
   {
    "duration": 154,
    "start_time": "2022-06-15T14:51:46.917Z"
   },
   {
    "duration": 6,
    "start_time": "2022-06-15T14:51:47.072Z"
   },
   {
    "duration": 38,
    "start_time": "2022-06-15T14:51:47.080Z"
   },
   {
    "duration": 15,
    "start_time": "2022-06-15T14:51:47.120Z"
   },
   {
    "duration": 122,
    "start_time": "2022-06-15T14:51:47.137Z"
   },
   {
    "duration": 4,
    "start_time": "2022-06-15T14:51:47.261Z"
   },
   {
    "duration": 6,
    "start_time": "2022-06-15T14:51:47.266Z"
   },
   {
    "duration": 132,
    "start_time": "2022-06-15T14:51:47.273Z"
   },
   {
    "duration": 4,
    "start_time": "2022-06-15T14:51:47.407Z"
   },
   {
    "duration": 6,
    "start_time": "2022-06-15T14:51:47.412Z"
   },
   {
    "duration": 136,
    "start_time": "2022-06-15T14:51:47.419Z"
   },
   {
    "duration": 5,
    "start_time": "2022-06-15T14:51:47.556Z"
   },
   {
    "duration": 6,
    "start_time": "2022-06-15T14:51:47.562Z"
   },
   {
    "duration": 210,
    "start_time": "2022-06-15T14:51:47.569Z"
   },
   {
    "duration": 12,
    "start_time": "2022-06-15T14:51:47.780Z"
   },
   {
    "duration": 7,
    "start_time": "2022-06-15T14:51:47.793Z"
   },
   {
    "duration": 5,
    "start_time": "2022-06-15T14:51:47.801Z"
   },
   {
    "duration": 11,
    "start_time": "2022-06-15T14:51:47.807Z"
   },
   {
    "duration": 160,
    "start_time": "2022-06-15T14:51:47.819Z"
   },
   {
    "duration": 12,
    "start_time": "2022-06-15T14:51:47.980Z"
   },
   {
    "duration": 46,
    "start_time": "2022-06-15T14:51:47.993Z"
   },
   {
    "duration": 5,
    "start_time": "2022-06-15T14:51:48.040Z"
   },
   {
    "duration": 13,
    "start_time": "2022-06-15T14:51:48.046Z"
   },
   {
    "duration": 9,
    "start_time": "2022-06-15T14:51:48.060Z"
   },
   {
    "duration": 101,
    "start_time": "2022-06-15T14:51:48.091Z"
   },
   {
    "duration": 3,
    "start_time": "2022-06-15T14:51:48.193Z"
   },
   {
    "duration": 202,
    "start_time": "2022-06-15T14:51:48.197Z"
   },
   {
    "duration": 328,
    "start_time": "2022-06-15T14:51:48.401Z"
   },
   {
    "duration": 80,
    "start_time": "2022-06-15T14:51:48.731Z"
   },
   {
    "duration": 10,
    "start_time": "2022-06-15T14:51:48.812Z"
   },
   {
    "duration": 8,
    "start_time": "2022-06-15T14:51:48.824Z"
   },
   {
    "duration": 34,
    "start_time": "2022-06-15T14:51:48.833Z"
   },
   {
    "duration": 87,
    "start_time": "2022-06-15T14:51:48.869Z"
   },
   {
    "duration": 9,
    "start_time": "2022-06-15T14:51:48.958Z"
   },
   {
    "duration": 13,
    "start_time": "2022-06-15T14:51:48.968Z"
   },
   {
    "duration": 38,
    "start_time": "2022-06-15T14:51:48.991Z"
   },
   {
    "duration": 76,
    "start_time": "2022-06-15T14:51:49.031Z"
   },
   {
    "duration": 16,
    "start_time": "2022-06-15T14:51:49.109Z"
   },
   {
    "duration": 112,
    "start_time": "2022-06-15T14:51:49.126Z"
   },
   {
    "duration": 17,
    "start_time": "2022-06-15T14:51:49.242Z"
   },
   {
    "duration": 109,
    "start_time": "2022-06-15T14:51:49.260Z"
   },
   {
    "duration": 10,
    "start_time": "2022-06-15T14:51:49.371Z"
   },
   {
    "duration": 32,
    "start_time": "2022-06-15T14:51:49.391Z"
   },
   {
    "duration": 18,
    "start_time": "2022-06-15T14:51:49.424Z"
   },
   {
    "duration": 13,
    "start_time": "2022-06-15T14:51:49.444Z"
   },
   {
    "duration": 8,
    "start_time": "2022-06-15T14:51:49.458Z"
   },
   {
    "duration": 27,
    "start_time": "2022-06-15T14:51:49.468Z"
   },
   {
    "duration": 21,
    "start_time": "2022-06-15T14:51:49.497Z"
   },
   {
    "duration": 10,
    "start_time": "2022-06-15T14:51:49.519Z"
   },
   {
    "duration": 26,
    "start_time": "2022-06-15T14:51:49.531Z"
   },
   {
    "duration": 57,
    "start_time": "2022-06-15T14:51:49.559Z"
   },
   {
    "duration": 26,
    "start_time": "2022-06-15T14:51:49.618Z"
   },
   {
    "duration": 10,
    "start_time": "2022-06-15T14:51:49.646Z"
   },
   {
    "duration": 0,
    "start_time": "2022-06-15T14:51:49.657Z"
   },
   {
    "duration": 10,
    "start_time": "2022-06-15T15:11:17.869Z"
   },
   {
    "duration": 89,
    "start_time": "2022-06-15T15:12:48.885Z"
   },
   {
    "duration": 12,
    "start_time": "2022-06-15T15:13:33.302Z"
   },
   {
    "duration": 25,
    "start_time": "2022-06-15T15:38:52.740Z"
   },
   {
    "duration": 59,
    "start_time": "2022-06-15T15:42:58.009Z"
   },
   {
    "duration": 11,
    "start_time": "2022-06-15T15:42:59.001Z"
   },
   {
    "duration": 59,
    "start_time": "2022-06-15T15:43:21.852Z"
   },
   {
    "duration": 11,
    "start_time": "2022-06-15T15:43:29.192Z"
   },
   {
    "duration": 7,
    "start_time": "2022-06-15T15:44:57.892Z"
   },
   {
    "duration": 23,
    "start_time": "2022-06-15T15:45:00.599Z"
   },
   {
    "duration": 11,
    "start_time": "2022-06-15T15:45:01.403Z"
   },
   {
    "duration": 23,
    "start_time": "2022-06-15T15:50:53.766Z"
   },
   {
    "duration": 96,
    "start_time": "2022-06-15T15:56:07.451Z"
   },
   {
    "duration": 258,
    "start_time": "2022-06-15T15:57:21.771Z"
   },
   {
    "duration": 453,
    "start_time": "2022-06-15T16:00:46.362Z"
   },
   {
    "duration": 5,
    "start_time": "2022-06-15T16:04:13.152Z"
   },
   {
    "duration": 4,
    "start_time": "2022-06-15T16:04:40.653Z"
   },
   {
    "duration": 4,
    "start_time": "2022-06-15T16:11:10.814Z"
   },
   {
    "duration": 34,
    "start_time": "2022-06-15T16:11:45.994Z"
   },
   {
    "duration": 33,
    "start_time": "2022-06-15T16:13:49.510Z"
   },
   {
    "duration": 490,
    "start_time": "2022-06-15T16:14:00.173Z"
   },
   {
    "duration": 383,
    "start_time": "2022-06-15T16:14:20.482Z"
   },
   {
    "duration": 11,
    "start_time": "2022-06-15T16:16:01.017Z"
   },
   {
    "duration": 11,
    "start_time": "2022-06-15T16:16:51.291Z"
   },
   {
    "duration": 20,
    "start_time": "2022-06-15T16:17:28.745Z"
   },
   {
    "duration": 23,
    "start_time": "2022-06-15T16:17:33.451Z"
   },
   {
    "duration": 13,
    "start_time": "2022-06-15T16:17:34.120Z"
   },
   {
    "duration": 161,
    "start_time": "2022-06-15T16:17:36.469Z"
   },
   {
    "duration": 8,
    "start_time": "2022-06-15T16:19:45.832Z"
   },
   {
    "duration": 58,
    "start_time": "2022-06-15T16:20:24.792Z"
   },
   {
    "duration": 1768,
    "start_time": "2022-06-15T16:22:32.099Z"
   },
   {
    "duration": 587,
    "start_time": "2022-06-15T16:22:33.869Z"
   },
   {
    "duration": 3,
    "start_time": "2022-06-15T16:22:34.457Z"
   },
   {
    "duration": 9,
    "start_time": "2022-06-15T16:22:34.462Z"
   },
   {
    "duration": 22,
    "start_time": "2022-06-15T16:22:34.472Z"
   },
   {
    "duration": 26,
    "start_time": "2022-06-15T16:22:34.495Z"
   },
   {
    "duration": 13,
    "start_time": "2022-06-15T16:22:34.522Z"
   },
   {
    "duration": 82,
    "start_time": "2022-06-15T16:22:34.536Z"
   },
   {
    "duration": 73,
    "start_time": "2022-06-15T16:22:34.619Z"
   },
   {
    "duration": 66,
    "start_time": "2022-06-15T16:22:34.694Z"
   },
   {
    "duration": 123,
    "start_time": "2022-06-15T16:22:34.762Z"
   },
   {
    "duration": 16,
    "start_time": "2022-06-15T16:22:34.886Z"
   },
   {
    "duration": 73,
    "start_time": "2022-06-15T16:22:34.903Z"
   },
   {
    "duration": 10,
    "start_time": "2022-06-15T16:22:34.978Z"
   },
   {
    "duration": 143,
    "start_time": "2022-06-15T16:22:34.990Z"
   },
   {
    "duration": 4,
    "start_time": "2022-06-15T16:22:35.135Z"
   },
   {
    "duration": 18,
    "start_time": "2022-06-15T16:22:35.140Z"
   },
   {
    "duration": 201,
    "start_time": "2022-06-15T16:22:35.160Z"
   },
   {
    "duration": 5,
    "start_time": "2022-06-15T16:22:35.363Z"
   },
   {
    "duration": 22,
    "start_time": "2022-06-15T16:22:35.369Z"
   },
   {
    "duration": 12,
    "start_time": "2022-06-15T16:22:35.392Z"
   },
   {
    "duration": 34,
    "start_time": "2022-06-15T16:22:35.405Z"
   },
   {
    "duration": 6,
    "start_time": "2022-06-15T16:22:35.441Z"
   },
   {
    "duration": 74,
    "start_time": "2022-06-15T16:22:35.448Z"
   },
   {
    "duration": 7,
    "start_time": "2022-06-15T16:22:35.524Z"
   },
   {
    "duration": 22,
    "start_time": "2022-06-15T16:22:35.532Z"
   },
   {
    "duration": 32,
    "start_time": "2022-06-15T16:22:35.555Z"
   },
   {
    "duration": 22,
    "start_time": "2022-06-15T16:22:35.591Z"
   },
   {
    "duration": 32,
    "start_time": "2022-06-15T16:22:35.615Z"
   },
   {
    "duration": 146,
    "start_time": "2022-06-15T16:22:35.648Z"
   },
   {
    "duration": 5,
    "start_time": "2022-06-15T16:22:35.796Z"
   },
   {
    "duration": 82,
    "start_time": "2022-06-15T16:22:35.803Z"
   },
   {
    "duration": 28,
    "start_time": "2022-06-15T16:22:35.887Z"
   },
   {
    "duration": 6,
    "start_time": "2022-06-15T16:22:35.916Z"
   },
   {
    "duration": 6,
    "start_time": "2022-06-15T16:22:35.923Z"
   },
   {
    "duration": 4,
    "start_time": "2022-06-15T16:22:35.930Z"
   },
   {
    "duration": 146,
    "start_time": "2022-06-15T16:22:35.936Z"
   },
   {
    "duration": 10,
    "start_time": "2022-06-15T16:22:36.083Z"
   },
   {
    "duration": 118,
    "start_time": "2022-06-15T16:22:36.094Z"
   },
   {
    "duration": 5,
    "start_time": "2022-06-15T16:22:36.214Z"
   },
   {
    "duration": 38,
    "start_time": "2022-06-15T16:22:36.220Z"
   },
   {
    "duration": 4,
    "start_time": "2022-06-15T16:22:36.260Z"
   },
   {
    "duration": 131,
    "start_time": "2022-06-15T16:22:36.265Z"
   },
   {
    "duration": 5,
    "start_time": "2022-06-15T16:22:36.397Z"
   },
   {
    "duration": 22,
    "start_time": "2022-06-15T16:22:36.403Z"
   },
   {
    "duration": 12,
    "start_time": "2022-06-15T16:22:36.426Z"
   },
   {
    "duration": 223,
    "start_time": "2022-06-15T16:22:36.439Z"
   },
   {
    "duration": 4,
    "start_time": "2022-06-15T16:22:36.664Z"
   },
   {
    "duration": 12,
    "start_time": "2022-06-15T16:22:36.669Z"
   },
   {
    "duration": 124,
    "start_time": "2022-06-15T16:22:36.682Z"
   },
   {
    "duration": 5,
    "start_time": "2022-06-15T16:22:36.807Z"
   },
   {
    "duration": 8,
    "start_time": "2022-06-15T16:22:36.813Z"
   },
   {
    "duration": 146,
    "start_time": "2022-06-15T16:22:36.822Z"
   },
   {
    "duration": 5,
    "start_time": "2022-06-15T16:22:36.972Z"
   },
   {
    "duration": 17,
    "start_time": "2022-06-15T16:22:36.979Z"
   },
   {
    "duration": 141,
    "start_time": "2022-06-15T16:22:36.998Z"
   },
   {
    "duration": 4,
    "start_time": "2022-06-15T16:22:37.141Z"
   },
   {
    "duration": 7,
    "start_time": "2022-06-15T16:22:37.146Z"
   },
   {
    "duration": 4,
    "start_time": "2022-06-15T16:22:37.154Z"
   },
   {
    "duration": 12,
    "start_time": "2022-06-15T16:22:37.159Z"
   },
   {
    "duration": 136,
    "start_time": "2022-06-15T16:22:37.190Z"
   },
   {
    "duration": 4,
    "start_time": "2022-06-15T16:22:37.327Z"
   },
   {
    "duration": 43,
    "start_time": "2022-06-15T16:22:37.333Z"
   },
   {
    "duration": 15,
    "start_time": "2022-06-15T16:22:37.378Z"
   },
   {
    "duration": 11,
    "start_time": "2022-06-15T16:22:37.395Z"
   },
   {
    "duration": 8,
    "start_time": "2022-06-15T16:22:37.408Z"
   },
   {
    "duration": 113,
    "start_time": "2022-06-15T16:22:37.417Z"
   },
   {
    "duration": 3,
    "start_time": "2022-06-15T16:22:37.531Z"
   },
   {
    "duration": 196,
    "start_time": "2022-06-15T16:22:37.535Z"
   },
   {
    "duration": 390,
    "start_time": "2022-06-15T16:22:37.733Z"
   },
   {
    "duration": 86,
    "start_time": "2022-06-15T16:22:38.125Z"
   },
   {
    "duration": 14,
    "start_time": "2022-06-15T16:22:38.212Z"
   },
   {
    "duration": 10,
    "start_time": "2022-06-15T16:22:38.228Z"
   },
   {
    "duration": 51,
    "start_time": "2022-06-15T16:22:38.240Z"
   },
   {
    "duration": 90,
    "start_time": "2022-06-15T16:22:38.293Z"
   },
   {
    "duration": 13,
    "start_time": "2022-06-15T16:22:38.384Z"
   },
   {
    "duration": 10,
    "start_time": "2022-06-15T16:22:38.398Z"
   },
   {
    "duration": 44,
    "start_time": "2022-06-15T16:22:38.409Z"
   },
   {
    "duration": 86,
    "start_time": "2022-06-15T16:22:38.454Z"
   },
   {
    "duration": 16,
    "start_time": "2022-06-15T16:22:38.542Z"
   },
   {
    "duration": 119,
    "start_time": "2022-06-15T16:22:38.560Z"
   },
   {
    "duration": 22,
    "start_time": "2022-06-15T16:22:38.684Z"
   },
   {
    "duration": 109,
    "start_time": "2022-06-15T16:22:38.707Z"
   },
   {
    "duration": 10,
    "start_time": "2022-06-15T16:22:38.817Z"
   },
   {
    "duration": 36,
    "start_time": "2022-06-15T16:22:38.828Z"
   },
   {
    "duration": 30,
    "start_time": "2022-06-15T16:22:38.865Z"
   },
   {
    "duration": 8,
    "start_time": "2022-06-15T16:22:38.897Z"
   },
   {
    "duration": 11,
    "start_time": "2022-06-15T16:22:38.906Z"
   },
   {
    "duration": 8,
    "start_time": "2022-06-15T16:22:38.918Z"
   },
   {
    "duration": 20,
    "start_time": "2022-06-15T16:22:38.928Z"
   },
   {
    "duration": 9,
    "start_time": "2022-06-15T16:22:38.949Z"
   },
   {
    "duration": 43,
    "start_time": "2022-06-15T16:22:38.959Z"
   },
   {
    "duration": 37,
    "start_time": "2022-06-15T16:22:39.004Z"
   },
   {
    "duration": 27,
    "start_time": "2022-06-15T16:22:39.042Z"
   },
   {
    "duration": 70,
    "start_time": "2022-06-15T16:22:39.071Z"
   },
   {
    "duration": 15,
    "start_time": "2022-06-15T16:22:39.143Z"
   },
   {
    "duration": 36,
    "start_time": "2022-06-15T16:22:39.160Z"
   },
   {
    "duration": 11,
    "start_time": "2022-06-15T16:22:39.198Z"
   },
   {
    "duration": 361,
    "start_time": "2022-06-15T16:22:39.211Z"
   },
   {
    "duration": 52,
    "start_time": "2022-06-15T16:22:39.573Z"
   },
   {
    "duration": 490,
    "start_time": "2022-06-15T16:26:41.822Z"
   },
   {
    "duration": 453,
    "start_time": "2022-06-15T16:27:14.116Z"
   },
   {
    "duration": 7,
    "start_time": "2022-06-15T16:29:20.146Z"
   },
   {
    "duration": 9,
    "start_time": "2022-06-15T16:29:42.593Z"
   },
   {
    "duration": 4,
    "start_time": "2022-06-15T16:30:54.310Z"
   },
   {
    "duration": 6,
    "start_time": "2022-06-15T16:30:55.119Z"
   },
   {
    "duration": 1828,
    "start_time": "2022-06-15T16:31:15.683Z"
   },
   {
    "duration": 561,
    "start_time": "2022-06-15T16:31:17.513Z"
   },
   {
    "duration": 3,
    "start_time": "2022-06-15T16:31:18.076Z"
   },
   {
    "duration": 11,
    "start_time": "2022-06-15T16:31:18.081Z"
   },
   {
    "duration": 11,
    "start_time": "2022-06-15T16:31:18.093Z"
   },
   {
    "duration": 24,
    "start_time": "2022-06-15T16:31:18.106Z"
   },
   {
    "duration": 11,
    "start_time": "2022-06-15T16:31:18.132Z"
   },
   {
    "duration": 91,
    "start_time": "2022-06-15T16:31:18.145Z"
   },
   {
    "duration": 78,
    "start_time": "2022-06-15T16:31:18.238Z"
   },
   {
    "duration": 65,
    "start_time": "2022-06-15T16:31:18.318Z"
   },
   {
    "duration": 117,
    "start_time": "2022-06-15T16:31:18.390Z"
   },
   {
    "duration": 11,
    "start_time": "2022-06-15T16:31:18.509Z"
   },
   {
    "duration": 49,
    "start_time": "2022-06-15T16:31:18.521Z"
   },
   {
    "duration": 22,
    "start_time": "2022-06-15T16:31:18.572Z"
   },
   {
    "duration": 147,
    "start_time": "2022-06-15T16:31:18.595Z"
   },
   {
    "duration": 3,
    "start_time": "2022-06-15T16:31:18.743Z"
   },
   {
    "duration": 6,
    "start_time": "2022-06-15T16:31:18.748Z"
   },
   {
    "duration": 212,
    "start_time": "2022-06-15T16:31:18.755Z"
   },
   {
    "duration": 6,
    "start_time": "2022-06-15T16:31:18.969Z"
   },
   {
    "duration": 19,
    "start_time": "2022-06-15T16:31:18.977Z"
   },
   {
    "duration": 11,
    "start_time": "2022-06-15T16:31:18.997Z"
   },
   {
    "duration": 33,
    "start_time": "2022-06-15T16:31:19.010Z"
   },
   {
    "duration": 6,
    "start_time": "2022-06-15T16:31:19.045Z"
   },
   {
    "duration": 73,
    "start_time": "2022-06-15T16:31:19.053Z"
   },
   {
    "duration": 7,
    "start_time": "2022-06-15T16:31:19.127Z"
   },
   {
    "duration": 5,
    "start_time": "2022-06-15T16:31:19.135Z"
   },
   {
    "duration": 5,
    "start_time": "2022-06-15T16:31:19.141Z"
   },
   {
    "duration": 8,
    "start_time": "2022-06-15T16:31:19.151Z"
   },
   {
    "duration": 31,
    "start_time": "2022-06-15T16:31:19.160Z"
   },
   {
    "duration": 131,
    "start_time": "2022-06-15T16:31:19.193Z"
   },
   {
    "duration": 6,
    "start_time": "2022-06-15T16:31:19.325Z"
   },
   {
    "duration": 64,
    "start_time": "2022-06-15T16:31:19.332Z"
   },
   {
    "duration": 38,
    "start_time": "2022-06-15T16:31:19.397Z"
   },
   {
    "duration": 5,
    "start_time": "2022-06-15T16:31:19.437Z"
   },
   {
    "duration": 8,
    "start_time": "2022-06-15T16:31:19.444Z"
   },
   {
    "duration": 7,
    "start_time": "2022-06-15T16:31:19.453Z"
   },
   {
    "duration": 233,
    "start_time": "2022-06-15T16:31:19.461Z"
   },
   {
    "duration": 5,
    "start_time": "2022-06-15T16:31:19.695Z"
   },
   {
    "duration": 122,
    "start_time": "2022-06-15T16:31:19.701Z"
   },
   {
    "duration": 4,
    "start_time": "2022-06-15T16:31:19.825Z"
   },
   {
    "duration": 40,
    "start_time": "2022-06-15T16:31:19.830Z"
   },
   {
    "duration": 21,
    "start_time": "2022-06-15T16:31:19.871Z"
   },
   {
    "duration": 121,
    "start_time": "2022-06-15T16:31:19.893Z"
   },
   {
    "duration": 4,
    "start_time": "2022-06-15T16:31:20.016Z"
   },
   {
    "duration": 16,
    "start_time": "2022-06-15T16:31:20.021Z"
   },
   {
    "duration": 11,
    "start_time": "2022-06-15T16:31:20.038Z"
   },
   {
    "duration": 136,
    "start_time": "2022-06-15T16:31:20.050Z"
   },
   {
    "duration": 4,
    "start_time": "2022-06-15T16:31:20.191Z"
   },
   {
    "duration": 8,
    "start_time": "2022-06-15T16:31:20.196Z"
   },
   {
    "duration": 157,
    "start_time": "2022-06-15T16:31:20.205Z"
   },
   {
    "duration": 4,
    "start_time": "2022-06-15T16:31:20.364Z"
   },
   {
    "duration": 9,
    "start_time": "2022-06-15T16:31:20.369Z"
   },
   {
    "duration": 131,
    "start_time": "2022-06-15T16:31:20.379Z"
   },
   {
    "duration": 6,
    "start_time": "2022-06-15T16:31:20.512Z"
   },
   {
    "duration": 8,
    "start_time": "2022-06-15T16:31:20.520Z"
   },
   {
    "duration": 142,
    "start_time": "2022-06-15T16:31:20.530Z"
   },
   {
    "duration": 6,
    "start_time": "2022-06-15T16:31:20.674Z"
   },
   {
    "duration": 14,
    "start_time": "2022-06-15T16:31:20.681Z"
   },
   {
    "duration": 13,
    "start_time": "2022-06-15T16:31:20.697Z"
   },
   {
    "duration": 26,
    "start_time": "2022-06-15T16:31:20.711Z"
   },
   {
    "duration": 152,
    "start_time": "2022-06-15T16:31:20.738Z"
   },
   {
    "duration": 6,
    "start_time": "2022-06-15T16:31:20.892Z"
   },
   {
    "duration": 47,
    "start_time": "2022-06-15T16:31:20.899Z"
   },
   {
    "duration": 5,
    "start_time": "2022-06-15T16:31:20.947Z"
   },
   {
    "duration": 20,
    "start_time": "2022-06-15T16:31:20.953Z"
   },
   {
    "duration": 23,
    "start_time": "2022-06-15T16:31:20.975Z"
   },
   {
    "duration": 105,
    "start_time": "2022-06-15T16:31:20.999Z"
   },
   {
    "duration": 3,
    "start_time": "2022-06-15T16:31:21.106Z"
   },
   {
    "duration": 194,
    "start_time": "2022-06-15T16:31:21.110Z"
   },
   {
    "duration": 332,
    "start_time": "2022-06-15T16:31:21.305Z"
   },
   {
    "duration": 78,
    "start_time": "2022-06-15T16:31:21.639Z"
   },
   {
    "duration": 11,
    "start_time": "2022-06-15T16:31:21.718Z"
   },
   {
    "duration": 15,
    "start_time": "2022-06-15T16:31:21.730Z"
   },
   {
    "duration": 48,
    "start_time": "2022-06-15T16:31:21.747Z"
   },
   {
    "duration": 75,
    "start_time": "2022-06-15T16:31:21.796Z"
   },
   {
    "duration": 20,
    "start_time": "2022-06-15T16:31:21.873Z"
   },
   {
    "duration": 8,
    "start_time": "2022-06-15T16:31:21.895Z"
   },
   {
    "duration": 40,
    "start_time": "2022-06-15T16:31:21.905Z"
   },
   {
    "duration": 87,
    "start_time": "2022-06-15T16:31:21.946Z"
   },
   {
    "duration": 15,
    "start_time": "2022-06-15T16:31:22.035Z"
   },
   {
    "duration": 116,
    "start_time": "2022-06-15T16:31:22.051Z"
   },
   {
    "duration": 22,
    "start_time": "2022-06-15T16:31:22.171Z"
   },
   {
    "duration": 111,
    "start_time": "2022-06-15T16:31:22.194Z"
   },
   {
    "duration": 9,
    "start_time": "2022-06-15T16:31:22.307Z"
   },
   {
    "duration": 37,
    "start_time": "2022-06-15T16:31:22.318Z"
   },
   {
    "duration": 19,
    "start_time": "2022-06-15T16:31:22.357Z"
   },
   {
    "duration": 21,
    "start_time": "2022-06-15T16:31:22.377Z"
   },
   {
    "duration": 12,
    "start_time": "2022-06-15T16:31:22.399Z"
   },
   {
    "duration": 14,
    "start_time": "2022-06-15T16:31:22.412Z"
   },
   {
    "duration": 22,
    "start_time": "2022-06-15T16:31:22.427Z"
   },
   {
    "duration": 9,
    "start_time": "2022-06-15T16:31:22.451Z"
   },
   {
    "duration": 37,
    "start_time": "2022-06-15T16:31:22.462Z"
   },
   {
    "duration": 37,
    "start_time": "2022-06-15T16:31:22.501Z"
   },
   {
    "duration": 28,
    "start_time": "2022-06-15T16:31:22.539Z"
   },
   {
    "duration": 73,
    "start_time": "2022-06-15T16:31:22.568Z"
   },
   {
    "duration": 15,
    "start_time": "2022-06-15T16:31:22.642Z"
   },
   {
    "duration": 39,
    "start_time": "2022-06-15T16:31:22.658Z"
   },
   {
    "duration": 13,
    "start_time": "2022-06-15T16:31:22.699Z"
   },
   {
    "duration": 5,
    "start_time": "2022-06-15T16:31:22.713Z"
   },
   {
    "duration": 8,
    "start_time": "2022-06-15T16:31:22.719Z"
   },
   {
    "duration": 446,
    "start_time": "2022-06-15T16:31:22.728Z"
   },
   {
    "duration": 27,
    "start_time": "2022-06-15T16:31:23.176Z"
   },
   {
    "duration": 15,
    "start_time": "2022-06-15T16:32:39.013Z"
   },
   {
    "duration": 1948,
    "start_time": "2022-06-15T16:32:58.349Z"
   },
   {
    "duration": 581,
    "start_time": "2022-06-15T16:33:00.300Z"
   },
   {
    "duration": 9,
    "start_time": "2022-06-15T16:33:00.882Z"
   },
   {
    "duration": 5,
    "start_time": "2022-06-15T16:33:00.893Z"
   },
   {
    "duration": 16,
    "start_time": "2022-06-15T16:33:00.899Z"
   },
   {
    "duration": 25,
    "start_time": "2022-06-15T16:33:00.917Z"
   },
   {
    "duration": 20,
    "start_time": "2022-06-15T16:33:00.944Z"
   },
   {
    "duration": 88,
    "start_time": "2022-06-15T16:33:00.966Z"
   },
   {
    "duration": 77,
    "start_time": "2022-06-15T16:33:01.056Z"
   },
   {
    "duration": 78,
    "start_time": "2022-06-15T16:33:01.136Z"
   },
   {
    "duration": 129,
    "start_time": "2022-06-15T16:33:01.216Z"
   },
   {
    "duration": 13,
    "start_time": "2022-06-15T16:33:01.347Z"
   },
   {
    "duration": 56,
    "start_time": "2022-06-15T16:33:01.361Z"
   },
   {
    "duration": 11,
    "start_time": "2022-06-15T16:33:01.419Z"
   },
   {
    "duration": 165,
    "start_time": "2022-06-15T16:33:01.432Z"
   },
   {
    "duration": 5,
    "start_time": "2022-06-15T16:33:01.598Z"
   },
   {
    "duration": 14,
    "start_time": "2022-06-15T16:33:01.604Z"
   },
   {
    "duration": 329,
    "start_time": "2022-06-15T16:33:01.619Z"
   },
   {
    "duration": 6,
    "start_time": "2022-06-15T16:33:01.950Z"
   },
   {
    "duration": 15,
    "start_time": "2022-06-15T16:33:01.958Z"
   },
   {
    "duration": 23,
    "start_time": "2022-06-15T16:33:01.975Z"
   },
   {
    "duration": 46,
    "start_time": "2022-06-15T16:33:02.000Z"
   },
   {
    "duration": 7,
    "start_time": "2022-06-15T16:33:02.047Z"
   },
   {
    "duration": 70,
    "start_time": "2022-06-15T16:33:02.055Z"
   },
   {
    "duration": 6,
    "start_time": "2022-06-15T16:33:02.127Z"
   },
   {
    "duration": 19,
    "start_time": "2022-06-15T16:33:02.134Z"
   },
   {
    "duration": 11,
    "start_time": "2022-06-15T16:33:02.154Z"
   },
   {
    "duration": 12,
    "start_time": "2022-06-15T16:33:02.169Z"
   },
   {
    "duration": 4,
    "start_time": "2022-06-15T16:33:02.183Z"
   },
   {
    "duration": 140,
    "start_time": "2022-06-15T16:33:02.192Z"
   },
   {
    "duration": 7,
    "start_time": "2022-06-15T16:33:02.333Z"
   },
   {
    "duration": 66,
    "start_time": "2022-06-15T16:33:02.341Z"
   },
   {
    "duration": 29,
    "start_time": "2022-06-15T16:33:02.409Z"
   },
   {
    "duration": 6,
    "start_time": "2022-06-15T16:33:02.440Z"
   },
   {
    "duration": 25,
    "start_time": "2022-06-15T16:33:02.447Z"
   },
   {
    "duration": 12,
    "start_time": "2022-06-15T16:33:02.473Z"
   },
   {
    "duration": 131,
    "start_time": "2022-06-15T16:33:02.487Z"
   },
   {
    "duration": 4,
    "start_time": "2022-06-15T16:33:02.620Z"
   },
   {
    "duration": 132,
    "start_time": "2022-06-15T16:33:02.626Z"
   },
   {
    "duration": 5,
    "start_time": "2022-06-15T16:33:02.760Z"
   },
   {
    "duration": 51,
    "start_time": "2022-06-15T16:33:02.766Z"
   },
   {
    "duration": 7,
    "start_time": "2022-06-15T16:33:02.820Z"
   },
   {
    "duration": 134,
    "start_time": "2022-06-15T16:33:02.829Z"
   },
   {
    "duration": 5,
    "start_time": "2022-06-15T16:33:02.964Z"
   },
   {
    "duration": 33,
    "start_time": "2022-06-15T16:33:02.970Z"
   },
   {
    "duration": 11,
    "start_time": "2022-06-15T16:33:03.005Z"
   },
   {
    "duration": 129,
    "start_time": "2022-06-15T16:33:03.017Z"
   },
   {
    "duration": 5,
    "start_time": "2022-06-15T16:33:03.148Z"
   },
   {
    "duration": 12,
    "start_time": "2022-06-15T16:33:03.154Z"
   },
   {
    "duration": 154,
    "start_time": "2022-06-15T16:33:03.167Z"
   },
   {
    "duration": 4,
    "start_time": "2022-06-15T16:33:03.323Z"
   },
   {
    "duration": 7,
    "start_time": "2022-06-15T16:33:03.329Z"
   },
   {
    "duration": 137,
    "start_time": "2022-06-15T16:33:03.338Z"
   },
   {
    "duration": 15,
    "start_time": "2022-06-15T16:33:03.477Z"
   },
   {
    "duration": 7,
    "start_time": "2022-06-15T16:33:03.494Z"
   },
   {
    "duration": 135,
    "start_time": "2022-06-15T16:33:03.503Z"
   },
   {
    "duration": 5,
    "start_time": "2022-06-15T16:33:03.640Z"
   },
   {
    "duration": 7,
    "start_time": "2022-06-15T16:33:03.647Z"
   },
   {
    "duration": 5,
    "start_time": "2022-06-15T16:33:03.655Z"
   },
   {
    "duration": 35,
    "start_time": "2022-06-15T16:33:03.661Z"
   },
   {
    "duration": 152,
    "start_time": "2022-06-15T16:33:03.698Z"
   },
   {
    "duration": 5,
    "start_time": "2022-06-15T16:33:03.851Z"
   },
   {
    "duration": 61,
    "start_time": "2022-06-15T16:33:03.858Z"
   },
   {
    "duration": 5,
    "start_time": "2022-06-15T16:33:03.921Z"
   },
   {
    "duration": 16,
    "start_time": "2022-06-15T16:33:03.927Z"
   },
   {
    "duration": 15,
    "start_time": "2022-06-15T16:33:03.945Z"
   },
   {
    "duration": 140,
    "start_time": "2022-06-15T16:33:03.961Z"
   },
   {
    "duration": 3,
    "start_time": "2022-06-15T16:33:04.103Z"
   },
   {
    "duration": 222,
    "start_time": "2022-06-15T16:33:04.107Z"
   },
   {
    "duration": 511,
    "start_time": "2022-06-15T16:33:04.331Z"
   },
   {
    "duration": 82,
    "start_time": "2022-06-15T16:33:04.844Z"
   },
   {
    "duration": 10,
    "start_time": "2022-06-15T16:33:04.928Z"
   },
   {
    "duration": 18,
    "start_time": "2022-06-15T16:33:04.940Z"
   },
   {
    "duration": 43,
    "start_time": "2022-06-15T16:33:04.959Z"
   },
   {
    "duration": 90,
    "start_time": "2022-06-15T16:33:05.004Z"
   },
   {
    "duration": 15,
    "start_time": "2022-06-15T16:33:05.096Z"
   },
   {
    "duration": 14,
    "start_time": "2022-06-15T16:33:05.113Z"
   },
   {
    "duration": 67,
    "start_time": "2022-06-15T16:33:05.129Z"
   },
   {
    "duration": 73,
    "start_time": "2022-06-15T16:33:05.198Z"
   },
   {
    "duration": 29,
    "start_time": "2022-06-15T16:33:05.273Z"
   },
   {
    "duration": 133,
    "start_time": "2022-06-15T16:33:05.304Z"
   },
   {
    "duration": 28,
    "start_time": "2022-06-15T16:33:05.444Z"
   },
   {
    "duration": 127,
    "start_time": "2022-06-15T16:33:05.473Z"
   },
   {
    "duration": 10,
    "start_time": "2022-06-15T16:33:05.602Z"
   },
   {
    "duration": 35,
    "start_time": "2022-06-15T16:33:05.614Z"
   },
   {
    "duration": 20,
    "start_time": "2022-06-15T16:33:05.650Z"
   },
   {
    "duration": 32,
    "start_time": "2022-06-15T16:33:05.671Z"
   },
   {
    "duration": 17,
    "start_time": "2022-06-15T16:33:05.704Z"
   },
   {
    "duration": 14,
    "start_time": "2022-06-15T16:33:05.722Z"
   },
   {
    "duration": 20,
    "start_time": "2022-06-15T16:33:05.738Z"
   },
   {
    "duration": 10,
    "start_time": "2022-06-15T16:33:05.760Z"
   },
   {
    "duration": 38,
    "start_time": "2022-06-15T16:33:05.771Z"
   },
   {
    "duration": 43,
    "start_time": "2022-06-15T16:33:05.810Z"
   },
   {
    "duration": 49,
    "start_time": "2022-06-15T16:33:05.855Z"
   },
   {
    "duration": 65,
    "start_time": "2022-06-15T16:33:05.905Z"
   },
   {
    "duration": 28,
    "start_time": "2022-06-15T16:33:05.972Z"
   },
   {
    "duration": 23,
    "start_time": "2022-06-15T16:33:06.002Z"
   },
   {
    "duration": 14,
    "start_time": "2022-06-15T16:33:06.026Z"
   },
   {
    "duration": 8,
    "start_time": "2022-06-15T16:33:06.042Z"
   },
   {
    "duration": 42,
    "start_time": "2022-06-15T16:33:06.051Z"
   },
   {
    "duration": 10,
    "start_time": "2022-06-15T16:33:06.094Z"
   },
   {
    "duration": 434,
    "start_time": "2022-06-15T16:33:06.105Z"
   },
   {
    "duration": 22,
    "start_time": "2022-06-15T16:33:06.541Z"
   },
   {
    "duration": 4704,
    "start_time": "2022-06-16T14:07:10.555Z"
   },
   {
    "duration": 954,
    "start_time": "2022-06-16T14:07:15.261Z"
   },
   {
    "duration": 3,
    "start_time": "2022-06-16T14:07:16.216Z"
   },
   {
    "duration": 11,
    "start_time": "2022-06-16T14:07:16.221Z"
   },
   {
    "duration": 16,
    "start_time": "2022-06-16T14:07:16.234Z"
   },
   {
    "duration": 30,
    "start_time": "2022-06-16T14:07:16.252Z"
   },
   {
    "duration": 22,
    "start_time": "2022-06-16T14:07:16.284Z"
   },
   {
    "duration": 94,
    "start_time": "2022-06-16T14:07:16.308Z"
   },
   {
    "duration": 82,
    "start_time": "2022-06-16T14:07:16.404Z"
   },
   {
    "duration": 89,
    "start_time": "2022-06-16T14:07:16.488Z"
   },
   {
    "duration": 137,
    "start_time": "2022-06-16T14:07:16.579Z"
   },
   {
    "duration": 13,
    "start_time": "2022-06-16T14:07:16.718Z"
   },
   {
    "duration": 67,
    "start_time": "2022-06-16T14:07:16.733Z"
   },
   {
    "duration": 13,
    "start_time": "2022-06-16T14:07:16.803Z"
   },
   {
    "duration": 180,
    "start_time": "2022-06-16T14:07:16.818Z"
   },
   {
    "duration": 5,
    "start_time": "2022-06-16T14:07:17.000Z"
   },
   {
    "duration": 6,
    "start_time": "2022-06-16T14:07:17.007Z"
   },
   {
    "duration": 310,
    "start_time": "2022-06-16T14:07:17.014Z"
   },
   {
    "duration": 7,
    "start_time": "2022-06-16T14:07:17.326Z"
   },
   {
    "duration": 27,
    "start_time": "2022-06-16T14:07:17.335Z"
   },
   {
    "duration": 13,
    "start_time": "2022-06-16T14:07:17.363Z"
   },
   {
    "duration": 44,
    "start_time": "2022-06-16T14:07:17.377Z"
   },
   {
    "duration": 8,
    "start_time": "2022-06-16T14:07:17.422Z"
   },
   {
    "duration": 55,
    "start_time": "2022-06-16T14:07:17.453Z"
   },
   {
    "duration": 7,
    "start_time": "2022-06-16T14:07:17.510Z"
   },
   {
    "duration": 5,
    "start_time": "2022-06-16T14:07:17.519Z"
   },
   {
    "duration": 27,
    "start_time": "2022-06-16T14:07:17.526Z"
   },
   {
    "duration": 11,
    "start_time": "2022-06-16T14:07:17.555Z"
   },
   {
    "duration": 4,
    "start_time": "2022-06-16T14:07:17.568Z"
   },
   {
    "duration": 162,
    "start_time": "2022-06-16T14:07:17.574Z"
   },
   {
    "duration": 17,
    "start_time": "2022-06-16T14:07:17.738Z"
   },
   {
    "duration": 64,
    "start_time": "2022-06-16T14:07:17.757Z"
   },
   {
    "duration": 55,
    "start_time": "2022-06-16T14:07:17.823Z"
   },
   {
    "duration": 6,
    "start_time": "2022-06-16T14:07:17.880Z"
   },
   {
    "duration": 6,
    "start_time": "2022-06-16T14:07:17.888Z"
   },
   {
    "duration": 4,
    "start_time": "2022-06-16T14:07:17.896Z"
   },
   {
    "duration": 167,
    "start_time": "2022-06-16T14:07:17.901Z"
   },
   {
    "duration": 4,
    "start_time": "2022-06-16T14:07:18.070Z"
   },
   {
    "duration": 153,
    "start_time": "2022-06-16T14:07:18.076Z"
   },
   {
    "duration": 5,
    "start_time": "2022-06-16T14:07:18.230Z"
   },
   {
    "duration": 40,
    "start_time": "2022-06-16T14:07:18.251Z"
   },
   {
    "duration": 5,
    "start_time": "2022-06-16T14:07:18.293Z"
   },
   {
    "duration": 139,
    "start_time": "2022-06-16T14:07:18.300Z"
   },
   {
    "duration": 13,
    "start_time": "2022-06-16T14:07:18.441Z"
   },
   {
    "duration": 19,
    "start_time": "2022-06-16T14:07:18.455Z"
   },
   {
    "duration": 11,
    "start_time": "2022-06-16T14:07:18.476Z"
   },
   {
    "duration": 146,
    "start_time": "2022-06-16T14:07:18.488Z"
   },
   {
    "duration": 5,
    "start_time": "2022-06-16T14:07:18.636Z"
   },
   {
    "duration": 6,
    "start_time": "2022-06-16T14:07:18.651Z"
   },
   {
    "duration": 151,
    "start_time": "2022-06-16T14:07:18.658Z"
   },
   {
    "duration": 4,
    "start_time": "2022-06-16T14:07:18.811Z"
   },
   {
    "duration": 11,
    "start_time": "2022-06-16T14:07:18.817Z"
   },
   {
    "duration": 150,
    "start_time": "2022-06-16T14:07:18.829Z"
   },
   {
    "duration": 5,
    "start_time": "2022-06-16T14:07:18.981Z"
   },
   {
    "duration": 9,
    "start_time": "2022-06-16T14:07:18.987Z"
   },
   {
    "duration": 144,
    "start_time": "2022-06-16T14:07:18.997Z"
   },
   {
    "duration": 10,
    "start_time": "2022-06-16T14:07:19.143Z"
   },
   {
    "duration": 5,
    "start_time": "2022-06-16T14:07:19.155Z"
   },
   {
    "duration": 9,
    "start_time": "2022-06-16T14:07:19.162Z"
   },
   {
    "duration": 15,
    "start_time": "2022-06-16T14:07:19.173Z"
   },
   {
    "duration": 172,
    "start_time": "2022-06-16T14:07:19.189Z"
   },
   {
    "duration": 9,
    "start_time": "2022-06-16T14:07:19.363Z"
   },
   {
    "duration": 61,
    "start_time": "2022-06-16T14:07:19.373Z"
   },
   {
    "duration": 17,
    "start_time": "2022-06-16T14:07:19.436Z"
   },
   {
    "duration": 16,
    "start_time": "2022-06-16T14:07:19.455Z"
   },
   {
    "duration": 15,
    "start_time": "2022-06-16T14:07:19.473Z"
   },
   {
    "duration": 122,
    "start_time": "2022-06-16T14:07:19.489Z"
   },
   {
    "duration": 3,
    "start_time": "2022-06-16T14:07:19.613Z"
   },
   {
    "duration": 219,
    "start_time": "2022-06-16T14:07:19.617Z"
   },
   {
    "duration": 398,
    "start_time": "2022-06-16T14:07:19.838Z"
   },
   {
    "duration": 226,
    "start_time": "2022-06-16T14:07:20.238Z"
   },
   {
    "duration": 11,
    "start_time": "2022-06-16T14:07:20.466Z"
   },
   {
    "duration": 15,
    "start_time": "2022-06-16T14:07:20.478Z"
   },
   {
    "duration": 45,
    "start_time": "2022-06-16T14:07:20.495Z"
   },
   {
    "duration": 84,
    "start_time": "2022-06-16T14:07:20.542Z"
   },
   {
    "duration": 11,
    "start_time": "2022-06-16T14:07:20.627Z"
   },
   {
    "duration": 19,
    "start_time": "2022-06-16T14:07:20.639Z"
   },
   {
    "duration": 52,
    "start_time": "2022-06-16T14:07:20.660Z"
   },
   {
    "duration": 82,
    "start_time": "2022-06-16T14:07:20.714Z"
   },
   {
    "duration": 20,
    "start_time": "2022-06-16T14:07:20.798Z"
   },
   {
    "duration": 126,
    "start_time": "2022-06-16T14:07:20.820Z"
   },
   {
    "duration": 20,
    "start_time": "2022-06-16T14:07:20.947Z"
   },
   {
    "duration": 113,
    "start_time": "2022-06-16T14:07:20.969Z"
   },
   {
    "duration": 12,
    "start_time": "2022-06-16T14:07:21.083Z"
   },
   {
    "duration": 43,
    "start_time": "2022-06-16T14:07:21.096Z"
   },
   {
    "duration": 29,
    "start_time": "2022-06-16T14:07:21.140Z"
   },
   {
    "duration": 13,
    "start_time": "2022-06-16T14:07:21.170Z"
   },
   {
    "duration": 11,
    "start_time": "2022-06-16T14:07:21.185Z"
   },
   {
    "duration": 15,
    "start_time": "2022-06-16T14:07:21.198Z"
   },
   {
    "duration": 23,
    "start_time": "2022-06-16T14:07:21.214Z"
   },
   {
    "duration": 19,
    "start_time": "2022-06-16T14:07:21.239Z"
   },
   {
    "duration": 23,
    "start_time": "2022-06-16T14:07:21.260Z"
   },
   {
    "duration": 45,
    "start_time": "2022-06-16T14:07:21.285Z"
   },
   {
    "duration": 38,
    "start_time": "2022-06-16T14:07:21.332Z"
   },
   {
    "duration": 86,
    "start_time": "2022-06-16T14:07:21.372Z"
   },
   {
    "duration": 21,
    "start_time": "2022-06-16T14:07:21.459Z"
   },
   {
    "duration": 24,
    "start_time": "2022-06-16T14:07:21.482Z"
   },
   {
    "duration": 13,
    "start_time": "2022-06-16T14:07:21.508Z"
   },
   {
    "duration": 34,
    "start_time": "2022-06-16T14:07:21.523Z"
   },
   {
    "duration": 11,
    "start_time": "2022-06-16T14:07:21.559Z"
   },
   {
    "duration": 12,
    "start_time": "2022-06-16T14:07:21.571Z"
   },
   {
    "duration": 402,
    "start_time": "2022-06-16T14:07:21.584Z"
   },
   {
    "duration": 26,
    "start_time": "2022-06-16T14:07:21.988Z"
   },
   {
    "duration": 187903,
    "start_time": "2022-06-16T14:20:56.606Z"
   },
   {
    "duration": 187037,
    "start_time": "2022-06-16T14:25:03.832Z"
   },
   {
    "duration": 107,
    "start_time": "2022-06-16T14:28:13.305Z"
   },
   {
    "duration": 10,
    "start_time": "2022-06-16T14:28:31.572Z"
   },
   {
    "duration": 189688,
    "start_time": "2022-06-16T14:30:10.890Z"
   },
   {
    "duration": 16,
    "start_time": "2022-06-16T14:33:22.383Z"
   },
   {
    "duration": 14,
    "start_time": "2022-06-16T14:33:53.701Z"
   },
   {
    "duration": 30,
    "start_time": "2022-06-16T14:36:39.307Z"
   },
   {
    "duration": 185378,
    "start_time": "2022-06-16T14:40:43.411Z"
   },
   {
    "duration": 191451,
    "start_time": "2022-06-16T14:48:08.987Z"
   },
   {
    "duration": 16,
    "start_time": "2022-06-16T14:51:23.779Z"
   },
   {
    "duration": 15,
    "start_time": "2022-06-16T14:51:38.246Z"
   },
   {
    "duration": 20,
    "start_time": "2022-06-16T14:57:25.252Z"
   },
   {
    "duration": 20,
    "start_time": "2022-06-16T15:01:20.012Z"
   },
   {
    "duration": 192939,
    "start_time": "2022-06-16T15:01:59.642Z"
   },
   {
    "duration": 18,
    "start_time": "2022-06-16T15:05:17.102Z"
   },
   {
    "duration": 14,
    "start_time": "2022-06-16T15:05:26.172Z"
   },
   {
    "duration": 16,
    "start_time": "2022-06-16T15:05:41.948Z"
   },
   {
    "duration": 22594,
    "start_time": "2022-06-16T15:05:54.805Z"
   },
   {
    "duration": 14,
    "start_time": "2022-06-16T15:07:06.040Z"
   },
   {
    "duration": 13,
    "start_time": "2022-06-16T15:07:27.784Z"
   },
   {
    "duration": 3,
    "start_time": "2022-06-16T16:24:24.282Z"
   },
   {
    "duration": 2,
    "start_time": "2022-06-16T16:26:15.066Z"
   },
   {
    "duration": 10,
    "start_time": "2022-06-16T16:29:08.286Z"
   },
   {
    "duration": 4,
    "start_time": "2022-06-16T16:34:04.415Z"
   },
   {
    "duration": 4271,
    "start_time": "2022-06-16T21:40:45.000Z"
   },
   {
    "duration": 934,
    "start_time": "2022-06-16T21:40:49.274Z"
   },
   {
    "duration": 3,
    "start_time": "2022-06-16T21:40:50.209Z"
   },
   {
    "duration": 8,
    "start_time": "2022-06-16T21:40:50.214Z"
   },
   {
    "duration": 17,
    "start_time": "2022-06-16T21:40:50.224Z"
   },
   {
    "duration": 25,
    "start_time": "2022-06-16T21:40:50.243Z"
   },
   {
    "duration": 17,
    "start_time": "2022-06-16T21:40:50.270Z"
   },
   {
    "duration": 103,
    "start_time": "2022-06-16T21:40:50.289Z"
   },
   {
    "duration": 81,
    "start_time": "2022-06-16T21:40:50.394Z"
   },
   {
    "duration": 93,
    "start_time": "2022-06-16T21:40:50.477Z"
   },
   {
    "duration": 138,
    "start_time": "2022-06-16T21:40:50.571Z"
   },
   {
    "duration": 14,
    "start_time": "2022-06-16T21:40:50.710Z"
   },
   {
    "duration": 66,
    "start_time": "2022-06-16T21:40:50.725Z"
   },
   {
    "duration": 13,
    "start_time": "2022-06-16T21:40:50.793Z"
   },
   {
    "duration": 177,
    "start_time": "2022-06-16T21:40:50.807Z"
   },
   {
    "duration": 5,
    "start_time": "2022-06-16T21:40:50.985Z"
   },
   {
    "duration": 9,
    "start_time": "2022-06-16T21:40:50.991Z"
   },
   {
    "duration": 226,
    "start_time": "2022-06-16T21:40:51.002Z"
   },
   {
    "duration": 6,
    "start_time": "2022-06-16T21:40:51.229Z"
   },
   {
    "duration": 24,
    "start_time": "2022-06-16T21:40:51.237Z"
   },
   {
    "duration": 13,
    "start_time": "2022-06-16T21:40:51.263Z"
   },
   {
    "duration": 42,
    "start_time": "2022-06-16T21:40:51.278Z"
   },
   {
    "duration": 6,
    "start_time": "2022-06-16T21:40:51.322Z"
   },
   {
    "duration": 82,
    "start_time": "2022-06-16T21:40:51.329Z"
   },
   {
    "duration": 5,
    "start_time": "2022-06-16T21:40:51.413Z"
   },
   {
    "duration": 5,
    "start_time": "2022-06-16T21:40:51.420Z"
   },
   {
    "duration": 5,
    "start_time": "2022-06-16T21:40:51.427Z"
   },
   {
    "duration": 10,
    "start_time": "2022-06-16T21:40:51.541Z"
   },
   {
    "duration": 8,
    "start_time": "2022-06-16T21:40:51.552Z"
   },
   {
    "duration": 147,
    "start_time": "2022-06-16T21:40:51.561Z"
   },
   {
    "duration": 9,
    "start_time": "2022-06-16T21:40:51.710Z"
   },
   {
    "duration": 81,
    "start_time": "2022-06-16T21:40:51.721Z"
   },
   {
    "duration": 43,
    "start_time": "2022-06-16T21:40:51.803Z"
   },
   {
    "duration": 14,
    "start_time": "2022-06-16T21:40:51.848Z"
   },
   {
    "duration": 4,
    "start_time": "2022-06-16T21:40:51.864Z"
   },
   {
    "duration": 5,
    "start_time": "2022-06-16T21:40:51.870Z"
   },
   {
    "duration": 154,
    "start_time": "2022-06-16T21:40:51.876Z"
   },
   {
    "duration": 4,
    "start_time": "2022-06-16T21:40:52.032Z"
   },
   {
    "duration": 129,
    "start_time": "2022-06-16T21:40:52.038Z"
   },
   {
    "duration": 5,
    "start_time": "2022-06-16T21:40:52.169Z"
   },
   {
    "duration": 41,
    "start_time": "2022-06-16T21:40:52.175Z"
   },
   {
    "duration": 5,
    "start_time": "2022-06-16T21:40:52.218Z"
   },
   {
    "duration": 142,
    "start_time": "2022-06-16T21:40:52.225Z"
   },
   {
    "duration": 5,
    "start_time": "2022-06-16T21:40:52.368Z"
   },
   {
    "duration": 17,
    "start_time": "2022-06-16T21:40:52.375Z"
   },
   {
    "duration": 11,
    "start_time": "2022-06-16T21:40:52.394Z"
   },
   {
    "duration": 145,
    "start_time": "2022-06-16T21:40:52.407Z"
   },
   {
    "duration": 5,
    "start_time": "2022-06-16T21:40:52.554Z"
   },
   {
    "duration": 10,
    "start_time": "2022-06-16T21:40:52.561Z"
   },
   {
    "duration": 145,
    "start_time": "2022-06-16T21:40:52.573Z"
   },
   {
    "duration": 6,
    "start_time": "2022-06-16T21:40:52.720Z"
   },
   {
    "duration": 10,
    "start_time": "2022-06-16T21:40:52.727Z"
   },
   {
    "duration": 143,
    "start_time": "2022-06-16T21:40:52.738Z"
   },
   {
    "duration": 4,
    "start_time": "2022-06-16T21:40:52.883Z"
   },
   {
    "duration": 7,
    "start_time": "2022-06-16T21:40:52.889Z"
   },
   {
    "duration": 166,
    "start_time": "2022-06-16T21:40:52.898Z"
   },
   {
    "duration": 5,
    "start_time": "2022-06-16T21:40:53.066Z"
   },
   {
    "duration": 10,
    "start_time": "2022-06-16T21:40:53.073Z"
   },
   {
    "duration": 4,
    "start_time": "2022-06-16T21:40:53.085Z"
   },
   {
    "duration": 14,
    "start_time": "2022-06-16T21:40:53.091Z"
   },
   {
    "duration": 178,
    "start_time": "2022-06-16T21:40:53.107Z"
   },
   {
    "duration": 5,
    "start_time": "2022-06-16T21:40:53.286Z"
   },
   {
    "duration": 51,
    "start_time": "2022-06-16T21:40:53.292Z"
   },
   {
    "duration": 17,
    "start_time": "2022-06-16T21:40:53.345Z"
   },
   {
    "duration": 16,
    "start_time": "2022-06-16T21:40:53.363Z"
   },
   {
    "duration": 10,
    "start_time": "2022-06-16T21:40:53.380Z"
   },
   {
    "duration": 125,
    "start_time": "2022-06-16T21:40:53.391Z"
   },
   {
    "duration": 3,
    "start_time": "2022-06-16T21:40:53.517Z"
   },
   {
    "duration": 227,
    "start_time": "2022-06-16T21:40:53.521Z"
   },
   {
    "duration": 374,
    "start_time": "2022-06-16T21:40:53.750Z"
   },
   {
    "duration": 128,
    "start_time": "2022-06-16T21:40:54.126Z"
   },
   {
    "duration": 13,
    "start_time": "2022-06-16T21:40:54.258Z"
   },
   {
    "duration": 14,
    "start_time": "2022-06-16T21:40:54.273Z"
   },
   {
    "duration": 42,
    "start_time": "2022-06-16T21:40:54.289Z"
   },
   {
    "duration": 109,
    "start_time": "2022-06-16T21:40:54.333Z"
   },
   {
    "duration": 24,
    "start_time": "2022-06-16T21:40:54.444Z"
   },
   {
    "duration": 12,
    "start_time": "2022-06-16T21:40:54.469Z"
   },
   {
    "duration": 53,
    "start_time": "2022-06-16T21:40:54.483Z"
   },
   {
    "duration": 97,
    "start_time": "2022-06-16T21:40:54.538Z"
   },
   {
    "duration": 31,
    "start_time": "2022-06-16T21:40:54.637Z"
   },
   {
    "duration": 148,
    "start_time": "2022-06-16T21:40:54.670Z"
   },
   {
    "duration": 20,
    "start_time": "2022-06-16T21:40:54.825Z"
   },
   {
    "duration": 139,
    "start_time": "2022-06-16T21:40:54.846Z"
   },
   {
    "duration": 12,
    "start_time": "2022-06-16T21:40:54.987Z"
   },
   {
    "duration": 61,
    "start_time": "2022-06-16T21:40:55.001Z"
   },
   {
    "duration": 24,
    "start_time": "2022-06-16T21:40:55.064Z"
   },
   {
    "duration": 11,
    "start_time": "2022-06-16T21:40:55.090Z"
   },
   {
    "duration": 13,
    "start_time": "2022-06-16T21:40:55.103Z"
   },
   {
    "duration": 12,
    "start_time": "2022-06-16T21:40:55.118Z"
   },
   {
    "duration": 43,
    "start_time": "2022-06-16T21:40:55.132Z"
   },
   {
    "duration": 10,
    "start_time": "2022-06-16T21:40:55.177Z"
   },
   {
    "duration": 27,
    "start_time": "2022-06-16T21:40:55.189Z"
   },
   {
    "duration": 56,
    "start_time": "2022-06-16T21:40:55.218Z"
   },
   {
    "duration": 30,
    "start_time": "2022-06-16T21:40:55.276Z"
   },
   {
    "duration": 93,
    "start_time": "2022-06-16T21:40:55.308Z"
   },
   {
    "duration": 20,
    "start_time": "2022-06-16T21:40:55.403Z"
   },
   {
    "duration": 42,
    "start_time": "2022-06-16T21:40:55.425Z"
   },
   {
    "duration": 13,
    "start_time": "2022-06-16T21:40:55.468Z"
   },
   {
    "duration": 7,
    "start_time": "2022-06-16T21:40:55.483Z"
   },
   {
    "duration": 8,
    "start_time": "2022-06-16T21:40:55.492Z"
   },
   {
    "duration": 10,
    "start_time": "2022-06-16T21:40:55.501Z"
   },
   {
    "duration": 459,
    "start_time": "2022-06-16T21:40:55.513Z"
   },
   {
    "duration": 24,
    "start_time": "2022-06-16T21:40:55.974Z"
   },
   {
    "duration": 185353,
    "start_time": "2022-06-16T21:40:56.000Z"
   },
   {
    "duration": 17,
    "start_time": "2022-06-16T21:44:01.355Z"
   },
   {
    "duration": 136,
    "start_time": "2022-06-16T21:44:01.374Z"
   },
   {
    "duration": 23,
    "start_time": "2022-06-16T21:44:01.512Z"
   },
   {
    "duration": 21678,
    "start_time": "2022-06-16T21:44:01.537Z"
   },
   {
    "duration": 12,
    "start_time": "2022-06-16T21:44:23.217Z"
   },
   {
    "duration": 18,
    "start_time": "2022-06-16T21:44:23.231Z"
   },
   {
    "duration": 18,
    "start_time": "2022-06-16T21:44:23.258Z"
   },
   {
    "duration": 17,
    "start_time": "2022-06-16T21:44:23.278Z"
   },
   {
    "duration": 45,
    "start_time": "2022-06-16T21:44:23.297Z"
   },
   {
    "duration": 112,
    "start_time": "2022-06-16T21:46:59.497Z"
   },
   {
    "duration": 7,
    "start_time": "2022-06-16T21:47:29.643Z"
   },
   {
    "duration": 3,
    "start_time": "2022-06-16T21:47:31.186Z"
   },
   {
    "duration": 22,
    "start_time": "2022-06-16T21:47:32.100Z"
   },
   {
    "duration": 2,
    "start_time": "2022-06-16T21:48:50.263Z"
   },
   {
    "duration": 14,
    "start_time": "2022-06-16T21:48:51.588Z"
   },
   {
    "duration": 2,
    "start_time": "2022-06-16T21:54:43.881Z"
   },
   {
    "duration": 25484,
    "start_time": "2022-06-16T21:54:45.035Z"
   },
   {
    "duration": 30,
    "start_time": "2022-06-16T21:56:25.743Z"
   },
   {
    "duration": 26093,
    "start_time": "2022-06-16T21:56:26.500Z"
   },
   {
    "duration": 4,
    "start_time": "2022-06-16T21:57:08.275Z"
   },
   {
    "duration": 33,
    "start_time": "2022-06-16T21:57:27.126Z"
   },
   {
    "duration": 25147,
    "start_time": "2022-06-16T21:57:27.981Z"
   },
   {
    "duration": 25256,
    "start_time": "2022-06-16T21:58:39.457Z"
   },
   {
    "duration": 25014,
    "start_time": "2022-06-16T22:03:41.046Z"
   },
   {
    "duration": 44,
    "start_time": "2022-06-16T22:05:28.420Z"
   },
   {
    "duration": 259,
    "start_time": "2022-06-16T22:10:30.605Z"
   },
   {
    "duration": 224,
    "start_time": "2022-06-16T22:16:01.919Z"
   },
   {
    "duration": 36779,
    "start_time": "2022-06-16T22:16:17.663Z"
   },
   {
    "duration": 2227,
    "start_time": "2022-06-17T13:19:18.220Z"
   },
   {
    "duration": 901,
    "start_time": "2022-06-17T13:19:20.450Z"
   },
   {
    "duration": 4,
    "start_time": "2022-06-17T13:19:21.353Z"
   },
   {
    "duration": 20,
    "start_time": "2022-06-17T13:19:21.359Z"
   },
   {
    "duration": 19,
    "start_time": "2022-06-17T13:19:21.381Z"
   },
   {
    "duration": 20,
    "start_time": "2022-06-17T13:19:21.402Z"
   },
   {
    "duration": 11,
    "start_time": "2022-06-17T13:19:21.423Z"
   },
   {
    "duration": 107,
    "start_time": "2022-06-17T13:19:21.436Z"
   },
   {
    "duration": 93,
    "start_time": "2022-06-17T13:19:21.544Z"
   },
   {
    "duration": 93,
    "start_time": "2022-06-17T13:19:21.640Z"
   },
   {
    "duration": 138,
    "start_time": "2022-06-17T13:19:21.735Z"
   },
   {
    "duration": 13,
    "start_time": "2022-06-17T13:19:21.875Z"
   },
   {
    "duration": 52,
    "start_time": "2022-06-17T13:19:21.889Z"
   },
   {
    "duration": 31,
    "start_time": "2022-06-17T13:19:21.942Z"
   },
   {
    "duration": 159,
    "start_time": "2022-06-17T13:19:21.975Z"
   },
   {
    "duration": 4,
    "start_time": "2022-06-17T13:19:22.136Z"
   },
   {
    "duration": 30,
    "start_time": "2022-06-17T13:19:22.142Z"
   },
   {
    "duration": 221,
    "start_time": "2022-06-17T13:19:22.174Z"
   },
   {
    "duration": 6,
    "start_time": "2022-06-17T13:19:22.397Z"
   },
   {
    "duration": 14,
    "start_time": "2022-06-17T13:19:22.404Z"
   },
   {
    "duration": 11,
    "start_time": "2022-06-17T13:19:22.420Z"
   },
   {
    "duration": 61,
    "start_time": "2022-06-17T13:19:22.433Z"
   },
   {
    "duration": 6,
    "start_time": "2022-06-17T13:19:22.496Z"
   },
   {
    "duration": 63,
    "start_time": "2022-06-17T13:19:22.503Z"
   },
   {
    "duration": 7,
    "start_time": "2022-06-17T13:19:22.568Z"
   },
   {
    "duration": 7,
    "start_time": "2022-06-17T13:19:22.577Z"
   },
   {
    "duration": 7,
    "start_time": "2022-06-17T13:19:22.585Z"
   },
   {
    "duration": 10,
    "start_time": "2022-06-17T13:19:22.596Z"
   },
   {
    "duration": 4,
    "start_time": "2022-06-17T13:19:22.607Z"
   },
   {
    "duration": 180,
    "start_time": "2022-06-17T13:19:22.612Z"
   },
   {
    "duration": 7,
    "start_time": "2022-06-17T13:19:22.794Z"
   },
   {
    "duration": 72,
    "start_time": "2022-06-17T13:19:22.803Z"
   },
   {
    "duration": 39,
    "start_time": "2022-06-17T13:19:22.877Z"
   },
   {
    "duration": 7,
    "start_time": "2022-06-17T13:19:22.918Z"
   },
   {
    "duration": 5,
    "start_time": "2022-06-17T13:19:22.927Z"
   },
   {
    "duration": 36,
    "start_time": "2022-06-17T13:19:22.934Z"
   },
   {
    "duration": 166,
    "start_time": "2022-06-17T13:19:22.972Z"
   },
   {
    "duration": 4,
    "start_time": "2022-06-17T13:19:23.140Z"
   },
   {
    "duration": 146,
    "start_time": "2022-06-17T13:19:23.146Z"
   },
   {
    "duration": 5,
    "start_time": "2022-06-17T13:19:23.294Z"
   },
   {
    "duration": 44,
    "start_time": "2022-06-17T13:19:23.300Z"
   },
   {
    "duration": 26,
    "start_time": "2022-06-17T13:19:23.346Z"
   },
   {
    "duration": 127,
    "start_time": "2022-06-17T13:19:23.374Z"
   },
   {
    "duration": 6,
    "start_time": "2022-06-17T13:19:23.504Z"
   },
   {
    "duration": 18,
    "start_time": "2022-06-17T13:19:23.512Z"
   },
   {
    "duration": 30,
    "start_time": "2022-06-17T13:19:23.532Z"
   },
   {
    "duration": 139,
    "start_time": "2022-06-17T13:19:23.563Z"
   },
   {
    "duration": 4,
    "start_time": "2022-06-17T13:19:23.704Z"
   },
   {
    "duration": 7,
    "start_time": "2022-06-17T13:19:23.710Z"
   },
   {
    "duration": 154,
    "start_time": "2022-06-17T13:19:23.719Z"
   },
   {
    "duration": 4,
    "start_time": "2022-06-17T13:19:23.875Z"
   },
   {
    "duration": 8,
    "start_time": "2022-06-17T13:19:23.881Z"
   },
   {
    "duration": 152,
    "start_time": "2022-06-17T13:19:23.891Z"
   },
   {
    "duration": 6,
    "start_time": "2022-06-17T13:19:24.045Z"
   },
   {
    "duration": 17,
    "start_time": "2022-06-17T13:19:24.058Z"
   },
   {
    "duration": 256,
    "start_time": "2022-06-17T13:19:24.076Z"
   },
   {
    "duration": 6,
    "start_time": "2022-06-17T13:19:24.334Z"
   },
   {
    "duration": 31,
    "start_time": "2022-06-17T13:19:24.341Z"
   },
   {
    "duration": 5,
    "start_time": "2022-06-17T13:19:24.374Z"
   },
   {
    "duration": 14,
    "start_time": "2022-06-17T13:19:24.380Z"
   },
   {
    "duration": 178,
    "start_time": "2022-06-17T13:19:24.396Z"
   },
   {
    "duration": 6,
    "start_time": "2022-06-17T13:19:24.575Z"
   },
   {
    "duration": 44,
    "start_time": "2022-06-17T13:19:24.582Z"
   },
   {
    "duration": 5,
    "start_time": "2022-06-17T13:19:24.628Z"
   },
   {
    "duration": 42,
    "start_time": "2022-06-17T13:19:24.634Z"
   },
   {
    "duration": 11,
    "start_time": "2022-06-17T13:19:24.678Z"
   },
   {
    "duration": 133,
    "start_time": "2022-06-17T13:19:24.691Z"
   },
   {
    "duration": 3,
    "start_time": "2022-06-17T13:19:24.826Z"
   },
   {
    "duration": 241,
    "start_time": "2022-06-17T13:19:24.831Z"
   },
   {
    "duration": 364,
    "start_time": "2022-06-17T13:19:25.074Z"
   },
   {
    "duration": 134,
    "start_time": "2022-06-17T13:19:25.440Z"
   },
   {
    "duration": 14,
    "start_time": "2022-06-17T13:19:25.576Z"
   },
   {
    "duration": 19,
    "start_time": "2022-06-17T13:19:25.592Z"
   },
   {
    "duration": 58,
    "start_time": "2022-06-17T13:19:25.613Z"
   },
   {
    "duration": 100,
    "start_time": "2022-06-17T13:19:25.673Z"
   },
   {
    "duration": 12,
    "start_time": "2022-06-17T13:19:25.775Z"
   },
   {
    "duration": 12,
    "start_time": "2022-06-17T13:19:25.788Z"
   },
   {
    "duration": 69,
    "start_time": "2022-06-17T13:19:25.802Z"
   },
   {
    "duration": 102,
    "start_time": "2022-06-17T13:19:25.873Z"
   },
   {
    "duration": 20,
    "start_time": "2022-06-17T13:19:25.977Z"
   },
   {
    "duration": 154,
    "start_time": "2022-06-17T13:19:25.999Z"
   },
   {
    "duration": 28,
    "start_time": "2022-06-17T13:19:26.159Z"
   },
   {
    "duration": 156,
    "start_time": "2022-06-17T13:19:26.188Z"
   },
   {
    "duration": 17,
    "start_time": "2022-06-17T13:19:26.345Z"
   },
   {
    "duration": 49,
    "start_time": "2022-06-17T13:19:26.363Z"
   },
   {
    "duration": 22,
    "start_time": "2022-06-17T13:19:26.413Z"
   },
   {
    "duration": 14,
    "start_time": "2022-06-17T13:19:26.436Z"
   },
   {
    "duration": 31,
    "start_time": "2022-06-17T13:19:26.452Z"
   },
   {
    "duration": 17,
    "start_time": "2022-06-17T13:19:26.484Z"
   },
   {
    "duration": 24,
    "start_time": "2022-06-17T13:19:26.502Z"
   },
   {
    "duration": 10,
    "start_time": "2022-06-17T13:19:26.528Z"
   },
   {
    "duration": 31,
    "start_time": "2022-06-17T13:19:26.540Z"
   },
   {
    "duration": 42,
    "start_time": "2022-06-17T13:19:26.573Z"
   },
   {
    "duration": 29,
    "start_time": "2022-06-17T13:19:26.617Z"
   },
   {
    "duration": 75,
    "start_time": "2022-06-17T13:19:26.648Z"
   },
   {
    "duration": 20,
    "start_time": "2022-06-17T13:19:26.725Z"
   },
   {
    "duration": 35,
    "start_time": "2022-06-17T13:19:26.758Z"
   },
   {
    "duration": 18,
    "start_time": "2022-06-17T13:19:26.795Z"
   },
   {
    "duration": 7,
    "start_time": "2022-06-17T13:19:26.815Z"
   },
   {
    "duration": 7,
    "start_time": "2022-06-17T13:19:26.824Z"
   },
   {
    "duration": 31,
    "start_time": "2022-06-17T13:19:26.833Z"
   },
   {
    "duration": 504,
    "start_time": "2022-06-17T13:19:26.872Z"
   },
   {
    "duration": 26,
    "start_time": "2022-06-17T13:19:27.378Z"
   },
   {
    "duration": 4048,
    "start_time": "2022-06-19T22:48:19.944Z"
   },
   {
    "duration": 866,
    "start_time": "2022-06-19T22:48:23.993Z"
   },
   {
    "duration": 3,
    "start_time": "2022-06-19T22:48:24.861Z"
   },
   {
    "duration": 7,
    "start_time": "2022-06-19T22:48:24.865Z"
   },
   {
    "duration": 18,
    "start_time": "2022-06-19T22:48:24.873Z"
   },
   {
    "duration": 26,
    "start_time": "2022-06-19T22:48:24.892Z"
   },
   {
    "duration": 14,
    "start_time": "2022-06-19T22:48:24.919Z"
   },
   {
    "duration": 86,
    "start_time": "2022-06-19T22:48:24.934Z"
   },
   {
    "duration": 83,
    "start_time": "2022-06-19T22:48:25.022Z"
   },
   {
    "duration": 77,
    "start_time": "2022-06-19T22:48:25.108Z"
   },
   {
    "duration": 143,
    "start_time": "2022-06-19T22:48:25.187Z"
   },
   {
    "duration": 12,
    "start_time": "2022-06-19T22:48:25.332Z"
   },
   {
    "duration": 59,
    "start_time": "2022-06-19T22:48:25.345Z"
   },
   {
    "duration": 14,
    "start_time": "2022-06-19T22:48:25.405Z"
   },
   {
    "duration": 168,
    "start_time": "2022-06-19T22:48:25.420Z"
   },
   {
    "duration": 4,
    "start_time": "2022-06-19T22:48:25.589Z"
   },
   {
    "duration": 7,
    "start_time": "2022-06-19T22:48:25.594Z"
   },
   {
    "duration": 297,
    "start_time": "2022-06-19T22:48:25.603Z"
   },
   {
    "duration": 6,
    "start_time": "2022-06-19T22:48:25.901Z"
   },
   {
    "duration": 12,
    "start_time": "2022-06-19T22:48:25.909Z"
   },
   {
    "duration": 12,
    "start_time": "2022-06-19T22:48:25.923Z"
   },
   {
    "duration": 41,
    "start_time": "2022-06-19T22:48:25.952Z"
   },
   {
    "duration": 6,
    "start_time": "2022-06-19T22:48:25.995Z"
   },
   {
    "duration": 71,
    "start_time": "2022-06-19T22:48:26.002Z"
   },
   {
    "duration": 6,
    "start_time": "2022-06-19T22:48:26.074Z"
   },
   {
    "duration": 14,
    "start_time": "2022-06-19T22:48:26.081Z"
   },
   {
    "duration": 8,
    "start_time": "2022-06-19T22:48:26.097Z"
   },
   {
    "duration": 20,
    "start_time": "2022-06-19T22:48:26.109Z"
   },
   {
    "duration": 4,
    "start_time": "2022-06-19T22:48:26.132Z"
   },
   {
    "duration": 144,
    "start_time": "2022-06-19T22:48:26.138Z"
   },
   {
    "duration": 7,
    "start_time": "2022-06-19T22:48:26.283Z"
   },
   {
    "duration": 73,
    "start_time": "2022-06-19T22:48:26.292Z"
   },
   {
    "duration": 42,
    "start_time": "2022-06-19T22:48:26.367Z"
   },
   {
    "duration": 6,
    "start_time": "2022-06-19T22:48:26.411Z"
   },
   {
    "duration": 6,
    "start_time": "2022-06-19T22:48:26.419Z"
   },
   {
    "duration": 8,
    "start_time": "2022-06-19T22:48:26.426Z"
   },
   {
    "duration": 149,
    "start_time": "2022-06-19T22:48:26.452Z"
   },
   {
    "duration": 5,
    "start_time": "2022-06-19T22:48:26.603Z"
   },
   {
    "duration": 144,
    "start_time": "2022-06-19T22:48:26.609Z"
   },
   {
    "duration": 5,
    "start_time": "2022-06-19T22:48:26.756Z"
   },
   {
    "duration": 38,
    "start_time": "2022-06-19T22:48:26.763Z"
   },
   {
    "duration": 7,
    "start_time": "2022-06-19T22:48:26.802Z"
   },
   {
    "duration": 141,
    "start_time": "2022-06-19T22:48:26.811Z"
   },
   {
    "duration": 5,
    "start_time": "2022-06-19T22:48:26.954Z"
   },
   {
    "duration": 19,
    "start_time": "2022-06-19T22:48:26.961Z"
   },
   {
    "duration": 11,
    "start_time": "2022-06-19T22:48:26.982Z"
   },
   {
    "duration": 147,
    "start_time": "2022-06-19T22:48:26.995Z"
   },
   {
    "duration": 5,
    "start_time": "2022-06-19T22:48:27.152Z"
   },
   {
    "duration": 6,
    "start_time": "2022-06-19T22:48:27.159Z"
   },
   {
    "duration": 149,
    "start_time": "2022-06-19T22:48:27.167Z"
   },
   {
    "duration": 4,
    "start_time": "2022-06-19T22:48:27.317Z"
   },
   {
    "duration": 7,
    "start_time": "2022-06-19T22:48:27.323Z"
   },
   {
    "duration": 139,
    "start_time": "2022-06-19T22:48:27.332Z"
   },
   {
    "duration": 5,
    "start_time": "2022-06-19T22:48:27.472Z"
   },
   {
    "duration": 7,
    "start_time": "2022-06-19T22:48:27.478Z"
   },
   {
    "duration": 137,
    "start_time": "2022-06-19T22:48:27.486Z"
   },
   {
    "duration": 5,
    "start_time": "2022-06-19T22:48:27.625Z"
   },
   {
    "duration": 22,
    "start_time": "2022-06-19T22:48:27.631Z"
   },
   {
    "duration": 5,
    "start_time": "2022-06-19T22:48:27.654Z"
   },
   {
    "duration": 12,
    "start_time": "2022-06-19T22:48:27.660Z"
   },
   {
    "duration": 173,
    "start_time": "2022-06-19T22:48:27.673Z"
   },
   {
    "duration": 5,
    "start_time": "2022-06-19T22:48:27.847Z"
   },
   {
    "duration": 51,
    "start_time": "2022-06-19T22:48:27.854Z"
   },
   {
    "duration": 5,
    "start_time": "2022-06-19T22:48:27.906Z"
   },
   {
    "duration": 15,
    "start_time": "2022-06-19T22:48:27.912Z"
   },
   {
    "duration": 28,
    "start_time": "2022-06-19T22:48:27.929Z"
   },
   {
    "duration": 110,
    "start_time": "2022-06-19T22:48:27.958Z"
   },
   {
    "duration": 3,
    "start_time": "2022-06-19T22:48:28.070Z"
   },
   {
    "duration": 214,
    "start_time": "2022-06-19T22:48:28.075Z"
   },
   {
    "duration": 418,
    "start_time": "2022-06-19T22:48:28.291Z"
   },
   {
    "duration": 210,
    "start_time": "2022-06-19T22:48:28.711Z"
   },
   {
    "duration": 11,
    "start_time": "2022-06-19T22:48:28.923Z"
   },
   {
    "duration": 20,
    "start_time": "2022-06-19T22:48:28.935Z"
   },
   {
    "duration": 37,
    "start_time": "2022-06-19T22:48:28.956Z"
   },
   {
    "duration": 86,
    "start_time": "2022-06-19T22:48:28.995Z"
   },
   {
    "duration": 11,
    "start_time": "2022-06-19T22:48:29.082Z"
   },
   {
    "duration": 12,
    "start_time": "2022-06-19T22:48:29.094Z"
   },
   {
    "duration": 56,
    "start_time": "2022-06-19T22:48:29.107Z"
   },
   {
    "duration": 74,
    "start_time": "2022-06-19T22:48:29.165Z"
   },
   {
    "duration": 27,
    "start_time": "2022-06-19T22:48:29.240Z"
   },
   {
    "duration": 118,
    "start_time": "2022-06-19T22:48:29.268Z"
   },
   {
    "duration": 18,
    "start_time": "2022-06-19T22:48:29.392Z"
   },
   {
    "duration": 122,
    "start_time": "2022-06-19T22:48:29.411Z"
   },
   {
    "duration": 17,
    "start_time": "2022-06-19T22:48:29.535Z"
   },
   {
    "duration": 37,
    "start_time": "2022-06-19T22:48:29.553Z"
   },
   {
    "duration": 19,
    "start_time": "2022-06-19T22:48:29.591Z"
   },
   {
    "duration": 10,
    "start_time": "2022-06-19T22:48:29.612Z"
   },
   {
    "duration": 30,
    "start_time": "2022-06-19T22:48:29.624Z"
   },
   {
    "duration": 9,
    "start_time": "2022-06-19T22:48:29.656Z"
   },
   {
    "duration": 21,
    "start_time": "2022-06-19T22:48:29.667Z"
   },
   {
    "duration": 10,
    "start_time": "2022-06-19T22:48:29.690Z"
   },
   {
    "duration": 20,
    "start_time": "2022-06-19T22:48:29.701Z"
   },
   {
    "duration": 55,
    "start_time": "2022-06-19T22:48:29.723Z"
   },
   {
    "duration": 29,
    "start_time": "2022-06-19T22:48:29.780Z"
   },
   {
    "duration": 82,
    "start_time": "2022-06-19T22:48:29.811Z"
   },
   {
    "duration": 18,
    "start_time": "2022-06-19T22:48:29.895Z"
   },
   {
    "duration": 23,
    "start_time": "2022-06-19T22:48:29.914Z"
   },
   {
    "duration": 13,
    "start_time": "2022-06-19T22:48:29.951Z"
   },
   {
    "duration": 7,
    "start_time": "2022-06-19T22:48:29.965Z"
   },
   {
    "duration": 7,
    "start_time": "2022-06-19T22:48:29.974Z"
   },
   {
    "duration": 9,
    "start_time": "2022-06-19T22:48:29.982Z"
   },
   {
    "duration": 410,
    "start_time": "2022-06-19T22:48:29.992Z"
   },
   {
    "duration": 32,
    "start_time": "2022-06-19T22:48:30.404Z"
   },
   {
    "duration": 182302,
    "start_time": "2022-06-19T22:48:30.438Z"
   },
   {
    "duration": 47,
    "start_time": "2022-06-19T22:51:32.741Z"
   },
   {
    "duration": 16,
    "start_time": "2022-06-19T22:51:32.792Z"
   },
   {
    "duration": 32,
    "start_time": "2022-06-19T22:51:32.810Z"
   },
   {
    "duration": 21538,
    "start_time": "2022-06-19T22:51:32.843Z"
   },
   {
    "duration": 16,
    "start_time": "2022-06-19T22:51:54.387Z"
   },
   {
    "duration": 12,
    "start_time": "2022-06-19T22:51:54.405Z"
   },
   {
    "duration": 9,
    "start_time": "2022-06-19T22:51:54.419Z"
   },
   {
    "duration": 29840,
    "start_time": "2022-06-19T22:51:54.429Z"
   },
   {
    "duration": 47,
    "start_time": "2022-06-19T22:52:24.271Z"
   },
   {
    "duration": 3279,
    "start_time": "2022-06-19T22:52:24.320Z"
   },
   {
    "duration": 41088,
    "start_time": "2022-06-19T22:52:27.602Z"
   },
   {
    "duration": 119,
    "start_time": "2022-06-19T23:10:17.924Z"
   },
   {
    "duration": 3,
    "start_time": "2022-06-19T23:10:35.607Z"
   },
   {
    "duration": 12,
    "start_time": "2022-06-19T23:15:46.101Z"
   },
   {
    "duration": 32,
    "start_time": "2022-06-19T23:15:53.554Z"
   },
   {
    "duration": 13,
    "start_time": "2022-06-19T23:19:09.495Z"
   },
   {
    "duration": 3,
    "start_time": "2022-06-19T23:20:34.303Z"
   },
   {
    "duration": 3,
    "start_time": "2022-06-19T23:21:49.633Z"
   },
   {
    "duration": 6,
    "start_time": "2022-06-19T23:28:13.055Z"
   },
   {
    "duration": 45,
    "start_time": "2022-06-19T23:31:10.065Z"
   },
   {
    "duration": 50,
    "start_time": "2022-06-19T23:32:39.364Z"
   },
   {
    "duration": 5,
    "start_time": "2022-06-19T23:33:04.104Z"
   },
   {
    "duration": 67,
    "start_time": "2022-06-19T23:35:09.830Z"
   },
   {
    "duration": 70,
    "start_time": "2022-06-19T23:47:27.309Z"
   },
   {
    "duration": 55,
    "start_time": "2022-06-19T23:47:27.381Z"
   },
   {
    "duration": 57,
    "start_time": "2022-06-19T23:47:27.438Z"
   },
   {
    "duration": 53,
    "start_time": "2022-06-19T23:47:27.497Z"
   },
   {
    "duration": 61,
    "start_time": "2022-06-19T23:47:27.552Z"
   },
   {
    "duration": 3,
    "start_time": "2022-06-19T23:48:20.985Z"
   },
   {
    "duration": 4,
    "start_time": "2022-06-19T23:48:23.084Z"
   },
   {
    "duration": 0,
    "start_time": "2022-06-20T00:11:01.601Z"
   },
   {
    "duration": 2047,
    "start_time": "2022-06-20T00:16:53.339Z"
   },
   {
    "duration": 563,
    "start_time": "2022-06-20T00:17:00.656Z"
   },
   {
    "duration": 4,
    "start_time": "2022-06-20T00:17:06.291Z"
   },
   {
    "duration": 3,
    "start_time": "2022-06-20T00:17:07.289Z"
   },
   {
    "duration": 11,
    "start_time": "2022-06-20T00:17:08.488Z"
   },
   {
    "duration": 19,
    "start_time": "2022-06-20T00:17:16.511Z"
   },
   {
    "duration": 10,
    "start_time": "2022-06-20T00:17:17.565Z"
   },
   {
    "duration": 78,
    "start_time": "2022-06-20T00:17:19.825Z"
   },
   {
    "duration": 61,
    "start_time": "2022-06-20T00:17:21.914Z"
   },
   {
    "duration": 67,
    "start_time": "2022-06-20T00:17:23.075Z"
   },
   {
    "duration": 116,
    "start_time": "2022-06-20T00:17:26.265Z"
   },
   {
    "duration": 12,
    "start_time": "2022-06-20T00:17:27.323Z"
   },
   {
    "duration": 54,
    "start_time": "2022-06-20T00:17:29.394Z"
   },
   {
    "duration": 11,
    "start_time": "2022-06-20T00:17:30.400Z"
   },
   {
    "duration": 152,
    "start_time": "2022-06-20T00:17:32.656Z"
   },
   {
    "duration": 4,
    "start_time": "2022-06-20T00:17:33.707Z"
   },
   {
    "duration": 5,
    "start_time": "2022-06-20T00:17:34.506Z"
   },
   {
    "duration": 224,
    "start_time": "2022-06-20T00:17:35.786Z"
   },
   {
    "duration": 6,
    "start_time": "2022-06-20T00:17:36.567Z"
   },
   {
    "duration": 10,
    "start_time": "2022-06-20T00:17:37.475Z"
   },
   {
    "duration": 13,
    "start_time": "2022-06-20T00:17:38.170Z"
   },
   {
    "duration": 37,
    "start_time": "2022-06-20T00:17:39.571Z"
   },
   {
    "duration": 7,
    "start_time": "2022-06-20T00:17:40.125Z"
   },
   {
    "duration": 52,
    "start_time": "2022-06-20T00:17:40.682Z"
   },
   {
    "duration": 6,
    "start_time": "2022-06-20T00:17:41.308Z"
   },
   {
    "duration": 4,
    "start_time": "2022-06-20T00:17:42.182Z"
   },
   {
    "duration": 4,
    "start_time": "2022-06-20T00:17:45.998Z"
   },
   {
    "duration": 9,
    "start_time": "2022-06-20T00:17:47.383Z"
   },
   {
    "duration": 3,
    "start_time": "2022-06-20T00:17:48.068Z"
   },
   {
    "duration": 128,
    "start_time": "2022-06-20T00:17:48.749Z"
   },
   {
    "duration": 7,
    "start_time": "2022-06-20T00:17:49.305Z"
   },
   {
    "duration": 58,
    "start_time": "2022-06-20T00:17:50.781Z"
   },
   {
    "duration": 31,
    "start_time": "2022-06-20T00:17:51.365Z"
   },
   {
    "duration": 5,
    "start_time": "2022-06-20T00:17:51.924Z"
   },
   {
    "duration": 4,
    "start_time": "2022-06-20T00:17:52.729Z"
   },
   {
    "duration": 4,
    "start_time": "2022-06-20T00:17:53.366Z"
   },
   {
    "duration": 248,
    "start_time": "2022-06-20T00:17:54.527Z"
   },
   {
    "duration": 6,
    "start_time": "2022-06-20T00:17:55.301Z"
   },
   {
    "duration": 144,
    "start_time": "2022-06-20T00:17:56.652Z"
   },
   {
    "duration": 5,
    "start_time": "2022-06-20T00:17:57.195Z"
   },
   {
    "duration": 39,
    "start_time": "2022-06-20T00:17:58.492Z"
   },
   {
    "duration": 5,
    "start_time": "2022-06-20T00:17:59.128Z"
   },
   {
    "duration": 118,
    "start_time": "2022-06-20T00:17:59.746Z"
   },
   {
    "duration": 4,
    "start_time": "2022-06-20T00:18:00.329Z"
   },
   {
    "duration": 15,
    "start_time": "2022-06-20T00:18:02.255Z"
   },
   {
    "duration": 10,
    "start_time": "2022-06-20T00:18:02.806Z"
   },
   {
    "duration": 118,
    "start_time": "2022-06-20T00:18:03.393Z"
   },
   {
    "duration": 5,
    "start_time": "2022-06-20T00:18:04.197Z"
   },
   {
    "duration": 6,
    "start_time": "2022-06-20T00:18:04.884Z"
   },
   {
    "duration": 130,
    "start_time": "2022-06-20T00:18:06.233Z"
   },
   {
    "duration": 5,
    "start_time": "2022-06-20T00:18:06.900Z"
   },
   {
    "duration": 7,
    "start_time": "2022-06-20T00:18:07.586Z"
   },
   {
    "duration": 144,
    "start_time": "2022-06-20T00:18:08.849Z"
   },
   {
    "duration": 5,
    "start_time": "2022-06-20T00:18:09.527Z"
   },
   {
    "duration": 6,
    "start_time": "2022-06-20T00:18:10.832Z"
   },
   {
    "duration": 117,
    "start_time": "2022-06-20T00:18:12.188Z"
   },
   {
    "duration": 5,
    "start_time": "2022-06-20T00:18:12.883Z"
   },
   {
    "duration": 6,
    "start_time": "2022-06-20T00:18:13.519Z"
   },
   {
    "duration": 5,
    "start_time": "2022-06-20T00:18:16.034Z"
   },
   {
    "duration": 12,
    "start_time": "2022-06-20T00:18:16.779Z"
   },
   {
    "duration": 149,
    "start_time": "2022-06-20T00:18:18.347Z"
   },
   {
    "duration": 5,
    "start_time": "2022-06-20T00:18:19.028Z"
   },
   {
    "duration": 46,
    "start_time": "2022-06-20T00:18:20.516Z"
   },
   {
    "duration": 6,
    "start_time": "2022-06-20T00:18:21.147Z"
   },
   {
    "duration": 14,
    "start_time": "2022-06-20T00:18:23.635Z"
   },
   {
    "duration": 10,
    "start_time": "2022-06-20T00:18:24.304Z"
   },
   {
    "duration": 98,
    "start_time": "2022-06-20T00:18:29.411Z"
   },
   {
    "duration": 3,
    "start_time": "2022-06-20T00:18:31.123Z"
   },
   {
    "duration": 204,
    "start_time": "2022-06-20T00:18:34.699Z"
   },
   {
    "duration": 372,
    "start_time": "2022-06-20T00:18:36.151Z"
   },
   {
    "duration": 78,
    "start_time": "2022-06-20T00:18:41.483Z"
   },
   {
    "duration": 22,
    "start_time": "2022-06-20T00:18:43.140Z"
   },
   {
    "duration": 9,
    "start_time": "2022-06-20T00:18:43.888Z"
   },
   {
    "duration": 38,
    "start_time": "2022-06-20T00:18:44.623Z"
   },
   {
    "duration": 83,
    "start_time": "2022-06-20T00:18:45.389Z"
   },
   {
    "duration": 11,
    "start_time": "2022-06-20T00:18:46.099Z"
   },
   {
    "duration": 9,
    "start_time": "2022-06-20T00:18:46.813Z"
   },
   {
    "duration": 43,
    "start_time": "2022-06-20T00:18:47.565Z"
   },
   {
    "duration": 90,
    "start_time": "2022-06-20T00:18:48.492Z"
   },
   {
    "duration": 32,
    "start_time": "2022-06-20T00:18:49.145Z"
   },
   {
    "duration": 118,
    "start_time": "2022-06-20T00:18:49.865Z"
   },
   {
    "duration": 19,
    "start_time": "2022-06-20T00:18:50.525Z"
   },
   {
    "duration": 118,
    "start_time": "2022-06-20T00:18:51.547Z"
   },
   {
    "duration": 13,
    "start_time": "2022-06-20T00:18:54.127Z"
   },
   {
    "duration": 38,
    "start_time": "2022-06-20T00:18:55.565Z"
   },
   {
    "duration": 30,
    "start_time": "2022-06-20T00:18:57.379Z"
   },
   {
    "duration": 10,
    "start_time": "2022-06-20T00:18:58.732Z"
   },
   {
    "duration": 10,
    "start_time": "2022-06-20T00:19:00.127Z"
   },
   {
    "duration": 9,
    "start_time": "2022-06-20T00:19:00.965Z"
   },
   {
    "duration": 20,
    "start_time": "2022-06-20T00:19:03.732Z"
   },
   {
    "duration": 11,
    "start_time": "2022-06-20T00:19:04.408Z"
   },
   {
    "duration": 27,
    "start_time": "2022-06-20T00:19:12.647Z"
   },
   {
    "duration": 50,
    "start_time": "2022-06-20T00:19:15.127Z"
   },
   {
    "duration": 28,
    "start_time": "2022-06-20T00:19:16.174Z"
   },
   {
    "duration": 72,
    "start_time": "2022-06-20T00:19:19.307Z"
   },
   {
    "duration": 16,
    "start_time": "2022-06-20T00:19:20.367Z"
   },
   {
    "duration": 25,
    "start_time": "2022-06-20T00:19:24.219Z"
   },
   {
    "duration": 13,
    "start_time": "2022-06-20T00:19:25.091Z"
   },
   {
    "duration": 9,
    "start_time": "2022-06-20T00:19:26.812Z"
   },
   {
    "duration": 8,
    "start_time": "2022-06-20T00:19:30.096Z"
   },
   {
    "duration": 10,
    "start_time": "2022-06-20T00:19:30.976Z"
   },
   {
    "duration": 428,
    "start_time": "2022-06-20T00:19:35.906Z"
   },
   {
    "duration": 22,
    "start_time": "2022-06-20T00:19:40.372Z"
   },
   {
    "duration": 44,
    "start_time": "2022-06-20T00:19:58.884Z"
   },
   {
    "duration": 3385,
    "start_time": "2022-06-20T00:20:07.149Z"
   },
   {
    "duration": 954,
    "start_time": "2022-06-20T00:20:10.536Z"
   },
   {
    "duration": 3,
    "start_time": "2022-06-20T00:20:11.491Z"
   },
   {
    "duration": 8,
    "start_time": "2022-06-20T00:20:11.496Z"
   },
   {
    "duration": 16,
    "start_time": "2022-06-20T00:20:11.506Z"
   },
   {
    "duration": 27,
    "start_time": "2022-06-20T00:20:11.523Z"
   },
   {
    "duration": 33,
    "start_time": "2022-06-20T00:20:11.552Z"
   },
   {
    "duration": 88,
    "start_time": "2022-06-20T00:20:11.587Z"
   },
   {
    "duration": 73,
    "start_time": "2022-06-20T00:20:11.676Z"
   },
   {
    "duration": 76,
    "start_time": "2022-06-20T00:20:11.755Z"
   },
   {
    "duration": 144,
    "start_time": "2022-06-20T00:20:11.832Z"
   },
   {
    "duration": 13,
    "start_time": "2022-06-20T00:20:11.978Z"
   },
   {
    "duration": 66,
    "start_time": "2022-06-20T00:20:11.993Z"
   },
   {
    "duration": 13,
    "start_time": "2022-06-20T00:20:12.062Z"
   },
   {
    "duration": 186,
    "start_time": "2022-06-20T00:20:12.077Z"
   },
   {
    "duration": 4,
    "start_time": "2022-06-20T00:20:12.266Z"
   },
   {
    "duration": 11,
    "start_time": "2022-06-20T00:20:12.271Z"
   },
   {
    "duration": 235,
    "start_time": "2022-06-20T00:20:12.284Z"
   },
   {
    "duration": 6,
    "start_time": "2022-06-20T00:20:12.520Z"
   },
   {
    "duration": 25,
    "start_time": "2022-06-20T00:20:12.528Z"
   },
   {
    "duration": 20,
    "start_time": "2022-06-20T00:20:12.555Z"
   },
   {
    "duration": 47,
    "start_time": "2022-06-20T00:20:12.577Z"
   },
   {
    "duration": 8,
    "start_time": "2022-06-20T00:20:12.626Z"
   },
   {
    "duration": 67,
    "start_time": "2022-06-20T00:20:12.653Z"
   },
   {
    "duration": 7,
    "start_time": "2022-06-20T00:20:12.722Z"
   },
   {
    "duration": 29,
    "start_time": "2022-06-20T00:20:12.730Z"
   },
   {
    "duration": 43,
    "start_time": "2022-06-20T00:20:12.761Z"
   },
   {
    "duration": 10,
    "start_time": "2022-06-20T00:20:12.887Z"
   },
   {
    "duration": 4,
    "start_time": "2022-06-20T00:20:12.899Z"
   },
   {
    "duration": 166,
    "start_time": "2022-06-20T00:20:12.904Z"
   },
   {
    "duration": 7,
    "start_time": "2022-06-20T00:20:13.072Z"
   },
   {
    "duration": 78,
    "start_time": "2022-06-20T00:20:13.082Z"
   },
   {
    "duration": 46,
    "start_time": "2022-06-20T00:20:13.162Z"
   },
   {
    "duration": 8,
    "start_time": "2022-06-20T00:20:13.210Z"
   },
   {
    "duration": 12,
    "start_time": "2022-06-20T00:20:13.219Z"
   },
   {
    "duration": 22,
    "start_time": "2022-06-20T00:20:13.233Z"
   },
   {
    "duration": 196,
    "start_time": "2022-06-20T00:20:13.257Z"
   },
   {
    "duration": 7,
    "start_time": "2022-06-20T00:20:13.455Z"
   },
   {
    "duration": 143,
    "start_time": "2022-06-20T00:20:13.464Z"
   },
   {
    "duration": 4,
    "start_time": "2022-06-20T00:20:13.609Z"
   },
   {
    "duration": 54,
    "start_time": "2022-06-20T00:20:13.615Z"
   },
   {
    "duration": 5,
    "start_time": "2022-06-20T00:20:13.670Z"
   },
   {
    "duration": 146,
    "start_time": "2022-06-20T00:20:13.677Z"
   },
   {
    "duration": 5,
    "start_time": "2022-06-20T00:20:13.825Z"
   },
   {
    "duration": 36,
    "start_time": "2022-06-20T00:20:13.831Z"
   },
   {
    "duration": 28,
    "start_time": "2022-06-20T00:20:13.869Z"
   },
   {
    "duration": 134,
    "start_time": "2022-06-20T00:20:13.898Z"
   },
   {
    "duration": 5,
    "start_time": "2022-06-20T00:20:14.033Z"
   },
   {
    "duration": 36,
    "start_time": "2022-06-20T00:20:14.040Z"
   },
   {
    "duration": 142,
    "start_time": "2022-06-20T00:20:14.077Z"
   },
   {
    "duration": 5,
    "start_time": "2022-06-20T00:20:14.221Z"
   },
   {
    "duration": 8,
    "start_time": "2022-06-20T00:20:14.228Z"
   },
   {
    "duration": 152,
    "start_time": "2022-06-20T00:20:14.251Z"
   },
   {
    "duration": 5,
    "start_time": "2022-06-20T00:20:14.404Z"
   },
   {
    "duration": 9,
    "start_time": "2022-06-20T00:20:14.410Z"
   },
   {
    "duration": 143,
    "start_time": "2022-06-20T00:20:14.421Z"
   },
   {
    "duration": 6,
    "start_time": "2022-06-20T00:20:14.567Z"
   },
   {
    "duration": 9,
    "start_time": "2022-06-20T00:20:14.574Z"
   },
   {
    "duration": 6,
    "start_time": "2022-06-20T00:20:14.585Z"
   },
   {
    "duration": 14,
    "start_time": "2022-06-20T00:20:14.592Z"
   },
   {
    "duration": 210,
    "start_time": "2022-06-20T00:20:14.607Z"
   },
   {
    "duration": 5,
    "start_time": "2022-06-20T00:20:14.818Z"
   },
   {
    "duration": 66,
    "start_time": "2022-06-20T00:20:14.824Z"
   },
   {
    "duration": 5,
    "start_time": "2022-06-20T00:20:14.892Z"
   },
   {
    "duration": 14,
    "start_time": "2022-06-20T00:20:14.898Z"
   },
   {
    "duration": 10,
    "start_time": "2022-06-20T00:20:14.914Z"
   },
   {
    "duration": 128,
    "start_time": "2022-06-20T00:20:14.925Z"
   },
   {
    "duration": 5,
    "start_time": "2022-06-20T00:20:15.058Z"
   },
   {
    "duration": 247,
    "start_time": "2022-06-20T00:20:15.065Z"
   },
   {
    "duration": 418,
    "start_time": "2022-06-20T00:20:15.314Z"
   },
   {
    "duration": 143,
    "start_time": "2022-06-20T00:20:15.734Z"
   },
   {
    "duration": 10,
    "start_time": "2022-06-20T00:20:15.879Z"
   },
   {
    "duration": 12,
    "start_time": "2022-06-20T00:20:15.891Z"
   },
   {
    "duration": 47,
    "start_time": "2022-06-20T00:20:15.905Z"
   },
   {
    "duration": 84,
    "start_time": "2022-06-20T00:20:15.954Z"
   },
   {
    "duration": 18,
    "start_time": "2022-06-20T00:20:16.053Z"
   },
   {
    "duration": 11,
    "start_time": "2022-06-20T00:20:16.073Z"
   },
   {
    "duration": 48,
    "start_time": "2022-06-20T00:20:16.086Z"
   },
   {
    "duration": 90,
    "start_time": "2022-06-20T00:20:16.136Z"
   },
   {
    "duration": 43,
    "start_time": "2022-06-20T00:20:16.227Z"
   },
   {
    "duration": 116,
    "start_time": "2022-06-20T00:20:16.271Z"
   },
   {
    "duration": 17,
    "start_time": "2022-06-20T00:20:16.392Z"
   },
   {
    "duration": 123,
    "start_time": "2022-06-20T00:20:16.411Z"
   },
   {
    "duration": 21,
    "start_time": "2022-06-20T00:20:16.535Z"
   },
   {
    "duration": 42,
    "start_time": "2022-06-20T00:20:16.558Z"
   },
   {
    "duration": 18,
    "start_time": "2022-06-20T00:20:16.602Z"
   },
   {
    "duration": 11,
    "start_time": "2022-06-20T00:20:16.622Z"
   },
   {
    "duration": 29,
    "start_time": "2022-06-20T00:20:16.634Z"
   },
   {
    "duration": 9,
    "start_time": "2022-06-20T00:20:16.665Z"
   },
   {
    "duration": 22,
    "start_time": "2022-06-20T00:20:16.676Z"
   },
   {
    "duration": 10,
    "start_time": "2022-06-20T00:20:16.700Z"
   },
   {
    "duration": 20,
    "start_time": "2022-06-20T00:20:16.712Z"
   },
   {
    "duration": 47,
    "start_time": "2022-06-20T00:20:16.753Z"
   },
   {
    "duration": 31,
    "start_time": "2022-06-20T00:20:16.802Z"
   },
   {
    "duration": 96,
    "start_time": "2022-06-20T00:20:16.835Z"
   },
   {
    "duration": 37,
    "start_time": "2022-06-20T00:20:16.933Z"
   },
   {
    "duration": 23,
    "start_time": "2022-06-20T00:20:16.972Z"
   },
   {
    "duration": 12,
    "start_time": "2022-06-20T00:20:16.996Z"
   },
   {
    "duration": 7,
    "start_time": "2022-06-20T00:20:17.010Z"
   },
   {
    "duration": 7,
    "start_time": "2022-06-20T00:20:17.019Z"
   },
   {
    "duration": 10,
    "start_time": "2022-06-20T00:20:17.052Z"
   },
   {
    "duration": 423,
    "start_time": "2022-06-20T00:20:17.064Z"
   },
   {
    "duration": 22,
    "start_time": "2022-06-20T00:20:17.489Z"
   },
   {
    "duration": 178375,
    "start_time": "2022-06-20T00:20:17.513Z"
   },
   {
    "duration": 16,
    "start_time": "2022-06-20T00:23:15.890Z"
   },
   {
    "duration": 119,
    "start_time": "2022-06-20T00:23:15.908Z"
   },
   {
    "duration": 24,
    "start_time": "2022-06-20T00:23:16.029Z"
   },
   {
    "duration": 20809,
    "start_time": "2022-06-20T00:23:16.054Z"
   },
   {
    "duration": 13,
    "start_time": "2022-06-20T00:23:36.865Z"
   },
   {
    "duration": 14,
    "start_time": "2022-06-20T00:23:36.880Z"
   },
   {
    "duration": 8,
    "start_time": "2022-06-20T00:23:36.895Z"
   },
   {
    "duration": 29,
    "start_time": "2022-06-20T00:23:36.904Z"
   },
   {
    "duration": 32,
    "start_time": "2022-06-20T00:23:36.935Z"
   },
   {
    "duration": 3,
    "start_time": "2022-06-20T00:23:36.969Z"
   },
   {
    "duration": 8,
    "start_time": "2022-06-20T00:23:36.973Z"
   },
   {
    "duration": 7,
    "start_time": "2022-06-20T00:23:36.983Z"
   },
   {
    "duration": 8,
    "start_time": "2022-06-20T00:23:36.991Z"
   },
   {
    "duration": 717329,
    "start_time": "2022-06-20T00:23:37.000Z"
   },
   {
    "duration": 21453,
    "start_time": "2022-06-20T00:35:34.331Z"
   },
   {
    "duration": 228019,
    "start_time": "2022-06-20T00:35:55.786Z"
   },
   {
    "duration": 2731,
    "start_time": "2022-06-20T00:39:43.806Z"
   },
   {
    "duration": 29515,
    "start_time": "2022-06-20T00:39:46.539Z"
   },
   {
    "duration": 102,
    "start_time": "2022-06-20T00:40:16.056Z"
   },
   {
    "duration": 5102,
    "start_time": "2022-06-20T00:43:24.859Z"
   },
   {
    "duration": 7788,
    "start_time": "2022-06-20T00:47:36.446Z"
   },
   {
    "duration": 8792,
    "start_time": "2022-06-20T00:48:32.396Z"
   },
   {
    "duration": 4293,
    "start_time": "2022-06-20T00:49:42.469Z"
   },
   {
    "duration": 17584,
    "start_time": "2022-06-20T01:04:42.370Z"
   },
   {
    "duration": 17844,
    "start_time": "2022-06-20T01:10:53.482Z"
   },
   {
    "duration": 2681,
    "start_time": "2022-06-20T01:12:03.446Z"
   },
   {
    "duration": 4,
    "start_time": "2022-06-20T01:14:07.913Z"
   },
   {
    "duration": 522017,
    "start_time": "2022-06-20T01:14:14.143Z"
   },
   {
    "duration": 906,
    "start_time": "2022-06-20T01:30:20.375Z"
   },
   {
    "duration": 802,
    "start_time": "2022-06-20T01:31:22.791Z"
   },
   {
    "duration": 20,
    "start_time": "2022-06-20T01:31:36.113Z"
   },
   {
    "duration": 13,
    "start_time": "2022-06-20T01:31:59.317Z"
   },
   {
    "duration": 10,
    "start_time": "2022-06-20T01:33:12.377Z"
   },
   {
    "duration": 2,
    "start_time": "2022-06-20T01:41:23.556Z"
   },
   {
    "duration": 10,
    "start_time": "2022-06-20T01:41:24.328Z"
   },
   {
    "duration": 3,
    "start_time": "2022-06-20T01:45:34.074Z"
   },
   {
    "duration": 3,
    "start_time": "2022-06-20T01:47:59.793Z"
   },
   {
    "duration": 3,
    "start_time": "2022-06-20T01:49:49.977Z"
   },
   {
    "duration": 770,
    "start_time": "2022-06-20T01:52:26.290Z"
   },
   {
    "duration": 3,
    "start_time": "2022-06-20T01:52:47.666Z"
   },
   {
    "duration": 11954,
    "start_time": "2022-06-20T01:52:49.733Z"
   },
   {
    "duration": 495,
    "start_time": "2022-06-20T01:53:59.909Z"
   },
   {
    "duration": 3,
    "start_time": "2022-06-20T01:56:24.329Z"
   },
   {
    "duration": 2,
    "start_time": "2022-06-20T01:56:29.612Z"
   },
   {
    "duration": 467,
    "start_time": "2022-06-20T01:56:36.161Z"
   },
   {
    "duration": 51,
    "start_time": "2022-06-20T01:58:41.303Z"
   },
   {
    "duration": 141,
    "start_time": "2022-06-20T01:58:56.050Z"
   },
   {
    "duration": 8,
    "start_time": "2022-06-20T01:59:19.308Z"
   },
   {
    "duration": 10,
    "start_time": "2022-06-20T01:59:35.184Z"
   },
   {
    "duration": 9,
    "start_time": "2022-06-20T01:59:53.159Z"
   },
   {
    "duration": 9,
    "start_time": "2022-06-20T02:01:34.815Z"
   },
   {
    "duration": 61,
    "start_time": "2022-06-20T02:01:53.748Z"
   },
   {
    "duration": 23260,
    "start_time": "2022-06-20T02:02:07.889Z"
   },
   {
    "duration": 25,
    "start_time": "2022-06-20T02:03:07.660Z"
   },
   {
    "duration": 49,
    "start_time": "2022-06-20T02:04:42.066Z"
   },
   {
    "duration": 1638,
    "start_time": "2022-06-20T02:04:54.629Z"
   },
   {
    "duration": 57,
    "start_time": "2022-06-20T02:06:47.257Z"
   },
   {
    "duration": 105,
    "start_time": "2022-06-20T02:07:07.450Z"
   },
   {
    "duration": 7,
    "start_time": "2022-06-20T02:07:34.472Z"
   },
   {
    "duration": 2,
    "start_time": "2022-06-20T02:10:56.407Z"
   },
   {
    "duration": 3,
    "start_time": "2022-06-20T02:13:21.352Z"
   },
   {
    "duration": 12,
    "start_time": "2022-06-20T02:13:22.590Z"
   },
   {
    "duration": 3,
    "start_time": "2022-06-20T02:16:51.544Z"
   },
   {
    "duration": 9,
    "start_time": "2022-06-20T02:16:52.045Z"
   },
   {
    "duration": 3,
    "start_time": "2022-06-20T02:17:42.346Z"
   },
   {
    "duration": 9,
    "start_time": "2022-06-20T02:17:42.963Z"
   },
   {
    "duration": 3,
    "start_time": "2022-06-20T02:18:59.808Z"
   },
   {
    "duration": 9,
    "start_time": "2022-06-20T02:19:00.484Z"
   },
   {
    "duration": 22,
    "start_time": "2022-06-20T02:21:44.379Z"
   },
   {
    "duration": 3,
    "start_time": "2022-06-20T02:29:18.806Z"
   },
   {
    "duration": 15,
    "start_time": "2022-06-20T02:32:05.120Z"
   },
   {
    "duration": 114,
    "start_time": "2022-06-20T02:35:31.542Z"
   },
   {
    "duration": 2,
    "start_time": "2022-06-20T02:35:53.160Z"
   },
   {
    "duration": 11,
    "start_time": "2022-06-20T02:35:56.981Z"
   },
   {
    "duration": 3,
    "start_time": "2022-06-20T02:37:50.572Z"
   },
   {
    "duration": 11,
    "start_time": "2022-06-20T02:37:51.172Z"
   },
   {
    "duration": 4,
    "start_time": "2022-06-20T02:41:13.360Z"
   },
   {
    "duration": 12,
    "start_time": "2022-06-20T02:41:14.217Z"
   },
   {
    "duration": 3,
    "start_time": "2022-06-20T02:43:52.946Z"
   },
   {
    "duration": 12,
    "start_time": "2022-06-20T02:43:53.568Z"
   },
   {
    "duration": 3,
    "start_time": "2022-06-20T02:45:21.554Z"
   },
   {
    "duration": 10,
    "start_time": "2022-06-20T02:45:22.150Z"
   },
   {
    "duration": 2,
    "start_time": "2022-06-20T02:59:26.381Z"
   },
   {
    "duration": 10,
    "start_time": "2022-06-20T02:59:27.020Z"
   },
   {
    "duration": 3,
    "start_time": "2022-06-20T03:02:16.183Z"
   },
   {
    "duration": 11,
    "start_time": "2022-06-20T03:02:17.415Z"
   },
   {
    "duration": 3,
    "start_time": "2022-06-20T03:05:39.822Z"
   },
   {
    "duration": 10,
    "start_time": "2022-06-20T03:05:40.917Z"
   },
   {
    "duration": 3,
    "start_time": "2022-06-20T03:06:46.964Z"
   },
   {
    "duration": 11,
    "start_time": "2022-06-20T03:06:47.508Z"
   },
   {
    "duration": 4481,
    "start_time": "2022-06-20T14:52:49.772Z"
   },
   {
    "duration": 912,
    "start_time": "2022-06-20T14:52:54.255Z"
   },
   {
    "duration": 3,
    "start_time": "2022-06-20T14:52:55.169Z"
   },
   {
    "duration": 8,
    "start_time": "2022-06-20T14:52:55.174Z"
   },
   {
    "duration": 14,
    "start_time": "2022-06-20T14:52:55.184Z"
   },
   {
    "duration": 31,
    "start_time": "2022-06-20T14:52:55.200Z"
   },
   {
    "duration": 11,
    "start_time": "2022-06-20T14:52:55.233Z"
   },
   {
    "duration": 108,
    "start_time": "2022-06-20T14:52:55.246Z"
   },
   {
    "duration": 83,
    "start_time": "2022-06-20T14:52:55.356Z"
   },
   {
    "duration": 97,
    "start_time": "2022-06-20T14:52:55.442Z"
   },
   {
    "duration": 119,
    "start_time": "2022-06-20T14:52:55.540Z"
   },
   {
    "duration": 13,
    "start_time": "2022-06-20T14:52:55.660Z"
   },
   {
    "duration": 66,
    "start_time": "2022-06-20T14:52:55.674Z"
   },
   {
    "duration": 12,
    "start_time": "2022-06-20T14:52:55.742Z"
   },
   {
    "duration": 177,
    "start_time": "2022-06-20T14:52:55.756Z"
   },
   {
    "duration": 5,
    "start_time": "2022-06-20T14:52:55.935Z"
   },
   {
    "duration": 6,
    "start_time": "2022-06-20T14:52:55.941Z"
   },
   {
    "duration": 246,
    "start_time": "2022-06-20T14:52:55.949Z"
   },
   {
    "duration": 8,
    "start_time": "2022-06-20T14:52:56.197Z"
   },
   {
    "duration": 30,
    "start_time": "2022-06-20T14:52:56.207Z"
   },
   {
    "duration": 16,
    "start_time": "2022-06-20T14:52:56.239Z"
   },
   {
    "duration": 50,
    "start_time": "2022-06-20T14:52:56.257Z"
   },
   {
    "duration": 8,
    "start_time": "2022-06-20T14:52:56.327Z"
   },
   {
    "duration": 74,
    "start_time": "2022-06-20T14:52:56.337Z"
   },
   {
    "duration": 18,
    "start_time": "2022-06-20T14:52:56.413Z"
   },
   {
    "duration": 4,
    "start_time": "2022-06-20T14:52:56.433Z"
   },
   {
    "duration": 7,
    "start_time": "2022-06-20T14:52:56.439Z"
   },
   {
    "duration": 11,
    "start_time": "2022-06-20T14:52:56.540Z"
   },
   {
    "duration": 4,
    "start_time": "2022-06-20T14:52:56.553Z"
   },
   {
    "duration": 151,
    "start_time": "2022-06-20T14:52:56.559Z"
   },
   {
    "duration": 17,
    "start_time": "2022-06-20T14:52:56.711Z"
   },
   {
    "duration": 62,
    "start_time": "2022-06-20T14:52:56.729Z"
   },
   {
    "duration": 57,
    "start_time": "2022-06-20T14:52:56.793Z"
   },
   {
    "duration": 6,
    "start_time": "2022-06-20T14:52:56.852Z"
   },
   {
    "duration": 4,
    "start_time": "2022-06-20T14:52:56.860Z"
   },
   {
    "duration": 5,
    "start_time": "2022-06-20T14:52:56.865Z"
   },
   {
    "duration": 176,
    "start_time": "2022-06-20T14:52:56.872Z"
   },
   {
    "duration": 5,
    "start_time": "2022-06-20T14:52:57.050Z"
   },
   {
    "duration": 144,
    "start_time": "2022-06-20T14:52:57.056Z"
   },
   {
    "duration": 4,
    "start_time": "2022-06-20T14:52:57.202Z"
   },
   {
    "duration": 57,
    "start_time": "2022-06-20T14:52:57.208Z"
   },
   {
    "duration": 6,
    "start_time": "2022-06-20T14:52:57.267Z"
   },
   {
    "duration": 143,
    "start_time": "2022-06-20T14:52:57.274Z"
   },
   {
    "duration": 10,
    "start_time": "2022-06-20T14:52:57.418Z"
   },
   {
    "duration": 15,
    "start_time": "2022-06-20T14:52:57.430Z"
   },
   {
    "duration": 12,
    "start_time": "2022-06-20T14:52:57.447Z"
   },
   {
    "duration": 150,
    "start_time": "2022-06-20T14:52:57.460Z"
   },
   {
    "duration": 16,
    "start_time": "2022-06-20T14:52:57.612Z"
   },
   {
    "duration": 6,
    "start_time": "2022-06-20T14:52:57.629Z"
   },
   {
    "duration": 153,
    "start_time": "2022-06-20T14:52:57.637Z"
   },
   {
    "duration": 5,
    "start_time": "2022-06-20T14:52:57.791Z"
   },
   {
    "duration": 9,
    "start_time": "2022-06-20T14:52:57.798Z"
   },
   {
    "duration": 158,
    "start_time": "2022-06-20T14:52:57.808Z"
   },
   {
    "duration": 5,
    "start_time": "2022-06-20T14:52:57.968Z"
   },
   {
    "duration": 13,
    "start_time": "2022-06-20T14:52:57.974Z"
   },
   {
    "duration": 142,
    "start_time": "2022-06-20T14:52:57.989Z"
   },
   {
    "duration": 5,
    "start_time": "2022-06-20T14:52:58.132Z"
   },
   {
    "duration": 6,
    "start_time": "2022-06-20T14:52:58.139Z"
   },
   {
    "duration": 4,
    "start_time": "2022-06-20T14:52:58.146Z"
   },
   {
    "duration": 13,
    "start_time": "2022-06-20T14:52:58.151Z"
   },
   {
    "duration": 175,
    "start_time": "2022-06-20T14:52:58.165Z"
   },
   {
    "duration": 5,
    "start_time": "2022-06-20T14:52:58.342Z"
   },
   {
    "duration": 50,
    "start_time": "2022-06-20T14:52:58.348Z"
   },
   {
    "duration": 5,
    "start_time": "2022-06-20T14:52:58.400Z"
   },
   {
    "duration": 29,
    "start_time": "2022-06-20T14:52:58.406Z"
   },
   {
    "duration": 13,
    "start_time": "2022-06-20T14:52:58.436Z"
   },
   {
    "duration": 129,
    "start_time": "2022-06-20T14:52:58.451Z"
   },
   {
    "duration": 3,
    "start_time": "2022-06-20T14:52:58.582Z"
   },
   {
    "duration": 226,
    "start_time": "2022-06-20T14:52:58.586Z"
   },
   {
    "duration": 384,
    "start_time": "2022-06-20T14:52:58.814Z"
   },
   {
    "duration": 135,
    "start_time": "2022-06-20T14:52:59.200Z"
   },
   {
    "duration": 13,
    "start_time": "2022-06-20T14:52:59.336Z"
   },
   {
    "duration": 13,
    "start_time": "2022-06-20T14:52:59.350Z"
   },
   {
    "duration": 39,
    "start_time": "2022-06-20T14:52:59.364Z"
   },
   {
    "duration": 107,
    "start_time": "2022-06-20T14:52:59.404Z"
   },
   {
    "duration": 22,
    "start_time": "2022-06-20T14:52:59.512Z"
   },
   {
    "duration": 11,
    "start_time": "2022-06-20T14:52:59.535Z"
   },
   {
    "duration": 48,
    "start_time": "2022-06-20T14:52:59.547Z"
   },
   {
    "duration": 108,
    "start_time": "2022-06-20T14:52:59.596Z"
   },
   {
    "duration": 30,
    "start_time": "2022-06-20T14:52:59.705Z"
   },
   {
    "duration": 141,
    "start_time": "2022-06-20T14:52:59.736Z"
   },
   {
    "duration": 19,
    "start_time": "2022-06-20T14:52:59.883Z"
   },
   {
    "duration": 138,
    "start_time": "2022-06-20T14:52:59.904Z"
   },
   {
    "duration": 11,
    "start_time": "2022-06-20T14:53:00.044Z"
   },
   {
    "duration": 41,
    "start_time": "2022-06-20T14:53:00.056Z"
   },
   {
    "duration": 39,
    "start_time": "2022-06-20T14:53:00.098Z"
   },
   {
    "duration": 24,
    "start_time": "2022-06-20T14:53:00.138Z"
   },
   {
    "duration": 18,
    "start_time": "2022-06-20T14:53:00.164Z"
   },
   {
    "duration": 22,
    "start_time": "2022-06-20T14:53:00.183Z"
   },
   {
    "duration": 29,
    "start_time": "2022-06-20T14:53:00.206Z"
   },
   {
    "duration": 44,
    "start_time": "2022-06-20T14:53:00.237Z"
   },
   {
    "duration": 64,
    "start_time": "2022-06-20T14:53:00.283Z"
   },
   {
    "duration": 58,
    "start_time": "2022-06-20T14:53:00.348Z"
   },
   {
    "duration": 31,
    "start_time": "2022-06-20T14:53:00.408Z"
   },
   {
    "duration": 87,
    "start_time": "2022-06-20T14:53:00.440Z"
   },
   {
    "duration": 20,
    "start_time": "2022-06-20T14:53:00.529Z"
   },
   {
    "duration": 59,
    "start_time": "2022-06-20T14:53:00.551Z"
   },
   {
    "duration": 70,
    "start_time": "2022-06-20T14:53:00.612Z"
   },
   {
    "duration": 35,
    "start_time": "2022-06-20T14:53:00.684Z"
   },
   {
    "duration": 31,
    "start_time": "2022-06-20T14:53:00.721Z"
   },
   {
    "duration": 17,
    "start_time": "2022-06-20T14:53:00.754Z"
   },
   {
    "duration": 461,
    "start_time": "2022-06-20T14:53:00.773Z"
   },
   {
    "duration": 26,
    "start_time": "2022-06-20T14:53:01.235Z"
   },
   {
    "duration": 187142,
    "start_time": "2022-06-20T14:53:01.262Z"
   },
   {
    "duration": 107,
    "start_time": "2022-06-20T14:56:08.406Z"
   },
   {
    "duration": 18,
    "start_time": "2022-06-20T14:56:08.515Z"
   },
   {
    "duration": 19,
    "start_time": "2022-06-20T14:56:08.534Z"
   },
   {
    "duration": 22298,
    "start_time": "2022-06-20T14:56:08.555Z"
   },
   {
    "duration": 12,
    "start_time": "2022-06-20T14:56:30.855Z"
   },
   {
    "duration": 12,
    "start_time": "2022-06-20T14:56:30.868Z"
   },
   {
    "duration": 7,
    "start_time": "2022-06-20T14:56:30.882Z"
   },
   {
    "duration": 36,
    "start_time": "2022-06-20T14:56:30.891Z"
   },
   {
    "duration": 12,
    "start_time": "2022-06-20T14:56:30.929Z"
   },
   {
    "duration": 6,
    "start_time": "2022-06-20T14:56:30.942Z"
   },
   {
    "duration": 12,
    "start_time": "2022-06-20T14:56:30.949Z"
   },
   {
    "duration": 14,
    "start_time": "2022-06-20T14:56:30.963Z"
   },
   {
    "duration": 8,
    "start_time": "2022-06-20T14:56:30.979Z"
   },
   {
    "duration": 4982,
    "start_time": "2022-06-20T16:01:13.787Z"
   },
   {
    "duration": 1064,
    "start_time": "2022-06-20T16:01:18.771Z"
   },
   {
    "duration": 5,
    "start_time": "2022-06-20T16:01:19.837Z"
   },
   {
    "duration": 27,
    "start_time": "2022-06-20T16:01:19.845Z"
   },
   {
    "duration": 34,
    "start_time": "2022-06-20T16:01:19.874Z"
   },
   {
    "duration": 50,
    "start_time": "2022-06-20T16:01:19.910Z"
   },
   {
    "duration": 25,
    "start_time": "2022-06-20T16:01:19.962Z"
   },
   {
    "duration": 148,
    "start_time": "2022-06-20T16:01:19.989Z"
   },
   {
    "duration": 96,
    "start_time": "2022-06-20T16:01:20.139Z"
   },
   {
    "duration": 146,
    "start_time": "2022-06-20T16:01:20.238Z"
   },
   {
    "duration": 154,
    "start_time": "2022-06-20T16:01:20.386Z"
   },
   {
    "duration": 14,
    "start_time": "2022-06-20T16:01:20.542Z"
   },
   {
    "duration": 75,
    "start_time": "2022-06-20T16:01:20.558Z"
   },
   {
    "duration": 13,
    "start_time": "2022-06-20T16:01:20.635Z"
   },
   {
    "duration": 195,
    "start_time": "2022-06-20T16:01:20.650Z"
   },
   {
    "duration": 5,
    "start_time": "2022-06-20T16:01:20.848Z"
   },
   {
    "duration": 12,
    "start_time": "2022-06-20T16:01:20.856Z"
   },
   {
    "duration": 483,
    "start_time": "2022-06-20T16:01:20.870Z"
   },
   {
    "duration": 10,
    "start_time": "2022-06-20T16:01:21.355Z"
   },
   {
    "duration": 14,
    "start_time": "2022-06-20T16:01:21.367Z"
   },
   {
    "duration": 45,
    "start_time": "2022-06-20T16:01:21.383Z"
   },
   {
    "duration": 52,
    "start_time": "2022-06-20T16:01:21.431Z"
   },
   {
    "duration": 11,
    "start_time": "2022-06-20T16:01:21.486Z"
   },
   {
    "duration": 108,
    "start_time": "2022-06-20T16:01:21.499Z"
   },
   {
    "duration": 7,
    "start_time": "2022-06-20T16:01:21.608Z"
   },
   {
    "duration": 13,
    "start_time": "2022-06-20T16:01:21.616Z"
   },
   {
    "duration": 9,
    "start_time": "2022-06-20T16:01:21.631Z"
   },
   {
    "duration": 14,
    "start_time": "2022-06-20T16:01:21.646Z"
   },
   {
    "duration": 7,
    "start_time": "2022-06-20T16:01:21.662Z"
   },
   {
    "duration": 188,
    "start_time": "2022-06-20T16:01:21.672Z"
   },
   {
    "duration": 11,
    "start_time": "2022-06-20T16:01:21.863Z"
   },
   {
    "duration": 98,
    "start_time": "2022-06-20T16:01:21.876Z"
   },
   {
    "duration": 50,
    "start_time": "2022-06-20T16:01:21.976Z"
   },
   {
    "duration": 7,
    "start_time": "2022-06-20T16:01:22.028Z"
   },
   {
    "duration": 12,
    "start_time": "2022-06-20T16:01:22.036Z"
   },
   {
    "duration": 16,
    "start_time": "2022-06-20T16:01:22.050Z"
   },
   {
    "duration": 197,
    "start_time": "2022-06-20T16:01:22.068Z"
   },
   {
    "duration": 6,
    "start_time": "2022-06-20T16:01:22.267Z"
   },
   {
    "duration": 195,
    "start_time": "2022-06-20T16:01:22.276Z"
   },
   {
    "duration": 7,
    "start_time": "2022-06-20T16:01:22.473Z"
   },
   {
    "duration": 60,
    "start_time": "2022-06-20T16:01:22.481Z"
   },
   {
    "duration": 7,
    "start_time": "2022-06-20T16:01:22.543Z"
   },
   {
    "duration": 173,
    "start_time": "2022-06-20T16:01:22.552Z"
   },
   {
    "duration": 8,
    "start_time": "2022-06-20T16:01:22.728Z"
   },
   {
    "duration": 43,
    "start_time": "2022-06-20T16:01:22.738Z"
   },
   {
    "duration": 15,
    "start_time": "2022-06-20T16:01:22.783Z"
   },
   {
    "duration": 155,
    "start_time": "2022-06-20T16:01:22.800Z"
   },
   {
    "duration": 5,
    "start_time": "2022-06-20T16:01:22.957Z"
   },
   {
    "duration": 6,
    "start_time": "2022-06-20T16:01:22.964Z"
   },
   {
    "duration": 194,
    "start_time": "2022-06-20T16:01:22.972Z"
   },
   {
    "duration": 6,
    "start_time": "2022-06-20T16:01:23.168Z"
   },
   {
    "duration": 15,
    "start_time": "2022-06-20T16:01:23.176Z"
   },
   {
    "duration": 175,
    "start_time": "2022-06-20T16:01:23.194Z"
   },
   {
    "duration": 7,
    "start_time": "2022-06-20T16:01:23.371Z"
   },
   {
    "duration": 7,
    "start_time": "2022-06-20T16:01:23.380Z"
   },
   {
    "duration": 156,
    "start_time": "2022-06-20T16:01:23.390Z"
   },
   {
    "duration": 6,
    "start_time": "2022-06-20T16:01:23.548Z"
   },
   {
    "duration": 10,
    "start_time": "2022-06-20T16:01:23.556Z"
   },
   {
    "duration": 9,
    "start_time": "2022-06-20T16:01:23.568Z"
   },
   {
    "duration": 17,
    "start_time": "2022-06-20T16:01:23.578Z"
   },
   {
    "duration": 190,
    "start_time": "2022-06-20T16:01:23.597Z"
   },
   {
    "duration": 5,
    "start_time": "2022-06-20T16:01:23.789Z"
   },
   {
    "duration": 71,
    "start_time": "2022-06-20T16:01:23.796Z"
   },
   {
    "duration": 7,
    "start_time": "2022-06-20T16:01:23.870Z"
   },
   {
    "duration": 17,
    "start_time": "2022-06-20T16:01:23.879Z"
   },
   {
    "duration": 32,
    "start_time": "2022-06-20T16:01:23.899Z"
   },
   {
    "duration": 132,
    "start_time": "2022-06-20T16:01:23.933Z"
   },
   {
    "duration": 5,
    "start_time": "2022-06-20T16:01:24.067Z"
   },
   {
    "duration": 272,
    "start_time": "2022-06-20T16:01:24.074Z"
   },
   {
    "duration": 479,
    "start_time": "2022-06-20T16:01:24.348Z"
   },
   {
    "duration": 320,
    "start_time": "2022-06-20T16:01:24.829Z"
   },
   {
    "duration": 22,
    "start_time": "2022-06-20T16:01:25.151Z"
   },
   {
    "duration": 31,
    "start_time": "2022-06-20T16:01:25.178Z"
   },
   {
    "duration": 68,
    "start_time": "2022-06-20T16:01:25.210Z"
   },
   {
    "duration": 106,
    "start_time": "2022-06-20T16:01:25.280Z"
   },
   {
    "duration": 21,
    "start_time": "2022-06-20T16:01:25.388Z"
   },
   {
    "duration": 20,
    "start_time": "2022-06-20T16:01:25.423Z"
   },
   {
    "duration": 62,
    "start_time": "2022-06-20T16:01:25.445Z"
   },
   {
    "duration": 105,
    "start_time": "2022-06-20T16:01:25.508Z"
   },
   {
    "duration": 30,
    "start_time": "2022-06-20T16:01:25.623Z"
   },
   {
    "duration": 210,
    "start_time": "2022-06-20T16:01:25.656Z"
   },
   {
    "duration": 23,
    "start_time": "2022-06-20T16:01:25.874Z"
   },
   {
    "duration": 157,
    "start_time": "2022-06-20T16:01:25.899Z"
   },
   {
    "duration": 11,
    "start_time": "2022-06-20T16:01:26.058Z"
   },
   {
    "duration": 70,
    "start_time": "2022-06-20T16:01:26.071Z"
   },
   {
    "duration": 32,
    "start_time": "2022-06-20T16:01:26.143Z"
   },
   {
    "duration": 24,
    "start_time": "2022-06-20T16:01:26.177Z"
   },
   {
    "duration": 12,
    "start_time": "2022-06-20T16:01:26.203Z"
   },
   {
    "duration": 12,
    "start_time": "2022-06-20T16:01:26.223Z"
   },
   {
    "duration": 36,
    "start_time": "2022-06-20T16:01:26.238Z"
   },
   {
    "duration": 12,
    "start_time": "2022-06-20T16:01:26.276Z"
   },
   {
    "duration": 37,
    "start_time": "2022-06-20T16:01:26.290Z"
   },
   {
    "duration": 46,
    "start_time": "2022-06-20T16:01:26.329Z"
   },
   {
    "duration": 30,
    "start_time": "2022-06-20T16:01:26.377Z"
   },
   {
    "duration": 78,
    "start_time": "2022-06-20T16:01:26.424Z"
   },
   {
    "duration": 33,
    "start_time": "2022-06-20T16:01:26.504Z"
   },
   {
    "duration": 25,
    "start_time": "2022-06-20T16:01:26.538Z"
   },
   {
    "duration": 18,
    "start_time": "2022-06-20T16:01:26.565Z"
   },
   {
    "duration": 10,
    "start_time": "2022-06-20T16:01:26.585Z"
   },
   {
    "duration": 34,
    "start_time": "2022-06-20T16:01:26.597Z"
   },
   {
    "duration": 12,
    "start_time": "2022-06-20T16:01:26.633Z"
   },
   {
    "duration": 525,
    "start_time": "2022-06-20T16:01:26.647Z"
   },
   {
    "duration": 29,
    "start_time": "2022-06-20T16:01:27.174Z"
   },
   {
    "duration": 204866,
    "start_time": "2022-06-20T16:01:27.204Z"
   },
   {
    "duration": 16,
    "start_time": "2022-06-20T16:04:52.072Z"
   },
   {
    "duration": 15,
    "start_time": "2022-06-20T16:04:52.090Z"
   },
   {
    "duration": 36,
    "start_time": "2022-06-20T16:04:52.106Z"
   },
   {
    "duration": 23300,
    "start_time": "2022-06-20T16:04:52.144Z"
   },
   {
    "duration": 14,
    "start_time": "2022-06-20T16:05:15.446Z"
   },
   {
    "duration": 16,
    "start_time": "2022-06-20T16:05:15.461Z"
   },
   {
    "duration": 14,
    "start_time": "2022-06-20T16:05:15.478Z"
   },
   {
    "duration": 42,
    "start_time": "2022-06-20T16:05:15.494Z"
   },
   {
    "duration": 15,
    "start_time": "2022-06-20T16:05:15.538Z"
   },
   {
    "duration": 3,
    "start_time": "2022-06-20T16:05:15.555Z"
   },
   {
    "duration": 5,
    "start_time": "2022-06-20T16:05:15.559Z"
   },
   {
    "duration": 7,
    "start_time": "2022-06-20T16:05:15.566Z"
   },
   {
    "duration": 9,
    "start_time": "2022-06-20T16:05:15.574Z"
   },
   {
    "duration": 807721,
    "start_time": "2022-06-20T16:05:15.584Z"
   },
   {
    "duration": 23492,
    "start_time": "2022-06-20T16:18:43.307Z"
   },
   {
    "duration": 270929,
    "start_time": "2022-06-20T16:19:06.801Z"
   },
   {
    "duration": 3200564,
    "start_time": "2022-06-20T16:23:37.731Z"
   },
   {
    "duration": 62130,
    "start_time": "2022-06-20T17:16:58.299Z"
   },
   {
    "duration": 99,
    "start_time": "2022-06-20T17:18:00.433Z"
   },
   {
    "duration": 0,
    "start_time": "2022-06-20T17:18:00.534Z"
   },
   {
    "duration": 0,
    "start_time": "2022-06-20T17:18:00.536Z"
   },
   {
    "duration": 0,
    "start_time": "2022-06-20T17:18:00.538Z"
   },
   {
    "duration": 0,
    "start_time": "2022-06-20T17:18:00.540Z"
   },
   {
    "duration": 0,
    "start_time": "2022-06-20T17:18:00.541Z"
   },
   {
    "duration": 0,
    "start_time": "2022-06-20T17:18:00.543Z"
   },
   {
    "duration": 0,
    "start_time": "2022-06-20T17:18:00.544Z"
   },
   {
    "duration": 0,
    "start_time": "2022-06-20T17:18:00.546Z"
   },
   {
    "duration": 0,
    "start_time": "2022-06-20T17:18:00.548Z"
   },
   {
    "duration": 0,
    "start_time": "2022-06-20T17:18:00.550Z"
   },
   {
    "duration": 0,
    "start_time": "2022-06-20T17:18:00.551Z"
   },
   {
    "duration": 0,
    "start_time": "2022-06-20T17:18:00.552Z"
   },
   {
    "duration": 0,
    "start_time": "2022-06-20T17:18:00.553Z"
   },
   {
    "duration": 0,
    "start_time": "2022-06-20T17:18:00.555Z"
   },
   {
    "duration": 0,
    "start_time": "2022-06-20T17:18:00.556Z"
   },
   {
    "duration": 0,
    "start_time": "2022-06-20T17:18:00.557Z"
   },
   {
    "duration": 0,
    "start_time": "2022-06-20T17:18:00.559Z"
   },
   {
    "duration": 9005,
    "start_time": "2022-06-28T12:42:31.561Z"
   },
   {
    "duration": 1651,
    "start_time": "2022-06-28T12:42:40.568Z"
   },
   {
    "duration": 4,
    "start_time": "2022-06-28T12:42:42.221Z"
   },
   {
    "duration": 35,
    "start_time": "2022-06-28T12:42:42.228Z"
   },
   {
    "duration": 16,
    "start_time": "2022-06-28T12:42:42.265Z"
   },
   {
    "duration": 42,
    "start_time": "2022-06-28T12:42:42.282Z"
   },
   {
    "duration": 41,
    "start_time": "2022-06-28T12:42:42.326Z"
   },
   {
    "duration": 119,
    "start_time": "2022-06-28T12:42:42.369Z"
   },
   {
    "duration": 140,
    "start_time": "2022-06-28T12:42:42.489Z"
   },
   {
    "duration": 138,
    "start_time": "2022-06-28T12:42:42.632Z"
   },
   {
    "duration": 139,
    "start_time": "2022-06-28T12:42:42.772Z"
   },
   {
    "duration": 25,
    "start_time": "2022-06-28T12:42:42.929Z"
   },
   {
    "duration": 225,
    "start_time": "2022-06-28T12:42:42.956Z"
   },
   {
    "duration": 12,
    "start_time": "2022-06-28T12:42:43.187Z"
   },
   {
    "duration": 250,
    "start_time": "2022-06-28T12:42:43.201Z"
   },
   {
    "duration": 5,
    "start_time": "2022-06-28T12:42:43.453Z"
   },
   {
    "duration": 11,
    "start_time": "2022-06-28T12:42:43.460Z"
   },
   {
    "duration": 295,
    "start_time": "2022-06-28T12:42:43.473Z"
   },
   {
    "duration": 6,
    "start_time": "2022-06-28T12:42:43.769Z"
   },
   {
    "duration": 63,
    "start_time": "2022-06-28T12:42:43.777Z"
   },
   {
    "duration": 27,
    "start_time": "2022-06-28T12:42:43.841Z"
   },
   {
    "duration": 48,
    "start_time": "2022-06-28T12:42:43.869Z"
   },
   {
    "duration": 28,
    "start_time": "2022-06-28T12:42:43.918Z"
   },
   {
    "duration": 75,
    "start_time": "2022-06-28T12:42:43.947Z"
   },
   {
    "duration": 16,
    "start_time": "2022-06-28T12:42:44.024Z"
   },
   {
    "duration": 23,
    "start_time": "2022-06-28T12:42:44.042Z"
   },
   {
    "duration": 7,
    "start_time": "2022-06-28T12:42:44.066Z"
   },
   {
    "duration": 24,
    "start_time": "2022-06-28T12:42:44.075Z"
   },
   {
    "duration": 92,
    "start_time": "2022-06-28T12:42:44.101Z"
   },
   {
    "duration": 179,
    "start_time": "2022-06-28T12:42:44.194Z"
   },
   {
    "duration": 7,
    "start_time": "2022-06-28T12:42:44.375Z"
   },
   {
    "duration": 107,
    "start_time": "2022-06-28T12:42:44.384Z"
   },
   {
    "duration": 90,
    "start_time": "2022-06-28T12:42:44.493Z"
   },
   {
    "duration": 52,
    "start_time": "2022-06-28T12:42:44.584Z"
   },
   {
    "duration": 11,
    "start_time": "2022-06-28T12:42:44.638Z"
   },
   {
    "duration": 29,
    "start_time": "2022-06-28T12:42:44.651Z"
   },
   {
    "duration": 189,
    "start_time": "2022-06-28T12:42:44.682Z"
   },
   {
    "duration": 4,
    "start_time": "2022-06-28T12:42:44.872Z"
   },
   {
    "duration": 182,
    "start_time": "2022-06-28T12:42:44.878Z"
   },
   {
    "duration": 4,
    "start_time": "2022-06-28T12:42:45.062Z"
   },
   {
    "duration": 63,
    "start_time": "2022-06-28T12:42:45.071Z"
   },
   {
    "duration": 14,
    "start_time": "2022-06-28T12:42:45.138Z"
   },
   {
    "duration": 234,
    "start_time": "2022-06-28T12:42:45.154Z"
   },
   {
    "duration": 5,
    "start_time": "2022-06-28T12:42:45.390Z"
   },
   {
    "duration": 47,
    "start_time": "2022-06-28T12:42:45.396Z"
   },
   {
    "duration": 33,
    "start_time": "2022-06-28T12:42:45.447Z"
   },
   {
    "duration": 161,
    "start_time": "2022-06-28T12:42:45.481Z"
   },
   {
    "duration": 8,
    "start_time": "2022-06-28T12:42:45.643Z"
   },
   {
    "duration": 28,
    "start_time": "2022-06-28T12:42:45.653Z"
   },
   {
    "duration": 181,
    "start_time": "2022-06-28T12:42:45.683Z"
   },
   {
    "duration": 5,
    "start_time": "2022-06-28T12:42:45.866Z"
   },
   {
    "duration": 32,
    "start_time": "2022-06-28T12:42:45.872Z"
   },
   {
    "duration": 252,
    "start_time": "2022-06-28T12:42:45.905Z"
   },
   {
    "duration": 6,
    "start_time": "2022-06-28T12:42:46.158Z"
   },
   {
    "duration": 17,
    "start_time": "2022-06-28T12:42:46.165Z"
   },
   {
    "duration": 155,
    "start_time": "2022-06-28T12:42:46.184Z"
   },
   {
    "duration": 8,
    "start_time": "2022-06-28T12:42:46.341Z"
   },
   {
    "duration": 26,
    "start_time": "2022-06-28T12:42:46.351Z"
   },
   {
    "duration": 32,
    "start_time": "2022-06-28T12:42:46.378Z"
   },
   {
    "duration": 52,
    "start_time": "2022-06-28T12:42:46.411Z"
   },
   {
    "duration": 268,
    "start_time": "2022-06-28T12:42:46.464Z"
   },
   {
    "duration": 8,
    "start_time": "2022-06-28T12:42:46.734Z"
   },
   {
    "duration": 162,
    "start_time": "2022-06-28T12:42:46.744Z"
   },
   {
    "duration": 5,
    "start_time": "2022-06-28T12:42:46.908Z"
   },
   {
    "duration": 66,
    "start_time": "2022-06-28T12:42:46.914Z"
   },
   {
    "duration": 27,
    "start_time": "2022-06-28T12:42:46.982Z"
   },
   {
    "duration": 165,
    "start_time": "2022-06-28T12:42:47.021Z"
   },
   {
    "duration": 4,
    "start_time": "2022-06-28T12:42:47.187Z"
   },
   {
    "duration": 381,
    "start_time": "2022-06-28T12:42:47.192Z"
   },
   {
    "duration": 431,
    "start_time": "2022-06-28T12:42:47.575Z"
   },
   {
    "duration": 213,
    "start_time": "2022-06-28T12:42:48.008Z"
   },
   {
    "duration": 27,
    "start_time": "2022-06-28T12:42:48.226Z"
   },
   {
    "duration": 17,
    "start_time": "2022-06-28T12:42:48.256Z"
   },
   {
    "duration": 104,
    "start_time": "2022-06-28T12:42:48.275Z"
   },
   {
    "duration": 115,
    "start_time": "2022-06-28T12:42:48.381Z"
   },
   {
    "duration": 13,
    "start_time": "2022-06-28T12:42:48.497Z"
   },
   {
    "duration": 23,
    "start_time": "2022-06-28T12:42:48.512Z"
   },
   {
    "duration": 104,
    "start_time": "2022-06-28T12:42:48.537Z"
   },
   {
    "duration": 114,
    "start_time": "2022-06-28T12:42:48.648Z"
   },
   {
    "duration": 21,
    "start_time": "2022-06-28T12:42:48.763Z"
   },
   {
    "duration": 183,
    "start_time": "2022-06-28T12:42:48.786Z"
   },
   {
    "duration": 21,
    "start_time": "2022-06-28T12:42:48.972Z"
   },
   {
    "duration": 186,
    "start_time": "2022-06-28T12:42:48.995Z"
   },
   {
    "duration": 45,
    "start_time": "2022-06-28T12:42:49.183Z"
   },
   {
    "duration": 120,
    "start_time": "2022-06-28T12:42:49.234Z"
   },
   {
    "duration": 94,
    "start_time": "2022-06-28T12:42:49.355Z"
   },
   {
    "duration": 24,
    "start_time": "2022-06-28T12:42:49.454Z"
   },
   {
    "duration": 57,
    "start_time": "2022-06-28T12:42:49.481Z"
   },
   {
    "duration": 31,
    "start_time": "2022-06-28T12:42:49.540Z"
   },
   {
    "duration": 83,
    "start_time": "2022-06-28T12:42:49.573Z"
   },
   {
    "duration": 14,
    "start_time": "2022-06-28T12:42:49.659Z"
   },
   {
    "duration": 93,
    "start_time": "2022-06-28T12:42:49.675Z"
   },
   {
    "duration": 189,
    "start_time": "2022-06-28T12:42:49.770Z"
   },
   {
    "duration": 105,
    "start_time": "2022-06-28T12:42:49.962Z"
   },
   {
    "duration": 204,
    "start_time": "2022-06-28T12:42:50.069Z"
   },
   {
    "duration": 28,
    "start_time": "2022-06-28T12:42:50.326Z"
   },
   {
    "duration": 108,
    "start_time": "2022-06-28T12:42:50.356Z"
   },
   {
    "duration": 75,
    "start_time": "2022-06-28T12:42:50.466Z"
   },
   {
    "duration": 15,
    "start_time": "2022-06-28T12:42:50.544Z"
   },
   {
    "duration": 68,
    "start_time": "2022-06-28T12:42:50.562Z"
   },
   {
    "duration": 15,
    "start_time": "2022-06-28T12:42:50.633Z"
   },
   {
    "duration": 1815,
    "start_time": "2022-06-28T12:42:50.652Z"
   },
   {
    "duration": 95,
    "start_time": "2022-06-28T12:42:52.468Z"
   },
   {
    "duration": 461188,
    "start_time": "2022-06-28T12:42:52.565Z"
   },
   {
    "duration": 73,
    "start_time": "2022-06-28T12:50:33.755Z"
   },
   {
    "duration": 22,
    "start_time": "2022-06-28T12:50:33.830Z"
   },
   {
    "duration": 74,
    "start_time": "2022-06-28T12:50:33.853Z"
   },
   {
    "duration": 41742,
    "start_time": "2022-06-28T12:50:33.929Z"
   },
   {
    "duration": 20,
    "start_time": "2022-06-28T12:51:15.726Z"
   },
   {
    "duration": 92,
    "start_time": "2022-06-28T12:51:15.748Z"
   },
   {
    "duration": 37,
    "start_time": "2022-06-28T12:51:15.842Z"
   },
   {
    "duration": 76,
    "start_time": "2022-06-28T12:51:15.881Z"
   },
   {
    "duration": 77,
    "start_time": "2022-06-28T12:51:15.959Z"
   },
   {
    "duration": 24,
    "start_time": "2022-06-28T12:51:16.039Z"
   },
   {
    "duration": 18,
    "start_time": "2022-06-28T12:51:16.065Z"
   },
   {
    "duration": 10,
    "start_time": "2022-06-28T12:51:16.127Z"
   },
   {
    "duration": 23,
    "start_time": "2022-06-28T12:51:16.143Z"
   },
   {
    "duration": 4120069,
    "start_time": "2022-06-28T12:51:16.168Z"
   },
   {
    "duration": 158020,
    "start_time": "2022-06-28T13:59:56.244Z"
   },
   {
    "duration": 967,
    "start_time": "2022-06-28T14:02:34.266Z"
   },
   {
    "duration": 321500,
    "start_time": "2022-06-28T14:02:35.234Z"
   },
   {
    "duration": 66894,
    "start_time": "2022-06-28T14:07:56.749Z"
   },
   {
    "duration": 103,
    "start_time": "2022-06-28T14:09:03.645Z"
   },
   {
    "duration": 0,
    "start_time": "2022-06-28T14:09:03.828Z"
   },
   {
    "duration": 0,
    "start_time": "2022-06-28T14:09:03.830Z"
   },
   {
    "duration": 0,
    "start_time": "2022-06-28T14:09:03.831Z"
   },
   {
    "duration": 0,
    "start_time": "2022-06-28T14:09:03.833Z"
   },
   {
    "duration": 0,
    "start_time": "2022-06-28T14:09:03.834Z"
   },
   {
    "duration": 0,
    "start_time": "2022-06-28T14:09:03.836Z"
   },
   {
    "duration": 0,
    "start_time": "2022-06-28T14:09:03.838Z"
   },
   {
    "duration": 0,
    "start_time": "2022-06-28T14:09:03.839Z"
   },
   {
    "duration": 0,
    "start_time": "2022-06-28T14:09:03.841Z"
   },
   {
    "duration": 0,
    "start_time": "2022-06-28T14:09:03.842Z"
   },
   {
    "duration": 0,
    "start_time": "2022-06-28T14:09:03.843Z"
   },
   {
    "duration": 0,
    "start_time": "2022-06-28T14:09:03.844Z"
   },
   {
    "duration": 0,
    "start_time": "2022-06-28T14:09:03.845Z"
   },
   {
    "duration": 0,
    "start_time": "2022-06-28T14:09:03.847Z"
   },
   {
    "duration": 0,
    "start_time": "2022-06-28T14:09:03.848Z"
   },
   {
    "duration": 0,
    "start_time": "2022-06-28T14:09:03.849Z"
   },
   {
    "duration": 0,
    "start_time": "2022-06-28T14:09:03.850Z"
   },
   {
    "duration": 0,
    "start_time": "2022-06-28T14:09:03.851Z"
   },
   {
    "duration": 5161,
    "start_time": "2022-06-30T16:05:38.679Z"
   },
   {
    "duration": 1076,
    "start_time": "2022-06-30T16:05:43.842Z"
   },
   {
    "duration": 4,
    "start_time": "2022-06-30T16:05:44.920Z"
   },
   {
    "duration": 7,
    "start_time": "2022-06-30T16:05:44.927Z"
   },
   {
    "duration": 18,
    "start_time": "2022-06-30T16:05:44.936Z"
   },
   {
    "duration": 37,
    "start_time": "2022-06-30T16:05:44.957Z"
   },
   {
    "duration": 37,
    "start_time": "2022-06-30T16:05:44.997Z"
   },
   {
    "duration": 150,
    "start_time": "2022-06-30T16:05:45.037Z"
   },
   {
    "duration": 94,
    "start_time": "2022-06-30T16:05:45.189Z"
   },
   {
    "duration": 98,
    "start_time": "2022-06-30T16:05:45.286Z"
   },
   {
    "duration": 160,
    "start_time": "2022-06-30T16:05:45.387Z"
   },
   {
    "duration": 21,
    "start_time": "2022-06-30T16:05:45.549Z"
   },
   {
    "duration": 82,
    "start_time": "2022-06-30T16:05:45.572Z"
   },
   {
    "duration": 14,
    "start_time": "2022-06-30T16:05:45.657Z"
   },
   {
    "duration": 262,
    "start_time": "2022-06-30T16:05:45.674Z"
   },
   {
    "duration": 4,
    "start_time": "2022-06-30T16:05:45.938Z"
   },
   {
    "duration": 32,
    "start_time": "2022-06-30T16:05:45.944Z"
   },
   {
    "duration": 326,
    "start_time": "2022-06-30T16:05:45.978Z"
   },
   {
    "duration": 7,
    "start_time": "2022-06-30T16:05:46.306Z"
   },
   {
    "duration": 14,
    "start_time": "2022-06-30T16:05:46.327Z"
   },
   {
    "duration": 19,
    "start_time": "2022-06-30T16:05:46.343Z"
   },
   {
    "duration": 80,
    "start_time": "2022-06-30T16:05:46.364Z"
   },
   {
    "duration": 10,
    "start_time": "2022-06-30T16:05:46.446Z"
   },
   {
    "duration": 76,
    "start_time": "2022-06-30T16:05:46.457Z"
   },
   {
    "duration": 7,
    "start_time": "2022-06-30T16:05:46.535Z"
   },
   {
    "duration": 13,
    "start_time": "2022-06-30T16:05:46.543Z"
   },
   {
    "duration": 10,
    "start_time": "2022-06-30T16:05:46.558Z"
   },
   {
    "duration": 15,
    "start_time": "2022-06-30T16:05:46.574Z"
   },
   {
    "duration": 5,
    "start_time": "2022-06-30T16:05:46.591Z"
   },
   {
    "duration": 214,
    "start_time": "2022-06-30T16:05:46.597Z"
   },
   {
    "duration": 14,
    "start_time": "2022-06-30T16:05:46.813Z"
   },
   {
    "duration": 101,
    "start_time": "2022-06-30T16:05:46.829Z"
   },
   {
    "duration": 38,
    "start_time": "2022-06-30T16:05:46.932Z"
   },
   {
    "duration": 9,
    "start_time": "2022-06-30T16:05:46.972Z"
   },
   {
    "duration": 6,
    "start_time": "2022-06-30T16:05:46.983Z"
   },
   {
    "duration": 6,
    "start_time": "2022-06-30T16:05:46.991Z"
   },
   {
    "duration": 252,
    "start_time": "2022-06-30T16:05:47.027Z"
   },
   {
    "duration": 7,
    "start_time": "2022-06-30T16:05:47.282Z"
   },
   {
    "duration": 216,
    "start_time": "2022-06-30T16:05:47.291Z"
   },
   {
    "duration": 7,
    "start_time": "2022-06-30T16:05:47.509Z"
   },
   {
    "duration": 42,
    "start_time": "2022-06-30T16:05:47.527Z"
   },
   {
    "duration": 6,
    "start_time": "2022-06-30T16:05:47.571Z"
   },
   {
    "duration": 181,
    "start_time": "2022-06-30T16:05:47.579Z"
   },
   {
    "duration": 5,
    "start_time": "2022-06-30T16:05:47.762Z"
   },
   {
    "duration": 37,
    "start_time": "2022-06-30T16:05:47.769Z"
   },
   {
    "duration": 19,
    "start_time": "2022-06-30T16:05:47.809Z"
   },
   {
    "duration": 164,
    "start_time": "2022-06-30T16:05:47.831Z"
   },
   {
    "duration": 7,
    "start_time": "2022-06-30T16:05:47.998Z"
   },
   {
    "duration": 20,
    "start_time": "2022-06-30T16:05:48.008Z"
   },
   {
    "duration": 200,
    "start_time": "2022-06-30T16:05:48.031Z"
   },
   {
    "duration": 7,
    "start_time": "2022-06-30T16:05:48.233Z"
   },
   {
    "duration": 10,
    "start_time": "2022-06-30T16:05:48.242Z"
   },
   {
    "duration": 210,
    "start_time": "2022-06-30T16:05:48.254Z"
   },
   {
    "duration": 6,
    "start_time": "2022-06-30T16:05:48.465Z"
   },
   {
    "duration": 10,
    "start_time": "2022-06-30T16:05:48.474Z"
   },
   {
    "duration": 215,
    "start_time": "2022-06-30T16:05:48.488Z"
   },
   {
    "duration": 6,
    "start_time": "2022-06-30T16:05:48.706Z"
   },
   {
    "duration": 20,
    "start_time": "2022-06-30T16:05:48.714Z"
   },
   {
    "duration": 6,
    "start_time": "2022-06-30T16:05:48.739Z"
   },
   {
    "duration": 19,
    "start_time": "2022-06-30T16:05:48.748Z"
   },
   {
    "duration": 227,
    "start_time": "2022-06-30T16:05:48.768Z"
   },
   {
    "duration": 7,
    "start_time": "2022-06-30T16:05:48.997Z"
   },
   {
    "duration": 78,
    "start_time": "2022-06-30T16:05:49.006Z"
   },
   {
    "duration": 7,
    "start_time": "2022-06-30T16:05:49.087Z"
   },
   {
    "duration": 31,
    "start_time": "2022-06-30T16:05:49.096Z"
   },
   {
    "duration": 16,
    "start_time": "2022-06-30T16:05:49.129Z"
   },
   {
    "duration": 202,
    "start_time": "2022-06-30T16:05:49.147Z"
   },
   {
    "duration": 4,
    "start_time": "2022-06-30T16:05:49.351Z"
   },
   {
    "duration": 316,
    "start_time": "2022-06-30T16:05:49.357Z"
   },
   {
    "duration": 424,
    "start_time": "2022-06-30T16:05:49.675Z"
   },
   {
    "duration": 263,
    "start_time": "2022-06-30T16:05:50.101Z"
   },
   {
    "duration": 19,
    "start_time": "2022-06-30T16:05:50.366Z"
   },
   {
    "duration": 17,
    "start_time": "2022-06-30T16:05:50.387Z"
   },
   {
    "duration": 66,
    "start_time": "2022-06-30T16:05:50.406Z"
   },
   {
    "duration": 130,
    "start_time": "2022-06-30T16:05:50.474Z"
   },
   {
    "duration": 28,
    "start_time": "2022-06-30T16:05:50.606Z"
   },
   {
    "duration": 44,
    "start_time": "2022-06-30T16:05:50.636Z"
   },
   {
    "duration": 79,
    "start_time": "2022-06-30T16:05:50.682Z"
   },
   {
    "duration": 193,
    "start_time": "2022-06-30T16:05:50.763Z"
   },
   {
    "duration": 35,
    "start_time": "2022-06-30T16:05:50.958Z"
   },
   {
    "duration": 165,
    "start_time": "2022-06-30T16:05:50.995Z"
   },
   {
    "duration": 29,
    "start_time": "2022-06-30T16:05:51.167Z"
   },
   {
    "duration": 161,
    "start_time": "2022-06-30T16:05:51.198Z"
   },
   {
    "duration": 11,
    "start_time": "2022-06-30T16:05:51.361Z"
   },
   {
    "duration": 68,
    "start_time": "2022-06-30T16:05:51.374Z"
   },
   {
    "duration": 42,
    "start_time": "2022-06-30T16:05:51.444Z"
   },
   {
    "duration": 38,
    "start_time": "2022-06-30T16:05:51.488Z"
   },
   {
    "duration": 40,
    "start_time": "2022-06-30T16:05:51.528Z"
   },
   {
    "duration": 35,
    "start_time": "2022-06-30T16:05:51.570Z"
   },
   {
    "duration": 38,
    "start_time": "2022-06-30T16:05:51.609Z"
   },
   {
    "duration": 15,
    "start_time": "2022-06-30T16:05:51.650Z"
   },
   {
    "duration": 42,
    "start_time": "2022-06-30T16:05:51.666Z"
   },
   {
    "duration": 72,
    "start_time": "2022-06-30T16:05:51.711Z"
   },
   {
    "duration": 51,
    "start_time": "2022-06-30T16:05:51.785Z"
   },
   {
    "duration": 109,
    "start_time": "2022-06-30T16:05:51.838Z"
   },
   {
    "duration": 22,
    "start_time": "2022-06-30T16:05:51.949Z"
   },
   {
    "duration": 25,
    "start_time": "2022-06-30T16:05:51.973Z"
   },
   {
    "duration": 38,
    "start_time": "2022-06-30T16:05:52.000Z"
   },
   {
    "duration": 11,
    "start_time": "2022-06-30T16:05:52.040Z"
   },
   {
    "duration": 14,
    "start_time": "2022-06-30T16:05:52.053Z"
   },
   {
    "duration": 14,
    "start_time": "2022-06-30T16:05:52.070Z"
   },
   {
    "duration": 489,
    "start_time": "2022-06-30T16:05:52.086Z"
   },
   {
    "duration": 30,
    "start_time": "2022-06-30T16:05:52.577Z"
   },
   {
    "duration": 238262,
    "start_time": "2022-06-30T16:05:52.610Z"
   },
   {
    "duration": 19,
    "start_time": "2022-06-30T16:09:50.874Z"
   },
   {
    "duration": 14,
    "start_time": "2022-06-30T16:09:50.895Z"
   },
   {
    "duration": 22,
    "start_time": "2022-06-30T16:09:50.928Z"
   },
   {
    "duration": 22656,
    "start_time": "2022-06-30T16:09:50.951Z"
   },
   {
    "duration": 25,
    "start_time": "2022-06-30T16:10:13.610Z"
   },
   {
    "duration": 21,
    "start_time": "2022-06-30T16:10:13.636Z"
   },
   {
    "duration": 20,
    "start_time": "2022-06-30T16:10:13.660Z"
   },
   {
    "duration": 44,
    "start_time": "2022-06-30T16:10:13.683Z"
   },
   {
    "duration": 15,
    "start_time": "2022-06-30T16:10:13.730Z"
   },
   {
    "duration": 4,
    "start_time": "2022-06-30T16:10:13.748Z"
   },
   {
    "duration": 10,
    "start_time": "2022-06-30T16:10:13.753Z"
   },
   {
    "duration": 13,
    "start_time": "2022-06-30T16:10:13.765Z"
   },
   {
    "duration": 18,
    "start_time": "2022-06-30T16:10:13.781Z"
   },
   {
    "duration": 977911,
    "start_time": "2022-06-30T16:10:13.801Z"
   },
   {
    "duration": 24480,
    "start_time": "2022-06-30T16:26:31.714Z"
   },
   {
    "duration": 273589,
    "start_time": "2022-06-30T16:26:56.197Z"
   }
  ],
  "kernelspec": {
   "display_name": "Python 3 (ipykernel)",
   "language": "python",
   "name": "python3"
  },
  "language_info": {
   "codemirror_mode": {
    "name": "ipython",
    "version": 3
   },
   "file_extension": ".py",
   "mimetype": "text/x-python",
   "name": "python",
   "nbconvert_exporter": "python",
   "pygments_lexer": "ipython3",
   "version": "3.9.5"
  },
  "toc": {
   "base_numbering": 1,
   "nav_menu": {},
   "number_sections": true,
   "sideBar": true,
   "skip_h1_title": true,
   "title_cell": "Table of Contents",
   "title_sidebar": "Contents",
   "toc_cell": false,
   "toc_position": {},
   "toc_section_display": true,
   "toc_window_display": false
  }
 },
 "nbformat": 4,
 "nbformat_minor": 2
}
